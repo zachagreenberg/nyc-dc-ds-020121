{
 "cells": [
  {
   "cell_type": "markdown",
   "metadata": {},
   "source": [
    "# Using APIs and JSON Data"
   ]
  },
  {
   "cell_type": "markdown",
   "metadata": {},
   "source": [
    "![more_data](data:image/png;base64,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)"
   ]
  },
  {
   "cell_type": "markdown",
   "metadata": {},
   "source": [
    "# Objectives\n",
    "\n",
    "* Interact with JSON files using the `json` library\n",
    "* Retrieve data from APIs using the `requests` library\n",
    "* Parse API responses"
   ]
  },
  {
   "cell_type": "markdown",
   "metadata": {},
   "source": [
    "# What is JSON?\n",
    "\n",
    "JSON stands for Java Script Object Notation. \n",
    "\n",
    "JSON objects are one common way that data is transmitted over the web.  It is notable for being lightweight, which makes it [preferred](https://stackoverflow.com/questions/383692/what-is-json-and-why-would-i-use-it), generally, over XML."
   ]
  },
  {
   "cell_type": "markdown",
   "metadata": {},
   "source": [
    "## JSON Format\n",
    "\n",
    "JSON objects store data in a format similar to a nested Python dictionary. The JSON format makes it easy to store as a file, transfer between users, and use in other languages.\n",
    "\n",
    "For more information about the syntax of JSON files, check out this [link](https://www.json.org/json-en.html) to the JSON website."
   ]
  },
  {
   "cell_type": "markdown",
   "metadata": {},
   "source": [
    "## Loading the JSON file\n",
    "\n",
    "For this example, we've created a `new_releases.json` file containing data on 20 newly released music albums. We got this from the Spotify API - we'll explain what this means later. \n",
    "\n",
    "Let's begin by importing the `json` package, opening a file with python's `open()` function, and then loading that data from the JSON file into a new `data` object."
   ]
  },
  {
   "cell_type": "code",
   "execution_count": 1,
   "metadata": {},
   "outputs": [],
   "source": [
    "import json\n",
    "import pandas as pd\n",
    "import requests"
   ]
  },
  {
   "cell_type": "code",
   "execution_count": 2,
   "metadata": {},
   "outputs": [],
   "source": [
    "with open('data/new_releases.json') as f:\n",
    "    data = json.load(f)"
   ]
  },
  {
   "cell_type": "markdown",
   "metadata": {},
   "source": [
    ">This will open and close the file for you, the with open()"
   ]
  },
  {
   "cell_type": "markdown",
   "metadata": {},
   "source": [
    "The Spotify API returned the data in the form of JSON object, which the `json` module transforms into a Python object."
   ]
  },
  {
   "cell_type": "markdown",
   "metadata": {},
   "source": [
    "## Exploring JSON Schemas  \n",
    "\n",
    "Recall that JSON files have a nested structure. The deepest levels of our object will contain individual values: numbers, booleans or strings. These in turn will be stored in the equivalents of Python lists and dictionaries, usually with many levels of nesting. "
   ]
  },
  {
   "cell_type": "markdown",
   "metadata": {},
   "source": [
    "If you try to look at a raw JSON file, you will likely have a hard time understanding the structure. To more easily make sense of it, we will proceed through each level methodically."
   ]
  },
  {
   "cell_type": "code",
   "execution_count": 3,
   "metadata": {},
   "outputs": [
    {
     "name": "stdout",
     "output_type": "stream",
     "text": [
      "{'albums': {'href': 'https://api.spotify.com/v1/browse/new-releases?offset=0&limit=20', 'items': [{'album_type': 'album', 'artists': [{'external_urls': {'spotify': 'https://open.spotify.com/artist/1RyvyyTE3xzB2ZywiAwp0i'}, 'href': 'https://api.spotify.com/v1/artists/1RyvyyTE3xzB2ZywiAwp0i', 'id': '1RyvyyTE3xzB2ZywiAwp0i', 'name': 'Future', 'type': 'artist', 'uri': 'spotify:artist:1RyvyyTE3xzB2ZywiAwp0i'}], 'available_markets': ['AD', 'AE', 'AR', 'AT', 'AU', 'BE', 'BG', 'BH', 'BO', 'BR', 'CA', 'CH', 'CL', 'CO', 'CR', 'CY', 'CZ', 'DE', 'DK', 'DO', 'DZ', 'EC', 'EE', 'EG', 'ES', 'FI', 'FR', 'GB', 'GR', 'GT', 'HK', 'HN', 'HU', 'ID', 'IE', 'IL', 'IN', 'IS', 'IT', 'JO', 'JP', 'KW', 'LB', 'LI', 'LT', 'LU', 'LV', 'MA', 'MC', 'MT', 'MX', 'MY', 'NI', 'NL', 'NO', 'NZ', 'OM', 'PA', 'PE', 'PH', 'PL', 'PS', 'PT', 'PY', 'QA', 'RO', 'SA', 'SE', 'SG', 'SK', 'SV', 'TH', 'TN', 'TR', 'TW', 'US', 'UY', 'VN', 'ZA'], 'external_urls': {'spotify': 'https://open.spotify.com/album/4bNPOFOzxGhF5jhfIK6lit'}, 'href': 'https://api.spotify.com/v1/albums/4bNPOFOzxGhF5jhfIK6lit', 'id': '4bNPOFOzxGhF5jhfIK6lit', 'images': [{'height': 640, 'url': 'https://i.scdn.co/image/ab67616d0000b273935d8d5369bc55e74a39303e', 'width': 640}, {'height': 300, 'url': 'https://i.scdn.co/image/ab67616d00001e02935d8d5369bc55e74a39303e', 'width': 300}, {'height': 64, 'url': 'https://i.scdn.co/image/ab67616d00004851935d8d5369bc55e74a39303e', 'width': 64}], 'name': 'High Off Life', 'release_date': '2020-05-15', 'release_date_precision': 'day', 'total_tracks': 21, 'type': 'album', 'uri': 'spotify:album:4bNPOFOzxGhF5jhfIK6lit'}, {'album_type': 'single', 'artists': [{'external_urls': {'spotify': 'https://open.spotify.com/artist/23fqKkggKUBHNkbKtXEls4'}, 'href': 'https://api.spotify.com/v1/artists/23fqKkggKUBHNkbKtXEls4', 'id': '23fqKkggKUBHNkbKtXEls4', 'name': 'Kygo', 'type': 'artist', 'uri': 'spotify:artist:23fqKkggKUBHNkbKtXEls4'}, {'external_urls': {'spotify': 'https://open.spotify.com/artist/5Pwc4xIPtQLFEnJriah9YJ'}, 'href': 'https://api.spotify.com/v1/artists/5Pwc4xIPtQLFEnJriah9YJ', 'id': '5Pwc4xIPtQLFEnJriah9YJ', 'name': 'OneRepublic', 'type': 'artist', 'uri': 'spotify:artist:5Pwc4xIPtQLFEnJriah9YJ'}], 'available_markets': ['AD', 'AE', 'AR', 'AT', 'AU', 'BE', 'BG', 'BH', 'BO', 'BR', 'CA', 'CH', 'CL', 'CO', 'CR', 'CY', 'CZ', 'DE', 'DK', 'DO', 'DZ', 'EC', 'EE', 'EG', 'ES', 'FI', 'FR', 'GB', 'GR', 'GT', 'HK', 'HN', 'HU', 'ID', 'IE', 'IL', 'IN', 'IS', 'IT', 'JO', 'JP', 'KW', 'LB', 'LI', 'LT', 'LU', 'LV', 'MA', 'MC', 'MT', 'MX', 'MY', 'NI', 'NL', 'NO', 'NZ', 'OM', 'PA', 'PE', 'PH', 'PL', 'PS', 'PT', 'PY', 'QA', 'RO', 'SA', 'SE', 'SG', 'SK', 'SV', 'TH', 'TN', 'TR', 'TW', 'US', 'UY', 'VN', 'ZA'], 'external_urls': {'spotify': 'https://open.spotify.com/album/3LhriqAiHJYw7rxvtlkvQc'}, 'href': 'https://api.spotify.com/v1/albums/3LhriqAiHJYw7rxvtlkvQc', 'id': '3LhriqAiHJYw7rxvtlkvQc', 'images': [{'height': 640, 'url': 'https://i.scdn.co/image/ab67616d0000b273479856767f92aab97c956704', 'width': 640}, {'height': 300, 'url': 'https://i.scdn.co/image/ab67616d00001e02479856767f92aab97c956704', 'width': 300}, {'height': 64, 'url': 'https://i.scdn.co/image/ab67616d00004851479856767f92aab97c956704', 'width': 64}], 'name': 'Lose Somebody', 'release_date': '2020-05-15', 'release_date_precision': 'day', 'total_tracks': 1, 'type': 'album', 'uri': 'spotify:album:3LhriqAiHJYw7rxvtlkvQc'}, {'album_type': 'album', 'artists': [{'external_urls': {'spotify': 'https://open.spotify.com/artist/0LyfQWJT6nXafLPZqxe9Of'}, 'href': 'https://api.spotify.com/v1/artists/0LyfQWJT6nXafLPZqxe9Of', 'id': '0LyfQWJT6nXafLPZqxe9Of', 'name': 'Various Artists', 'type': 'artist', 'uri': 'spotify:artist:0LyfQWJT6nXafLPZqxe9Of'}], 'available_markets': ['AD', 'AE', 'AR', 'AT', 'AU', 'BE', 'BG', 'BH', 'BO', 'BR', 'CA', 'CH', 'CL', 'CO', 'CR', 'CY', 'CZ', 'DE', 'DK', 'DO', 'DZ', 'EC', 'EE', 'EG', 'ES', 'FI', 'FR', 'GB', 'GR', 'GT', 'HK', 'HN', 'HU', 'ID', 'IE', 'IL', 'IN', 'IS', 'IT', 'JO', 'JP', 'KW', 'LB', 'LI', 'LT', 'LU', 'LV', 'MA', 'MC', 'MT', 'MX', 'MY', 'NI', 'NL', 'NO', 'NZ', 'OM', 'PA', 'PE', 'PH', 'PL', 'PS', 'PT', 'PY', 'QA', 'RO', 'SA', 'SE', 'SG', 'SK', 'SV', 'TH', 'TN', 'TR', 'TW', 'US', 'UY', 'VN', 'ZA'], 'external_urls': {'spotify': 'https://open.spotify.com/album/2Zg5xZo3WwIoAZys8OcUpG'}, 'href': 'https://api.spotify.com/v1/albums/2Zg5xZo3WwIoAZys8OcUpG', 'id': '2Zg5xZo3WwIoAZys8OcUpG', 'images': [{'height': 640, 'url': 'https://i.scdn.co/image/ab67616d0000b2732e819e33b9703a8b3fc85a35', 'width': 640}, {'height': 300, 'url': 'https://i.scdn.co/image/ab67616d00001e022e819e33b9703a8b3fc85a35', 'width': 300}, {'height': 64, 'url': 'https://i.scdn.co/image/ab67616d000048512e819e33b9703a8b3fc85a35', 'width': 64}], 'name': 'SCOOB! The Album', 'release_date': '2020-05-15', 'release_date_precision': 'day', 'total_tracks': 12, 'type': 'album', 'uri': 'spotify:album:2Zg5xZo3WwIoAZys8OcUpG'}, {'album_type': 'single', 'artists': [{'external_urls': {'spotify': 'https://open.spotify.com/artist/6jJ0s89eD6GaHleKKya26X'}, 'href': 'https://api.spotify.com/v1/artists/6jJ0s89eD6GaHleKKya26X', 'id': '6jJ0s89eD6GaHleKKya26X', 'name': 'Katy Perry', 'type': 'artist', 'uri': 'spotify:artist:6jJ0s89eD6GaHleKKya26X'}], 'available_markets': ['AD', 'AE', 'AR', 'AT', 'AU', 'BE', 'BG', 'BH', 'BO', 'BR', 'CA', 'CH', 'CL', 'CO', 'CR', 'CY', 'CZ', 'DE', 'DK', 'DO', 'DZ', 'EC', 'EE', 'EG', 'ES', 'FI', 'FR', 'GB', 'GR', 'GT', 'HK', 'HN', 'HU', 'ID', 'IE', 'IL', 'IN', 'IS', 'IT', 'JO', 'JP', 'KW', 'LB', 'LI', 'LT', 'LU', 'LV', 'MA', 'MC', 'MT', 'MX', 'MY', 'NI', 'NL', 'NO', 'NZ', 'OM', 'PA', 'PE', 'PH', 'PL', 'PS', 'PT', 'PY', 'QA', 'RO', 'SA', 'SE', 'SG', 'SK', 'SV', 'TH', 'TN', 'TR', 'TW', 'US', 'UY', 'VN', 'ZA'], 'external_urls': {'spotify': 'https://open.spotify.com/album/2m5J1DUH7hJpPSOromIqpN'}, 'href': 'https://api.spotify.com/v1/albums/2m5J1DUH7hJpPSOromIqpN', 'id': '2m5J1DUH7hJpPSOromIqpN', 'images': [{'height': 640, 'url': 'https://i.scdn.co/image/ab67616d0000b2738df6751bad8ab6b5c928dba3', 'width': 640}, {'height': 300, 'url': 'https://i.scdn.co/image/ab67616d00001e028df6751bad8ab6b5c928dba3', 'width': 300}, {'height': 64, 'url': 'https://i.scdn.co/image/ab67616d000048518df6751bad8ab6b5c928dba3', 'width': 64}], 'name': 'Daisies', 'release_date': '2020-05-15', 'release_date_precision': 'day', 'total_tracks': 1, 'type': 'album', 'uri': 'spotify:album:2m5J1DUH7hJpPSOromIqpN'}, {'album_type': 'album', 'artists': [{'external_urls': {'spotify': 'https://open.spotify.com/artist/6AgTAQt8XS6jRWi4sX7w49'}, 'href': 'https://api.spotify.com/v1/artists/6AgTAQt8XS6jRWi4sX7w49', 'id': '6AgTAQt8XS6jRWi4sX7w49', 'name': 'Polo G', 'type': 'artist', 'uri': 'spotify:artist:6AgTAQt8XS6jRWi4sX7w49'}], 'available_markets': ['AD', 'AE', 'AR', 'AT', 'AU', 'BE', 'BG', 'BH', 'BO', 'BR', 'CA', 'CH', 'CL', 'CO', 'CR', 'CY', 'CZ', 'DE', 'DK', 'DO', 'DZ', 'EC', 'EE', 'EG', 'ES', 'FI', 'FR', 'GB', 'GR', 'GT', 'HK', 'HN', 'HU', 'ID', 'IE', 'IL', 'IN', 'IS', 'IT', 'JO', 'JP', 'KW', 'LB', 'LI', 'LT', 'LU', 'LV', 'MA', 'MC', 'MT', 'MX', 'MY', 'NI', 'NL', 'NO', 'NZ', 'OM', 'PA', 'PE', 'PH', 'PL', 'PS', 'PT', 'PY', 'QA', 'RO', 'SA', 'SE', 'SG', 'SK', 'SV', 'TH', 'TN', 'TR', 'TW', 'US', 'UY', 'VN', 'ZA'], 'external_urls': {'spotify': 'https://open.spotify.com/album/39xhYyNNDatQtgKw2KdXMz'}, 'href': 'https://api.spotify.com/v1/albums/39xhYyNNDatQtgKw2KdXMz', 'id': '39xhYyNNDatQtgKw2KdXMz', 'images': [{'height': 640, 'url': 'https://i.scdn.co/image/ab67616d0000b273339f780dfdbc38558ea0761d', 'width': 640}, {'height': 300, 'url': 'https://i.scdn.co/image/ab67616d00001e02339f780dfdbc38558ea0761d', 'width': 300}, {'height': 64, 'url': 'https://i.scdn.co/image/ab67616d00004851339f780dfdbc38558ea0761d', 'width': 64}], 'name': 'THE GOAT', 'release_date': '2020-05-15', 'release_date_precision': 'day', 'total_tracks': 16, 'type': 'album', 'uri': 'spotify:album:39xhYyNNDatQtgKw2KdXMz'}, {'album_type': 'single', 'artists': [{'external_urls': {'spotify': 'https://open.spotify.com/artist/7gOdHgIoIKoe4i9Tta6qdD'}, 'href': 'https://api.spotify.com/v1/artists/7gOdHgIoIKoe4i9Tta6qdD', 'id': '7gOdHgIoIKoe4i9Tta6qdD', 'name': 'Jonas Brothers', 'type': 'artist', 'uri': 'spotify:artist:7gOdHgIoIKoe4i9Tta6qdD'}, {'external_urls': {'spotify': 'https://open.spotify.com/artist/790FomKkXshlbRYZFtlgla'}, 'href': 'https://api.spotify.com/v1/artists/790FomKkXshlbRYZFtlgla', 'id': '790FomKkXshlbRYZFtlgla', 'name': 'KAROL G', 'type': 'artist', 'uri': 'spotify:artist:790FomKkXshlbRYZFtlgla'}], 'available_markets': ['AD', 'AE', 'AR', 'AT', 'AU', 'BE', 'BG', 'BH', 'BO', 'BR', 'CA', 'CH', 'CL', 'CO', 'CR', 'CY', 'CZ', 'DE', 'DK', 'DO', 'DZ', 'EC', 'EE', 'EG', 'ES', 'FI', 'FR', 'GB', 'GR', 'GT', 'HK', 'HN', 'HU', 'ID', 'IE', 'IL', 'IN', 'IS', 'IT', 'JO', 'JP', 'KW', 'LB', 'LI', 'LT', 'LU', 'LV', 'MA', 'MC', 'MT', 'MX', 'MY', 'NI', 'NL', 'NO', 'NZ', 'OM', 'PA', 'PE', 'PH', 'PL', 'PS', 'PT', 'PY', 'QA', 'RO', 'SA', 'SE', 'SG', 'SK', 'SV', 'TH', 'TN', 'TR', 'TW', 'US', 'UY', 'VN', 'ZA'], 'external_urls': {'spotify': 'https://open.spotify.com/album/0i96PtPJV65ddxsfMfo45F'}, 'href': 'https://api.spotify.com/v1/albums/0i96PtPJV65ddxsfMfo45F', 'id': '0i96PtPJV65ddxsfMfo45F', 'images': [{'height': 640, 'url': 'https://i.scdn.co/image/ab67616d0000b2733b3cd45dfa6f779c01d63fdb', 'width': 640}, {'height': 300, 'url': 'https://i.scdn.co/image/ab67616d00001e023b3cd45dfa6f779c01d63fdb', 'width': 300}, {'height': 64, 'url': 'https://i.scdn.co/image/ab67616d000048513b3cd45dfa6f779c01d63fdb', 'width': 64}], 'name': 'XV', 'release_date': '2020-05-15', 'release_date_precision': 'day', 'total_tracks': 2, 'type': 'album', 'uri': 'spotify:album:0i96PtPJV65ddxsfMfo45F'}, {'album_type': 'album', 'artists': [{'external_urls': {'spotify': 'https://open.spotify.com/artist/25uiPmTg16RbhZWAqwLBy5'}, 'href': 'https://api.spotify.com/v1/artists/25uiPmTg16RbhZWAqwLBy5', 'id': '25uiPmTg16RbhZWAqwLBy5', 'name': 'Charli XCX', 'type': 'artist', 'uri': 'spotify:artist:25uiPmTg16RbhZWAqwLBy5'}], 'available_markets': ['AD', 'AE', 'AR', 'AT', 'AU', 'BE', 'BG', 'BH', 'BO', 'BR', 'CA', 'CH', 'CL', 'CO', 'CR', 'CY', 'CZ', 'DE', 'DK', 'DO', 'DZ', 'EC', 'EE', 'EG', 'ES', 'FI', 'FR', 'GB', 'GR', 'GT', 'HK', 'HN', 'HU', 'ID', 'IE', 'IL', 'IN', 'IS', 'IT', 'JO', 'JP', 'KW', 'LB', 'LI', 'LT', 'LU', 'LV', 'MA', 'MC', 'MT', 'MX', 'MY', 'NI', 'NL', 'NO', 'NZ', 'OM', 'PA', 'PE', 'PH', 'PL', 'PS', 'PT', 'PY', 'QA', 'RO', 'SA', 'SE', 'SG', 'SK', 'SV', 'TH', 'TN', 'TR', 'TW', 'US', 'UY', 'VN', 'ZA'], 'external_urls': {'spotify': 'https://open.spotify.com/album/3a9qH2VEsSiOZvMrjaS0Nu'}, 'href': 'https://api.spotify.com/v1/albums/3a9qH2VEsSiOZvMrjaS0Nu', 'id': '3a9qH2VEsSiOZvMrjaS0Nu', 'images': [{'height': 640, 'url': 'https://i.scdn.co/image/ab67616d0000b273664e38c99d077cc52ab48914', 'width': 640}, {'height': 300, 'url': 'https://i.scdn.co/image/ab67616d00001e02664e38c99d077cc52ab48914', 'width': 300}, {'height': 64, 'url': 'https://i.scdn.co/image/ab67616d00004851664e38c99d077cc52ab48914', 'width': 64}], 'name': \"how i'm feeling now\", 'release_date': '2020-05-15', 'release_date_precision': 'day', 'total_tracks': 11, 'type': 'album', 'uri': 'spotify:album:3a9qH2VEsSiOZvMrjaS0Nu'}, {'album_type': 'single', 'artists': [{'external_urls': {'spotify': 'https://open.spotify.com/artist/2jku7tDXc6XoB6MO2hFuqg'}, 'href': 'https://api.spotify.com/v1/artists/2jku7tDXc6XoB6MO2hFuqg', 'id': '2jku7tDXc6XoB6MO2hFuqg', 'name': 'Tory Lanez', 'type': 'artist', 'uri': 'spotify:artist:2jku7tDXc6XoB6MO2hFuqg'}], 'available_markets': ['AD', 'AE', 'AR', 'AT', 'AU', 'BE', 'BG', 'BH', 'BO', 'BR', 'CH', 'CL', 'CO', 'CR', 'CY', 'CZ', 'DE', 'DK', 'DO', 'DZ', 'EC', 'EE', 'EG', 'ES', 'FI', 'FR', 'GB', 'GR', 'GT', 'HK', 'HN', 'HU', 'ID', 'IE', 'IL', 'IN', 'IS', 'IT', 'JO', 'JP', 'KW', 'LB', 'LI', 'LT', 'LU', 'LV', 'MA', 'MC', 'MT', 'MX', 'MY', 'NI', 'NL', 'NO', 'NZ', 'OM', 'PA', 'PE', 'PH', 'PL', 'PS', 'PT', 'PY', 'QA', 'RO', 'SA', 'SE', 'SG', 'SK', 'SV', 'TH', 'TN', 'TR', 'TW', 'US', 'UY', 'VN', 'ZA'], 'external_urls': {'spotify': 'https://open.spotify.com/album/3lalGt6k7JM3tIji1Xbgmk'}, 'href': 'https://api.spotify.com/v1/albums/3lalGt6k7JM3tIji1Xbgmk', 'id': '3lalGt6k7JM3tIji1Xbgmk', 'images': [{'height': 640, 'url': 'https://i.scdn.co/image/ab67616d0000b273c2ebaf0c84eb77f358d958bc', 'width': 640}, {'height': 300, 'url': 'https://i.scdn.co/image/ab67616d00001e02c2ebaf0c84eb77f358d958bc', 'width': 300}, {'height': 64, 'url': 'https://i.scdn.co/image/ab67616d00004851c2ebaf0c84eb77f358d958bc', 'width': 64}], 'name': 'Temperature Rising', 'release_date': '2020-05-15', 'release_date_precision': 'day', 'total_tracks': 1, 'type': 'album', 'uri': 'spotify:album:3lalGt6k7JM3tIji1Xbgmk'}, {'album_type': 'album', 'artists': [{'external_urls': {'spotify': 'https://open.spotify.com/artist/2ueoLVCXQ948OfhVvAy3Nn'}, 'href': 'https://api.spotify.com/v1/artists/2ueoLVCXQ948OfhVvAy3Nn', 'id': '2ueoLVCXQ948OfhVvAy3Nn', 'name': 'Perfume Genius', 'type': 'artist', 'uri': 'spotify:artist:2ueoLVCXQ948OfhVvAy3Nn'}], 'available_markets': ['AD', 'AE', 'AR', 'AT', 'AU', 'BE', 'BG', 'BH', 'BO', 'BR', 'CA', 'CH', 'CL', 'CO', 'CR', 'CY', 'CZ', 'DE', 'DK', 'DO', 'DZ', 'EC', 'EE', 'EG', 'ES', 'FI', 'FR', 'GB', 'GR', 'GT', 'HK', 'HN', 'HU', 'ID', 'IE', 'IL', 'IN', 'IS', 'IT', 'JO', 'JP', 'KW', 'LB', 'LI', 'LT', 'LU', 'LV', 'MA', 'MC', 'MT', 'MX', 'MY', 'NI', 'NL', 'NO', 'NZ', 'OM', 'PA', 'PE', 'PH', 'PL', 'PS', 'PT', 'PY', 'QA', 'RO', 'SA', 'SE', 'SG', 'SK', 'SV', 'TH', 'TN', 'TR', 'TW', 'US', 'UY', 'VN', 'ZA'], 'external_urls': {'spotify': 'https://open.spotify.com/album/6daEdTBi1hyFQgmsnR7oRr'}, 'href': 'https://api.spotify.com/v1/albums/6daEdTBi1hyFQgmsnR7oRr', 'id': '6daEdTBi1hyFQgmsnR7oRr', 'images': [{'height': 640, 'url': 'https://i.scdn.co/image/ab67616d0000b2739af34850f5125ef195d6101a', 'width': 640}, {'height': 300, 'url': 'https://i.scdn.co/image/ab67616d00001e029af34850f5125ef195d6101a', 'width': 300}, {'height': 64, 'url': 'https://i.scdn.co/image/ab67616d000048519af34850f5125ef195d6101a', 'width': 64}], 'name': 'Set My Heart On Fire Immediately', 'release_date': '2020-05-15', 'release_date_precision': 'day', 'total_tracks': 13, 'type': 'album', 'uri': 'spotify:album:6daEdTBi1hyFQgmsnR7oRr'}, {'album_type': 'album', 'artists': [{'external_urls': {'spotify': 'https://open.spotify.com/artist/7rkW85dBwwrJtlHRDkJDAC'}, 'href': 'https://api.spotify.com/v1/artists/7rkW85dBwwrJtlHRDkJDAC', 'id': '7rkW85dBwwrJtlHRDkJDAC', 'name': 'NAV', 'type': 'artist', 'uri': 'spotify:artist:7rkW85dBwwrJtlHRDkJDAC'}], 'available_markets': ['AD', 'AE', 'AR', 'AT', 'AU', 'BE', 'BG', 'BH', 'BO', 'BR', 'CA', 'CH', 'CL', 'CO', 'CR', 'CY', 'CZ', 'DE', 'DK', 'DO', 'DZ', 'EC', 'EE', 'EG', 'ES', 'FI', 'FR', 'GB', 'GR', 'GT', 'HK', 'HN', 'HU', 'ID', 'IE', 'IL', 'IN', 'IS', 'IT', 'JO', 'JP', 'KW', 'LB', 'LI', 'LT', 'LU', 'LV', 'MA', 'MC', 'MT', 'MX', 'MY', 'NI', 'NL', 'NO', 'NZ', 'OM', 'PA', 'PE', 'PH', 'PL', 'PS', 'PT', 'PY', 'QA', 'RO', 'SA', 'SE', 'SG', 'SK', 'SV', 'TH', 'TN', 'TR', 'TW', 'US', 'UY', 'VN', 'ZA'], 'external_urls': {'spotify': 'https://open.spotify.com/album/2kx4l1OQNT2JXLld9HJDIh'}, 'href': 'https://api.spotify.com/v1/albums/2kx4l1OQNT2JXLld9HJDIh', 'id': '2kx4l1OQNT2JXLld9HJDIh', 'images': [{'height': 640, 'url': 'https://i.scdn.co/image/ab67616d0000b273b9c89bb14d58ea3150bd435d', 'width': 640}, {'height': 300, 'url': 'https://i.scdn.co/image/ab67616d00001e02b9c89bb14d58ea3150bd435d', 'width': 300}, {'height': 64, 'url': 'https://i.scdn.co/image/ab67616d00004851b9c89bb14d58ea3150bd435d', 'width': 64}], 'name': 'Good Intentions (Brown Boy 2 Deluxe Version)', 'release_date': '2020-05-11', 'release_date_precision': 'day', 'total_tracks': 32, 'type': 'album', 'uri': 'spotify:album:2kx4l1OQNT2JXLld9HJDIh'}, {'album_type': 'single', 'artists': [{'external_urls': {'spotify': 'https://open.spotify.com/artist/6oMuImdp5ZcFhWP0ESe6mG'}, 'href': 'https://api.spotify.com/v1/artists/6oMuImdp5ZcFhWP0ESe6mG', 'id': '6oMuImdp5ZcFhWP0ESe6mG', 'name': 'Migos', 'type': 'artist', 'uri': 'spotify:artist:6oMuImdp5ZcFhWP0ESe6mG'}], 'available_markets': ['AD', 'AE', 'AR', 'AT', 'AU', 'BE', 'BG', 'BH', 'BO', 'BR', 'CA', 'CH', 'CL', 'CO', 'CR', 'CY', 'CZ', 'DE', 'DK', 'DO', 'DZ', 'EC', 'EE', 'EG', 'ES', 'FI', 'FR', 'GB', 'GR', 'GT', 'HK', 'HN', 'HU', 'ID', 'IE', 'IL', 'IN', 'IS', 'IT', 'JO', 'JP', 'KW', 'LB', 'LI', 'LT', 'LU', 'LV', 'MA', 'MC', 'MT', 'MX', 'MY', 'NI', 'NL', 'NO', 'NZ', 'OM', 'PA', 'PE', 'PH', 'PL', 'PS', 'PT', 'PY', 'QA', 'RO', 'SA', 'SE', 'SG', 'SK', 'SV', 'TH', 'TN', 'TR', 'TW', 'US', 'UY', 'VN', 'ZA'], 'external_urls': {'spotify': 'https://open.spotify.com/album/3PASWLvNfvfMF68dDznEgK'}, 'href': 'https://api.spotify.com/v1/albums/3PASWLvNfvfMF68dDznEgK', 'id': '3PASWLvNfvfMF68dDznEgK', 'images': [{'height': 640, 'url': 'https://i.scdn.co/image/ab67616d0000b2739325c863d9139cc2d507421b', 'width': 640}, {'height': 300, 'url': 'https://i.scdn.co/image/ab67616d00001e029325c863d9139cc2d507421b', 'width': 300}, {'height': 64, 'url': 'https://i.scdn.co/image/ab67616d000048519325c863d9139cc2d507421b', 'width': 64}], 'name': 'Racks 2 Skinny', 'release_date': '2020-05-11', 'release_date_precision': 'day', 'total_tracks': 1, 'type': 'album', 'uri': 'spotify:album:3PASWLvNfvfMF68dDznEgK'}, {'album_type': 'single', 'artists': [{'external_urls': {'spotify': 'https://open.spotify.com/artist/5Zq7R5qmi58ByYyBQTlNuk'}, 'href': 'https://api.spotify.com/v1/artists/5Zq7R5qmi58ByYyBQTlNuk', 'id': '5Zq7R5qmi58ByYyBQTlNuk', 'name': 'Lee Brice', 'type': 'artist', 'uri': 'spotify:artist:5Zq7R5qmi58ByYyBQTlNuk'}], 'available_markets': ['AD', 'AE', 'AR', 'AT', 'AU', 'BE', 'BG', 'BH', 'BO', 'BR', 'CA', 'CH', 'CL', 'CO', 'CR', 'CY', 'CZ', 'DE', 'DK', 'DO', 'DZ', 'EC', 'EE', 'EG', 'ES', 'FI', 'FR', 'GB', 'GR', 'GT', 'HK', 'HN', 'HU', 'ID', 'IE', 'IL', 'IN', 'IS', 'IT', 'JO', 'JP', 'KW', 'LB', 'LI', 'LT', 'LU', 'LV', 'MA', 'MC', 'MT', 'MX', 'MY', 'NI', 'NL', 'NO', 'NZ', 'OM', 'PA', 'PE', 'PH', 'PL', 'PS', 'PT', 'PY', 'QA', 'RO', 'SA', 'SE', 'SG', 'SK', 'SV', 'TH', 'TN', 'TR', 'TW', 'US', 'UY', 'VN', 'ZA'], 'external_urls': {'spotify': 'https://open.spotify.com/album/5LK5cCx0XdniivfZ91vOSv'}, 'href': 'https://api.spotify.com/v1/albums/5LK5cCx0XdniivfZ91vOSv', 'id': '5LK5cCx0XdniivfZ91vOSv', 'images': [{'height': 640, 'url': 'https://i.scdn.co/image/ab67616d0000b27306ae99421702f8a9d881e268', 'width': 640}, {'height': 300, 'url': 'https://i.scdn.co/image/ab67616d00001e0206ae99421702f8a9d881e268', 'width': 300}, {'height': 64, 'url': 'https://i.scdn.co/image/ab67616d0000485106ae99421702f8a9d881e268', 'width': 64}], 'name': 'One Of Them Girls', 'release_date': '2020-05-15', 'release_date_precision': 'day', 'total_tracks': 2, 'type': 'album', 'uri': 'spotify:album:5LK5cCx0XdniivfZ91vOSv'}, {'album_type': 'album', 'artists': [{'external_urls': {'spotify': 'https://open.spotify.com/artist/2o5jDhtHVPhrJdv3cEQ99Z'}, 'href': 'https://api.spotify.com/v1/artists/2o5jDhtHVPhrJdv3cEQ99Z', 'id': '2o5jDhtHVPhrJdv3cEQ99Z', 'name': 'Tiësto', 'type': 'artist', 'uri': 'spotify:artist:2o5jDhtHVPhrJdv3cEQ99Z'}], 'available_markets': ['AD', 'AE', 'AR', 'AT', 'AU', 'BE', 'BG', 'BH', 'BO', 'BR', 'CA', 'CH', 'CL', 'CO', 'CR', 'CY', 'CZ', 'DE', 'DK', 'DO', 'DZ', 'EC', 'EE', 'EG', 'ES', 'FI', 'FR', 'GB', 'GR', 'GT', 'HK', 'HN', 'HU', 'ID', 'IE', 'IL', 'IN', 'IS', 'IT', 'JO', 'JP', 'KW', 'LB', 'LI', 'LT', 'LU', 'LV', 'MA', 'MC', 'MT', 'MX', 'MY', 'NI', 'NL', 'NO', 'NZ', 'OM', 'PA', 'PE', 'PH', 'PL', 'PS', 'PT', 'PY', 'QA', 'RO', 'SA', 'SE', 'SG', 'SK', 'SV', 'TH', 'TN', 'TR', 'TW', 'US', 'UY', 'VN', 'ZA'], 'external_urls': {'spotify': 'https://open.spotify.com/album/6CIslPQSknp875cigkhKJC'}, 'href': 'https://api.spotify.com/v1/albums/6CIslPQSknp875cigkhKJC', 'id': '6CIslPQSknp875cigkhKJC', 'images': [{'height': 640, 'url': 'https://i.scdn.co/image/ab67616d0000b2739759d6dfa2c19091814fccb3', 'width': 640}, {'height': 300, 'url': 'https://i.scdn.co/image/ab67616d00001e029759d6dfa2c19091814fccb3', 'width': 300}, {'height': 64, 'url': 'https://i.scdn.co/image/ab67616d000048519759d6dfa2c19091814fccb3', 'width': 64}], 'name': 'The London Sessions', 'release_date': '2020-05-15', 'release_date_precision': 'day', 'total_tracks': 13, 'type': 'album', 'uri': 'spotify:album:6CIslPQSknp875cigkhKJC'}, {'album_type': 'single', 'artists': [{'external_urls': {'spotify': 'https://open.spotify.com/artist/6pBNfggcZZDCmb0p92OnGn'}, 'href': 'https://api.spotify.com/v1/artists/6pBNfggcZZDCmb0p92OnGn', 'id': '6pBNfggcZZDCmb0p92OnGn', 'name': 'Chase Rice', 'type': 'artist', 'uri': 'spotify:artist:6pBNfggcZZDCmb0p92OnGn'}], 'available_markets': ['AD', 'AE', 'AR', 'AT', 'AU', 'BE', 'BG', 'BH', 'BO', 'BR', 'CA', 'CH', 'CL', 'CO', 'CR', 'CY', 'CZ', 'DE', 'DK', 'DO', 'DZ', 'EC', 'EE', 'EG', 'ES', 'FI', 'FR', 'GB', 'GR', 'GT', 'HK', 'HN', 'HU', 'ID', 'IE', 'IL', 'IS', 'IT', 'JO', 'JP', 'KW', 'LB', 'LI', 'LT', 'LU', 'LV', 'MA', 'MC', 'MT', 'MX', 'MY', 'NI', 'NL', 'NO', 'NZ', 'OM', 'PA', 'PE', 'PH', 'PL', 'PS', 'PT', 'PY', 'QA', 'RO', 'SA', 'SE', 'SG', 'SK', 'SV', 'TH', 'TN', 'TR', 'TW', 'US', 'UY', 'VN', 'ZA'], 'external_urls': {'spotify': 'https://open.spotify.com/album/5XvXf3mdhShyLZhoJYR74q'}, 'href': 'https://api.spotify.com/v1/albums/5XvXf3mdhShyLZhoJYR74q', 'id': '5XvXf3mdhShyLZhoJYR74q', 'images': [{'height': 640, 'url': 'https://i.scdn.co/image/ab67616d0000b2735f6b892b478747a769252650', 'width': 640}, {'height': 300, 'url': 'https://i.scdn.co/image/ab67616d00001e025f6b892b478747a769252650', 'width': 300}, {'height': 64, 'url': 'https://i.scdn.co/image/ab67616d000048515f6b892b478747a769252650', 'width': 64}], 'name': 'The Album, Pt. II', 'release_date': '2020-05-15', 'release_date_precision': 'day', 'total_tracks': 4, 'type': 'album', 'uri': 'spotify:album:5XvXf3mdhShyLZhoJYR74q'}, {'album_type': 'album', 'artists': [{'external_urls': {'spotify': 'https://open.spotify.com/artist/1caBfBEapzw8z2Qz9q0OaQ'}, 'href': 'https://api.spotify.com/v1/artists/1caBfBEapzw8z2Qz9q0OaQ', 'id': '1caBfBEapzw8z2Qz9q0OaQ', 'name': 'Asking Alexandria', 'type': 'artist', 'uri': 'spotify:artist:1caBfBEapzw8z2Qz9q0OaQ'}], 'available_markets': ['AD', 'AE', 'AR', 'AT', 'AU', 'BE', 'BG', 'BH', 'BO', 'BR', 'CA', 'CH', 'CL', 'CO', 'CR', 'CY', 'CZ', 'DE', 'DK', 'DO', 'DZ', 'EC', 'EE', 'EG', 'ES', 'FI', 'FR', 'GB', 'GR', 'GT', 'HK', 'HN', 'HU', 'ID', 'IE', 'IL', 'IN', 'IS', 'IT', 'JO', 'JP', 'KW', 'LB', 'LI', 'LT', 'LU', 'LV', 'MA', 'MC', 'MT', 'MX', 'MY', 'NI', 'NL', 'NO', 'NZ', 'OM', 'PA', 'PE', 'PH', 'PL', 'PS', 'PT', 'PY', 'QA', 'RO', 'SA', 'SE', 'SG', 'SK', 'SV', 'TH', 'TN', 'TR', 'TW', 'US', 'UY', 'VN', 'ZA'], 'external_urls': {'spotify': 'https://open.spotify.com/album/5VKKXDvYuJmRc2UQHCwNQK'}, 'href': 'https://api.spotify.com/v1/albums/5VKKXDvYuJmRc2UQHCwNQK', 'id': '5VKKXDvYuJmRc2UQHCwNQK', 'images': [{'height': 640, 'url': 'https://i.scdn.co/image/ab67616d0000b273d30ebbcdf987ab5273abdd8d', 'width': 640}, {'height': 300, 'url': 'https://i.scdn.co/image/ab67616d00001e02d30ebbcdf987ab5273abdd8d', 'width': 300}, {'height': 64, 'url': 'https://i.scdn.co/image/ab67616d00004851d30ebbcdf987ab5273abdd8d', 'width': 64}], 'name': 'Like A House On Fire', 'release_date': '2020-05-15', 'release_date_precision': 'day', 'total_tracks': 15, 'type': 'album', 'uri': 'spotify:album:5VKKXDvYuJmRc2UQHCwNQK'}, {'album_type': 'single', 'artists': [{'external_urls': {'spotify': 'https://open.spotify.com/artist/7d3WFRME3vBY2cgoP38RDo'}, 'href': 'https://api.spotify.com/v1/artists/7d3WFRME3vBY2cgoP38RDo', 'id': '7d3WFRME3vBY2cgoP38RDo', 'name': 'Lil Skies', 'type': 'artist', 'uri': 'spotify:artist:7d3WFRME3vBY2cgoP38RDo'}], 'available_markets': ['AD', 'AE', 'AR', 'AT', 'AU', 'BE', 'BG', 'BH', 'BO', 'BR', 'CA', 'CH', 'CL', 'CO', 'CR', 'CY', 'CZ', 'DE', 'DK', 'DO', 'DZ', 'EC', 'EE', 'EG', 'ES', 'FI', 'FR', 'GB', 'GR', 'GT', 'HK', 'HN', 'HU', 'ID', 'IE', 'IL', 'IN', 'IS', 'IT', 'JO', 'JP', 'KW', 'LB', 'LI', 'LT', 'LU', 'LV', 'MA', 'MC', 'MT', 'MX', 'MY', 'NI', 'NL', 'NO', 'NZ', 'OM', 'PA', 'PE', 'PH', 'PL', 'PS', 'PT', 'PY', 'QA', 'RO', 'SA', 'SE', 'SG', 'SK', 'SV', 'TH', 'TN', 'TR', 'TW', 'US', 'UY', 'VN', 'ZA'], 'external_urls': {'spotify': 'https://open.spotify.com/album/3cVy1WTjSAVpzUc7MVCTLu'}, 'href': 'https://api.spotify.com/v1/albums/3cVy1WTjSAVpzUc7MVCTLu', 'id': '3cVy1WTjSAVpzUc7MVCTLu', 'images': [{'height': 640, 'url': 'https://i.scdn.co/image/ab67616d0000b273f7571dc32332081426ab3818', 'width': 640}, {'height': 300, 'url': 'https://i.scdn.co/image/ab67616d00001e02f7571dc32332081426ab3818', 'width': 300}, {'height': 64, 'url': 'https://i.scdn.co/image/ab67616d00004851f7571dc32332081426ab3818', 'width': 64}], 'name': 'Riot', 'release_date': '2020-05-13', 'release_date_precision': 'day', 'total_tracks': 1, 'type': 'album', 'uri': 'spotify:album:3cVy1WTjSAVpzUc7MVCTLu'}, {'album_type': 'album', 'artists': [{'external_urls': {'spotify': 'https://open.spotify.com/artist/55fhWPvDiMpLnE4ZzNXZyW'}, 'href': 'https://api.spotify.com/v1/artists/55fhWPvDiMpLnE4ZzNXZyW', 'id': '55fhWPvDiMpLnE4ZzNXZyW', 'name': 'Noah Cyrus', 'type': 'artist', 'uri': 'spotify:artist:55fhWPvDiMpLnE4ZzNXZyW'}], 'available_markets': ['AD', 'AE', 'AR', 'AT', 'AU', 'BE', 'BG', 'BH', 'BO', 'BR', 'CA', 'CH', 'CL', 'CO', 'CR', 'CY', 'CZ', 'DE', 'DK', 'DO', 'DZ', 'EC', 'EE', 'EG', 'ES', 'FI', 'FR', 'GB', 'GR', 'GT', 'HK', 'HN', 'HU', 'ID', 'IE', 'IL', 'IN', 'IS', 'IT', 'JO', 'JP', 'KW', 'LB', 'LI', 'LT', 'LU', 'LV', 'MA', 'MC', 'MT', 'MX', 'MY', 'NI', 'NL', 'NO', 'NZ', 'OM', 'PA', 'PE', 'PH', 'PL', 'PS', 'PT', 'PY', 'QA', 'RO', 'SA', 'SE', 'SG', 'SK', 'SV', 'TH', 'TN', 'TR', 'TW', 'US', 'UY', 'VN', 'ZA'], 'external_urls': {'spotify': 'https://open.spotify.com/album/5Gn3fFzlWL89j0hGumtXb5'}, 'href': 'https://api.spotify.com/v1/albums/5Gn3fFzlWL89j0hGumtXb5', 'id': '5Gn3fFzlWL89j0hGumtXb5', 'images': [{'height': 640, 'url': 'https://i.scdn.co/image/ab67616d0000b2737f66b73bd6e86f4c8d2a7692', 'width': 640}, {'height': 300, 'url': 'https://i.scdn.co/image/ab67616d00001e027f66b73bd6e86f4c8d2a7692', 'width': 300}, {'height': 64, 'url': 'https://i.scdn.co/image/ab67616d000048517f66b73bd6e86f4c8d2a7692', 'width': 64}], 'name': 'THE END OF EVERYTHING', 'release_date': '2020-05-15', 'release_date_precision': 'day', 'total_tracks': 8, 'type': 'album', 'uri': 'spotify:album:5Gn3fFzlWL89j0hGumtXb5'}, {'album_type': 'single', 'artists': [{'external_urls': {'spotify': 'https://open.spotify.com/artist/6C1ohJrd5VydigQtaGy5Wa'}, 'href': 'https://api.spotify.com/v1/artists/6C1ohJrd5VydigQtaGy5Wa', 'id': '6C1ohJrd5VydigQtaGy5Wa', 'name': 'Joyner Lucas', 'type': 'artist', 'uri': 'spotify:artist:6C1ohJrd5VydigQtaGy5Wa'}, {'external_urls': {'spotify': 'https://open.spotify.com/artist/41qil2VaGbD194gaEcmmyx'}, 'href': 'https://api.spotify.com/v1/artists/41qil2VaGbD194gaEcmmyx', 'id': '41qil2VaGbD194gaEcmmyx', 'name': 'Will Smith', 'type': 'artist', 'uri': 'spotify:artist:41qil2VaGbD194gaEcmmyx'}], 'available_markets': ['AD', 'AE', 'AR', 'AT', 'AU', 'BE', 'BG', 'BH', 'BO', 'BR', 'CA', 'CH', 'CL', 'CO', 'CR', 'CY', 'CZ', 'DE', 'DK', 'DO', 'DZ', 'EC', 'EE', 'EG', 'ES', 'FI', 'FR', 'GB', 'GR', 'GT', 'HK', 'HN', 'HU', 'ID', 'IE', 'IL', 'IN', 'IS', 'IT', 'JO', 'JP', 'KW', 'LB', 'LI', 'LT', 'LU', 'LV', 'MA', 'MC', 'MT', 'MX', 'MY', 'NI', 'NL', 'NO', 'NZ', 'OM', 'PA', 'PE', 'PH', 'PL', 'PS', 'PT', 'PY', 'QA', 'RO', 'SA', 'SE', 'SG', 'SK', 'SV', 'TH', 'TN', 'TR', 'TW', 'US', 'UY', 'VN', 'ZA'], 'external_urls': {'spotify': 'https://open.spotify.com/album/3tOe6XM8LmRA5vDAaMqp8e'}, 'href': 'https://api.spotify.com/v1/albums/3tOe6XM8LmRA5vDAaMqp8e', 'id': '3tOe6XM8LmRA5vDAaMqp8e', 'images': [{'height': 640, 'url': 'https://i.scdn.co/image/ab67616d0000b2734ac196312c24faedb76a345e', 'width': 640}, {'height': 300, 'url': 'https://i.scdn.co/image/ab67616d00001e024ac196312c24faedb76a345e', 'width': 300}, {'height': 64, 'url': 'https://i.scdn.co/image/ab67616d000048514ac196312c24faedb76a345e', 'width': 64}], 'name': 'Will (Remix)', 'release_date': '2020-05-15', 'release_date_precision': 'day', 'total_tracks': 1, 'type': 'album', 'uri': 'spotify:album:3tOe6XM8LmRA5vDAaMqp8e'}, {'album_type': 'single', 'artists': [{'external_urls': {'spotify': 'https://open.spotify.com/artist/6Xgp2XMz1fhVYe7i6yNAax'}, 'href': 'https://api.spotify.com/v1/artists/6Xgp2XMz1fhVYe7i6yNAax', 'id': '6Xgp2XMz1fhVYe7i6yNAax', 'name': 'Trippie Redd', 'type': 'artist', 'uri': 'spotify:artist:6Xgp2XMz1fhVYe7i6yNAax'}, {'external_urls': {'spotify': 'https://open.spotify.com/artist/2HPaUgqeutzr3jx5a9WyDV'}, 'href': 'https://api.spotify.com/v1/artists/2HPaUgqeutzr3jx5a9WyDV', 'id': '2HPaUgqeutzr3jx5a9WyDV', 'name': 'PARTYNEXTDOOR', 'type': 'artist', 'uri': 'spotify:artist:2HPaUgqeutzr3jx5a9WyDV'}], 'available_markets': ['AD', 'AE', 'AR', 'AT', 'AU', 'BE', 'BG', 'BH', 'BO', 'BR', 'CA', 'CH', 'CL', 'CO', 'CR', 'CY', 'CZ', 'DE', 'DK', 'DO', 'DZ', 'EC', 'EE', 'EG', 'ES', 'FI', 'FR', 'GB', 'GR', 'GT', 'HK', 'HN', 'HU', 'ID', 'IE', 'IL', 'IN', 'IS', 'IT', 'JO', 'JP', 'KW', 'LB', 'LI', 'LT', 'LU', 'LV', 'MA', 'MC', 'MT', 'MX', 'MY', 'NI', 'NL', 'NO', 'NZ', 'OM', 'PA', 'PE', 'PH', 'PL', 'PS', 'PT', 'PY', 'QA', 'RO', 'SA', 'SE', 'SG', 'SK', 'SV', 'TH', 'TN', 'TR', 'TW', 'US', 'UY', 'VN', 'ZA'], 'external_urls': {'spotify': 'https://open.spotify.com/album/7rcMHNqNbQxF5TaPMHFoKu'}, 'href': 'https://api.spotify.com/v1/albums/7rcMHNqNbQxF5TaPMHFoKu', 'id': '7rcMHNqNbQxF5TaPMHFoKu', 'images': [{'height': 640, 'url': 'https://i.scdn.co/image/ab67616d0000b273de32a6662a7db272328f4761', 'width': 640}, {'height': 300, 'url': 'https://i.scdn.co/image/ab67616d00001e02de32a6662a7db272328f4761', 'width': 300}, {'height': 64, 'url': 'https://i.scdn.co/image/ab67616d00004851de32a6662a7db272328f4761', 'width': 64}], 'name': 'Excitement', 'release_date': '2020-05-15', 'release_date_precision': 'day', 'total_tracks': 1, 'type': 'album', 'uri': 'spotify:album:7rcMHNqNbQxF5TaPMHFoKu'}, {'album_type': 'single', 'artists': [{'external_urls': {'spotify': 'https://open.spotify.com/artist/3NPpFNZtSTHheNBaWC82rB'}, 'href': 'https://api.spotify.com/v1/artists/3NPpFNZtSTHheNBaWC82rB', 'id': '3NPpFNZtSTHheNBaWC82rB', 'name': 'X Ambassadors', 'type': 'artist', 'uri': 'spotify:artist:3NPpFNZtSTHheNBaWC82rB'}, {'external_urls': {'spotify': 'https://open.spotify.com/artist/0pCNk4D3E2xtszsm6hMsWr'}, 'href': 'https://api.spotify.com/v1/artists/0pCNk4D3E2xtszsm6hMsWr', 'id': '0pCNk4D3E2xtszsm6hMsWr', 'name': 'K.Flay', 'type': 'artist', 'uri': 'spotify:artist:0pCNk4D3E2xtszsm6hMsWr'}, {'external_urls': {'spotify': 'https://open.spotify.com/artist/4ZgQDCtRqZlhLswVS6MHN4'}, 'href': 'https://api.spotify.com/v1/artists/4ZgQDCtRqZlhLswVS6MHN4', 'id': '4ZgQDCtRqZlhLswVS6MHN4', 'name': 'grandson', 'type': 'artist', 'uri': 'spotify:artist:4ZgQDCtRqZlhLswVS6MHN4'}], 'available_markets': ['AD', 'AE', 'AR', 'AT', 'AU', 'BE', 'BG', 'BH', 'BO', 'BR', 'CA', 'CH', 'CL', 'CO', 'CR', 'CY', 'CZ', 'DE', 'DK', 'DO', 'DZ', 'EC', 'EE', 'EG', 'ES', 'FI', 'FR', 'GB', 'GR', 'GT', 'HK', 'HN', 'HU', 'ID', 'IE', 'IL', 'IN', 'IS', 'IT', 'JO', 'JP', 'KW', 'LB', 'LI', 'LT', 'LU', 'LV', 'MA', 'MC', 'MT', 'MX', 'MY', 'NI', 'NL', 'NO', 'NZ', 'OM', 'PA', 'PE', 'PH', 'PL', 'PS', 'PT', 'PY', 'QA', 'RO', 'SA', 'SE', 'SG', 'SK', 'SV', 'TH', 'TN', 'TR', 'TW', 'US', 'UY', 'VN', 'ZA'], 'external_urls': {'spotify': 'https://open.spotify.com/album/2JQbWWpYG6kKppiD6z2FwL'}, 'href': 'https://api.spotify.com/v1/albums/2JQbWWpYG6kKppiD6z2FwL', 'id': '2JQbWWpYG6kKppiD6z2FwL', 'images': [{'height': 640, 'url': 'https://i.scdn.co/image/ab67616d0000b273e420fab8e9ec9cf79c073a28', 'width': 640}, {'height': 300, 'url': 'https://i.scdn.co/image/ab67616d00001e02e420fab8e9ec9cf79c073a28', 'width': 300}, {'height': 64, 'url': 'https://i.scdn.co/image/ab67616d00004851e420fab8e9ec9cf79c073a28', 'width': 64}], 'name': 'Zen (with K.Flay & grandson)', 'release_date': '2020-05-15', 'release_date_precision': 'day', 'total_tracks': 1, 'type': 'album', 'uri': 'spotify:album:2JQbWWpYG6kKppiD6z2FwL'}], 'limit': 20, 'next': 'https://api.spotify.com/v1/browse/new-releases?offset=20&limit=20', 'offset': 0, 'previous': None, 'total': 100}}\n"
     ]
    }
   ],
   "source": [
    "## This will look messy\n",
    "print(data)"
   ]
  },
  {
   "cell_type": "markdown",
   "metadata": {},
   "source": [
    "To start exploring, let's check the type of our new `data` object and start mapping out the hierarchy."
   ]
  },
  {
   "cell_type": "markdown",
   "metadata": {},
   "source": [
    "> Checking the type of the data at each step will tell you how to deal with it"
   ]
  },
  {
   "cell_type": "code",
   "execution_count": 4,
   "metadata": {},
   "outputs": [
    {
     "data": {
      "text/plain": [
       "dict"
      ]
     },
     "execution_count": 4,
     "metadata": {},
     "output_type": "execute_result"
    }
   ],
   "source": [
    "type(data)"
   ]
  },
  {
   "cell_type": "code",
   "execution_count": 5,
   "metadata": {},
   "outputs": [
    {
     "data": {
      "text/plain": [
       "dict_keys(['albums'])"
      ]
     },
     "execution_count": 5,
     "metadata": {},
     "output_type": "execute_result"
    }
   ],
   "source": [
    "data.keys()"
   ]
  },
  {
   "cell_type": "markdown",
   "metadata": {},
   "source": [
    "In this case, there is only a single key, 'albums', so we'll continue on down the pathway exploring and mapping out the hierarchy. Once again, let's start by checking the type of this nested data structure."
   ]
  },
  {
   "cell_type": "code",
   "execution_count": 6,
   "metadata": {},
   "outputs": [
    {
     "data": {
      "text/plain": [
       "dict"
      ]
     },
     "execution_count": 6,
     "metadata": {},
     "output_type": "execute_result"
    }
   ],
   "source": [
    "type(data['albums'])"
   ]
  },
  {
   "cell_type": "code",
   "execution_count": 7,
   "metadata": {},
   "outputs": [
    {
     "data": {
      "text/plain": [
       "dict_keys(['href', 'items', 'limit', 'next', 'offset', 'previous', 'total'])"
      ]
     },
     "execution_count": 7,
     "metadata": {},
     "output_type": "execute_result"
    }
   ],
   "source": [
    "data['albums'].keys()"
   ]
  },
  {
   "cell_type": "markdown",
   "metadata": {},
   "source": [
    "At this point, things are starting to look something like this: \n",
    "\n",
    "![](images/json_diagram1.JPG)"
   ]
  },
  {
   "cell_type": "markdown",
   "metadata": {},
   "source": [
    "At this point, if we were to continue checking individual data types, we have a lot to go through. To simplify this, let's use a for loop:"
   ]
  },
  {
   "cell_type": "code",
   "execution_count": 8,
   "metadata": {
    "scrolled": true
   },
   "outputs": [
    {
     "name": "stdout",
     "output_type": "stream",
     "text": [
      "href <class 'str'>\n",
      "items <class 'list'>\n",
      "limit <class 'int'>\n",
      "next <class 'str'>\n",
      "offset <class 'int'>\n",
      "previous <class 'NoneType'>\n",
      "total <class 'int'>\n"
     ]
    }
   ],
   "source": [
    "for key, value in data['albums'].items():\n",
    "    print(key, type(value))"
   ]
  },
  {
   "cell_type": "markdown",
   "metadata": {},
   "source": [
    "Adding this to our diagram we now have something like this:\n",
    "![](images/json_diagram2.JPG)\n"
   ]
  },
  {
   "cell_type": "markdown",
   "metadata": {},
   "source": [
    "Let's look at the `items` list - this contains the album information. \n",
    "\n",
    "Sidebar: lists are technically called \"arrays\" in the JSON specification, but in Python work just like lists"
   ]
  },
  {
   "cell_type": "code",
   "execution_count": 9,
   "metadata": {},
   "outputs": [
    {
     "data": {
      "text/plain": [
       "list"
      ]
     },
     "execution_count": 9,
     "metadata": {},
     "output_type": "execute_result"
    }
   ],
   "source": [
    "type(data['albums']['items'])"
   ]
  },
  {
   "cell_type": "code",
   "execution_count": 10,
   "metadata": {},
   "outputs": [
    {
     "data": {
      "text/plain": [
       "{'album_type': 'album',\n",
       " 'artists': [{'external_urls': {'spotify': 'https://open.spotify.com/artist/1RyvyyTE3xzB2ZywiAwp0i'},\n",
       "   'href': 'https://api.spotify.com/v1/artists/1RyvyyTE3xzB2ZywiAwp0i',\n",
       "   'id': '1RyvyyTE3xzB2ZywiAwp0i',\n",
       "   'name': 'Future',\n",
       "   'type': 'artist',\n",
       "   'uri': 'spotify:artist:1RyvyyTE3xzB2ZywiAwp0i'}],\n",
       " 'available_markets': ['AD',\n",
       "  'AE',\n",
       "  'AR',\n",
       "  'AT',\n",
       "  'AU',\n",
       "  'BE',\n",
       "  'BG',\n",
       "  'BH',\n",
       "  'BO',\n",
       "  'BR',\n",
       "  'CA',\n",
       "  'CH',\n",
       "  'CL',\n",
       "  'CO',\n",
       "  'CR',\n",
       "  'CY',\n",
       "  'CZ',\n",
       "  'DE',\n",
       "  'DK',\n",
       "  'DO',\n",
       "  'DZ',\n",
       "  'EC',\n",
       "  'EE',\n",
       "  'EG',\n",
       "  'ES',\n",
       "  'FI',\n",
       "  'FR',\n",
       "  'GB',\n",
       "  'GR',\n",
       "  'GT',\n",
       "  'HK',\n",
       "  'HN',\n",
       "  'HU',\n",
       "  'ID',\n",
       "  'IE',\n",
       "  'IL',\n",
       "  'IN',\n",
       "  'IS',\n",
       "  'IT',\n",
       "  'JO',\n",
       "  'JP',\n",
       "  'KW',\n",
       "  'LB',\n",
       "  'LI',\n",
       "  'LT',\n",
       "  'LU',\n",
       "  'LV',\n",
       "  'MA',\n",
       "  'MC',\n",
       "  'MT',\n",
       "  'MX',\n",
       "  'MY',\n",
       "  'NI',\n",
       "  'NL',\n",
       "  'NO',\n",
       "  'NZ',\n",
       "  'OM',\n",
       "  'PA',\n",
       "  'PE',\n",
       "  'PH',\n",
       "  'PL',\n",
       "  'PS',\n",
       "  'PT',\n",
       "  'PY',\n",
       "  'QA',\n",
       "  'RO',\n",
       "  'SA',\n",
       "  'SE',\n",
       "  'SG',\n",
       "  'SK',\n",
       "  'SV',\n",
       "  'TH',\n",
       "  'TN',\n",
       "  'TR',\n",
       "  'TW',\n",
       "  'US',\n",
       "  'UY',\n",
       "  'VN',\n",
       "  'ZA'],\n",
       " 'external_urls': {'spotify': 'https://open.spotify.com/album/4bNPOFOzxGhF5jhfIK6lit'},\n",
       " 'href': 'https://api.spotify.com/v1/albums/4bNPOFOzxGhF5jhfIK6lit',\n",
       " 'id': '4bNPOFOzxGhF5jhfIK6lit',\n",
       " 'images': [{'height': 640,\n",
       "   'url': 'https://i.scdn.co/image/ab67616d0000b273935d8d5369bc55e74a39303e',\n",
       "   'width': 640},\n",
       "  {'height': 300,\n",
       "   'url': 'https://i.scdn.co/image/ab67616d00001e02935d8d5369bc55e74a39303e',\n",
       "   'width': 300},\n",
       "  {'height': 64,\n",
       "   'url': 'https://i.scdn.co/image/ab67616d00004851935d8d5369bc55e74a39303e',\n",
       "   'width': 64}],\n",
       " 'name': 'High Off Life',\n",
       " 'release_date': '2020-05-15',\n",
       " 'release_date_precision': 'day',\n",
       " 'total_tracks': 21,\n",
       " 'type': 'album',\n",
       " 'uri': 'spotify:album:4bNPOFOzxGhF5jhfIK6lit'}"
      ]
     },
     "execution_count": 10,
     "metadata": {},
     "output_type": "execute_result"
    }
   ],
   "source": [
    "data['albums']['items'][0]"
   ]
  },
  {
   "cell_type": "markdown",
   "metadata": {},
   "source": [
    "We access values as we would for nested lists or dictionaries in Python."
   ]
  },
  {
   "cell_type": "code",
   "execution_count": 11,
   "metadata": {},
   "outputs": [
    {
     "data": {
      "text/plain": [
       "dict_keys(['album_type', 'artists', 'available_markets', 'external_urls', 'href', 'id', 'images', 'name', 'release_date', 'release_date_precision', 'total_tracks', 'type', 'uri'])"
      ]
     },
     "execution_count": 11,
     "metadata": {},
     "output_type": "execute_result"
    }
   ],
   "source": [
    "data['albums']['items'][0].keys()"
   ]
  },
  {
   "cell_type": "code",
   "execution_count": 12,
   "metadata": {},
   "outputs": [
    {
     "data": {
      "text/plain": [
       "'Future'"
      ]
     },
     "execution_count": 12,
     "metadata": {},
     "output_type": "execute_result"
    }
   ],
   "source": [
    "data['albums']['items'][0]['artists'][0]['name']"
   ]
  },
  {
   "cell_type": "code",
   "execution_count": 13,
   "metadata": {},
   "outputs": [
    {
     "data": {
      "text/plain": [
       "'Kygo'"
      ]
     },
     "execution_count": 13,
     "metadata": {},
     "output_type": "execute_result"
    }
   ],
   "source": [
    "data['albums']['items'][1]['artists'][0]['name']"
   ]
  },
  {
   "cell_type": "markdown",
   "metadata": {},
   "source": [
    "Because the JSON object is a dicitonary, we can create a dataframe from it, like we have learned previously:"
   ]
  },
  {
   "cell_type": "markdown",
   "metadata": {},
   "source": [
    "## Moving into a `pandas` DataFrame"
   ]
  },
  {
   "cell_type": "code",
   "execution_count": 14,
   "metadata": {},
   "outputs": [
    {
     "data": {
      "text/html": [
       "<div>\n",
       "<style scoped>\n",
       "    .dataframe tbody tr th:only-of-type {\n",
       "        vertical-align: middle;\n",
       "    }\n",
       "\n",
       "    .dataframe tbody tr th {\n",
       "        vertical-align: top;\n",
       "    }\n",
       "\n",
       "    .dataframe thead th {\n",
       "        text-align: right;\n",
       "    }\n",
       "</style>\n",
       "<table border=\"1\" class=\"dataframe\">\n",
       "  <thead>\n",
       "    <tr style=\"text-align: right;\">\n",
       "      <th></th>\n",
       "      <th>album_type</th>\n",
       "      <th>artists</th>\n",
       "      <th>available_markets</th>\n",
       "      <th>external_urls</th>\n",
       "      <th>href</th>\n",
       "      <th>id</th>\n",
       "      <th>images</th>\n",
       "      <th>name</th>\n",
       "      <th>release_date</th>\n",
       "      <th>release_date_precision</th>\n",
       "      <th>total_tracks</th>\n",
       "      <th>type</th>\n",
       "      <th>uri</th>\n",
       "    </tr>\n",
       "  </thead>\n",
       "  <tbody>\n",
       "    <tr>\n",
       "      <th>0</th>\n",
       "      <td>album</td>\n",
       "      <td>[{'external_urls': {'spotify': 'https://open.s...</td>\n",
       "      <td>[AD, AE, AR, AT, AU, BE, BG, BH, BO, BR, CA, C...</td>\n",
       "      <td>{'spotify': 'https://open.spotify.com/album/4b...</td>\n",
       "      <td>https://api.spotify.com/v1/albums/4bNPOFOzxGhF...</td>\n",
       "      <td>4bNPOFOzxGhF5jhfIK6lit</td>\n",
       "      <td>[{'height': 640, 'url': 'https://i.scdn.co/ima...</td>\n",
       "      <td>High Off Life</td>\n",
       "      <td>2020-05-15</td>\n",
       "      <td>day</td>\n",
       "      <td>21</td>\n",
       "      <td>album</td>\n",
       "      <td>spotify:album:4bNPOFOzxGhF5jhfIK6lit</td>\n",
       "    </tr>\n",
       "    <tr>\n",
       "      <th>1</th>\n",
       "      <td>single</td>\n",
       "      <td>[{'external_urls': {'spotify': 'https://open.s...</td>\n",
       "      <td>[AD, AE, AR, AT, AU, BE, BG, BH, BO, BR, CA, C...</td>\n",
       "      <td>{'spotify': 'https://open.spotify.com/album/3L...</td>\n",
       "      <td>https://api.spotify.com/v1/albums/3LhriqAiHJYw...</td>\n",
       "      <td>3LhriqAiHJYw7rxvtlkvQc</td>\n",
       "      <td>[{'height': 640, 'url': 'https://i.scdn.co/ima...</td>\n",
       "      <td>Lose Somebody</td>\n",
       "      <td>2020-05-15</td>\n",
       "      <td>day</td>\n",
       "      <td>1</td>\n",
       "      <td>album</td>\n",
       "      <td>spotify:album:3LhriqAiHJYw7rxvtlkvQc</td>\n",
       "    </tr>\n",
       "    <tr>\n",
       "      <th>2</th>\n",
       "      <td>album</td>\n",
       "      <td>[{'external_urls': {'spotify': 'https://open.s...</td>\n",
       "      <td>[AD, AE, AR, AT, AU, BE, BG, BH, BO, BR, CA, C...</td>\n",
       "      <td>{'spotify': 'https://open.spotify.com/album/2Z...</td>\n",
       "      <td>https://api.spotify.com/v1/albums/2Zg5xZo3WwIo...</td>\n",
       "      <td>2Zg5xZo3WwIoAZys8OcUpG</td>\n",
       "      <td>[{'height': 640, 'url': 'https://i.scdn.co/ima...</td>\n",
       "      <td>SCOOB! The Album</td>\n",
       "      <td>2020-05-15</td>\n",
       "      <td>day</td>\n",
       "      <td>12</td>\n",
       "      <td>album</td>\n",
       "      <td>spotify:album:2Zg5xZo3WwIoAZys8OcUpG</td>\n",
       "    </tr>\n",
       "    <tr>\n",
       "      <th>3</th>\n",
       "      <td>single</td>\n",
       "      <td>[{'external_urls': {'spotify': 'https://open.s...</td>\n",
       "      <td>[AD, AE, AR, AT, AU, BE, BG, BH, BO, BR, CA, C...</td>\n",
       "      <td>{'spotify': 'https://open.spotify.com/album/2m...</td>\n",
       "      <td>https://api.spotify.com/v1/albums/2m5J1DUH7hJp...</td>\n",
       "      <td>2m5J1DUH7hJpPSOromIqpN</td>\n",
       "      <td>[{'height': 640, 'url': 'https://i.scdn.co/ima...</td>\n",
       "      <td>Daisies</td>\n",
       "      <td>2020-05-15</td>\n",
       "      <td>day</td>\n",
       "      <td>1</td>\n",
       "      <td>album</td>\n",
       "      <td>spotify:album:2m5J1DUH7hJpPSOromIqpN</td>\n",
       "    </tr>\n",
       "    <tr>\n",
       "      <th>4</th>\n",
       "      <td>album</td>\n",
       "      <td>[{'external_urls': {'spotify': 'https://open.s...</td>\n",
       "      <td>[AD, AE, AR, AT, AU, BE, BG, BH, BO, BR, CA, C...</td>\n",
       "      <td>{'spotify': 'https://open.spotify.com/album/39...</td>\n",
       "      <td>https://api.spotify.com/v1/albums/39xhYyNNDatQ...</td>\n",
       "      <td>39xhYyNNDatQtgKw2KdXMz</td>\n",
       "      <td>[{'height': 640, 'url': 'https://i.scdn.co/ima...</td>\n",
       "      <td>THE GOAT</td>\n",
       "      <td>2020-05-15</td>\n",
       "      <td>day</td>\n",
       "      <td>16</td>\n",
       "      <td>album</td>\n",
       "      <td>spotify:album:39xhYyNNDatQtgKw2KdXMz</td>\n",
       "    </tr>\n",
       "  </tbody>\n",
       "</table>\n",
       "</div>"
      ],
      "text/plain": [
       "  album_type                                            artists  \\\n",
       "0      album  [{'external_urls': {'spotify': 'https://open.s...   \n",
       "1     single  [{'external_urls': {'spotify': 'https://open.s...   \n",
       "2      album  [{'external_urls': {'spotify': 'https://open.s...   \n",
       "3     single  [{'external_urls': {'spotify': 'https://open.s...   \n",
       "4      album  [{'external_urls': {'spotify': 'https://open.s...   \n",
       "\n",
       "                                   available_markets  \\\n",
       "0  [AD, AE, AR, AT, AU, BE, BG, BH, BO, BR, CA, C...   \n",
       "1  [AD, AE, AR, AT, AU, BE, BG, BH, BO, BR, CA, C...   \n",
       "2  [AD, AE, AR, AT, AU, BE, BG, BH, BO, BR, CA, C...   \n",
       "3  [AD, AE, AR, AT, AU, BE, BG, BH, BO, BR, CA, C...   \n",
       "4  [AD, AE, AR, AT, AU, BE, BG, BH, BO, BR, CA, C...   \n",
       "\n",
       "                                       external_urls  \\\n",
       "0  {'spotify': 'https://open.spotify.com/album/4b...   \n",
       "1  {'spotify': 'https://open.spotify.com/album/3L...   \n",
       "2  {'spotify': 'https://open.spotify.com/album/2Z...   \n",
       "3  {'spotify': 'https://open.spotify.com/album/2m...   \n",
       "4  {'spotify': 'https://open.spotify.com/album/39...   \n",
       "\n",
       "                                                href                      id  \\\n",
       "0  https://api.spotify.com/v1/albums/4bNPOFOzxGhF...  4bNPOFOzxGhF5jhfIK6lit   \n",
       "1  https://api.spotify.com/v1/albums/3LhriqAiHJYw...  3LhriqAiHJYw7rxvtlkvQc   \n",
       "2  https://api.spotify.com/v1/albums/2Zg5xZo3WwIo...  2Zg5xZo3WwIoAZys8OcUpG   \n",
       "3  https://api.spotify.com/v1/albums/2m5J1DUH7hJp...  2m5J1DUH7hJpPSOromIqpN   \n",
       "4  https://api.spotify.com/v1/albums/39xhYyNNDatQ...  39xhYyNNDatQtgKw2KdXMz   \n",
       "\n",
       "                                              images              name  \\\n",
       "0  [{'height': 640, 'url': 'https://i.scdn.co/ima...     High Off Life   \n",
       "1  [{'height': 640, 'url': 'https://i.scdn.co/ima...     Lose Somebody   \n",
       "2  [{'height': 640, 'url': 'https://i.scdn.co/ima...  SCOOB! The Album   \n",
       "3  [{'height': 640, 'url': 'https://i.scdn.co/ima...           Daisies   \n",
       "4  [{'height': 640, 'url': 'https://i.scdn.co/ima...          THE GOAT   \n",
       "\n",
       "  release_date release_date_precision  total_tracks   type  \\\n",
       "0   2020-05-15                    day            21  album   \n",
       "1   2020-05-15                    day             1  album   \n",
       "2   2020-05-15                    day            12  album   \n",
       "3   2020-05-15                    day             1  album   \n",
       "4   2020-05-15                    day            16  album   \n",
       "\n",
       "                                    uri  \n",
       "0  spotify:album:4bNPOFOzxGhF5jhfIK6lit  \n",
       "1  spotify:album:3LhriqAiHJYw7rxvtlkvQc  \n",
       "2  spotify:album:2Zg5xZo3WwIoAZys8OcUpG  \n",
       "3  spotify:album:2m5J1DUH7hJpPSOromIqpN  \n",
       "4  spotify:album:39xhYyNNDatQtgKw2KdXMz  "
      ]
     },
     "execution_count": 14,
     "metadata": {},
     "output_type": "execute_result"
    }
   ],
   "source": [
    "df = pd.DataFrame(data['albums']['items'])\n",
    "df.head()"
   ]
  },
  {
   "cell_type": "markdown",
   "metadata": {},
   "source": [
    "What do you notice about the values in this dataframe?"
   ]
  },
  {
   "cell_type": "code",
   "execution_count": 15,
   "metadata": {},
   "outputs": [],
   "source": [
    "df['num_artists'] = [len(artist_list) for artist_list in df['artists']]"
   ]
  },
  {
   "cell_type": "code",
   "execution_count": 16,
   "metadata": {},
   "outputs": [
    {
     "data": {
      "text/html": [
       "<div>\n",
       "<style scoped>\n",
       "    .dataframe tbody tr th:only-of-type {\n",
       "        vertical-align: middle;\n",
       "    }\n",
       "\n",
       "    .dataframe tbody tr th {\n",
       "        vertical-align: top;\n",
       "    }\n",
       "\n",
       "    .dataframe thead th {\n",
       "        text-align: right;\n",
       "    }\n",
       "</style>\n",
       "<table border=\"1\" class=\"dataframe\">\n",
       "  <thead>\n",
       "    <tr style=\"text-align: right;\">\n",
       "      <th></th>\n",
       "      <th>album_type</th>\n",
       "      <th>artists</th>\n",
       "      <th>available_markets</th>\n",
       "      <th>external_urls</th>\n",
       "      <th>href</th>\n",
       "      <th>id</th>\n",
       "      <th>images</th>\n",
       "      <th>name</th>\n",
       "      <th>release_date</th>\n",
       "      <th>release_date_precision</th>\n",
       "      <th>total_tracks</th>\n",
       "      <th>type</th>\n",
       "      <th>uri</th>\n",
       "      <th>num_artists</th>\n",
       "    </tr>\n",
       "  </thead>\n",
       "  <tbody>\n",
       "    <tr>\n",
       "      <th>0</th>\n",
       "      <td>album</td>\n",
       "      <td>[{'external_urls': {'spotify': 'https://open.s...</td>\n",
       "      <td>[AD, AE, AR, AT, AU, BE, BG, BH, BO, BR, CA, C...</td>\n",
       "      <td>{'spotify': 'https://open.spotify.com/album/4b...</td>\n",
       "      <td>https://api.spotify.com/v1/albums/4bNPOFOzxGhF...</td>\n",
       "      <td>4bNPOFOzxGhF5jhfIK6lit</td>\n",
       "      <td>[{'height': 640, 'url': 'https://i.scdn.co/ima...</td>\n",
       "      <td>High Off Life</td>\n",
       "      <td>2020-05-15</td>\n",
       "      <td>day</td>\n",
       "      <td>21</td>\n",
       "      <td>album</td>\n",
       "      <td>spotify:album:4bNPOFOzxGhF5jhfIK6lit</td>\n",
       "      <td>1</td>\n",
       "    </tr>\n",
       "    <tr>\n",
       "      <th>1</th>\n",
       "      <td>single</td>\n",
       "      <td>[{'external_urls': {'spotify': 'https://open.s...</td>\n",
       "      <td>[AD, AE, AR, AT, AU, BE, BG, BH, BO, BR, CA, C...</td>\n",
       "      <td>{'spotify': 'https://open.spotify.com/album/3L...</td>\n",
       "      <td>https://api.spotify.com/v1/albums/3LhriqAiHJYw...</td>\n",
       "      <td>3LhriqAiHJYw7rxvtlkvQc</td>\n",
       "      <td>[{'height': 640, 'url': 'https://i.scdn.co/ima...</td>\n",
       "      <td>Lose Somebody</td>\n",
       "      <td>2020-05-15</td>\n",
       "      <td>day</td>\n",
       "      <td>1</td>\n",
       "      <td>album</td>\n",
       "      <td>spotify:album:3LhriqAiHJYw7rxvtlkvQc</td>\n",
       "      <td>2</td>\n",
       "    </tr>\n",
       "    <tr>\n",
       "      <th>2</th>\n",
       "      <td>album</td>\n",
       "      <td>[{'external_urls': {'spotify': 'https://open.s...</td>\n",
       "      <td>[AD, AE, AR, AT, AU, BE, BG, BH, BO, BR, CA, C...</td>\n",
       "      <td>{'spotify': 'https://open.spotify.com/album/2Z...</td>\n",
       "      <td>https://api.spotify.com/v1/albums/2Zg5xZo3WwIo...</td>\n",
       "      <td>2Zg5xZo3WwIoAZys8OcUpG</td>\n",
       "      <td>[{'height': 640, 'url': 'https://i.scdn.co/ima...</td>\n",
       "      <td>SCOOB! The Album</td>\n",
       "      <td>2020-05-15</td>\n",
       "      <td>day</td>\n",
       "      <td>12</td>\n",
       "      <td>album</td>\n",
       "      <td>spotify:album:2Zg5xZo3WwIoAZys8OcUpG</td>\n",
       "      <td>1</td>\n",
       "    </tr>\n",
       "    <tr>\n",
       "      <th>3</th>\n",
       "      <td>single</td>\n",
       "      <td>[{'external_urls': {'spotify': 'https://open.s...</td>\n",
       "      <td>[AD, AE, AR, AT, AU, BE, BG, BH, BO, BR, CA, C...</td>\n",
       "      <td>{'spotify': 'https://open.spotify.com/album/2m...</td>\n",
       "      <td>https://api.spotify.com/v1/albums/2m5J1DUH7hJp...</td>\n",
       "      <td>2m5J1DUH7hJpPSOromIqpN</td>\n",
       "      <td>[{'height': 640, 'url': 'https://i.scdn.co/ima...</td>\n",
       "      <td>Daisies</td>\n",
       "      <td>2020-05-15</td>\n",
       "      <td>day</td>\n",
       "      <td>1</td>\n",
       "      <td>album</td>\n",
       "      <td>spotify:album:2m5J1DUH7hJpPSOromIqpN</td>\n",
       "      <td>1</td>\n",
       "    </tr>\n",
       "    <tr>\n",
       "      <th>4</th>\n",
       "      <td>album</td>\n",
       "      <td>[{'external_urls': {'spotify': 'https://open.s...</td>\n",
       "      <td>[AD, AE, AR, AT, AU, BE, BG, BH, BO, BR, CA, C...</td>\n",
       "      <td>{'spotify': 'https://open.spotify.com/album/39...</td>\n",
       "      <td>https://api.spotify.com/v1/albums/39xhYyNNDatQ...</td>\n",
       "      <td>39xhYyNNDatQtgKw2KdXMz</td>\n",
       "      <td>[{'height': 640, 'url': 'https://i.scdn.co/ima...</td>\n",
       "      <td>THE GOAT</td>\n",
       "      <td>2020-05-15</td>\n",
       "      <td>day</td>\n",
       "      <td>16</td>\n",
       "      <td>album</td>\n",
       "      <td>spotify:album:39xhYyNNDatQtgKw2KdXMz</td>\n",
       "      <td>1</td>\n",
       "    </tr>\n",
       "  </tbody>\n",
       "</table>\n",
       "</div>"
      ],
      "text/plain": [
       "  album_type                                            artists  \\\n",
       "0      album  [{'external_urls': {'spotify': 'https://open.s...   \n",
       "1     single  [{'external_urls': {'spotify': 'https://open.s...   \n",
       "2      album  [{'external_urls': {'spotify': 'https://open.s...   \n",
       "3     single  [{'external_urls': {'spotify': 'https://open.s...   \n",
       "4      album  [{'external_urls': {'spotify': 'https://open.s...   \n",
       "\n",
       "                                   available_markets  \\\n",
       "0  [AD, AE, AR, AT, AU, BE, BG, BH, BO, BR, CA, C...   \n",
       "1  [AD, AE, AR, AT, AU, BE, BG, BH, BO, BR, CA, C...   \n",
       "2  [AD, AE, AR, AT, AU, BE, BG, BH, BO, BR, CA, C...   \n",
       "3  [AD, AE, AR, AT, AU, BE, BG, BH, BO, BR, CA, C...   \n",
       "4  [AD, AE, AR, AT, AU, BE, BG, BH, BO, BR, CA, C...   \n",
       "\n",
       "                                       external_urls  \\\n",
       "0  {'spotify': 'https://open.spotify.com/album/4b...   \n",
       "1  {'spotify': 'https://open.spotify.com/album/3L...   \n",
       "2  {'spotify': 'https://open.spotify.com/album/2Z...   \n",
       "3  {'spotify': 'https://open.spotify.com/album/2m...   \n",
       "4  {'spotify': 'https://open.spotify.com/album/39...   \n",
       "\n",
       "                                                href                      id  \\\n",
       "0  https://api.spotify.com/v1/albums/4bNPOFOzxGhF...  4bNPOFOzxGhF5jhfIK6lit   \n",
       "1  https://api.spotify.com/v1/albums/3LhriqAiHJYw...  3LhriqAiHJYw7rxvtlkvQc   \n",
       "2  https://api.spotify.com/v1/albums/2Zg5xZo3WwIo...  2Zg5xZo3WwIoAZys8OcUpG   \n",
       "3  https://api.spotify.com/v1/albums/2m5J1DUH7hJp...  2m5J1DUH7hJpPSOromIqpN   \n",
       "4  https://api.spotify.com/v1/albums/39xhYyNNDatQ...  39xhYyNNDatQtgKw2KdXMz   \n",
       "\n",
       "                                              images              name  \\\n",
       "0  [{'height': 640, 'url': 'https://i.scdn.co/ima...     High Off Life   \n",
       "1  [{'height': 640, 'url': 'https://i.scdn.co/ima...     Lose Somebody   \n",
       "2  [{'height': 640, 'url': 'https://i.scdn.co/ima...  SCOOB! The Album   \n",
       "3  [{'height': 640, 'url': 'https://i.scdn.co/ima...           Daisies   \n",
       "4  [{'height': 640, 'url': 'https://i.scdn.co/ima...          THE GOAT   \n",
       "\n",
       "  release_date release_date_precision  total_tracks   type  \\\n",
       "0   2020-05-15                    day            21  album   \n",
       "1   2020-05-15                    day             1  album   \n",
       "2   2020-05-15                    day            12  album   \n",
       "3   2020-05-15                    day             1  album   \n",
       "4   2020-05-15                    day            16  album   \n",
       "\n",
       "                                    uri  num_artists  \n",
       "0  spotify:album:4bNPOFOzxGhF5jhfIK6lit            1  \n",
       "1  spotify:album:3LhriqAiHJYw7rxvtlkvQc            2  \n",
       "2  spotify:album:2Zg5xZo3WwIoAZys8OcUpG            1  \n",
       "3  spotify:album:2m5J1DUH7hJpPSOromIqpN            1  \n",
       "4  spotify:album:39xhYyNNDatQtgKw2KdXMz            1  "
      ]
     },
     "execution_count": 16,
     "metadata": {},
     "output_type": "execute_result"
    }
   ],
   "source": [
    "df.head()"
   ]
  },
  {
   "cell_type": "code",
   "execution_count": 17,
   "metadata": {},
   "outputs": [],
   "source": [
    "df['artist_name1'] = [val[0]['name'] for val in df['artists']]"
   ]
  },
  {
   "cell_type": "code",
   "execution_count": 18,
   "metadata": {},
   "outputs": [
    {
     "data": {
      "text/html": [
       "<div>\n",
       "<style scoped>\n",
       "    .dataframe tbody tr th:only-of-type {\n",
       "        vertical-align: middle;\n",
       "    }\n",
       "\n",
       "    .dataframe tbody tr th {\n",
       "        vertical-align: top;\n",
       "    }\n",
       "\n",
       "    .dataframe thead th {\n",
       "        text-align: right;\n",
       "    }\n",
       "</style>\n",
       "<table border=\"1\" class=\"dataframe\">\n",
       "  <thead>\n",
       "    <tr style=\"text-align: right;\">\n",
       "      <th></th>\n",
       "      <th>album_type</th>\n",
       "      <th>artists</th>\n",
       "      <th>available_markets</th>\n",
       "      <th>external_urls</th>\n",
       "      <th>href</th>\n",
       "      <th>id</th>\n",
       "      <th>images</th>\n",
       "      <th>name</th>\n",
       "      <th>release_date</th>\n",
       "      <th>release_date_precision</th>\n",
       "      <th>total_tracks</th>\n",
       "      <th>type</th>\n",
       "      <th>uri</th>\n",
       "      <th>num_artists</th>\n",
       "      <th>artist_name1</th>\n",
       "    </tr>\n",
       "  </thead>\n",
       "  <tbody>\n",
       "    <tr>\n",
       "      <th>0</th>\n",
       "      <td>album</td>\n",
       "      <td>[{'external_urls': {'spotify': 'https://open.s...</td>\n",
       "      <td>[AD, AE, AR, AT, AU, BE, BG, BH, BO, BR, CA, C...</td>\n",
       "      <td>{'spotify': 'https://open.spotify.com/album/4b...</td>\n",
       "      <td>https://api.spotify.com/v1/albums/4bNPOFOzxGhF...</td>\n",
       "      <td>4bNPOFOzxGhF5jhfIK6lit</td>\n",
       "      <td>[{'height': 640, 'url': 'https://i.scdn.co/ima...</td>\n",
       "      <td>High Off Life</td>\n",
       "      <td>2020-05-15</td>\n",
       "      <td>day</td>\n",
       "      <td>21</td>\n",
       "      <td>album</td>\n",
       "      <td>spotify:album:4bNPOFOzxGhF5jhfIK6lit</td>\n",
       "      <td>1</td>\n",
       "      <td>Future</td>\n",
       "    </tr>\n",
       "    <tr>\n",
       "      <th>1</th>\n",
       "      <td>single</td>\n",
       "      <td>[{'external_urls': {'spotify': 'https://open.s...</td>\n",
       "      <td>[AD, AE, AR, AT, AU, BE, BG, BH, BO, BR, CA, C...</td>\n",
       "      <td>{'spotify': 'https://open.spotify.com/album/3L...</td>\n",
       "      <td>https://api.spotify.com/v1/albums/3LhriqAiHJYw...</td>\n",
       "      <td>3LhriqAiHJYw7rxvtlkvQc</td>\n",
       "      <td>[{'height': 640, 'url': 'https://i.scdn.co/ima...</td>\n",
       "      <td>Lose Somebody</td>\n",
       "      <td>2020-05-15</td>\n",
       "      <td>day</td>\n",
       "      <td>1</td>\n",
       "      <td>album</td>\n",
       "      <td>spotify:album:3LhriqAiHJYw7rxvtlkvQc</td>\n",
       "      <td>2</td>\n",
       "      <td>Kygo</td>\n",
       "    </tr>\n",
       "    <tr>\n",
       "      <th>2</th>\n",
       "      <td>album</td>\n",
       "      <td>[{'external_urls': {'spotify': 'https://open.s...</td>\n",
       "      <td>[AD, AE, AR, AT, AU, BE, BG, BH, BO, BR, CA, C...</td>\n",
       "      <td>{'spotify': 'https://open.spotify.com/album/2Z...</td>\n",
       "      <td>https://api.spotify.com/v1/albums/2Zg5xZo3WwIo...</td>\n",
       "      <td>2Zg5xZo3WwIoAZys8OcUpG</td>\n",
       "      <td>[{'height': 640, 'url': 'https://i.scdn.co/ima...</td>\n",
       "      <td>SCOOB! The Album</td>\n",
       "      <td>2020-05-15</td>\n",
       "      <td>day</td>\n",
       "      <td>12</td>\n",
       "      <td>album</td>\n",
       "      <td>spotify:album:2Zg5xZo3WwIoAZys8OcUpG</td>\n",
       "      <td>1</td>\n",
       "      <td>Various Artists</td>\n",
       "    </tr>\n",
       "    <tr>\n",
       "      <th>3</th>\n",
       "      <td>single</td>\n",
       "      <td>[{'external_urls': {'spotify': 'https://open.s...</td>\n",
       "      <td>[AD, AE, AR, AT, AU, BE, BG, BH, BO, BR, CA, C...</td>\n",
       "      <td>{'spotify': 'https://open.spotify.com/album/2m...</td>\n",
       "      <td>https://api.spotify.com/v1/albums/2m5J1DUH7hJp...</td>\n",
       "      <td>2m5J1DUH7hJpPSOromIqpN</td>\n",
       "      <td>[{'height': 640, 'url': 'https://i.scdn.co/ima...</td>\n",
       "      <td>Daisies</td>\n",
       "      <td>2020-05-15</td>\n",
       "      <td>day</td>\n",
       "      <td>1</td>\n",
       "      <td>album</td>\n",
       "      <td>spotify:album:2m5J1DUH7hJpPSOromIqpN</td>\n",
       "      <td>1</td>\n",
       "      <td>Katy Perry</td>\n",
       "    </tr>\n",
       "    <tr>\n",
       "      <th>4</th>\n",
       "      <td>album</td>\n",
       "      <td>[{'external_urls': {'spotify': 'https://open.s...</td>\n",
       "      <td>[AD, AE, AR, AT, AU, BE, BG, BH, BO, BR, CA, C...</td>\n",
       "      <td>{'spotify': 'https://open.spotify.com/album/39...</td>\n",
       "      <td>https://api.spotify.com/v1/albums/39xhYyNNDatQ...</td>\n",
       "      <td>39xhYyNNDatQtgKw2KdXMz</td>\n",
       "      <td>[{'height': 640, 'url': 'https://i.scdn.co/ima...</td>\n",
       "      <td>THE GOAT</td>\n",
       "      <td>2020-05-15</td>\n",
       "      <td>day</td>\n",
       "      <td>16</td>\n",
       "      <td>album</td>\n",
       "      <td>spotify:album:39xhYyNNDatQtgKw2KdXMz</td>\n",
       "      <td>1</td>\n",
       "      <td>Polo G</td>\n",
       "    </tr>\n",
       "  </tbody>\n",
       "</table>\n",
       "</div>"
      ],
      "text/plain": [
       "  album_type                                            artists  \\\n",
       "0      album  [{'external_urls': {'spotify': 'https://open.s...   \n",
       "1     single  [{'external_urls': {'spotify': 'https://open.s...   \n",
       "2      album  [{'external_urls': {'spotify': 'https://open.s...   \n",
       "3     single  [{'external_urls': {'spotify': 'https://open.s...   \n",
       "4      album  [{'external_urls': {'spotify': 'https://open.s...   \n",
       "\n",
       "                                   available_markets  \\\n",
       "0  [AD, AE, AR, AT, AU, BE, BG, BH, BO, BR, CA, C...   \n",
       "1  [AD, AE, AR, AT, AU, BE, BG, BH, BO, BR, CA, C...   \n",
       "2  [AD, AE, AR, AT, AU, BE, BG, BH, BO, BR, CA, C...   \n",
       "3  [AD, AE, AR, AT, AU, BE, BG, BH, BO, BR, CA, C...   \n",
       "4  [AD, AE, AR, AT, AU, BE, BG, BH, BO, BR, CA, C...   \n",
       "\n",
       "                                       external_urls  \\\n",
       "0  {'spotify': 'https://open.spotify.com/album/4b...   \n",
       "1  {'spotify': 'https://open.spotify.com/album/3L...   \n",
       "2  {'spotify': 'https://open.spotify.com/album/2Z...   \n",
       "3  {'spotify': 'https://open.spotify.com/album/2m...   \n",
       "4  {'spotify': 'https://open.spotify.com/album/39...   \n",
       "\n",
       "                                                href                      id  \\\n",
       "0  https://api.spotify.com/v1/albums/4bNPOFOzxGhF...  4bNPOFOzxGhF5jhfIK6lit   \n",
       "1  https://api.spotify.com/v1/albums/3LhriqAiHJYw...  3LhriqAiHJYw7rxvtlkvQc   \n",
       "2  https://api.spotify.com/v1/albums/2Zg5xZo3WwIo...  2Zg5xZo3WwIoAZys8OcUpG   \n",
       "3  https://api.spotify.com/v1/albums/2m5J1DUH7hJp...  2m5J1DUH7hJpPSOromIqpN   \n",
       "4  https://api.spotify.com/v1/albums/39xhYyNNDatQ...  39xhYyNNDatQtgKw2KdXMz   \n",
       "\n",
       "                                              images              name  \\\n",
       "0  [{'height': 640, 'url': 'https://i.scdn.co/ima...     High Off Life   \n",
       "1  [{'height': 640, 'url': 'https://i.scdn.co/ima...     Lose Somebody   \n",
       "2  [{'height': 640, 'url': 'https://i.scdn.co/ima...  SCOOB! The Album   \n",
       "3  [{'height': 640, 'url': 'https://i.scdn.co/ima...           Daisies   \n",
       "4  [{'height': 640, 'url': 'https://i.scdn.co/ima...          THE GOAT   \n",
       "\n",
       "  release_date release_date_precision  total_tracks   type  \\\n",
       "0   2020-05-15                    day            21  album   \n",
       "1   2020-05-15                    day             1  album   \n",
       "2   2020-05-15                    day            12  album   \n",
       "3   2020-05-15                    day             1  album   \n",
       "4   2020-05-15                    day            16  album   \n",
       "\n",
       "                                    uri  num_artists     artist_name1  \n",
       "0  spotify:album:4bNPOFOzxGhF5jhfIK6lit            1           Future  \n",
       "1  spotify:album:3LhriqAiHJYw7rxvtlkvQc            2             Kygo  \n",
       "2  spotify:album:2Zg5xZo3WwIoAZys8OcUpG            1  Various Artists  \n",
       "3  spotify:album:2m5J1DUH7hJpPSOromIqpN            1       Katy Perry  \n",
       "4  spotify:album:39xhYyNNDatQtgKw2KdXMz            1           Polo G  "
      ]
     },
     "execution_count": 18,
     "metadata": {},
     "output_type": "execute_result"
    }
   ],
   "source": [
    "df.head()"
   ]
  },
  {
   "cell_type": "markdown",
   "metadata": {},
   "source": [
    "# APIs\n",
    "\n",
    "The term **Application Program Interfaces**, or APIs, is exceedingly general. It applies to any interaction between applications or between an application and a user. One might speak of the \"matplotlib API\" to describe proper plotting syntax but also of APIs that govern the interaction between various steps of a data pipeline: between a database server and a remote client, between a local machine and a cloud storage bucket, etc.\n",
    "\n",
    "APIs are commonly used to retrieve data from remote websites. Sites like Reddit, Twitter, and Facebook all offer certain data through their APIs. \n",
    "\n",
    "To use an API, you make a request to a remote web server, and retrieve the data you need.\n",
    "\n",
    "We'll use the `requests` library to access web locations."
   ]
  },
  {
   "cell_type": "markdown",
   "metadata": {},
   "source": [
    "![](images/logo.png)"
   ]
  },
  {
   "cell_type": "markdown",
   "metadata": {},
   "source": [
    "Below is how you would install and import the requests library before making any requests. \n",
    "```python\n",
    "# Uncomment and install requests if you dont have it already\n",
    "# conda install -c anaconda requests\n",
    "\n",
    "# Import requests to working environment\n",
    "import requests\n",
    "```"
   ]
  },
  {
   "cell_type": "markdown",
   "metadata": {},
   "source": [
    "## The `.get()` Method\n",
    "\n",
    "Now that we have `requests` library ready in our working environment, we can start making some requests using the `.get()` method as shown below.\n",
    "\n",
    "We can use a GET request to retrieve information from the OpenNotify API."
   ]
  },
  {
   "cell_type": "code",
   "execution_count": 19,
   "metadata": {},
   "outputs": [],
   "source": [
    "import requests \n",
    "\n",
    "# Make a get request to get the latest position of the\n",
    "# International Space Station (ISS) from the opennotify api.\n",
    "\n",
    "url = 'http://api.open-notify.org/iss-now.json'\n",
    "iss_response = requests.get(url)"
   ]
  },
  {
   "cell_type": "markdown",
   "metadata": {},
   "source": [
    "This creates a `Response` object containing the response that we received"
   ]
  },
  {
   "cell_type": "code",
   "execution_count": 20,
   "metadata": {},
   "outputs": [
    {
     "data": {
      "text/plain": [
       "requests.models.Response"
      ]
     },
     "execution_count": 20,
     "metadata": {},
     "output_type": "execute_result"
    }
   ],
   "source": [
    "type(iss_response)"
   ]
  },
  {
   "cell_type": "markdown",
   "metadata": {},
   "source": [
    "The `Response` object contains a bunch of information about the response we got from the server. For example, it includes the status code, which can be helpful for diagnosing request issues. 200 means OK - we'll discuss others later."
   ]
  },
  {
   "cell_type": "markdown",
   "metadata": {},
   "source": [
    "> 404 website not found  \n",
    "403 website forbidden to you   \n",
    "500 server side errors   \n",
    "200 is OKAY!"
   ]
  },
  {
   "cell_type": "code",
   "execution_count": 21,
   "metadata": {},
   "outputs": [
    {
     "data": {
      "text/plain": [
       "200"
      ]
     },
     "execution_count": 21,
     "metadata": {},
     "output_type": "execute_result"
    }
   ],
   "source": [
    "iss_response.status_code"
   ]
  },
  {
   "cell_type": "markdown",
   "metadata": {},
   "source": [
    "The `Response` object also contains the data received from our request in the `content` attribute. "
   ]
  },
  {
   "cell_type": "code",
   "execution_count": 22,
   "metadata": {},
   "outputs": [
    {
     "data": {
      "text/plain": [
       "b'{\"message\": \"success\", \"iss_position\": {\"longitude\": \"-10.6183\", \"latitude\": \"16.0202\"}, \"timestamp\": 1612983433}'"
      ]
     },
     "execution_count": 22,
     "metadata": {},
     "output_type": "execute_result"
    }
   ],
   "source": [
    "iss_response.content"
   ]
  },
  {
   "cell_type": "markdown",
   "metadata": {},
   "source": [
    "> timestamp is the Unix time  \n",
    "Negative longitude is West (off of Prime Meridian)  \n",
    "Positive Latitude is North (off of Equator)"
   ]
  },
  {
   "cell_type": "markdown",
   "metadata": {},
   "source": [
    "OpenNotify has several API **endpoints**. An endpoint is a server route that is used to retrieve different data from the API. For example, the `/comments` endpoint on the Reddit API might retrieve information about comments, whereas the `/users` endpoint might retrieve data about users. To access them, you would add the endpoint to the base url of the API."
   ]
  },
  {
   "cell_type": "code",
   "execution_count": 23,
   "metadata": {},
   "outputs": [
    {
     "name": "stdout",
     "output_type": "stream",
     "text": [
      "200\n"
     ]
    }
   ],
   "source": [
    "# Let's check out who is in space right now!\n",
    "\n",
    "url = 'http://api.open-notify.org/astros.json'\n",
    "astro_response = requests.get(url)\n",
    "print(astro_response.status_code)"
   ]
  },
  {
   "cell_type": "code",
   "execution_count": 24,
   "metadata": {},
   "outputs": [
    {
     "data": {
      "text/plain": [
       "b'{\"message\": \"success\", \"number\": 7, \"people\": [{\"craft\": \"ISS\", \"name\": \"Sergey Ryzhikov\"}, {\"craft\": \"ISS\", \"name\": \"Kate Rubins\"}, {\"craft\": \"ISS\", \"name\": \"Sergey Kud-Sverchkov\"}, {\"craft\": \"ISS\", \"name\": \"Mike Hopkins\"}, {\"craft\": \"ISS\", \"name\": \"Victor Glover\"}, {\"craft\": \"ISS\", \"name\": \"Shannon Walker\"}, {\"craft\": \"ISS\", \"name\": \"Soichi Noguchi\"}]}'"
      ]
     },
     "execution_count": 24,
     "metadata": {},
     "output_type": "execute_result"
    }
   ],
   "source": [
    "astro_response.content"
   ]
  },
  {
   "cell_type": "markdown",
   "metadata": {},
   "source": [
    "See the `b'` at the beginning? The `content` is stored in a \"byte literal\" format, not a Python dictionary."
   ]
  },
  {
   "cell_type": "code",
   "execution_count": 27,
   "metadata": {},
   "outputs": [
    {
     "data": {
      "text/plain": [
       "bytes"
      ]
     },
     "execution_count": 27,
     "metadata": {},
     "output_type": "execute_result"
    }
   ],
   "source": [
    "type(astro_response.content)"
   ]
  },
  {
   "cell_type": "markdown",
   "metadata": {},
   "source": [
    "We can look at the `test` attribute instead, but this still gives us a string, not a dictionary."
   ]
  },
  {
   "cell_type": "code",
   "execution_count": 28,
   "metadata": {},
   "outputs": [
    {
     "name": "stdout",
     "output_type": "stream",
     "text": [
      "{\"message\": \"success\", \"number\": 7, \"people\": [{\"craft\": \"ISS\", \"name\": \"Sergey Ryzhikov\"}, {\"craft\": \"ISS\", \"name\": \"Kate Rubins\"}, {\"craft\": \"ISS\", \"name\": \"Sergey Kud-Sverchkov\"}, {\"craft\": \"ISS\", \"name\": \"Mike Hopkins\"}, {\"craft\": \"ISS\", \"name\": \"Victor Glover\"}, {\"craft\": \"ISS\", \"name\": \"Shannon Walker\"}, {\"craft\": \"ISS\", \"name\": \"Soichi Noguchi\"}]}\n",
      "<class 'str'>\n"
     ]
    }
   ],
   "source": [
    "print(astro_response.text)\n",
    "print(type(astro_response.text))"
   ]
  },
  {
   "cell_type": "markdown",
   "metadata": {},
   "source": [
    "To address this, we will use the `.json()` method to get a dictionary we can work with."
   ]
  },
  {
   "cell_type": "code",
   "execution_count": 29,
   "metadata": {},
   "outputs": [
    {
     "data": {
      "text/plain": [
       "dict_keys(['message', 'number', 'people'])"
      ]
     },
     "execution_count": 29,
     "metadata": {},
     "output_type": "execute_result"
    }
   ],
   "source": [
    "astro_data = astro_response.json()\n",
    "astro_data.keys()"
   ]
  },
  {
   "cell_type": "markdown",
   "metadata": {},
   "source": [
    "**Activity**: Create a list `astro_names` containing the astronauts' names.\n",
    "\n",
    "<details>\n",
    "    <summary>\n",
    "        Answer here\n",
    "    </summary>\n",
    "    \n",
    "    astro_people = astro_data['people']\n",
    "    \n",
    "    astro_names = [person['name'] for person in astro_people]\n",
    "\n",
    "</details>"
   ]
  },
  {
   "cell_type": "code",
   "execution_count": 30,
   "metadata": {
    "scrolled": true
   },
   "outputs": [
    {
     "data": {
      "text/plain": [
       "{'message': 'success',\n",
       " 'number': 7,\n",
       " 'people': [{'craft': 'ISS', 'name': 'Sergey Ryzhikov'},\n",
       "  {'craft': 'ISS', 'name': 'Kate Rubins'},\n",
       "  {'craft': 'ISS', 'name': 'Sergey Kud-Sverchkov'},\n",
       "  {'craft': 'ISS', 'name': 'Mike Hopkins'},\n",
       "  {'craft': 'ISS', 'name': 'Victor Glover'},\n",
       "  {'craft': 'ISS', 'name': 'Shannon Walker'},\n",
       "  {'craft': 'ISS', 'name': 'Soichi Noguchi'}]}"
      ]
     },
     "execution_count": 30,
     "metadata": {},
     "output_type": "execute_result"
    }
   ],
   "source": [
    "astro_data"
   ]
  },
  {
   "cell_type": "code",
   "execution_count": 35,
   "metadata": {},
   "outputs": [],
   "source": [
    "astro_names = [person['name'] for person in astro_data['people']]"
   ]
  },
  {
   "cell_type": "code",
   "execution_count": 36,
   "metadata": {},
   "outputs": [
    {
     "data": {
      "text/plain": [
       "['Sergey Ryzhikov',\n",
       " 'Kate Rubins',\n",
       " 'Sergey Kud-Sverchkov',\n",
       " 'Mike Hopkins',\n",
       " 'Victor Glover',\n",
       " 'Shannon Walker',\n",
       " 'Soichi Noguchi']"
      ]
     },
     "execution_count": 36,
     "metadata": {},
     "output_type": "execute_result"
    }
   ],
   "source": [
    "astro_names"
   ]
  },
  {
   "cell_type": "code",
   "execution_count": 37,
   "metadata": {},
   "outputs": [
    {
     "name": "stdout",
     "output_type": "stream",
     "text": [
      "There are 7 people in the space station right now!\n",
      "Their names are Sergey Ryzhikov, Kate Rubins, Sergey Kud-Sverchkov, Mike Hopkins, Victor Glover, Shannon Walker, Soichi Noguchi.\n"
     ]
    }
   ],
   "source": [
    "print(f\"There are {astro_data['number']} people in the space station right now!\")\n",
    "print(f\"Their names are {', '.join(astro_names)}.\")"
   ]
  },
  {
   "cell_type": "markdown",
   "metadata": {},
   "source": [
    "GET is by far the most used HTTP method. We can use GET request to retrieve data from any destination. \n"
   ]
  },
  {
   "cell_type": "markdown",
   "metadata": {},
   "source": [
    "## Status Codes\n",
    "The request we make may not always be successful. The best way is to check the status code which gets returned with the response. Here is how you would do this. "
   ]
  },
  {
   "cell_type": "code",
   "execution_count": 39,
   "metadata": {},
   "outputs": [
    {
     "data": {
      "text/plain": [
       "200"
      ]
     },
     "execution_count": 39,
     "metadata": {},
     "output_type": "execute_result"
    }
   ],
   "source": [
    "iss_response.status_code"
   ]
  },
  {
   "cell_type": "markdown",
   "metadata": {},
   "source": [
    "[Status Code Info](https://developer.mozilla.org/en-US/docs/Web/HTTP/Status) <br/>\n",
    "[Status Code Info with Dogs](https://httpstatusdogs.com/) <br/>\n",
    "[Wikipedia on Status Codes](https://en.wikipedia.org/wiki/List_of_HTTP_status_codes)\n",
    "\n",
    "So this is a good check to see if our request was successful. Depending on the status of the web server, the access rights of the clients and availibility of requested information. A web server may return a number of status codes within the response. Wikipedia has an exhaustive details on all these codes."
   ]
  },
  {
   "cell_type": "markdown",
   "metadata": {},
   "source": [
    "### Common status codes\n",
    "\n",
    "* 200 — everything went okay, and the result has been returned (if any)\n",
    "* 301 — the server is redirecting you to a different endpoint. This can happen when a company switches domain names, or an endpoint name is changed.\n",
    "* 401 — the server thinks you’re not authenticated. This happens when you don’t send the right credentials to access an API.\n",
    "* 400 — the server thinks you made a bad request. This can happen when you don’t send along the right data, among other things.\n",
    "* 403 — the resource you’re trying to access is forbidden — you don’t have the right permissions to see it.\n",
    "* 404 — the resource you tried to access wasn’t found on the server."
   ]
  },
  {
   "cell_type": "markdown",
   "metadata": {},
   "source": [
    "### Hitting the right endpoint\n",
    "\n",
    "We’ll now make a GET request to http://api.open-notify.org/iss-pass.json."
   ]
  },
  {
   "cell_type": "code",
   "execution_count": 40,
   "metadata": {},
   "outputs": [
    {
     "data": {
      "text/plain": [
       "400"
      ]
     },
     "execution_count": 40,
     "metadata": {},
     "output_type": "execute_result"
    }
   ],
   "source": [
    "iss_pass_url = 'http://api.open-notify.org/iss-pass.json'\n",
    "response = requests.get(iss_pass_url)\n",
    "response.status_code"
   ]
  },
  {
   "cell_type": "markdown",
   "metadata": {},
   "source": [
    "We can look at `content` to see if the server told us why there was a problem."
   ]
  },
  {
   "cell_type": "code",
   "execution_count": 41,
   "metadata": {},
   "outputs": [
    {
     "data": {
      "text/plain": [
       "b'{\\n  \"message\": \"failure\", \\n  \"reason\": \"Latitude must be specified\"\\n}\\n'"
      ]
     },
     "execution_count": 41,
     "metadata": {},
     "output_type": "execute_result"
    }
   ],
   "source": [
    "response.content"
   ]
  },
  {
   "cell_type": "markdown",
   "metadata": {},
   "source": [
    "## Query Parameters\n",
    "\n",
    "If you look at the [documentation](http://open-notify.org/Open-Notify-API/ISS-Pass-Times/), we see that the ISS Pass endpoint requires two parameters.\n",
    "\n",
    "We can do this by adding an optional keyword argument, params, to our request. In this case, there are two parameters we need to pass:\n",
    "\n",
    "* lat — The latitude of the location we want.\n",
    "* lon — The longitude of the location we want.\n",
    "\n",
    "We can make a dictionary with these parameters, and then pass them into the `requests.get()` method. We’ll make a request using the coordinates of New York City, and see what response we get.\n",
    "\n",
    "We can also add the query parameters to the url, like this: http://api.open-notify.org/iss-pass.json?lat=47.6&lon=-122.3. However, it’s almost always preferable to pass the parameters as a dictionary, because `requests` takes care of some potential issues, like properly formatting the query parameters."
   ]
  },
  {
   "cell_type": "markdown",
   "metadata": {},
   "source": [
    "We'll add parameters to the get method in the form of a dictionary with two keys, lat and long."
   ]
  },
  {
   "cell_type": "markdown",
   "metadata": {},
   "source": [
    "> Some requests require certain parameters (ie lat and long see below).   \n",
    "You can check documentation for the necessary parameters"
   ]
  },
  {
   "cell_type": "code",
   "execution_count": 42,
   "metadata": {},
   "outputs": [
    {
     "name": "stdout",
     "output_type": "stream",
     "text": [
      "{\n",
      "  \"message\": \"success\", \n",
      "  \"request\": {\n",
      "    \"altitude\": 100, \n",
      "    \"datetime\": 1612984734, \n",
      "    \"latitude\": 40.7, \n",
      "    \"longitude\": -74.0, \n",
      "    \"passes\": 5\n",
      "  }, \n",
      "  \"response\": [\n",
      "    {\n",
      "      \"duration\": 639, \n",
      "      \"risetime\": 1612988008\n",
      "    }, \n",
      "    {\n",
      "      \"duration\": 630, \n",
      "      \"risetime\": 1612993820\n",
      "    }, \n",
      "    {\n",
      "      \"duration\": 191, \n",
      "      \"risetime\": 1612999794\n",
      "    }, \n",
      "    {\n",
      "      \"duration\": 526, \n",
      "      \"risetime\": 1613048267\n",
      "    }, \n",
      "    {\n",
      "      \"duration\": 654, \n",
      "      \"risetime\": 1613053983\n",
      "    }\n",
      "  ]\n",
      "}\n",
      "\n"
     ]
    }
   ],
   "source": [
    "# Our code here\n",
    "\n",
    "response = requests.get(iss_pass_url,\n",
    "            params={'lat': 40.7, 'lon': -74}) #this is for NY\n",
    "\n",
    "# Print the content of the response (the data the server returned)\n",
    "\n",
    "print(response.text)\n",
    "\n",
    "# This gets the same data as the command aboveresponse:\n",
    "# requests.get(\"http://api.open-notify.org/iss-pass.json?lat=40.71&lon=-74\")"
   ]
  },
  {
   "cell_type": "markdown",
   "metadata": {},
   "source": [
    "# Secure APIs: Generating Access Tokens\n",
    "\n",
    "Many APIs have security measures to make sure their APIs aren't abused. Let's show you how to generate an access token so you can use such secure APIs.\n",
    "\n",
    "Point your browser over to this [yelp page](https://www.yelp.com/developers/v3/manage_app) and start creating an app in order to obtain an api access token:"
   ]
  },
  {
   "cell_type": "markdown",
   "metadata": {},
   "source": [
    "\n",
    "![](./images/yelp_app.png)"
   ]
  },
  {
   "cell_type": "markdown",
   "metadata": {},
   "source": [
    "You can either sign in to an existing Yelp account, or create a new one, if needed.\n",
    "\n",
    "On the page you see above, simply fill out some sample information such as \"Flatiron Edu API Example\" for the app name, or whatever floats your boat. Afterwards, you should be presented with an API key that you can use to make requests.\n",
    "\n",
    "With that, it's time to start making some API calls!"
   ]
  },
  {
   "cell_type": "markdown",
   "metadata": {},
   "source": [
    "## An Example Request with OAuth \n",
    "\n",
    "[OAuth](https://en.wikipedia.org/wiki/OAuth) is a common standard used by companies to provide API access. \"Auth\" refers to two processes:\n",
    "\n",
    "* Authentication: Verifying your identity\n",
    "* Authorization: Giving you access to a resource"
   ]
  },
  {
   "cell_type": "markdown",
   "metadata": {},
   "source": [
    "## Storing your API Key Securely\n",
    "\n",
    "Handling your security credentials properly will avoid accidentally exposing them to people who might use them for malicious purposes. While you probably can't get in too much trouble with Yelp, it's a good practice to develop. It becomes especially tricky and important when using public Git repositories. Here are the steps we recommend: \n",
    "\n",
    "1. Create a hidden `.secrets` folder in your repository\n",
    "2. Put your credentials in a file in the `.secrets` folder\n",
    "3. Add the `.secrets/` folder to the `.gitignore` file"
   ]
  },
  {
   "cell_type": "code",
   "execution_count": null,
   "metadata": {},
   "outputs": [],
   "source": [
    "with open('.secrets/creds.json') as f:\n",
    "    creds = json.load(f)"
   ]
  },
  {
   "cell_type": "code",
   "execution_count": null,
   "metadata": {},
   "outputs": [],
   "source": []
  },
  {
   "cell_type": "markdown",
   "metadata": {},
   "source": [
    "## Making our Request\n",
    "\n",
    "[Yelp API Documentation](https://www.yelp.com/developers/documentation/v3/get_started)\n",
    "\n",
    "Let's look at an example request and dissect it into its consituent parts:"
   ]
  },
  {
   "cell_type": "code",
   "execution_count": null,
   "metadata": {},
   "outputs": [],
   "source": [
    "url = 'https://api.yelp.com/v3/businesses/search'\n",
    "term = 'Hamburgers'\n",
    "SEARCH_LIMIT = 10\n",
    "headers = {\n",
    "    'Authorization': 'Bearer ' + creds['key']\n",
    "}\n",
    "\n",
    "url_params = {\n",
    "    'term': term,\n",
    "    'location': 'Seattle+WA',\n",
    "    'limit': SEARCH_LIMIT,\n",
    "    'offset': 0\n",
    "}\n",
    "response = requests.get(url, headers=headers, params=url_params)\n",
    "print(response.status_code)"
   ]
  },
  {
   "cell_type": "markdown",
   "metadata": {},
   "source": [
    "## Breaking Down the Request\n",
    "\n",
    "As you can see, there are three main parts to our request.  \n",
    "  \n",
    "They are:\n",
    "* The URL\n",
    "* The header\n",
    "* The parameters\n",
    "  \n",
    "The URL is found in the documentation (`https://api.yelp.com/v3`) and we are using the Business Search endpoint (`/businesses/search`).\n",
    "\n",
    "The header is required by the Yelp API for authorization. It has a strict form where 'Authorization' is the key and 'Bearer YourApiKey' is the value. We make a `header` dictionary to pass into our `.get()` method.\n",
    "\n",
    "The parameters contain information we pass into the query to get the data we want. Valid key parameters by which to structure your queries, are described in the [Yelp API Documentation](https://www.yelp.com/developers/documentation/v3/get_started). We make a `url_params` dictionary to pass into our `.get()` method, which then adds the query parameters to the URL.\n",
    "\n",
    "**Important note re: parameters**: We need to replace spaces with \"+\" - this is a common API requirement because URLs cannot contain spaces. (Note that the header itself isn't directly added into the URL itself and as such, the space between 'Bearer' and YourApiKey is fine.)"
   ]
  },
  {
   "cell_type": "markdown",
   "metadata": {},
   "source": [
    "\n",
    "## The Response\n",
    "\n",
    "As before, our response object has both a status code, as well as the data itself. With that, let's start with a little data exploration!"
   ]
  },
  {
   "cell_type": "markdown",
   "metadata": {},
   "source": [
    "**Activity**: Make a DataFrame `yelp_df` with the business data from the Yelp response.\n",
    "<details>\n",
    "    <summary>\n",
    "        Answer code\n",
    "    </summary>\n",
    "    \n",
    "    yelp_data = response.json()\n",
    "    yelp_df = pd.DataFrame(yelp_data['businesses'])\n",
    "</details>"
   ]
  },
  {
   "cell_type": "code",
   "execution_count": null,
   "metadata": {},
   "outputs": [],
   "source": [
    "## Your code here\n"
   ]
  },
  {
   "cell_type": "code",
   "execution_count": null,
   "metadata": {},
   "outputs": [],
   "source": [
    "yelp_df.head()"
   ]
  },
  {
   "cell_type": "markdown",
   "metadata": {},
   "source": [
    "**Activity**: Add columns to `yelp_df` containing the latitudes and longitudes.\n",
    "\n",
    "\n",
    "<details>\n",
    "    <summary>\n",
    "        Answer code\n",
    "    </summary>\n",
    "    \n",
    "    lat = [float(business['coordinates']['latitude']) for business in yelp_data['businesses']]\n",
    "    long = [float(business['coordinates']['longitude']) for  business in yelp_data['businesses']]\n",
    "    yelp_df['lat'] = lat\n",
    "    yelp_df['long'] = long\n",
    "</details>"
   ]
  },
  {
   "cell_type": "code",
   "execution_count": null,
   "metadata": {},
   "outputs": [],
   "source": [
    "## Your code here\n"
   ]
  },
  {
   "cell_type": "code",
   "execution_count": null,
   "metadata": {},
   "outputs": [],
   "source": [
    "yelp_df.head()"
   ]
  }
 ],
 "metadata": {
  "kernelspec": {
   "display_name": "Python 3",
   "language": "python",
   "name": "python3"
  },
  "language_info": {
   "codemirror_mode": {
    "name": "ipython",
    "version": 3
   },
   "file_extension": ".py",
   "mimetype": "text/x-python",
   "name": "python",
   "nbconvert_exporter": "python",
   "pygments_lexer": "ipython3",
   "version": "3.8.5"
  }
 },
 "nbformat": 4,
 "nbformat_minor": 4
}
