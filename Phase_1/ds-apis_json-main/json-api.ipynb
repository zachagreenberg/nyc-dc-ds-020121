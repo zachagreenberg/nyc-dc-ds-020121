{
 "cells": [
  {
   "cell_type": "markdown",
   "metadata": {},
   "source": [
    "# Using APIs and JSON Data"
   ]
  },
  {
   "cell_type": "markdown",
   "metadata": {},
   "source": [
    "![more_data](data:image/png;base64,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)"
   ]
  },
  {
   "cell_type": "markdown",
   "metadata": {},
   "source": [
    "# Objectives\n",
    "\n",
    "* Interact with JSON files using the `json` library\n",
    "* Retrieve data from APIs using the `requests` library\n",
    "* Parse API responses"
   ]
  },
  {
   "cell_type": "markdown",
   "metadata": {},
   "source": [
    "# What is JSON?\n",
    "\n",
    "JSON stands for Java Script Object Notation. \n",
    "\n",
    "JSON objects are one common way that data is transmitted over the web.  It is notable for being lightweight, which makes it [preferred](https://stackoverflow.com/questions/383692/what-is-json-and-why-would-i-use-it), generally, over XML."
   ]
  },
  {
   "cell_type": "markdown",
   "metadata": {},
   "source": [
    "## JSON Format\n",
    "\n",
    "JSON objects store data in a format similar to a nested Python dictionary. The JSON format makes it easy to store as a file, transfer between users, and use in other languages.\n",
    "\n",
    "For more information about the syntax of JSON files, check out this [link](https://www.json.org/json-en.html) to the JSON website."
   ]
  },
  {
   "cell_type": "markdown",
   "metadata": {},
   "source": [
    "## Loading the JSON file\n",
    "\n",
    "For this example, we've created a `new_releases.json` file containing data on 20 newly released music albums. We got this from the Spotify API - we'll explain what this means later. \n",
    "\n",
    "Let's begin by importing the `json` package, opening a file with python's `open()` function, and then loading that data from the JSON file into a new `data` object."
   ]
  },
  {
   "cell_type": "code",
   "execution_count": null,
   "metadata": {},
   "outputs": [],
   "source": [
    "import json\n",
    "import pandas as pd\n",
    "import requests"
   ]
  },
  {
   "cell_type": "code",
   "execution_count": null,
   "metadata": {},
   "outputs": [],
   "source": [
    "with open('data/new_releases.json') as f:\n",
    "    data = json.load(f)"
   ]
  },
  {
   "cell_type": "markdown",
   "metadata": {},
   "source": [
    "The Spotify API returned the data in the form of JSON object, which the `json` module transforms into a Python object."
   ]
  },
  {
   "cell_type": "markdown",
   "metadata": {},
   "source": [
    "## Exploring JSON Schemas  \n",
    "\n",
    "Recall that JSON files have a nested structure. The deepest levels of our object will contain individual values: numbers, booleans or strings. These in turn will be stored in the equivalents of Python lists and dictionaries, usually with many levels of nesting. "
   ]
  },
  {
   "cell_type": "markdown",
   "metadata": {},
   "source": [
    "If you try to look at a raw JSON file, you will likely have a hard time understanding the structure. To more easily make sense of it, we will proceed through each level methodically."
   ]
  },
  {
   "cell_type": "code",
   "execution_count": null,
   "metadata": {},
   "outputs": [],
   "source": [
    "## This will look messy\n",
    "print(data)"
   ]
  },
  {
   "cell_type": "markdown",
   "metadata": {},
   "source": [
    "To start exploring, let's check the type of our new `data` object and start mapping out the hierarchy."
   ]
  },
  {
   "cell_type": "code",
   "execution_count": null,
   "metadata": {},
   "outputs": [],
   "source": [
    "type(data)"
   ]
  },
  {
   "cell_type": "code",
   "execution_count": null,
   "metadata": {},
   "outputs": [],
   "source": [
    "data.keys()"
   ]
  },
  {
   "cell_type": "markdown",
   "metadata": {},
   "source": [
    "In this case, there is only a single key, 'albums', so we'll continue on down the pathway exploring and mapping out the hierarchy. Once again, let's start by checking the type of this nested data structure."
   ]
  },
  {
   "cell_type": "code",
   "execution_count": null,
   "metadata": {},
   "outputs": [],
   "source": [
    "type(data['albums'])"
   ]
  },
  {
   "cell_type": "code",
   "execution_count": null,
   "metadata": {},
   "outputs": [],
   "source": [
    "data['albums'].keys()"
   ]
  },
  {
   "cell_type": "markdown",
   "metadata": {},
   "source": [
    "At this point, things are starting to look something like this: \n",
    "\n",
    "![](images/json_diagram1.JPG)"
   ]
  },
  {
   "cell_type": "markdown",
   "metadata": {},
   "source": [
    "At this point, if we were to continue checking individual data types, we have a lot to go through. To simplify this, let's use a for loop:"
   ]
  },
  {
   "cell_type": "code",
   "execution_count": null,
   "metadata": {
    "scrolled": true
   },
   "outputs": [],
   "source": [
    "for key, value in data['albums'].items():\n",
    "    print(key, type(value))"
   ]
  },
  {
   "cell_type": "markdown",
   "metadata": {},
   "source": [
    "Adding this to our diagram we now have something like this:\n",
    "![](images/json_diagram2.JPG)\n"
   ]
  },
  {
   "cell_type": "markdown",
   "metadata": {},
   "source": [
    "Let's look at the `items` list - this contains the album information. \n",
    "\n",
    "Sidebar: lists are technically called \"arrays\" in the JSON specification, but in Python work just like lists"
   ]
  },
  {
   "cell_type": "code",
   "execution_count": null,
   "metadata": {},
   "outputs": [],
   "source": [
    "type(data['albums']['items'])"
   ]
  },
  {
   "cell_type": "code",
   "execution_count": null,
   "metadata": {},
   "outputs": [],
   "source": [
    "data['albums']['items'][0]"
   ]
  },
  {
   "cell_type": "markdown",
   "metadata": {},
   "source": [
    "We access values as we would for nested lists or dictionaries in Python."
   ]
  },
  {
   "cell_type": "code",
   "execution_count": null,
   "metadata": {},
   "outputs": [],
   "source": [
    "data['albums']['items'][0].keys()"
   ]
  },
  {
   "cell_type": "code",
   "execution_count": null,
   "metadata": {},
   "outputs": [],
   "source": [
    "data['albums']['items'][0]['artists'][0]['name']"
   ]
  },
  {
   "cell_type": "code",
   "execution_count": null,
   "metadata": {},
   "outputs": [],
   "source": [
    "data['albums']['items'][1]['artists'][0]['name']"
   ]
  },
  {
   "cell_type": "markdown",
   "metadata": {},
   "source": [
    "Because the JSON object is a dicitonary, we can create a dataframe from it, like we have learned previously:"
   ]
  },
  {
   "cell_type": "markdown",
   "metadata": {},
   "source": [
    "## Moving into a `pandas` DataFrame"
   ]
  },
  {
   "cell_type": "code",
   "execution_count": null,
   "metadata": {},
   "outputs": [],
   "source": [
    "df = pd.DataFrame(data['albums']['items'])\n",
    "df.head()"
   ]
  },
  {
   "cell_type": "markdown",
   "metadata": {},
   "source": [
    "What do you notice about the values in this dataframe?"
   ]
  },
  {
   "cell_type": "code",
   "execution_count": null,
   "metadata": {},
   "outputs": [],
   "source": [
    "df['num_artists'] = [len(artist_list) for artist_list in df['artists']]"
   ]
  },
  {
   "cell_type": "code",
   "execution_count": null,
   "metadata": {},
   "outputs": [],
   "source": [
    "df.head()"
   ]
  },
  {
   "cell_type": "code",
   "execution_count": null,
   "metadata": {},
   "outputs": [],
   "source": [
    "df['artist_name1'] = [val[0]['name'] for val in df['artists']]"
   ]
  },
  {
   "cell_type": "code",
   "execution_count": null,
   "metadata": {},
   "outputs": [],
   "source": [
    "df.head()"
   ]
  },
  {
   "cell_type": "markdown",
   "metadata": {},
   "source": [
    "# APIs\n",
    "\n",
    "The term **Application Program Interfaces**, or APIs, is exceedingly general. It applies to any interaction between applications or between an application and a user. One might speak of the \"matplotlib API\" to describe proper plotting syntax but also of APIs that govern the interaction between various steps of a data pipeline: between a database server and a remote client, between a local machine and a cloud storage bucket, etc.\n",
    "\n",
    "APIs are commonly used to retrieve data from remote websites. Sites like Reddit, Twitter, and Facebook all offer certain data through their APIs. \n",
    "\n",
    "To use an API, you make a request to a remote web server, and retrieve the data you need.\n",
    "\n",
    "We'll use the `requests` library to access web locations."
   ]
  },
  {
   "cell_type": "markdown",
   "metadata": {},
   "source": [
    "![](images/logo.png)"
   ]
  },
  {
   "cell_type": "markdown",
   "metadata": {},
   "source": [
    "Below is how you would install and import the requests library before making any requests. \n",
    "```python\n",
    "# Uncomment and install requests if you dont have it already\n",
    "# conda install -c anaconda requests\n",
    "\n",
    "# Import requests to working environment\n",
    "import requests\n",
    "```"
   ]
  },
  {
   "cell_type": "markdown",
   "metadata": {},
   "source": [
    "## The `.get()` Method\n",
    "\n",
    "Now that we have `requests` library ready in our working environment, we can start making some requests using the `.get()` method as shown below.\n",
    "\n",
    "We can use a GET request to retrieve information from the OpenNotify API."
   ]
  },
  {
   "cell_type": "code",
   "execution_count": null,
   "metadata": {},
   "outputs": [],
   "source": [
    "import requests \n",
    "\n",
    "# Make a get request to get the latest position of the\n",
    "# International Space Station (ISS) from the opennotify api.\n",
    "\n",
    "url = 'http://api.open-notify.org/iss-now.json'\n",
    "iss_response = requests.get(url)"
   ]
  },
  {
   "cell_type": "markdown",
   "metadata": {},
   "source": [
    "This creates a `Response` object containing the response that we received"
   ]
  },
  {
   "cell_type": "code",
   "execution_count": null,
   "metadata": {},
   "outputs": [],
   "source": [
    "type(iss_response)"
   ]
  },
  {
   "cell_type": "markdown",
   "metadata": {},
   "source": [
    "The `Response` object contains a bunch of information about the response we got from the server. For example, it includes the status code, which can be helpful for diagnosing request issues. 200 means OK - we'll discuss others later."
   ]
  },
  {
   "cell_type": "code",
   "execution_count": null,
   "metadata": {},
   "outputs": [],
   "source": [
    "iss_response.status_code"
   ]
  },
  {
   "cell_type": "markdown",
   "metadata": {},
   "source": [
    "The `Response` object also contains the data received from our request in the `content` attribute. "
   ]
  },
  {
   "cell_type": "code",
   "execution_count": null,
   "metadata": {},
   "outputs": [],
   "source": [
    "iss_response.content"
   ]
  },
  {
   "cell_type": "markdown",
   "metadata": {},
   "source": [
    "OpenNotify has several API **endpoints**. An endpoint is a server route that is used to retrieve different data from the API. For example, the `/comments` endpoint on the Reddit API might retrieve information about comments, whereas the `/users` endpoint might retrieve data about users. To access them, you would add the endpoint to the base url of the API."
   ]
  },
  {
   "cell_type": "code",
   "execution_count": null,
   "metadata": {},
   "outputs": [],
   "source": [
    "# Let's check out who is in space right now!\n",
    "\n",
    "url = 'http://api.open-notify.org/astros.json'\n",
    "astro_response = requests.get(url)\n",
    "print(astro_response.status_code)"
   ]
  },
  {
   "cell_type": "code",
   "execution_count": null,
   "metadata": {},
   "outputs": [],
   "source": [
    "astro_response.content"
   ]
  },
  {
   "cell_type": "markdown",
   "metadata": {},
   "source": [
    "See the `b'` at the beginning? The `content` is stored in a \"byte literal\" format, not a Python dictionary."
   ]
  },
  {
   "cell_type": "code",
   "execution_count": null,
   "metadata": {},
   "outputs": [],
   "source": [
    "type(astro_response.content)"
   ]
  },
  {
   "cell_type": "markdown",
   "metadata": {},
   "source": [
    "We can look at the `test` attribute instead, but this still gives us a string, not a dictionary."
   ]
  },
  {
   "cell_type": "code",
   "execution_count": null,
   "metadata": {},
   "outputs": [],
   "source": [
    "print(astro_response.text)\n",
    "print(type(astro_response.text))"
   ]
  },
  {
   "cell_type": "markdown",
   "metadata": {},
   "source": [
    "To address this, we will use the `.json()` method to get a dictionary we can work with."
   ]
  },
  {
   "cell_type": "code",
   "execution_count": null,
   "metadata": {},
   "outputs": [],
   "source": [
    "astro_data = astro_response.json()\n",
    "astro_data.keys()"
   ]
  },
  {
   "cell_type": "markdown",
   "metadata": {},
   "source": [
    "**Activity**: Create a list `astro_names` containing the astronauts' names.\n",
    "\n",
    "<details>\n",
    "    <summary>\n",
    "        Answer here\n",
    "    </summary>\n",
    "    \n",
    "    astro_people = astro_data['people']\n",
    "    \n",
    "    astro_names = [person['name'] for person in astro_people]\n",
    "\n",
    "</details>"
   ]
  },
  {
   "cell_type": "code",
   "execution_count": null,
   "metadata": {},
   "outputs": [],
   "source": [
    "print(f\"There are {astro_data['number']} people in the space station right now!\")\n",
    "print(f\"Their names are {', '.join(astro_names)}.\")"
   ]
  },
  {
   "cell_type": "markdown",
   "metadata": {},
   "source": [
    "GET is by far the most used HTTP method. We can use GET request to retrieve data from any destination. \n",
    "GET is by far the most used HTTP method. We can use GET request to retrieve data from any destination. "
   ]
  },
  {
   "cell_type": "markdown",
   "metadata": {},
   "source": [
    "## Status Codes\n",
    "The request we make may not always be successful. The best way is to check the status code which gets returned with the response. Here is how you would do this. "
   ]
  },
  {
   "cell_type": "code",
   "execution_count": null,
   "metadata": {},
   "outputs": [],
   "source": [
    "response.status_code"
   ]
  },
  {
   "cell_type": "markdown",
   "metadata": {},
   "source": [
    "[Status Code Info](https://developer.mozilla.org/en-US/docs/Web/HTTP/Status) <br/>\n",
    "[Status Code Info with Dogs](https://httpstatusdogs.com/) <br/>\n",
    "[Wikipedia on Status Codes](https://en.wikipedia.org/wiki/List_of_HTTP_status_codes)\n",
    "\n",
    "So this is a good check to see if our request was successful. Depending on the status of the web server, the access rights of the clients and availibility of requested information. A web server may return a number of status codes within the response. Wikipedia has an exhaustive details on all these codes."
   ]
  },
  {
   "cell_type": "markdown",
   "metadata": {},
   "source": [
    "### Common status codes\n",
    "\n",
    "* 200 — everything went okay, and the result has been returned (if any)\n",
    "* 301 — the server is redirecting you to a different endpoint. This can happen when a company switches domain names, or an endpoint name is changed.\n",
    "* 401 — the server thinks you’re not authenticated. This happens when you don’t send the right credentials to access an API.\n",
    "* 400 — the server thinks you made a bad request. This can happen when you don’t send along the right data, among other things.\n",
    "* 403 — the resource you’re trying to access is forbidden — you don’t have the right permissions to see it.\n",
    "* 404 — the resource you tried to access wasn’t found on the server."
   ]
  },
  {
   "cell_type": "markdown",
   "metadata": {},
   "source": [
    "### Hitting the right endpoint\n",
    "\n",
    "We’ll now make a GET request to http://api.open-notify.org/iss-pass.json."
   ]
  },
  {
   "cell_type": "code",
   "execution_count": null,
   "metadata": {},
   "outputs": [],
   "source": [
    "iss_pass_url = 'http://api.open-notify.org/iss-pass.json'\n",
    "response = requests.get(iss_pass_url)\n",
    "response.status_code"
   ]
  },
  {
   "cell_type": "markdown",
   "metadata": {},
   "source": [
    "We can look at `content` to see if the server told us why there was a problem."
   ]
  },
  {
   "cell_type": "code",
   "execution_count": null,
   "metadata": {},
   "outputs": [],
   "source": [
    "response.content"
   ]
  },
  {
   "cell_type": "markdown",
   "metadata": {},
   "source": [
    "## Query Parameters\n",
    "\n",
    "If you look at the [documentation](http://open-notify.org/Open-Notify-API/ISS-Pass-Times/), we see that the ISS Pass endpoint requires two parameters.\n",
    "\n",
    "We can do this by adding an optional keyword argument, params, to our request. In this case, there are two parameters we need to pass:\n",
    "\n",
    "* lat — The latitude of the location we want.\n",
    "* lon — The longitude of the location we want.\n",
    "\n",
    "We can make a dictionary with these parameters, and then pass them into the `requests.get()` method. We’ll make a request using the coordinates of New York City, and see what response we get.\n",
    "\n",
    "We can also add the query parameters to the url, like this: http://api.open-notify.org/iss-pass.json?lat=47.6&lon=-122.3. However, it’s almost always preferable to pass the parameters as a dictionary, because `requests` takes care of some potential issues, like properly formatting the query parameters."
   ]
  },
  {
   "cell_type": "markdown",
   "metadata": {},
   "source": [
    "We'll add parameters to the get method in the form of a dictionary with two keys, lat and long."
   ]
  },
  {
   "cell_type": "code",
   "execution_count": null,
   "metadata": {},
   "outputs": [],
   "source": [
    "# Our code here\n",
    "\n",
    "response = requests.get(iss_pass_url,\n",
    "            params={'lat': 47.6, 'lon': -122.3})\n",
    "\n",
    "# Print the content of the response (the data the server returned)\n",
    "\n",
    "print(response.text)\n",
    "\n",
    "# This gets the same data as the command aboveresponse:\n",
    "# requests.get(\"http://api.open-notify.org/iss-pass.json?lat=40.71&lon=-74\")"
   ]
  },
  {
   "cell_type": "markdown",
   "metadata": {},
   "source": [
    "# Secure APIs: Generating Access Tokens\n",
    "\n",
    "Many APIs have security measures to make sure their APIs aren't abused. Let's show you how to generate an access token so you can use such secure APIs.\n",
    "\n",
    "Point your browser over to this [yelp page](https://www.yelp.com/developers/v3/manage_app) and start creating an app in order to obtain an api access token:"
   ]
  },
  {
   "cell_type": "markdown",
   "metadata": {},
   "source": [
    "\n",
    "![](./images/yelp_app.png)"
   ]
  },
  {
   "cell_type": "markdown",
   "metadata": {},
   "source": [
    "You can either sign in to an existing Yelp account, or create a new one, if needed.\n",
    "\n",
    "On the page you see above, simply fill out some sample information such as \"Flatiron Edu API Example\" for the app name, or whatever floats your boat. Afterwards, you should be presented with an API key that you can use to make requests.\n",
    "\n",
    "With that, it's time to start making some API calls!"
   ]
  },
  {
   "cell_type": "markdown",
   "metadata": {},
   "source": [
    "## An Example Request with OAuth \n",
    "\n",
    "[OAuth](https://en.wikipedia.org/wiki/OAuth) is a common standard used by companies to provide API access. \"Auth\" refers to two processes:\n",
    "\n",
    "* Authentication: Verifying your identity\n",
    "* Authorization: Giving you access to a resource"
   ]
  },
  {
   "cell_type": "markdown",
   "metadata": {},
   "source": [
    "## Storing your API Key Securely\n",
    "\n",
    "Handling your security credentials properly will avoid accidentally exposing them to people who might use them for malicious purposes. While you probably can't get in too much trouble with Yelp, it's a good practice to develop. It becomes especially tricky and important when using public Git repositories. Here are the steps we recommend: \n",
    "\n",
    "1. Create a hidden `.secrets` folder in your repository\n",
    "2. Put your credentials in a file in the `.secrets` folder\n",
    "3. Add the `.secrets\\` folder to the `.gitignore` file"
   ]
  },
  {
   "cell_type": "code",
   "execution_count": null,
   "metadata": {},
   "outputs": [],
   "source": [
    "with open('.secrets/creds.json') as f:\n",
    "    creds = json.load(f)"
   ]
  },
  {
   "cell_type": "code",
   "execution_count": null,
   "metadata": {},
   "outputs": [],
   "source": []
  },
  {
   "cell_type": "markdown",
   "metadata": {},
   "source": [
    "## Making our Request\n",
    "\n",
    "[Yelp API Documentation](https://www.yelp.com/developers/documentation/v3/get_started)\n",
    "\n",
    "Let's look at an example request and dissect it into its consituent parts:"
   ]
  },
  {
   "cell_type": "code",
   "execution_count": null,
   "metadata": {},
   "outputs": [],
   "source": [
    "url = 'https://api.yelp.com/v3/businesses/search'\n",
    "term = 'Hamburgers'\n",
    "SEARCH_LIMIT = 10\n",
    "headers = {\n",
    "    'Authorization': 'Bearer ' + creds['key']\n",
    "}\n",
    "\n",
    "url_params = {\n",
    "    'term': term,\n",
    "    'location': 'Seattle+WA',\n",
    "    'limit': SEARCH_LIMIT,\n",
    "    'offset': 0\n",
    "}\n",
    "response = requests.get(url, headers=headers, params=url_params)\n",
    "print(response.status_code)"
   ]
  },
  {
   "cell_type": "markdown",
   "metadata": {},
   "source": [
    "## Breaking Down the Request\n",
    "\n",
    "As you can see, there are three main parts to our request.  \n",
    "  \n",
    "They are:\n",
    "* The URL\n",
    "* The header\n",
    "* The parameters\n",
    "  \n",
    "The URL is found in the documentation (`https://api.yelp.com/v3`) and we are using the Business Search endpoint (`/businesses/search`).\n",
    "\n",
    "The header is required by the Yelp API for authorization. It has a strict form where 'Authorization' is the key and 'Bearer YourApiKey' is the value. We make a `header` dictionary to pass into our `.get()` method.\n",
    "\n",
    "The parameters contain information we pass into the query to get the data we want. Valid key parameters by which to structure your queries, are described in the [Yelp API Documentation](https://www.yelp.com/developers/documentation/v3/get_started). We make a `url_params` dictionary to pass into our `.get()` method, which then adds the query parameters to the URL.\n",
    "\n",
    "**Important note re: parameters**: We need to replace spaces with \"+\" - this is a common API requirement because URLs cannot contain spaces. (Note that the header itself isn't directly added into the URL itself and as such, the space between 'Bearer' and YourApiKey is fine.)"
   ]
  },
  {
   "cell_type": "markdown",
   "metadata": {},
   "source": [
    "\n",
    "## The Response\n",
    "\n",
    "As before, our response object has both a status code, as well as the data itself. With that, let's start with a little data exploration!"
   ]
  },
  {
   "cell_type": "markdown",
   "metadata": {},
   "source": [
    "**Activity**: Make a DataFrame `yelp_df` with the business data from the Yelp response.\n",
    "<details>\n",
    "    <summary>\n",
    "        Answer code\n",
    "    </summary>\n",
    "    \n",
    "    yelp_data = response.json()\n",
    "    yelp_df = pd.DataFrame(yelp_data['businesses'])\n",
    "</details>"
   ]
  },
  {
   "cell_type": "code",
   "execution_count": null,
   "metadata": {},
   "outputs": [],
   "source": [
    "## Your code here\n"
   ]
  },
  {
   "cell_type": "code",
   "execution_count": null,
   "metadata": {},
   "outputs": [],
   "source": [
    "yelp_df.head()"
   ]
  },
  {
   "cell_type": "markdown",
   "metadata": {},
   "source": [
    "**Activity**: Add columns to `yelp_df` containing the latitudes and longitudes.\n",
    "\n",
    "\n",
    "<details>\n",
    "    <summary>\n",
    "        Answer code\n",
    "    </summary>\n",
    "    \n",
    "    lat = [float(business['coordinates']['latitude']) for business in yelp_data['businesses']]\n",
    "    long = [float(business['coordinates']['longitude']) for  business in yelp_data['businesses']]\n",
    "    yelp_df['lat'] = lat\n",
    "    yelp_df['long'] = long\n",
    "</details>"
   ]
  },
  {
   "cell_type": "code",
   "execution_count": null,
   "metadata": {},
   "outputs": [],
   "source": [
    "## Your code here\n"
   ]
  },
  {
   "cell_type": "code",
   "execution_count": null,
   "metadata": {},
   "outputs": [],
   "source": [
    "yelp_df.head()"
   ]
  }
 ],
 "metadata": {
  "kernelspec": {
   "display_name": "Python 3",
   "language": "python",
   "name": "python3"
  },
  "language_info": {
   "codemirror_mode": {
    "name": "ipython",
    "version": 3
   },
   "file_extension": ".py",
   "mimetype": "text/x-python",
   "name": "python",
   "nbconvert_exporter": "python",
   "pygments_lexer": "ipython3",
   "version": "3.8.5"
  }
 },
 "nbformat": 4,
 "nbformat_minor": 4
}
