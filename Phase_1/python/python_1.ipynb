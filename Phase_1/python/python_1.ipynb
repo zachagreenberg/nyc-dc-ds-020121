{
 "cells": [
  {
   "cell_type": "markdown",
   "metadata": {},
   "source": [
    "# Python Fundamentals\n",
    "\n",
    "![python](data:image/jpeg;base64,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)"
   ]
  },
  {
   "cell_type": "markdown",
   "metadata": {},
   "source": [
    "Python can perform arithmetic calculations:"
   ]
  },
  {
   "cell_type": "code",
   "execution_count": 1,
   "metadata": {},
   "outputs": [
    {
     "data": {
      "text/plain": [
       "22"
      ]
     },
     "execution_count": 1,
     "metadata": {},
     "output_type": "execute_result"
    }
   ],
   "source": [
    "2 + 2 * 10"
   ]
  },
  {
   "cell_type": "code",
   "execution_count": 2,
   "metadata": {},
   "outputs": [
    {
     "data": {
      "text/plain": [
       "574607256534"
      ]
     },
     "execution_count": 2,
     "metadata": {},
     "output_type": "execute_result"
    }
   ],
   "source": [
    "523678 * 1097253"
   ]
  },
  {
   "cell_type": "code",
   "execution_count": 3,
   "metadata": {},
   "outputs": [
    {
     "data": {
      "text/plain": [
       "0"
      ]
     },
     "execution_count": 3,
     "metadata": {},
     "output_type": "execute_result"
    }
   ],
   "source": [
    "375 % 5"
   ]
  },
  {
   "cell_type": "markdown",
   "metadata": {},
   "source": [
    "But it can do so much more than this!"
   ]
  },
  {
   "cell_type": "markdown",
   "metadata": {},
   "source": [
    "# Objectives"
   ]
  },
  {
   "cell_type": "markdown",
   "metadata": {},
   "source": [
    "- Distinguish and use objects of different datatypes\n",
    "- Use `if` and `else` statements\n",
    "- Slice into strings, lists, and tuples\n",
    "- Construct a `for` loop"
   ]
  },
  {
   "cell_type": "markdown",
   "metadata": {},
   "source": [
    "# Objects\n",
    "\n",
    "Python is an object-oriented programming language, which means that almost everything you do in Python will involve interacting with objects. \n",
    "\n",
    "## Types\n",
    "\n",
    "All objects in Python have a **type**, which defines what the object can store. You can find out the type of any object using the `type()` function."
   ]
  },
  {
   "cell_type": "code",
   "execution_count": 4,
   "metadata": {},
   "outputs": [
    {
     "data": {
      "text/plain": [
       "int"
      ]
     },
     "execution_count": 4,
     "metadata": {},
     "output_type": "execute_result"
    }
   ],
   "source": [
    "type(123)"
   ]
  },
  {
   "cell_type": "markdown",
   "metadata": {},
   "source": [
    "Common types are strings (```str```), integers (```int```), floats (```float```), Booleans (```bool```). You can also collect a bunch of objects into one object, such as with lists (```list```) and dictionaries (```dict```)."
   ]
  },
  {
   "cell_type": "markdown",
   "metadata": {},
   "source": [
    "## Variables\n",
    "\n",
    "Often we want to store values for use throughout a program - we do this with **variables**. To declare a variable, simply write the name of the variable, followed by an '=', followed by the value you want to store in the variable. \n",
    "\n",
    "One great thing about Python is that we do not have to specify the type of a variable when declaring it."
   ]
  },
  {
   "cell_type": "code",
   "execution_count": 5,
   "metadata": {},
   "outputs": [
    {
     "name": "stdout",
     "output_type": "stream",
     "text": [
      "123\n"
     ]
    },
    {
     "data": {
      "text/plain": [
       "int"
      ]
     },
     "execution_count": 5,
     "metadata": {},
     "output_type": "execute_result"
    }
   ],
   "source": [
    "fav_num = 123\n",
    "print(fav_num)\n",
    "type(fav_num)"
   ]
  },
  {
   "cell_type": "markdown",
   "metadata": {},
   "source": [
    "If you make a mistake when assigning a value to a variable..."
   ]
  },
  {
   "cell_type": "code",
   "execution_count": 6,
   "metadata": {},
   "outputs": [
    {
     "data": {
      "text/plain": [
       "'Princd'"
      ]
     },
     "execution_count": 6,
     "metadata": {},
     "output_type": "execute_result"
    }
   ],
   "source": [
    "name = 'Princd'\n",
    "name"
   ]
  },
  {
   "cell_type": "markdown",
   "metadata": {},
   "source": [
    "just re-assign it:"
   ]
  },
  {
   "cell_type": "code",
   "execution_count": 7,
   "metadata": {},
   "outputs": [
    {
     "data": {
      "text/plain": [
       "'Prince'"
      ]
     },
     "execution_count": 7,
     "metadata": {},
     "output_type": "execute_result"
    }
   ],
   "source": [
    "name = 'Prince'\n",
    "name"
   ]
  },
  {
   "cell_type": "markdown",
   "metadata": {},
   "source": [
    "## Strings\n",
    "\n",
    "Strings are pieces of text. In order for the computer to understand a string as such, it must be placed in single or double quotes:"
   ]
  },
  {
   "cell_type": "code",
   "execution_count": 8,
   "metadata": {},
   "outputs": [
    {
     "data": {
      "text/plain": [
       "'This is a string'"
      ]
     },
     "execution_count": 8,
     "metadata": {},
     "output_type": "execute_result"
    }
   ],
   "source": [
    "'This is a string'"
   ]
  },
  {
   "cell_type": "code",
   "execution_count": 9,
   "metadata": {},
   "outputs": [
    {
     "data": {
      "text/plain": [
       "str"
      ]
     },
     "execution_count": 9,
     "metadata": {},
     "output_type": "execute_result"
    }
   ],
   "source": [
    "type('This is a string')"
   ]
  },
  {
   "cell_type": "code",
   "execution_count": 10,
   "metadata": {
    "scrolled": true
   },
   "outputs": [
    {
     "ename": "SyntaxError",
     "evalue": "invalid syntax (<ipython-input-10-1c9d3bd84b60>, line 1)",
     "output_type": "error",
     "traceback": [
      "\u001b[0;36m  File \u001b[0;32m\"<ipython-input-10-1c9d3bd84b60>\"\u001b[0;36m, line \u001b[0;32m1\u001b[0m\n\u001b[0;31m    This is not a string\u001b[0m\n\u001b[0m                  ^\u001b[0m\n\u001b[0;31mSyntaxError\u001b[0m\u001b[0;31m:\u001b[0m invalid syntax\n"
     ]
    }
   ],
   "source": [
    "This is not a string"
   ]
  },
  {
   "cell_type": "markdown",
   "metadata": {},
   "source": [
    "Note that the quotes are not printed when you use the `print()` function"
   ]
  },
  {
   "cell_type": "code",
   "execution_count": 11,
   "metadata": {},
   "outputs": [
    {
     "name": "stdout",
     "output_type": "stream",
     "text": [
      "This is a string\n"
     ]
    }
   ],
   "source": [
    "print('This is a string')"
   ]
  },
  {
   "cell_type": "markdown",
   "metadata": {},
   "source": [
    "### Characters\n",
    "\n",
    "Strings are made up of **characters** - these are usually letters or numbers. The `len()` function tells you how many characters are in your string."
   ]
  },
  {
   "cell_type": "code",
   "execution_count": 12,
   "metadata": {},
   "outputs": [
    {
     "data": {
      "text/plain": [
       "6"
      ]
     },
     "execution_count": 12,
     "metadata": {},
     "output_type": "execute_result"
    }
   ],
   "source": [
    "len('potato')"
   ]
  },
  {
   "cell_type": "markdown",
   "metadata": {},
   "source": [
    "Some special characters need a backslash in front to be stored correctly - these are called **escape characters**."
   ]
  },
  {
   "cell_type": "code",
   "execution_count": 13,
   "metadata": {},
   "outputs": [
    {
     "name": "stdout",
     "output_type": "stream",
     "text": [
      "Here's my favorite string:\n",
      " String Cheese\n"
     ]
    }
   ],
   "source": [
    "fav_string = 'Here\\'s my favorite string:\\n String Cheese'\n",
    "print(fav_string)"
   ]
  },
  {
   "cell_type": "markdown",
   "metadata": {},
   "source": [
    "Triple quotes are useful for creating long strings that break across multiple lines. You can also use them to create strings that contain single or double quotes."
   ]
  },
  {
   "cell_type": "code",
   "execution_count": 14,
   "metadata": {},
   "outputs": [
    {
     "name": "stdout",
     "output_type": "stream",
     "text": [
      "\n",
      "Hey y'all. \n",
      "Where's the \"party\"?\n",
      "\n"
     ]
    }
   ],
   "source": [
    "print(\"\"\"\n",
    "Hey y'all. \n",
    "Where's the \"party\"?\n",
    "\"\"\")"
   ]
  },
  {
   "cell_type": "markdown",
   "metadata": {},
   "source": [
    "### Indexing\n",
    "\n",
    "You can index strings to get specific characters. Note that the first character is in position 0."
   ]
  },
  {
   "cell_type": "code",
   "execution_count": 15,
   "metadata": {},
   "outputs": [],
   "source": [
    "name = 'Prince'"
   ]
  },
  {
   "cell_type": "code",
   "execution_count": 16,
   "metadata": {},
   "outputs": [
    {
     "data": {
      "text/plain": [
       "'P'"
      ]
     },
     "execution_count": 16,
     "metadata": {},
     "output_type": "execute_result"
    }
   ],
   "source": [
    "name[0]"
   ]
  },
  {
   "cell_type": "code",
   "execution_count": 17,
   "metadata": {},
   "outputs": [
    {
     "data": {
      "text/plain": [
       "'i'"
      ]
     },
     "execution_count": 17,
     "metadata": {},
     "output_type": "execute_result"
    }
   ],
   "source": [
    "name[2]"
   ]
  },
  {
   "cell_type": "code",
   "execution_count": 18,
   "metadata": {},
   "outputs": [
    {
     "data": {
      "text/plain": [
       "'c'"
      ]
     },
     "execution_count": 18,
     "metadata": {},
     "output_type": "execute_result"
    }
   ],
   "source": [
    "name[-2]"
   ]
  },
  {
   "cell_type": "markdown",
   "metadata": {},
   "source": [
    "### Slicing\n",
    "\n",
    "Strings can be sliced, if you want to extract a portion of a string:"
   ]
  },
  {
   "cell_type": "code",
   "execution_count": 19,
   "metadata": {
    "scrolled": true
   },
   "outputs": [
    {
     "data": {
      "text/plain": [
       "'in'"
      ]
     },
     "execution_count": 19,
     "metadata": {},
     "output_type": "execute_result"
    }
   ],
   "source": [
    "name[2:4]"
   ]
  },
  {
   "cell_type": "code",
   "execution_count": 20,
   "metadata": {},
   "outputs": [
    {
     "data": {
      "text/plain": [
       "'ince'"
      ]
     },
     "execution_count": 20,
     "metadata": {},
     "output_type": "execute_result"
    }
   ],
   "source": [
    "name[2:]"
   ]
  },
  {
   "cell_type": "code",
   "execution_count": 21,
   "metadata": {},
   "outputs": [
    {
     "data": {
      "text/plain": [
       "'Prin'"
      ]
     },
     "execution_count": 21,
     "metadata": {},
     "output_type": "execute_result"
    }
   ],
   "source": [
    "name[:4]"
   ]
  },
  {
   "cell_type": "code",
   "execution_count": 22,
   "metadata": {},
   "outputs": [
    {
     "data": {
      "text/plain": [
       "'Pr'"
      ]
     },
     "execution_count": 22,
     "metadata": {},
     "output_type": "execute_result"
    }
   ],
   "source": [
    "name[:-4]"
   ]
  },
  {
   "cell_type": "code",
   "execution_count": 23,
   "metadata": {},
   "outputs": [
    {
     "data": {
      "text/plain": [
       "'Pic'"
      ]
     },
     "execution_count": 23,
     "metadata": {},
     "output_type": "execute_result"
    }
   ],
   "source": [
    "name[::2]"
   ]
  },
  {
   "cell_type": "code",
   "execution_count": 24,
   "metadata": {},
   "outputs": [
    {
     "data": {
      "text/plain": [
       "'enr'"
      ]
     },
     "execution_count": 24,
     "metadata": {},
     "output_type": "execute_result"
    }
   ],
   "source": [
    "name[::-2]"
   ]
  },
  {
   "cell_type": "code",
   "execution_count": 26,
   "metadata": {},
   "outputs": [
    {
     "data": {
      "text/plain": [
       "''"
      ]
     },
     "execution_count": 26,
     "metadata": {},
     "output_type": "execute_result"
    }
   ],
   "source": [
    "name[1:4:-2]"
   ]
  },
  {
   "cell_type": "markdown",
   "metadata": {},
   "source": [
    "Python strings are **immutable**, which means that you can't reassign any part of one:"
   ]
  },
  {
   "cell_type": "code",
   "execution_count": 25,
   "metadata": {},
   "outputs": [
    {
     "ename": "TypeError",
     "evalue": "'str' object does not support item assignment",
     "output_type": "error",
     "traceback": [
      "\u001b[0;31m---------------------------------------------------------------------------\u001b[0m",
      "\u001b[0;31mTypeError\u001b[0m                                 Traceback (most recent call last)",
      "\u001b[0;32m<ipython-input-25-8dcc3762ba86>\u001b[0m in \u001b[0;36m<module>\u001b[0;34m\u001b[0m\n\u001b[0;32m----> 1\u001b[0;31m \u001b[0mname\u001b[0m\u001b[0;34m[\u001b[0m\u001b[0;36m3\u001b[0m\u001b[0;34m]\u001b[0m \u001b[0;34m=\u001b[0m \u001b[0;34m'f'\u001b[0m\u001b[0;34m\u001b[0m\u001b[0;34m\u001b[0m\u001b[0m\n\u001b[0m",
      "\u001b[0;31mTypeError\u001b[0m: 'str' object does not support item assignment"
     ]
    }
   ],
   "source": [
    "name[3] = 'f'"
   ]
  },
  {
   "cell_type": "code",
   "execution_count": null,
   "metadata": {},
   "outputs": [],
   "source": [
    "name.replace('i', 'o')"
   ]
  },
  {
   "cell_type": "markdown",
   "metadata": {},
   "source": [
    "For more on what you can do with strings, just type ```help(str)```!"
   ]
  },
  {
   "cell_type": "code",
   "execution_count": null,
   "metadata": {},
   "outputs": [],
   "source": [
    "help(str)"
   ]
  },
  {
   "cell_type": "markdown",
   "metadata": {},
   "source": [
    "## Integers and Floats\n",
    "\n",
    "Integers and floats are numeric types in Python. Floats have decimal points and integers do not."
   ]
  },
  {
   "cell_type": "code",
   "execution_count": null,
   "metadata": {},
   "outputs": [],
   "source": [
    "type(0)"
   ]
  },
  {
   "cell_type": "code",
   "execution_count": null,
   "metadata": {},
   "outputs": [],
   "source": [
    "type(0.)"
   ]
  },
  {
   "cell_type": "code",
   "execution_count": null,
   "metadata": {},
   "outputs": [],
   "source": [
    "type(0.789)"
   ]
  },
  {
   "cell_type": "markdown",
   "metadata": {},
   "source": [
    "Python DOES allow arithmetic across these two types:"
   ]
  },
  {
   "cell_type": "code",
   "execution_count": null,
   "metadata": {},
   "outputs": [],
   "source": [
    "10 + 15.35"
   ]
  },
  {
   "cell_type": "code",
   "execution_count": null,
   "metadata": {},
   "outputs": [],
   "source": [
    "10 % 6 / 6"
   ]
  },
  {
   "cell_type": "markdown",
   "metadata": {},
   "source": [
    "Python ```int```s are **coerced** into ```float```s for these calculations."
   ]
  },
  {
   "cell_type": "markdown",
   "metadata": {},
   "source": [
    "### Ranges\n",
    "\n",
    "The `range()` function can be used to create a `range` object, which defines a span of equally-spaced integers."
   ]
  },
  {
   "cell_type": "code",
   "execution_count": null,
   "metadata": {},
   "outputs": [],
   "source": [
    "bob = range(8)\n",
    "\n",
    "bob"
   ]
  },
  {
   "cell_type": "code",
   "execution_count": null,
   "metadata": {},
   "outputs": [],
   "source": [
    "type(bob)"
   ]
  },
  {
   "cell_type": "code",
   "execution_count": null,
   "metadata": {},
   "outputs": [],
   "source": [
    "list(bob)"
   ]
  },
  {
   "cell_type": "code",
   "execution_count": null,
   "metadata": {},
   "outputs": [],
   "source": [
    "len(bob)"
   ]
  },
  {
   "cell_type": "code",
   "execution_count": null,
   "metadata": {},
   "outputs": [],
   "source": [
    "list(range(2, 10, 2))"
   ]
  },
  {
   "cell_type": "markdown",
   "metadata": {},
   "source": [
    "## Booleans\n",
    "\n",
    "There are only two values of a Boolean: True and False."
   ]
  },
  {
   "cell_type": "code",
   "execution_count": null,
   "metadata": {},
   "outputs": [],
   "source": [
    "type(False)"
   ]
  },
  {
   "cell_type": "code",
   "execution_count": null,
   "metadata": {},
   "outputs": [],
   "source": [
    "type('false')"
   ]
  },
  {
   "cell_type": "code",
   "execution_count": null,
   "metadata": {},
   "outputs": [],
   "source": [
    "type(false)"
   ]
  },
  {
   "cell_type": "markdown",
   "metadata": {},
   "source": [
    "Booleans are useful when you want to check to see whether some condition has been satisfied."
   ]
  },
  {
   "cell_type": "markdown",
   "metadata": {},
   "source": [
    "### 0 and 1"
   ]
  },
  {
   "cell_type": "markdown",
   "metadata": {},
   "source": [
    "In Python, 1 and **True** are equal, and 0 and **False** are equal, even though they officially have different data types."
   ]
  },
  {
   "cell_type": "code",
   "execution_count": null,
   "metadata": {},
   "outputs": [],
   "source": [
    "1 == True"
   ]
  },
  {
   "cell_type": "code",
   "execution_count": null,
   "metadata": {},
   "outputs": [],
   "source": [
    "0 == False"
   ]
  },
  {
   "cell_type": "code",
   "execution_count": null,
   "metadata": {},
   "outputs": [],
   "source": [
    "type(0)"
   ]
  },
  {
   "cell_type": "code",
   "execution_count": null,
   "metadata": {},
   "outputs": [],
   "source": [
    "type(False)"
   ]
  },
  {
   "cell_type": "markdown",
   "metadata": {},
   "source": [
    "## Lists\n",
    "\n",
    "A list is an **ordered** collection of objects. Use square brackets for lists."
   ]
  },
  {
   "cell_type": "code",
   "execution_count": null,
   "metadata": {},
   "outputs": [],
   "source": [
    "random_list = [1, 'alan', 8.5, True]"
   ]
  },
  {
   "cell_type": "markdown",
   "metadata": {},
   "source": [
    "Lists can be sliced, just like strings:"
   ]
  },
  {
   "cell_type": "code",
   "execution_count": null,
   "metadata": {},
   "outputs": [],
   "source": [
    "random_list[1:]"
   ]
  },
  {
   "cell_type": "code",
   "execution_count": null,
   "metadata": {},
   "outputs": [],
   "source": [
    "random_list_2 = ['alan', 8.5, True, 1]\n",
    "\n",
    "random_list == random_list_2"
   ]
  },
  {
   "cell_type": "markdown",
   "metadata": {},
   "source": [
    "Lists are **mutable**, meaning that you can re-assign values:"
   ]
  },
  {
   "cell_type": "code",
   "execution_count": null,
   "metadata": {},
   "outputs": [],
   "source": [
    "random_list[2] = '85'\n",
    "random_list"
   ]
  },
  {
   "cell_type": "code",
   "execution_count": null,
   "metadata": {},
   "outputs": [],
   "source": [
    "random_list.append('85')\n",
    "random_list"
   ]
  },
  {
   "cell_type": "code",
   "execution_count": null,
   "metadata": {},
   "outputs": [],
   "source": [
    "random_list.remove('alan')\n",
    "\n",
    "random_list"
   ]
  },
  {
   "cell_type": "markdown",
   "metadata": {},
   "source": [
    "## Tuples\n",
    "\n",
    "Tuples are ordered objects that support indexing in the same way that lists do."
   ]
  },
  {
   "cell_type": "code",
   "execution_count": null,
   "metadata": {},
   "outputs": [],
   "source": [
    "type((1, 2, 4))"
   ]
  },
  {
   "cell_type": "code",
   "execution_count": null,
   "metadata": {},
   "outputs": [],
   "source": [
    "(1, 2, 3)[0]"
   ]
  },
  {
   "cell_type": "markdown",
   "metadata": {},
   "source": [
    "But unlike lists, tuples are **immutable**."
   ]
  },
  {
   "cell_type": "code",
   "execution_count": null,
   "metadata": {},
   "outputs": [],
   "source": [
    "triple = (1, 2, 3)\n",
    "\n",
    "triple[0] = 3"
   ]
  },
  {
   "cell_type": "markdown",
   "metadata": {},
   "source": [
    "## Sets\n",
    "\n",
    "Sets are **unordered**, and so they do not support indexing. But they are **mutable**."
   ]
  },
  {
   "cell_type": "code",
   "execution_count": null,
   "metadata": {},
   "outputs": [],
   "source": [
    "set1 = {1, 2, 3}\n",
    "\n",
    "set1.add(4)\n",
    "\n",
    "set1"
   ]
  },
  {
   "cell_type": "markdown",
   "metadata": {},
   "source": [
    "Sets also cannot hold duplicate entries"
   ]
  },
  {
   "cell_type": "code",
   "execution_count": null,
   "metadata": {},
   "outputs": [],
   "source": [
    "set2 = {3, 4, 5, 5}\n",
    "set2"
   ]
  },
  {
   "cell_type": "markdown",
   "metadata": {},
   "source": [
    "## Dictionaries\n",
    "\n",
    "A dictionary is an unordered collection of _paired_ elements. As an analogy, think of how an English dictionary pairs words and definitions: You look up a word to find the definition.\n",
    "\n",
    "The first elements of the pairs are called \"keys\", which must be strings.\n",
    "The second elements of the pairs are called \"values\", which can be any object.\n",
    "\n",
    "Use curly braces for dictionaries."
   ]
  },
  {
   "cell_type": "code",
   "execution_count": null,
   "metadata": {},
   "outputs": [],
   "source": [
    "greg = {'name': 'greg', 'occupation': 'data_scientist',\n",
    "            'HP': 140, 'favorite_color': 'green', 'weakness': 'decaf_sensitivity'}\n",
    "\n",
    "type(greg)"
   ]
  },
  {
   "cell_type": "code",
   "execution_count": null,
   "metadata": {},
   "outputs": [],
   "source": [
    "greg.keys()"
   ]
  },
  {
   "cell_type": "code",
   "execution_count": null,
   "metadata": {},
   "outputs": [],
   "source": [
    "greg.values()"
   ]
  },
  {
   "cell_type": "code",
   "execution_count": null,
   "metadata": {
    "scrolled": true
   },
   "outputs": [],
   "source": [
    "greg.items()"
   ]
  },
  {
   "cell_type": "markdown",
   "metadata": {},
   "source": [
    "To access a \"definition\", just look up the \"word\"!"
   ]
  },
  {
   "cell_type": "code",
   "execution_count": null,
   "metadata": {},
   "outputs": [],
   "source": [
    "greg['occupation'] = 'wizard'\n",
    "\n",
    "greg['occupation']"
   ]
  },
  {
   "cell_type": "code",
   "execution_count": null,
   "metadata": {},
   "outputs": [],
   "source": [
    "joél = {}\n",
    "\n",
    "type(joél)"
   ]
  },
  {
   "cell_type": "markdown",
   "metadata": {},
   "source": [
    "## Casting\n",
    "\n",
    "Sometimes we want to turn an object of one data type into another - we call this **casting**. There are Python functions to help with it, but be careful because there can be unintended results."
   ]
  },
  {
   "cell_type": "code",
   "execution_count": null,
   "metadata": {},
   "outputs": [],
   "source": [
    "str(8)"
   ]
  },
  {
   "cell_type": "code",
   "execution_count": null,
   "metadata": {},
   "outputs": [],
   "source": [
    "int(8.9)"
   ]
  },
  {
   "cell_type": "code",
   "execution_count": null,
   "metadata": {},
   "outputs": [],
   "source": [
    "bool(0)"
   ]
  },
  {
   "cell_type": "code",
   "execution_count": null,
   "metadata": {},
   "outputs": [],
   "source": [
    "bool(2)"
   ]
  },
  {
   "cell_type": "code",
   "execution_count": null,
   "metadata": {},
   "outputs": [],
   "source": [
    "set([1, 'square', 'blue', 'square'])"
   ]
  },
  {
   "cell_type": "markdown",
   "metadata": {},
   "source": [
    "# `If` Statements\n",
    "\n",
    "`if` statements are very powerful tools in Python. Simply put, they check to see if some condition is true or not.\n",
    "\n",
    "Useful comparison operators are `>`, `<=`, and `==`"
   ]
  },
  {
   "cell_type": "code",
   "execution_count": null,
   "metadata": {},
   "outputs": [],
   "source": [
    "num = 76\n",
    "if num % 4 == 0:\n",
    "    print('yes')"
   ]
  },
  {
   "cell_type": "markdown",
   "metadata": {},
   "source": [
    "## `else` and `elif`\n",
    "\n",
    "The keyword `else` is used to cover the other cases where the `if` statement is false.\n",
    "\n",
    "Sometimes we want to consider more than just two possibilities, and we can use `elif` (\"else-if\") for this."
   ]
  },
  {
   "cell_type": "code",
   "execution_count": null,
   "metadata": {},
   "outputs": [],
   "source": [
    "num = 74\n",
    "if num % 4 == 0:\n",
    "    print('yes')\n",
    "else:\n",
    "    print('no')"
   ]
  },
  {
   "cell_type": "code",
   "execution_count": null,
   "metadata": {},
   "outputs": [],
   "source": [
    "num = 134567\n",
    "if num % 3 == 0:\n",
    "    print('multiple of 3')\n",
    "elif num % 3 == 1:\n",
    "    print('one more than a multiple of 3')\n",
    "else:\n",
    "    print('two more than a multiple of 3')"
   ]
  },
  {
   "cell_type": "markdown",
   "metadata": {},
   "source": [
    "## `for` Loops\n",
    "\n",
    "A `for` loop is way of performing a set of related tasks automatically. Suppose, for example, that I want to print out every number between 1 and 7, inclusive. We can use a `range` object to do it because it is **iterable**. Most collections are iterable."
   ]
  },
  {
   "cell_type": "code",
   "execution_count": null,
   "metadata": {},
   "outputs": [],
   "source": [
    "for val in range(1, 8):\n",
    "    print(val)"
   ]
  },
  {
   "cell_type": "markdown",
   "metadata": {},
   "source": [
    "The combination of `for` loops with `if` statements is especially powerful."
   ]
  },
  {
   "cell_type": "code",
   "execution_count": null,
   "metadata": {},
   "outputs": [],
   "source": [
    "for val in range(1, 8):\n",
    "    if val >= 4:\n",
    "        print(val)"
   ]
  },
  {
   "cell_type": "markdown",
   "metadata": {},
   "source": [
    "Here we iterate over items in a dictionary:"
   ]
  },
  {
   "cell_type": "code",
   "execution_count": null,
   "metadata": {},
   "outputs": [],
   "source": [
    "for elem in greg:\n",
    "    if type(greg[elem]) == str:\n",
    "        print(elem + ': ' + greg[elem])"
   ]
  },
  {
   "cell_type": "markdown",
   "metadata": {},
   "source": [
    "In this example, we loop over characters in a string"
   ]
  },
  {
   "cell_type": "code",
   "execution_count": null,
   "metadata": {},
   "outputs": [],
   "source": [
    "import string\n",
    "\n",
    "string.ascii_lowercase"
   ]
  },
  {
   "cell_type": "code",
   "execution_count": null,
   "metadata": {},
   "outputs": [],
   "source": [
    "unique_chars = []\n",
    "for char in string.ascii_lowercase:\n",
    "    if char in 'popcorn':\n",
    "        unique_chars.append(char)\n",
    "unique_chars"
   ]
  },
  {
   "cell_type": "markdown",
   "metadata": {},
   "source": [
    "## Iterators"
   ]
  },
  {
   "cell_type": "markdown",
   "metadata": {},
   "source": [
    "Use `iter()` to turn an iterable object into an **iterator**. Iterators produce one value at a time and stop once all the values have run out."
   ]
  },
  {
   "cell_type": "code",
   "execution_count": null,
   "metadata": {},
   "outputs": [],
   "source": [
    "lower_case_iterator = iter(string.ascii_lowercase)\n",
    "type(lower_case_iterator)"
   ]
  },
  {
   "cell_type": "code",
   "execution_count": null,
   "metadata": {},
   "outputs": [],
   "source": [
    "next(lower_case_iterator)"
   ]
  },
  {
   "cell_type": "code",
   "execution_count": null,
   "metadata": {},
   "outputs": [],
   "source": [
    "next(lower_case_iterator)"
   ]
  }
 ],
 "metadata": {
  "kernelspec": {
   "display_name": "Python 3",
   "language": "python",
   "name": "python3"
  },
  "language_info": {
   "codemirror_mode": {
    "name": "ipython",
    "version": 3
   },
   "file_extension": ".py",
   "mimetype": "text/x-python",
   "name": "python",
   "nbconvert_exporter": "python",
   "pygments_lexer": "ipython3",
   "version": "3.8.5"
  }
 },
 "nbformat": 4,
 "nbformat_minor": 4
}
