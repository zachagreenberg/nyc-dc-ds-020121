{
 "cells": [
  {
   "cell_type": "markdown",
   "metadata": {
    "slideshow": {
     "slide_type": "slide"
    }
   },
   "source": [
    "![sql](img/sql-logo.jpg)\n",
    "\n",
    "# A guide to databases and SQL"
   ]
  },
  {
   "cell_type": "markdown",
   "metadata": {
    "slideshow": {
     "slide_type": "slide"
    }
   },
   "source": [
    "Let's start with Peter Bell's great blog piece [on relational databases](https://flatironschool.com/blog/an-introduction-to-the-relational-database).\n",
    "\n",
    "Themes:\n",
    "- Structured vs. Unstructured Data\n",
    "- Records (Rows) in Tables in Databases\n",
    "- Eliminating Redundancy"
   ]
  },
  {
   "cell_type": "markdown",
   "metadata": {
    "slideshow": {
     "slide_type": "slide"
    }
   },
   "source": [
    "## Learning goals:\n",
    "- Goal 1: Summarize the use case for sql in the data science skill set\n",
    "- Goal 2: Define key sql terminology\n",
    "- Goal 3: Get information about DB schema and table structure\n",
    "- Goal 4: Use basic SQL commands:\n",
    "    - Construct SQL queries\n",
    "    - Use JOIN to merge tables along logical columns"
   ]
  },
  {
   "cell_type": "markdown",
   "metadata": {
    "slideshow": {
     "slide_type": "slide"
    }
   },
   "source": [
    "## Goal 1: Summarize\n",
    "\n",
    "[Netflix has a great article](https://medium.com/netflix-techblog/notebook-innovation-591ee3221233) describing three different data roles at their company, their different needs, and their toolsets.\n",
    "\n",
    "![netflix](img/netflix-data-roles.jpeg)\n",
    "\n",
    "Examining that graphic, SQL shows up as one of the tools of the _Data Engineer_ "
   ]
  },
  {
   "cell_type": "markdown",
   "metadata": {
    "slideshow": {
     "slide_type": "slide"
    }
   },
   "source": [
    "Data Engineers provide the essential data architecture services that make data science possible.\n",
    "\n",
    "![hierarchy](img/ai-hierachy.png)\n",
    "\n",
    "[Source: Monica Rogati’s fantastic Medium post “The AI Hierarchy of Needs”\n",
    "](https://hackernoon.com/the-ai-hierarchy-of-needs-18f111fcc007)"
   ]
  },
  {
   "cell_type": "markdown",
   "metadata": {},
   "source": [
    "> Relational has information in 1 db that points to another  \n",
    "It is almost better to make relational tables if you have a lot of repeating data and need to distinguish between them"
   ]
  },
  {
   "cell_type": "markdown",
   "metadata": {
    "slideshow": {
     "slide_type": "slide"
    }
   },
   "source": [
    "### What is a Relational Database? \n",
    "\n",
    "![rdb](img/relational-dbms-model.png)\n",
    "[reference for image ](https://www.studytonight.com/dbms/database-model.php)"
   ]
  },
  {
   "cell_type": "markdown",
   "metadata": {
    "slideshow": {
     "slide_type": "slide"
    }
   },
   "source": [
    "### POPULAR RDBMS\n",
    "\n",
    "- SQLite\n",
    "- MySQL\n",
    "- PostgreSql\n",
    "- Oracle DB\n",
    "- SQL Server"
   ]
  },
  {
   "cell_type": "markdown",
   "metadata": {},
   "source": [
    ">Postgre is Open Source"
   ]
  },
  {
   "cell_type": "markdown",
   "metadata": {
    "slideshow": {
     "slide_type": "slide"
    }
   },
   "source": [
    "***\n",
    "## Goal 2: Database terminology\n",
    "\n",
    "### Relational Database Schema\n",
    "\n",
    "![schema](img/MySQL_Schema_Music_Example.png)\n",
    "\n",
    "[source of image](https://database.guide/what-is-a-database-schema/)\n",
    "\n",
    "This sort of picture is sometimes called an **E**ntity **R**elationship **D**iagram. [Here](https://www.smartdraw.com/entity-relationship-diagram/) is another good resource for explaining typical ERD conventions."
   ]
  },
  {
   "cell_type": "markdown",
   "metadata": {
    "slideshow": {
     "slide_type": "slide"
    }
   },
   "source": [
    "### Table columns view\n",
    "![table example](img/columns.png)"
   ]
  },
  {
   "cell_type": "markdown",
   "metadata": {},
   "source": [
    "> Char is str and it tells you how many characters it can hold"
   ]
  },
  {
   "cell_type": "markdown",
   "metadata": {
    "slideshow": {
     "slide_type": "slide"
    }
   },
   "source": [
    "### Terminology\n",
    "\n",
    "- Schema\n",
    "- Primary Key\n",
    "- Foreign Key\n",
    "- Structured queries\n",
    "- Views"
   ]
  },
  {
   "cell_type": "markdown",
   "metadata": {},
   "source": [
    "> A Foreign Key has a key that relates to another table  \n",
    "A Primary Key is the primary identifier of the key"
   ]
  },
  {
   "cell_type": "markdown",
   "metadata": {
    "slideshow": {
     "slide_type": "slide"
    }
   },
   "source": [
    "***\n",
    "### SQLite\n",
    "\n",
    "![sqlite](img/SQLite-Python.jpg)\n",
    "\n",
    "\"SQLite is a C library that provides a lightweight disk-based database that doesn’t require a separate server process and allows accessing the database using a nonstandard variant of the SQL query language. Some applications can use SQLite for internal data storage. It’s also possible to prototype an application using SQLite and then port the code to a larger database such as PostgreSQL or Oracle.\" - [sqlite documentation](https://docs.python.org/2/library/sqlite3.html)\n",
    "\n"
   ]
  },
  {
   "cell_type": "markdown",
   "metadata": {},
   "source": [
    ">SQLite is not really client server based. \n",
    "They have database obj that sit in your directory"
   ]
  },
  {
   "cell_type": "markdown",
   "metadata": {
    "slideshow": {
     "slide_type": "slide"
    }
   },
   "source": [
    "## Goal 3: Get going with sqlite!"
   ]
  },
  {
   "cell_type": "code",
   "execution_count": 1,
   "metadata": {
    "slideshow": {
     "slide_type": "fragment"
    }
   },
   "outputs": [],
   "source": [
    "import sqlite3"
   ]
  },
  {
   "cell_type": "markdown",
   "metadata": {
    "slideshow": {
     "slide_type": "slide"
    }
   },
   "source": [
    "#### Load a DB object with `connect` and `cursor`"
   ]
  },
  {
   "cell_type": "code",
   "execution_count": 2,
   "metadata": {},
   "outputs": [
    {
     "name": "stdout",
     "output_type": "stream",
     "text": [
      "Chinook_Sqlite.sqlite README.md             \u001b[34mimg\u001b[m\u001b[m\r\n",
      "LICENSE               flights.db            sql1.ipynb\r\n"
     ]
    }
   ],
   "source": [
    "!ls"
   ]
  },
  {
   "cell_type": "code",
   "execution_count": 3,
   "metadata": {
    "slideshow": {
     "slide_type": "fragment"
    }
   },
   "outputs": [],
   "source": [
    "con = sqlite3.connect('flights.db')\n",
    "cursor = con.cursor()"
   ]
  },
  {
   "cell_type": "markdown",
   "metadata": {
    "slideshow": {
     "slide_type": "slide"
    }
   },
   "source": [
    "#### Use sqlite_master to find all the tables in the schema\n",
    "Get the schema of a database from a db in sqlite"
   ]
  },
  {
   "cell_type": "markdown",
   "metadata": {},
   "source": [
    "> sqlite_master is a special table. Tells you how many tables you are working with"
   ]
  },
  {
   "cell_type": "code",
   "execution_count": 4,
   "metadata": {},
   "outputs": [
    {
     "data": {
      "text/plain": [
       "<sqlite3.Cursor at 0x7fdc76e4db90>"
      ]
     },
     "execution_count": 4,
     "metadata": {},
     "output_type": "execute_result"
    }
   ],
   "source": [
    "cursor.execute(\n",
    "\"\"\"\n",
    "SELECT name\n",
    "FROM sqlite_master\n",
    "WHERE type='table';\n",
    "\"\"\"\n",
    ")"
   ]
  },
  {
   "cell_type": "code",
   "execution_count": 5,
   "metadata": {},
   "outputs": [
    {
     "data": {
      "text/plain": [
       "[('airports',), ('airlines',), ('routes',)]"
      ]
     },
     "execution_count": 5,
     "metadata": {},
     "output_type": "execute_result"
    }
   ],
   "source": [
    "cursor.fetchall()"
   ]
  },
  {
   "cell_type": "markdown",
   "metadata": {},
   "source": [
    "For more on \"sqlite_master\", see [here](https://www.techonthenet.com/sqlite/sys_tables/index.php)."
   ]
  },
  {
   "cell_type": "markdown",
   "metadata": {
    "slideshow": {
     "slide_type": "slide"
    }
   },
   "source": [
    "#### Get information about one table\n",
    "\n",
    "**A note about** `execute`<br>\n",
    "Each time you use it, you reset the value of cursor"
   ]
  },
  {
   "cell_type": "code",
   "execution_count": 6,
   "metadata": {},
   "outputs": [
    {
     "data": {
      "text/plain": [
       "<sqlite3.Cursor at 0x7fdc76e4db90>"
      ]
     },
     "execution_count": 6,
     "metadata": {},
     "output_type": "execute_result"
    }
   ],
   "source": [
    "cursor.execute(\n",
    "\"\"\"\n",
    "SELECT *\n",
    "FROM airports\n",
    "\"\"\"\n",
    ")"
   ]
  },
  {
   "cell_type": "markdown",
   "metadata": {
    "slideshow": {
     "slide_type": "slide"
    }
   },
   "source": [
    "#### Use description"
   ]
  },
  {
   "cell_type": "markdown",
   "metadata": {},
   "source": [
    ">This command shows all the columns in the table"
   ]
  },
  {
   "cell_type": "code",
   "execution_count": 7,
   "metadata": {
    "scrolled": true,
    "slideshow": {
     "slide_type": "fragment"
    }
   },
   "outputs": [
    {
     "data": {
      "text/plain": [
       "(('index', None, None, None, None, None, None),\n",
       " ('id', None, None, None, None, None, None),\n",
       " ('name', None, None, None, None, None, None),\n",
       " ('city', None, None, None, None, None, None),\n",
       " ('country', None, None, None, None, None, None),\n",
       " ('code', None, None, None, None, None, None),\n",
       " ('icao', None, None, None, None, None, None),\n",
       " ('latitude', None, None, None, None, None, None),\n",
       " ('longitude', None, None, None, None, None, None),\n",
       " ('altitude', None, None, None, None, None, None),\n",
       " ('offset', None, None, None, None, None, None),\n",
       " ('dst', None, None, None, None, None, None),\n",
       " ('timezone', None, None, None, None, None, None))"
      ]
     },
     "execution_count": 7,
     "metadata": {},
     "output_type": "execute_result"
    }
   ],
   "source": [
    "cursor.description"
   ]
  },
  {
   "cell_type": "markdown",
   "metadata": {},
   "source": [
    "The septuple structure has to do with Python API [compatibility issues](https://kite.com/python/docs/sqlite3.Cursor.description)."
   ]
  },
  {
   "cell_type": "markdown",
   "metadata": {
    "slideshow": {
     "slide_type": "slide"
    }
   },
   "source": [
    "#### Making fetch happen\n",
    "\n",
    "`.fetchall()` is how you get the query results out of the object.\n",
    "\n",
    "You can also `.fetchone()` or `.fetchmany()`. The latter takes a number of records to return as a parameter."
   ]
  },
  {
   "cell_type": "code",
   "execution_count": 8,
   "metadata": {},
   "outputs": [
    {
     "data": {
      "text/plain": [
       "[(0,\n",
       "  '1',\n",
       "  'Goroka',\n",
       "  'Goroka',\n",
       "  'Papua New Guinea',\n",
       "  'GKA',\n",
       "  'AYGA',\n",
       "  '-6.081689',\n",
       "  '145.391881',\n",
       "  '5282',\n",
       "  '10',\n",
       "  'U',\n",
       "  'Pacific/Port_Moresby'),\n",
       " (1,\n",
       "  '2',\n",
       "  'Madang',\n",
       "  'Madang',\n",
       "  'Papua New Guinea',\n",
       "  'MAG',\n",
       "  'AYMD',\n",
       "  '-5.207083',\n",
       "  '145.7887',\n",
       "  '20',\n",
       "  '10',\n",
       "  'U',\n",
       "  'Pacific/Port_Moresby'),\n",
       " (2,\n",
       "  '3',\n",
       "  'Mount Hagen',\n",
       "  'Mount Hagen',\n",
       "  'Papua New Guinea',\n",
       "  'HGU',\n",
       "  'AYMH',\n",
       "  '-5.826789',\n",
       "  '144.295861',\n",
       "  '5388',\n",
       "  '10',\n",
       "  'U',\n",
       "  'Pacific/Port_Moresby'),\n",
       " (3,\n",
       "  '4',\n",
       "  'Nadzab',\n",
       "  'Nadzab',\n",
       "  'Papua New Guinea',\n",
       "  'LAE',\n",
       "  'AYNZ',\n",
       "  '-6.569828',\n",
       "  '146.726242',\n",
       "  '239',\n",
       "  '10',\n",
       "  'U',\n",
       "  'Pacific/Port_Moresby'),\n",
       " (4,\n",
       "  '5',\n",
       "  'Port Moresby Jacksons Intl',\n",
       "  'Port Moresby',\n",
       "  'Papua New Guinea',\n",
       "  'POM',\n",
       "  'AYPY',\n",
       "  '-9.443383',\n",
       "  '147.22005',\n",
       "  '146',\n",
       "  '10',\n",
       "  'U',\n",
       "  'Pacific/Port_Moresby'),\n",
       " (5,\n",
       "  '6',\n",
       "  'Wewak Intl',\n",
       "  'Wewak',\n",
       "  'Papua New Guinea',\n",
       "  'WWK',\n",
       "  'AYWK',\n",
       "  '-3.583828',\n",
       "  '143.669186',\n",
       "  '19',\n",
       "  '10',\n",
       "  'U',\n",
       "  'Pacific/Port_Moresby'),\n",
       " (6,\n",
       "  '7',\n",
       "  'Narsarsuaq',\n",
       "  'Narssarssuaq',\n",
       "  'Greenland',\n",
       "  'UAK',\n",
       "  'BGBW',\n",
       "  '61.160517',\n",
       "  '-45.425978',\n",
       "  '112',\n",
       "  '-3',\n",
       "  'E',\n",
       "  'America/Godthab'),\n",
       " (7,\n",
       "  '8',\n",
       "  'Nuuk',\n",
       "  'Godthaab',\n",
       "  'Greenland',\n",
       "  'GOH',\n",
       "  'BGGH',\n",
       "  '64.190922',\n",
       "  '-51.678064',\n",
       "  '283',\n",
       "  '-3',\n",
       "  'E',\n",
       "  'America/Godthab'),\n",
       " (8,\n",
       "  '9',\n",
       "  'Sondre Stromfjord',\n",
       "  'Sondrestrom',\n",
       "  'Greenland',\n",
       "  'SFJ',\n",
       "  'BGSF',\n",
       "  '67.016969',\n",
       "  '-50.689325',\n",
       "  '165',\n",
       "  '-3',\n",
       "  'E',\n",
       "  'America/Godthab'),\n",
       " (9,\n",
       "  '10',\n",
       "  'Thule Air Base',\n",
       "  'Thule',\n",
       "  'Greenland',\n",
       "  'THU',\n",
       "  'BGTL',\n",
       "  '76.531203',\n",
       "  '-68.703161',\n",
       "  '251',\n",
       "  '-4',\n",
       "  'E',\n",
       "  'America/Thule')]"
      ]
     },
     "execution_count": 8,
     "metadata": {},
     "output_type": "execute_result"
    }
   ],
   "source": [
    "cursor.fetchmany(10)"
   ]
  },
  {
   "cell_type": "markdown",
   "metadata": {
    "slideshow": {
     "slide_type": "slide"
    }
   },
   "source": [
    "**Task:** Get the descriptive data for airlines and routes tables"
   ]
  },
  {
   "cell_type": "code",
   "execution_count": 9,
   "metadata": {},
   "outputs": [
    {
     "data": {
      "text/plain": [
       "(('index', None, None, None, None, None, None),\n",
       " ('id', None, None, None, None, None, None),\n",
       " ('name', None, None, None, None, None, None),\n",
       " ('alias', None, None, None, None, None, None),\n",
       " ('iata', None, None, None, None, None, None),\n",
       " ('icao', None, None, None, None, None, None),\n",
       " ('callsign', None, None, None, None, None, None),\n",
       " ('country', None, None, None, None, None, None),\n",
       " ('active', None, None, None, None, None, None))"
      ]
     },
     "execution_count": 9,
     "metadata": {},
     "output_type": "execute_result"
    }
   ],
   "source": [
    "cursor.execute(\n",
    "    \"\"\"\n",
    "    SELECT *\n",
    "    FROM airlines\n",
    "    \"\"\"\n",
    ").description"
   ]
  },
  {
   "cell_type": "code",
   "execution_count": 10,
   "metadata": {
    "scrolled": true
   },
   "outputs": [
    {
     "data": {
      "text/plain": [
       "(('index', None, None, None, None, None, None),\n",
       " ('airline', None, None, None, None, None, None),\n",
       " ('airline_id', None, None, None, None, None, None),\n",
       " ('source', None, None, None, None, None, None),\n",
       " ('source_id', None, None, None, None, None, None),\n",
       " ('dest', None, None, None, None, None, None),\n",
       " ('dest_id', None, None, None, None, None, None),\n",
       " ('codeshare', None, None, None, None, None, None),\n",
       " ('stops', None, None, None, None, None, None),\n",
       " ('equipment', None, None, None, None, None, None))"
      ]
     },
     "execution_count": 10,
     "metadata": {},
     "output_type": "execute_result"
    }
   ],
   "source": [
    "cursor.execute(\n",
    "    \"\"\"SELECT *\n",
    "    FROM routes\n",
    "    \"\"\"\n",
    ").description"
   ]
  },
  {
   "cell_type": "markdown",
   "metadata": {
    "slideshow": {
     "slide_type": "slide"
    }
   },
   "source": [
    "***\n",
    "## Goal 4: Use basic SQL commands \n",
    "- Construct SQL queries\n",
    "- Use JOIN to merge tables along logical columns\n",
    "- Grouping Data with SQL"
   ]
  },
  {
   "cell_type": "markdown",
   "metadata": {
    "slideshow": {
     "slide_type": "slide"
    }
   },
   "source": [
    "### Construct SQL queries"
   ]
  },
  {
   "cell_type": "markdown",
   "metadata": {
    "slideshow": {
     "slide_type": "fragment"
    }
   },
   "source": [
    "**SELECT**: Which columns do you want?"
   ]
  },
  {
   "cell_type": "markdown",
   "metadata": {
    "slideshow": {
     "slide_type": "fragment"
    }
   },
   "source": [
    "**FROM**: Which table(s) is relevant?"
   ]
  },
  {
   "cell_type": "markdown",
   "metadata": {
    "slideshow": {
     "slide_type": "fragment"
    }
   },
   "source": [
    "**WHERE**: Filtering: Which rows do you want?"
   ]
  },
  {
   "cell_type": "markdown",
   "metadata": {},
   "source": [
    "(**GROUP BY / HAVING**): Do you want aggregate statistics?"
   ]
  },
  {
   "cell_type": "markdown",
   "metadata": {
    "slideshow": {
     "slide_type": "fragment"
    }
   },
   "source": [
    "**ORDER BY**: How do you want the results to appear?"
   ]
  },
  {
   "cell_type": "markdown",
   "metadata": {
    "slideshow": {
     "slide_type": "fragment"
    }
   },
   "source": [
    "**LIMIT**: Do you want all relevant matches?"
   ]
  },
  {
   "cell_type": "markdown",
   "metadata": {
    "slideshow": {
     "slide_type": "slide"
    }
   },
   "source": [
    "#### Options for each:"
   ]
  },
  {
   "cell_type": "markdown",
   "metadata": {},
   "source": [
    "> DISTINCT eliminates duplicates"
   ]
  },
  {
   "cell_type": "markdown",
   "metadata": {
    "slideshow": {
     "slide_type": "fragment"
    }
   },
   "source": [
    "**Select**:  `DISTINCT`, using `AS` to rename columns, single number aggregates, `COUNT()` to count, `*` for \"all\""
   ]
  },
  {
   "cell_type": "markdown",
   "metadata": {
    "slideshow": {
     "slide_type": "fragment"
    }
   },
   "source": [
    "**From:** also uses aliasing with `AS`"
   ]
  },
  {
   "cell_type": "markdown",
   "metadata": {
    "slideshow": {
     "slide_type": "fragment"
    }
   },
   "source": [
    "**Where**: `=`, `BETWEEN`, `IN`, wildcards with `%`, `AND`, `OR`, `NOT` pattern matching with `LIKE` and `ILIKE`"
   ]
  },
  {
   "cell_type": "markdown",
   "metadata": {
    "slideshow": {
     "slide_type": "fragment"
    }
   },
   "source": [
    "**Order by**: `ASC` and `DESC`"
   ]
  },
  {
   "cell_type": "markdown",
   "metadata": {
    "slideshow": {
     "slide_type": "fragment"
    }
   },
   "source": [
    "**Limit**:  #"
   ]
  },
  {
   "cell_type": "markdown",
   "metadata": {
    "slideshow": {
     "slide_type": "skip"
    }
   },
   "source": [
    "***"
   ]
  },
  {
   "cell_type": "markdown",
   "metadata": {
    "slideshow": {
     "slide_type": "slide"
    }
   },
   "source": [
    "**Tasks**:\n",
    "- Select only the names of active airlines in the United Kingdom from the airlines table. <br/>\n",
    "Hint: The values for 'active' are 'Y' and 'N'.\n",
    "- Select the unique list of countries with airports and order them alphabetically."
   ]
  },
  {
   "cell_type": "code",
   "execution_count": 11,
   "metadata": {},
   "outputs": [
    {
     "data": {
      "text/plain": [
       "[('Astraeus',),\n",
       " ('Air Southwest',),\n",
       " ('Aurigny Air Services',),\n",
       " ('Air Wales',),\n",
       " ('AD Aviation',),\n",
       " ('Air Foyle',),\n",
       " ('British Airways',),\n",
       " ('British International Helicopters',),\n",
       " ('bmi',),\n",
       " ('bmibaby',),\n",
       " ('British Midland Regional',),\n",
       " ('British Mediterranean Airways',),\n",
       " ('BA CityFlyer',),\n",
       " ('Crest Aviation',),\n",
       " ('Eastern Airways',),\n",
       " ('Excel Airways',),\n",
       " ('Excel Charter',),\n",
       " ('easyJet',),\n",
       " ('First Choice Airways',),\n",
       " ('Flightline',),\n",
       " ('Flybe',),\n",
       " ('Flyglobespan',),\n",
       " ('GB Airways',),\n",
       " ('Highland Airways',),\n",
       " ('Jet2.com',),\n",
       " ('Monarch Airlines',),\n",
       " ('MyTravel Airways',),\n",
       " ('Norfolk County Flight College',),\n",
       " ('Kinloss Flying Training Unit',),\n",
       " ('ScotAirways',),\n",
       " ('Thomas Cook Airlines',),\n",
       " ('Thomsonfly',),\n",
       " ('Virgin Atlantic Airways',),\n",
       " ('Jc royal.britannica',),\n",
       " ('Royal European Airlines',),\n",
       " ('CB Airways UK ( Interliging Flights )',),\n",
       " ('Air Cudlua',),\n",
       " ('BBN-Airways',),\n",
       " ('Rainbow Air Euro',),\n",
       " ('All Europe',)]"
      ]
     },
     "execution_count": 11,
     "metadata": {},
     "output_type": "execute_result"
    }
   ],
   "source": [
    "cursor.execute(\n",
    "    \"\"\"\n",
    "    SELECT name\n",
    "    FROM airlines\n",
    "    WHERE active='Y'\n",
    "    AND country='United Kingdom'\n",
    "    \"\"\"\n",
    ").fetchall()"
   ]
  },
  {
   "cell_type": "code",
   "execution_count": 12,
   "metadata": {},
   "outputs": [
    {
     "data": {
      "text/plain": [
       "[('Afghanistan',),\n",
       " ('Albania',),\n",
       " ('Algeria',),\n",
       " ('American Samoa',),\n",
       " ('Angola',),\n",
       " ('Anguilla',),\n",
       " ('Antarctica',),\n",
       " ('Antigua and Barbuda',),\n",
       " ('Argentina',),\n",
       " ('Armenia',),\n",
       " ('Aruba',),\n",
       " ('Australia',),\n",
       " ('Austria',),\n",
       " ('Azerbaijan',),\n",
       " ('Bahamas',),\n",
       " ('Bahrain',),\n",
       " ('Bangladesh',),\n",
       " ('Barbados',),\n",
       " ('Belarus',),\n",
       " ('Belgium',),\n",
       " ('Belize',),\n",
       " ('Benin',),\n",
       " ('Bermuda',),\n",
       " ('Bhutan',),\n",
       " ('Bolivia',),\n",
       " ('Bosnia and Herzegovina',),\n",
       " ('Botswana',),\n",
       " ('Brazil',),\n",
       " ('British Indian Ocean Territory',),\n",
       " ('British Virgin Islands',),\n",
       " ('Brunei',),\n",
       " ('Bulgaria',),\n",
       " ('Burkina Faso',),\n",
       " ('Burma',),\n",
       " ('Burundi',),\n",
       " ('Cambodia',),\n",
       " ('Cameroon',),\n",
       " ('Canada',),\n",
       " ('Cape Verde',),\n",
       " ('Cayman Islands',),\n",
       " ('Central African Republic',),\n",
       " ('Chad',),\n",
       " ('Chile',),\n",
       " ('China',),\n",
       " ('Christmas Island',),\n",
       " ('Cocos (Keeling) Islands',),\n",
       " ('Colombia',),\n",
       " ('Comoros',),\n",
       " ('Congo (Brazzaville)',),\n",
       " ('Congo (Kinshasa)',),\n",
       " ('Cook Islands',),\n",
       " ('Costa Rica',),\n",
       " (\"Cote d'Ivoire\",),\n",
       " ('Croatia',),\n",
       " ('Cuba',),\n",
       " ('Cyprus',),\n",
       " ('Czech Republic',),\n",
       " ('Denmark',),\n",
       " ('Djibouti',),\n",
       " ('Dominica',),\n",
       " ('Dominican Republic',),\n",
       " ('East Timor',),\n",
       " ('Ecuador',),\n",
       " ('Egypt',),\n",
       " ('El Salvador',),\n",
       " ('Equatorial Guinea',),\n",
       " ('Eritrea',),\n",
       " ('Estonia',),\n",
       " ('Ethiopia',),\n",
       " ('Falkland Islands',),\n",
       " ('Faroe Islands',),\n",
       " ('Fiji',),\n",
       " ('Finland',),\n",
       " ('France',),\n",
       " ('French Guiana',),\n",
       " ('French Polynesia',),\n",
       " ('Gabon',),\n",
       " ('Gambia',),\n",
       " ('Georgia',),\n",
       " ('Germany',),\n",
       " ('Ghana',),\n",
       " ('Gibraltar',),\n",
       " ('Greece',),\n",
       " ('Greenland',),\n",
       " ('Grenada',),\n",
       " ('Guadeloupe',),\n",
       " ('Guam',),\n",
       " ('Guatemala',),\n",
       " ('Guernsey',),\n",
       " ('Guinea',),\n",
       " ('Guinea-Bissau',),\n",
       " ('Guyana',),\n",
       " ('Haiti',),\n",
       " ('Honduras',),\n",
       " ('Hong Kong',),\n",
       " ('Hungary',),\n",
       " ('Iceland',),\n",
       " ('India',),\n",
       " ('Indonesia',),\n",
       " ('Iran',),\n",
       " ('Iraq',),\n",
       " ('Ireland',),\n",
       " ('Isle of Man',),\n",
       " ('Israel',),\n",
       " ('Italy',),\n",
       " ('Jamaica',),\n",
       " ('Japan',),\n",
       " ('Jersey',),\n",
       " ('Johnston Atoll',),\n",
       " ('Jordan',),\n",
       " ('Kazakhstan',),\n",
       " ('Kenya',),\n",
       " ('Kiribati',),\n",
       " ('Korea',),\n",
       " ('Kuwait',),\n",
       " ('Kyrgyzstan',),\n",
       " ('Laos',),\n",
       " ('Latvia',),\n",
       " ('Lebanon',),\n",
       " ('Lesotho',),\n",
       " ('Liberia',),\n",
       " ('Libya',),\n",
       " ('Lithuania',),\n",
       " ('Luxembourg',),\n",
       " ('Macau',),\n",
       " ('Macedonia',),\n",
       " ('Madagascar',),\n",
       " ('Malawi',),\n",
       " ('Malaysia',),\n",
       " ('Maldives',),\n",
       " ('Mali',),\n",
       " ('Malta',),\n",
       " ('Marshall Islands',),\n",
       " ('Martinique',),\n",
       " ('Mauritania',),\n",
       " ('Mauritius',),\n",
       " ('Mayotte',),\n",
       " ('Mexico',),\n",
       " ('Micronesia',),\n",
       " ('Midway Islands',),\n",
       " ('Moldova',),\n",
       " ('Monaco',),\n",
       " ('Mongolia',),\n",
       " ('Montenegro',),\n",
       " ('Montserrat',),\n",
       " ('Morocco',),\n",
       " ('Mozambique',),\n",
       " ('Myanmar',),\n",
       " ('Namibia',),\n",
       " ('Nauru',),\n",
       " ('Nepal',),\n",
       " ('Netherlands',),\n",
       " ('Netherlands Antilles',),\n",
       " ('New Caledonia',),\n",
       " ('New Zealand',),\n",
       " ('Nicaragua',),\n",
       " ('Niger',),\n",
       " ('Nigeria',),\n",
       " ('Niue',),\n",
       " ('Norfolk Island',),\n",
       " ('North Korea',),\n",
       " ('Northern Mariana Islands',),\n",
       " ('Norway',),\n",
       " ('Oman',),\n",
       " ('Pakistan',),\n",
       " ('Palau',),\n",
       " ('Palestine',),\n",
       " ('Panama',),\n",
       " ('Papua New Guinea',),\n",
       " ('Paraguay',),\n",
       " ('Peru',),\n",
       " ('Philippines',),\n",
       " ('Poland',),\n",
       " ('Portugal',),\n",
       " ('Puerto Rico',),\n",
       " ('Qatar',),\n",
       " ('Reunion',),\n",
       " ('Romania',),\n",
       " ('Russia',),\n",
       " ('Rwanda',),\n",
       " ('Saint Helena',),\n",
       " ('Saint Kitts and Nevis',),\n",
       " ('Saint Lucia',),\n",
       " ('Saint Pierre and Miquelon',),\n",
       " ('Saint Vincent and the Grenadines',),\n",
       " ('Samoa',),\n",
       " ('Sao Tome and Principe',),\n",
       " ('Saudi Arabia',),\n",
       " ('Senegal',),\n",
       " ('Serbia',),\n",
       " ('Seychelles',),\n",
       " ('Sierra Leone',),\n",
       " ('Singapore',),\n",
       " ('Slovakia',),\n",
       " ('Slovenia',),\n",
       " ('Solomon Islands',),\n",
       " ('Somalia',),\n",
       " ('South Africa',),\n",
       " ('South Georgia and the Islands',),\n",
       " ('South Korea',),\n",
       " ('South Sudan',),\n",
       " ('Spain',),\n",
       " ('Sri Lanka',),\n",
       " ('Sudan',),\n",
       " ('Suriname',),\n",
       " ('Svalbard',),\n",
       " ('Swaziland',),\n",
       " ('Sweden',),\n",
       " ('Switzerland',),\n",
       " ('Syria',),\n",
       " ('Taiwan',),\n",
       " ('Tajikistan',),\n",
       " ('Tanzania',),\n",
       " ('Thailand',),\n",
       " ('Togo',),\n",
       " ('Tonga',),\n",
       " ('Trinidad and Tobago',),\n",
       " ('Tunisia',),\n",
       " ('Turkey',),\n",
       " ('Turkmenistan',),\n",
       " ('Turks and Caicos Islands',),\n",
       " ('Tuvalu',),\n",
       " ('Uganda',),\n",
       " ('Ukraine',),\n",
       " ('United Arab Emirates',),\n",
       " ('United Kingdom',),\n",
       " ('United States',),\n",
       " ('Uruguay',),\n",
       " ('Uzbekistan',),\n",
       " ('Vanuatu',),\n",
       " ('Venezuela',),\n",
       " ('Vietnam',),\n",
       " ('Virgin Islands',),\n",
       " ('Wake Island',),\n",
       " ('Wallis and Futuna',),\n",
       " ('West Bank',),\n",
       " ('Western Sahara',),\n",
       " ('Yemen',),\n",
       " ('Zambia',),\n",
       " ('Zimbabwe',)]"
      ]
     },
     "execution_count": 12,
     "metadata": {},
     "output_type": "execute_result"
    }
   ],
   "source": [
    "cursor.execute(\n",
    "    \"\"\"\n",
    "    SELECT DISTINCT country\n",
    "    FROM airports\n",
    "    ORDER BY country\n",
    "    \"\"\"\n",
    ").fetchall()"
   ]
  },
  {
   "cell_type": "markdown",
   "metadata": {
    "slideshow": {
     "slide_type": "slide"
    }
   },
   "source": [
    "### SQL Joins"
   ]
  },
  {
   "cell_type": "markdown",
   "metadata": {
    "slideshow": {
     "slide_type": "fragment"
    }
   },
   "source": [
    "SQL joins can be used to both **add** data to a table and **remove** data from a table. "
   ]
  },
  {
   "cell_type": "markdown",
   "metadata": {},
   "source": [
    "> INNER give me all the records that have a value on both tables. \n",
    "LEFT give me all the values in this column in table A even if its not in B. \n",
    "LEFT B Null give me only the records in A and NOT B.  \n",
    "FULL OUTER JOIN is EVERYTHING.  \n",
    "'Use this column to pair up the rows' "
   ]
  },
  {
   "cell_type": "markdown",
   "metadata": {
    "slideshow": {
     "slide_type": "fragment"
    }
   },
   "source": [
    "![venn](img/venn.png)"
   ]
  },
  {
   "cell_type": "markdown",
   "metadata": {},
   "source": [
    "How are these different joins possible?\n",
    "\n",
    "Notice that I choose a column from each table \"on\" which to effect the join. This is the means by which I pair up the records from one table with the records of another.\n",
    "\n",
    "Look back up at the sample diagram under \"What is a Relational Database?\". We might use the \"student_id\" column to match up names in the names table with grades in the grades table. But what if there are values in one table's version of \"student_id\" that don't appear in the other table's version? In that case we need to let the software know whether or not we want to have *all* of the records, regardless of whether they have corresponding entries in all the tables we are joining. This makes for the variety depicted above.\n",
    "\n",
    "- If I select records from \"A INNER JOIN B\", then a record will be displayed *only if it exists in both tables*.\n",
    "\n",
    "- If I select records from \"A LEFT JOIN B\", then *all relevant records from A will be displayed*, regardless of whether they have representation in B. Records from B with no representation in A will *not* be displayed."
   ]
  },
  {
   "cell_type": "code",
   "execution_count": 13,
   "metadata": {},
   "outputs": [
    {
     "data": {
      "text/plain": [
       "[('Narsarsuaq', None, 'Greenland'),\n",
       " ('Nuuk', None, 'Greenland'),\n",
       " ('Sondre Stromfjord', None, 'Greenland'),\n",
       " ('Thule Air Base', None, 'Greenland'),\n",
       " ('Alderney', None, 'Guernsey')]"
      ]
     },
     "execution_count": 13,
     "metadata": {},
     "output_type": "execute_result"
    }
   ],
   "source": [
    "cursor.execute(\n",
    "    \"\"\"\n",
    "    SELECT p.name, l.name, p.country\n",
    "    FROM airports p\n",
    "    LEFT JOIN airlines l\n",
    "    ON p.country=l.country\n",
    "    ORDER BY l.name\n",
    "    LIMIT 5\n",
    "    \"\"\"\n",
    ").fetchall()"
   ]
  },
  {
   "cell_type": "markdown",
   "metadata": {},
   "source": [
    ">The nones are because of the LEFT join, and they don't exist in other table"
   ]
  },
  {
   "cell_type": "code",
   "execution_count": 15,
   "metadata": {},
   "outputs": [
    {
     "data": {
      "text/plain": [
       "[]"
      ]
     },
     "execution_count": 15,
     "metadata": {},
     "output_type": "execute_result"
    }
   ],
   "source": [
    "cursor.execute(\n",
    "    \"\"\"\n",
    "    SELECT *\n",
    "    FROM airlines\n",
    "    WHERE country='Greenland'\n",
    "    \"\"\"\n",
    ").fetchall()"
   ]
  },
  {
   "cell_type": "code",
   "execution_count": 14,
   "metadata": {},
   "outputs": [
    {
     "data": {
      "text/plain": [
       "[('Don Muang Intl', '1-2-go', 'Thailand'),\n",
       " ('Kamphaeng Saen', '1-2-go', 'Thailand'),\n",
       " ('Khok Kathiam', '1-2-go', 'Thailand'),\n",
       " ('U Taphao Intl', '1-2-go', 'Thailand'),\n",
       " ('Watthana Nakhon', '1-2-go', 'Thailand')]"
      ]
     },
     "execution_count": 14,
     "metadata": {},
     "output_type": "execute_result"
    }
   ],
   "source": [
    "cursor.execute(\n",
    "    \"\"\"\n",
    "    SELECT p.name, l.name, p.country\n",
    "    FROM airports p\n",
    "    INNER JOIN airlines l\n",
    "    ON p.country=l.country\n",
    "    ORDER BY l.name\n",
    "    LIMIT 5\n",
    "    \"\"\"\n",
    ").fetchall()"
   ]
  },
  {
   "cell_type": "code",
   "execution_count": null,
   "metadata": {
    "slideshow": {
     "slide_type": "slide"
    }
   },
   "outputs": [],
   "source": []
  }
 ],
 "metadata": {
  "kernelspec": {
   "display_name": "Python 3",
   "language": "python",
   "name": "python3"
  },
  "language_info": {
   "codemirror_mode": {
    "name": "ipython",
    "version": 3
   },
   "file_extension": ".py",
   "mimetype": "text/x-python",
   "name": "python",
   "nbconvert_exporter": "python",
   "pygments_lexer": "ipython3",
   "version": "3.8.5"
  }
 },
 "nbformat": 4,
 "nbformat_minor": 2
}
