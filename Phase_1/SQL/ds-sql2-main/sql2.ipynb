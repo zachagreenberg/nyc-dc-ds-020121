{
 "cells": [
  {
   "cell_type": "markdown",
   "metadata": {},
   "source": [
    "# More SQL Tools"
   ]
  },
  {
   "cell_type": "code",
   "execution_count": null,
   "metadata": {},
   "outputs": [],
   "source": [
    "import pandas as pd\n",
    "import sqlite3\n",
    "import pandasql"
   ]
  },
  {
   "cell_type": "markdown",
   "metadata": {},
   "source": [
    "![sql](sql-logo.jpg)"
   ]
  },
  {
   "cell_type": "markdown",
   "metadata": {},
   "source": [
    "## Agenda\n",
    "\n",
    "SWBAT:\n",
    "\n",
    "- Use `GROUP BY` for SQL queries of aggregates;\n",
    "- Use `CASE WHEN` as an \"if\" in more complex SQL queries;\n",
    "- Construct SQL queries that involve subqueries;\n",
    "- Connect SQL with `pandas`;\n",
    "- Describe various dialects of SQL;\n",
    "- Describe PostgreSQL as a more sophisticated alternative to SQLite;"
   ]
  },
  {
   "cell_type": "code",
   "execution_count": null,
   "metadata": {},
   "outputs": [],
   "source": [
    "cur = sqlite3.connect('flights.db').cursor()"
   ]
  },
  {
   "cell_type": "markdown",
   "metadata": {},
   "source": [
    "## Grouping statements\n",
    "\n",
    "Combine `SELECT` and `GROUP BY` when you want *aggregates* by values\n",
    "\n",
    "`SELECT` `COUNT`, `MIN(x)`, `MAX(x)`, `SUM(x)`, etc.\n",
    "\n",
    "`GROUP BY x`\n",
    "\n",
    "**Task**<br>\n",
    "- Which countries have the highest numbers of active airlines? Return the top 25."
   ]
  },
  {
   "cell_type": "code",
   "execution_count": null,
   "metadata": {},
   "outputs": [],
   "source": [
    "cur.execute(\n",
    "\"\"\"\n",
    "SELECT COUNT() num, country\n",
    "FROM airlines\n",
    "WHERE active='Y'\n",
    "GROUP BY country\n",
    "ORDER BY num DESC\n",
    "LIMIT 25\n",
    "\"\"\"\n",
    ").fetchall()"
   ]
  },
  {
   "cell_type": "markdown",
   "metadata": {},
   "source": [
    "**Exercise**:\n",
    "- Which countries have the highest numbers of inactive airlines? Return all the countries that have more than 10."
   ]
  },
  {
   "cell_type": "code",
   "execution_count": null,
   "metadata": {},
   "outputs": [],
   "source": [
    "# Your code here\n"
   ]
  },
  {
   "cell_type": "markdown",
   "metadata": {},
   "source": [
    "**Exercise**:\n",
    "\n",
    "- Run a query that will return the number of airports by time zone. Each row should have a number of airports and a time zone."
   ]
  },
  {
   "cell_type": "code",
   "execution_count": null,
   "metadata": {},
   "outputs": [],
   "source": [
    "# Your code here\n"
   ]
  },
  {
   "cell_type": "markdown",
   "metadata": {},
   "source": [
    "### `CASE WHEN`\n",
    "\n",
    "`CASE WHEN` is SQL's version of `if ... then ... else`. It must *always* be closed with an `END`."
   ]
  },
  {
   "cell_type": "code",
   "execution_count": null,
   "metadata": {},
   "outputs": [],
   "source": [
    "# What will this query return?\n",
    "\n",
    "cur.execute(\n",
    "\"\"\"\n",
    "SELECT name, city,\n",
    "CASE WHEN latitude > 0 THEN 'northern hemisphere'\n",
    "ELSE 'southern hemisphere'\n",
    "END AS hemisphere\n",
    "FROM airports\n",
    "\"\"\"\n",
    ").fetchall()"
   ]
  },
  {
   "cell_type": "markdown",
   "metadata": {},
   "source": [
    "### Subqueries\n",
    "\n",
    "For more complex queries it can be helpful to break them down into multiple parts. Subqueries are a natural way to do this.\n",
    "\n",
    "Suppose I wanted to know, after collecting together the highest airport in each country, which one's name comes alphabetically first.\n",
    "\n",
    "I might break this down by first collecting the highest airports and then _wrapping_ that query in a higher query that selects the name and country I want _from_ the result of that first query:"
   ]
  },
  {
   "cell_type": "code",
   "execution_count": null,
   "metadata": {},
   "outputs": [],
   "source": [
    "cur.execute(\n",
    "\"\"\"\n",
    "SELECT MIN(name), country, altitude FROM\n",
    "(SELECT name, code, country, MAX(CAST(altitude AS INT)) AS altitude\n",
    "FROM airports\n",
    "GROUP BY country)\n",
    "\"\"\"\n",
    ").fetchall()"
   ]
  },
  {
   "cell_type": "markdown",
   "metadata": {},
   "source": [
    "## Using sql within `pandas` to filter\n",
    "\n",
    "`.query()`\n",
    "\n",
    "[query documentation](https://pandas.pydata.org/pandas-docs/stable/reference/api/pandas.DataFrame.query.html)\n",
    "\n",
    "### Get data for an example"
   ]
  },
  {
   "cell_type": "code",
   "execution_count": null,
   "metadata": {},
   "outputs": [],
   "source": [
    "shelter_data=pd.read_csv('https://data.austintexas.gov/api/\\\n",
    "views/9t4d-g238/rows.csv?accessType=DOWNLOAD')"
   ]
  },
  {
   "cell_type": "code",
   "execution_count": null,
   "metadata": {},
   "outputs": [],
   "source": [
    "shelter_data[shelter_data['Name'] == \"Oscar\"].head()"
   ]
  },
  {
   "cell_type": "markdown",
   "metadata": {},
   "source": [
    "### With .query()"
   ]
  },
  {
   "cell_type": "code",
   "execution_count": null,
   "metadata": {},
   "outputs": [],
   "source": [
    "oscar_data = shelter_data.query('Name == \"Oscar\"')\n",
    "oscar_data.head()"
   ]
  },
  {
   "cell_type": "markdown",
   "metadata": {},
   "source": [
    "## Transfering from sqlite to pandas\n",
    "\n",
    "`.read_sql()`"
   ]
  },
  {
   "cell_type": "code",
   "execution_count": null,
   "metadata": {},
   "outputs": [],
   "source": [
    "conn = sqlite3.connect(\"flights.db\")\n",
    "df = pd.read_sql(\"SELECT * FROM airports LIMIT 50\", conn)\n",
    "df"
   ]
  },
  {
   "cell_type": "markdown",
   "metadata": {},
   "source": [
    "**Exercise for later**: \n",
    "Convert one of the earlier queries in the lesson to a pandas data frame\n",
    "\n",
    "\n",
    "\n",
    "`pandasql` is a library that allows SQL-style querying of `pandas` DataFrames."
   ]
  },
  {
   "cell_type": "code",
   "execution_count": null,
   "metadata": {},
   "outputs": [],
   "source": [
    "pandasql.sqldf(\"SELECT name, code FROM df LIMIT 10\", env=globals())"
   ]
  },
  {
   "cell_type": "markdown",
   "metadata": {},
   "source": [
    "## Other Dialects of SQL"
   ]
  },
  {
   "cell_type": "markdown",
   "metadata": {},
   "source": [
    "There are many versions of SQL out there! Here are a few of the major players in the workplace:\n",
    "\n",
    "- SQLite (we've already seen this!)\n",
    "- T-SQL (Transact-SQL, used by Microsoft)\n",
    "- PostgreSQL (free and open-source!)\n",
    "- Oracle SQL\n",
    "- MySQL (half open-souce, half Oracle)\n",
    "\n",
    "### More Resources\n",
    "\n",
    "- [blog](https://learnsql.com/blog/what-sql-dialect-to-learn/) <br/>\n",
    "- There's a whole [wikibook](https://en.wikibooks.org/wiki/SQL_Dialects_Reference) on this!"
   ]
  },
  {
   "cell_type": "markdown",
   "metadata": {},
   "source": [
    "## Demo of SQL Interface on data.world"
   ]
  },
  {
   "cell_type": "code",
   "execution_count": null,
   "metadata": {},
   "outputs": [],
   "source": []
  },
  {
   "cell_type": "markdown",
   "metadata": {},
   "source": [
    "## Demo of PostgreSQL"
   ]
  },
  {
   "cell_type": "code",
   "execution_count": null,
   "metadata": {},
   "outputs": [],
   "source": []
  }
 ],
 "metadata": {
  "kernelspec": {
   "display_name": "Python 3",
   "language": "python",
   "name": "python3"
  },
  "language_info": {
   "codemirror_mode": {
    "name": "ipython",
    "version": 3
   },
   "file_extension": ".py",
   "mimetype": "text/x-python",
   "name": "python",
   "nbconvert_exporter": "python",
   "pygments_lexer": "ipython3",
   "version": "3.7.2"
  }
 },
 "nbformat": 4,
 "nbformat_minor": 4
}
