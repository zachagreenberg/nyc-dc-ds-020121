{
 "cells": [
  {
   "cell_type": "markdown",
   "metadata": {
    "toc": true
   },
   "source": [
    "<h1>Table of Contents<span class=\"tocSkip\"></span></h1>\n",
    "<div class=\"toc\"><ul class=\"toc-item\"><li><span><a href=\"#Agenda\" data-toc-modified-id=\"Agenda-1\"><span class=\"toc-item-num\">1&nbsp;&nbsp;</span>Agenda</a></span></li><li><span><a href=\"#Thomas-Bayes:-The-Badass-of-Probability-😎\" data-toc-modified-id=\"Thomas-Bayes:-The-Badass-of-Probability-😎-2\"><span class=\"toc-item-num\">2&nbsp;&nbsp;</span>Thomas Bayes: The Badass of Probability 😎</a></span><ul class=\"toc-item\"><li><span><a href=\"#The-Classic-Thought-Experiment\" data-toc-modified-id=\"The-Classic-Thought-Experiment-2.1\"><span class=\"toc-item-num\">2.1&nbsp;&nbsp;</span>The Classic Thought Experiment</a></span></li></ul></li><li><span><a href=\"#So-What-Do-These-Bayesians-Say?\" data-toc-modified-id=\"So-What-Do-These-Bayesians-Say?-3\"><span class=\"toc-item-num\">3&nbsp;&nbsp;</span>So What Do These Bayesians Say?</a></span><ul class=\"toc-item\"><li><span><a href=\"#Basically-C3P0-is-Wrong-&amp;-Hans-Solo-is-a-Badass\" data-toc-modified-id=\"Basically-C3P0-is-Wrong-&amp;-Hans-Solo-is-a-Badass-3.1\"><span class=\"toc-item-num\">3.1&nbsp;&nbsp;</span>Basically C3P0 is Wrong &amp; Hans Solo is a Badass</a></span></li><li><span><a href=\"#Other-Non-Star-Wars-Examples:\" data-toc-modified-id=\"Other-Non-Star-Wars-Examples:-3.2\"><span class=\"toc-item-num\">3.2&nbsp;&nbsp;</span>Other Non-Star Wars Examples:</a></span></li><li><span><a href=\"#The-Other-Faction---Frequentists\" data-toc-modified-id=\"The-Other-Faction---Frequentists-3.3\"><span class=\"toc-item-num\">3.3&nbsp;&nbsp;</span>The Other Faction - Frequentists</a></span><ul class=\"toc-item\"><li><span><a href=\"#Pondering-Time-🤔\" data-toc-modified-id=\"Pondering-Time-🤔-3.3.1\"><span class=\"toc-item-num\">3.3.1&nbsp;&nbsp;</span>Pondering Time 🤔</a></span></li></ul></li></ul></li><li><span><a href=\"#Bayes'-Theorem\" data-toc-modified-id=\"Bayes'-Theorem-4\"><span class=\"toc-item-num\">4&nbsp;&nbsp;</span>Bayes' Theorem</a></span><ul class=\"toc-item\"><li><span><a href=\"#Math-Time!-🤓\" data-toc-modified-id=\"Math-Time!-🤓-4.1\"><span class=\"toc-item-num\">4.1&nbsp;&nbsp;</span>Math Time! 🤓</a></span><ul class=\"toc-item\"><li><span><a href=\"#Drumroll-Please-🥁…-Presenting,-Bayes'-Theorem!\" data-toc-modified-id=\"Drumroll-Please-🥁…-Presenting,-Bayes'-Theorem!-4.1.1\"><span class=\"toc-item-num\">4.1.1&nbsp;&nbsp;</span>Drumroll Please 🥁… Presenting, Bayes' Theorem!</a></span></li></ul></li><li><span><a href=\"#Understanding-the-Math\" data-toc-modified-id=\"Understanding-the-Math-4.2\"><span class=\"toc-item-num\">4.2&nbsp;&nbsp;</span>Understanding the Math</a></span><ul class=\"toc-item\"><li><span><a href=\"#The-Example:-Fan-of-a-Movie-🌙\" data-toc-modified-id=\"The-Example:-Fan-of-a-Movie-🌙-4.2.1\"><span class=\"toc-item-num\">4.2.1&nbsp;&nbsp;</span>The Example: Fan of a Movie 🌙</a></span></li><li><span><a href=\"#Visualizing-Probabilities-&amp;-Bayes\" data-toc-modified-id=\"Visualizing-Probabilities-&amp;-Bayes-4.2.2\"><span class=\"toc-item-num\">4.2.2&nbsp;&nbsp;</span>Visualizing Probabilities &amp; Bayes</a></span><ul class=\"toc-item\"><li><span><a href=\"#Area-(Spaces)\" data-toc-modified-id=\"Area-(Spaces)-4.2.2.1\"><span class=\"toc-item-num\">4.2.2.1&nbsp;&nbsp;</span>Area (Spaces)</a></span></li></ul></li><li><span><a href=\"#A-More-Intuitive-Method:-The-Bayes-Factor\" data-toc-modified-id=\"A-More-Intuitive-Method:-The-Bayes-Factor-4.2.3\"><span class=\"toc-item-num\">4.2.3&nbsp;&nbsp;</span>A More Intuitive Method: The Bayes Factor</a></span><ul class=\"toc-item\"><li><span><a href=\"#Using-the-Previous-Example\" data-toc-modified-id=\"Using-the-Previous-Example-4.2.3.1\"><span class=\"toc-item-num\">4.2.3.1&nbsp;&nbsp;</span>Using the Previous Example</a></span></li></ul></li></ul></li></ul></li><li><span><a href=\"#Bayes'-Theorem-Examples:\" data-toc-modified-id=\"Bayes'-Theorem-Examples:-5\"><span class=\"toc-item-num\">5&nbsp;&nbsp;</span>Bayes' Theorem Examples:</a></span><ul class=\"toc-item\"><li><span><a href=\"#Scenario:-You-Tested-Positive-for-a-Disease-🤢\" data-toc-modified-id=\"Scenario:-You-Tested-Positive-for-a-Disease-🤢-5.1\"><span class=\"toc-item-num\">5.1&nbsp;&nbsp;</span>Scenario: You Tested Positive for a Disease 🤢</a></span><ul class=\"toc-item\"><li><span><a href=\"#The-Setup\" data-toc-modified-id=\"The-Setup-5.1.1\"><span class=\"toc-item-num\">5.1.1&nbsp;&nbsp;</span>The Setup</a></span></li><li><span><a href=\"#Q:-What-Does-the-Formula-Look-Like?\" data-toc-modified-id=\"Q:-What-Does-the-Formula-Look-Like?-5.1.2\"><span class=\"toc-item-num\">5.1.2&nbsp;&nbsp;</span>Q: What Does the Formula Look Like?</a></span><ul class=\"toc-item\"><li><span><a href=\"#ANSWER:\" data-toc-modified-id=\"ANSWER:-5.1.2.1\"><span class=\"toc-item-num\">5.1.2.1&nbsp;&nbsp;</span>ANSWER:</a></span></li></ul></li><li><span><a href=\"#Work-It-Out\" data-toc-modified-id=\"Work-It-Out-5.1.3\"><span class=\"toc-item-num\">5.1.3&nbsp;&nbsp;</span>Work It Out</a></span><ul class=\"toc-item\"><li><span><a href=\"#Defining-the-probabilities\" data-toc-modified-id=\"Defining-the-probabilities-5.1.3.1\"><span class=\"toc-item-num\">5.1.3.1&nbsp;&nbsp;</span>Defining the probabilities</a></span></li><li><span><a href=\"#Defining-the-parts-for-Bayes'-Theorem\" data-toc-modified-id=\"Defining-the-parts-for-Bayes'-Theorem-5.1.3.2\"><span class=\"toc-item-num\">5.1.3.2&nbsp;&nbsp;</span>Defining the parts for Bayes' Theorem</a></span></li><li><span><a href=\"#Final-result\" data-toc-modified-id=\"Final-result-5.1.3.3\"><span class=\"toc-item-num\">5.1.3.3&nbsp;&nbsp;</span>Final result</a></span></li><li><span><a href=\"#Q:-Interpretation?-Does-this-make-sense?\" data-toc-modified-id=\"Q:-Interpretation?-Does-this-make-sense?-5.1.3.4\"><span class=\"toc-item-num\">5.1.3.4&nbsp;&nbsp;</span>Q: Interpretation? Does this make sense?</a></span></li></ul></li></ul></li><li><span><a href=\"#Knowledge-Check!-🧠\" data-toc-modified-id=\"Knowledge-Check!-🧠-5.2\"><span class=\"toc-item-num\">5.2&nbsp;&nbsp;</span>Knowledge Check! 🧠</a></span><ul class=\"toc-item\"><li><span><a href=\"#Back-to-the-Code!\" data-toc-modified-id=\"Back-to-the-Code!-5.2.1\"><span class=\"toc-item-num\">5.2.1&nbsp;&nbsp;</span>Back to the Code!</a></span></li></ul></li></ul></li></ul></div>"
   ]
  },
  {
   "cell_type": "markdown",
   "metadata": {
    "heading_collapsed": true
   },
   "source": [
    "# Agenda"
   ]
  },
  {
   "cell_type": "markdown",
   "metadata": {
    "hidden": true
   },
   "source": [
    "SWBAT:\n",
    "\n",
    "- Contrast Bayesian and Frequentist philosophies of probability\n",
    "- Use Bayes' Theorem to update a prior belief"
   ]
  },
  {
   "cell_type": "markdown",
   "metadata": {
    "heading_collapsed": true
   },
   "source": [
    "# Thomas Bayes: The Badass of Probability 😎"
   ]
  },
  {
   "cell_type": "markdown",
   "metadata": {
    "hidden": true
   },
   "source": [
    "![\"Bayes since badass isn't an official last name\"](images/badass_bayes_tshirt.jpg)\n",
    "\n",
    "> [Shirt from SunFrog](https://www.sunfrog.com/Names/BadAss-BAYES-zilyjxurkm.html?86448) #notsponsored 😉 "
   ]
  },
  {
   "cell_type": "markdown",
   "metadata": {
    "heading_collapsed": true,
    "hidden": true
   },
   "source": [
    "## The Classic Thought Experiment"
   ]
  },
  {
   "cell_type": "markdown",
   "metadata": {
    "hidden": true
   },
   "source": [
    "- Sit behind a table\n",
    "- Toss an initial ball behind onto table\n",
    "- Toss another ball & assistant says where in relation the 1st ball lies\n",
    "- Repeat & continuously update the belief where the ball is"
   ]
  },
  {
   "cell_type": "markdown",
   "metadata": {
    "hidden": true
   },
   "source": [
    "Good explanation & demo of Bayes' first thought experiment: https://www.youtube.com/watch?v=7GgLSnQ48os"
   ]
  },
  {
   "cell_type": "markdown",
   "metadata": {
    "heading_collapsed": true
   },
   "source": [
    "# So What Do These Bayesians Say?"
   ]
  },
  {
   "cell_type": "markdown",
   "metadata": {
    "hidden": true
   },
   "source": [
    "**Bayesian interpretation of probability**: the expected outcome based on some _prior_ knowledge or belief"
   ]
  },
  {
   "cell_type": "markdown",
   "metadata": {
    "heading_collapsed": true,
    "hidden": true
   },
   "source": [
    "## Basically C3P0 is Wrong & Hans Solo is a Badass"
   ]
  },
  {
   "cell_type": "markdown",
   "metadata": {
    "hidden": true
   },
   "source": [
    "https://www.countbayesie.com/blog/2015/2/18/hans-solo-and-bayesian-priors"
   ]
  },
  {
   "cell_type": "markdown",
   "metadata": {
    "hidden": true
   },
   "source": [
    "> Hans is a one great pilot, so he likely will get through the asteroid field even if others will fail (crash and blow-up)"
   ]
  },
  {
   "cell_type": "markdown",
   "metadata": {
    "heading_collapsed": true,
    "hidden": true
   },
   "source": [
    "## Other Non-Star Wars Examples: "
   ]
  },
  {
   "cell_type": "markdown",
   "metadata": {
    "hidden": true
   },
   "source": [
    "> Every time I flipped this coin it landed heads, so next time I flip it it'll likely land on heads again.\n",
    ">\n",
    "> We observe a rating for two different online sellers, which should we choose?"
   ]
  },
  {
   "cell_type": "markdown",
   "metadata": {
    "heading_collapsed": true,
    "hidden": true
   },
   "source": [
    "## The Other Faction - Frequentists"
   ]
  },
  {
   "cell_type": "markdown",
   "metadata": {
    "hidden": true
   },
   "source": [
    "![Star Wars Empire Symbol](images/star_wars_empire_symbol.jpg)\n",
    "\n",
    "\n",
    "**Frequentists** interpretation of probability: the limit of frequency after many, many trials.\n",
    "\n",
    "Basically, the Bayesians assign a probability to a hypothesis but Frequentists test a hypothesis and determine probability with repeated trials.\n",
    "\n",
    "Some days you're a Frequentist, other days you're a Bayesian."
   ]
  },
  {
   "cell_type": "markdown",
   "metadata": {
    "heading_collapsed": true,
    "hidden": true
   },
   "source": [
    "### Pondering Time 🤔"
   ]
  },
  {
   "cell_type": "markdown",
   "metadata": {
    "hidden": true
   },
   "source": [
    "> When would it make sense to think like Bayesian or a Frequentist?"
   ]
  },
  {
   "cell_type": "markdown",
   "metadata": {
    "heading_collapsed": true
   },
   "source": [
    "# Bayes' Theorem"
   ]
  },
  {
   "cell_type": "markdown",
   "metadata": {
    "hidden": true
   },
   "source": [
    "Fun fact: Bayes never published or even wrote the theorem down. He felt it was so obvious (because, once again, Bayes is a badass). \n",
    "\n",
    "Richard Price (friend of Mr. Badass) went through papers after Bayes' death to see if anything was worth publishing."
   ]
  },
  {
   "cell_type": "markdown",
   "metadata": {
    "heading_collapsed": true,
    "hidden": true
   },
   "source": [
    "## Math Time! 🤓"
   ]
  },
  {
   "cell_type": "markdown",
   "metadata": {
    "hidden": true
   },
   "source": [
    "Wait don't go! The show's about to start!"
   ]
  },
  {
   "cell_type": "markdown",
   "metadata": {
    "heading_collapsed": true,
    "hidden": true
   },
   "source": [
    "### Drumroll Please 🥁… Presenting, Bayes' Theorem!"
   ]
  },
  {
   "cell_type": "markdown",
   "metadata": {
    "hidden": true
   },
   "source": [
    "$$P(A|B) = \\frac{P(B|A)}{P(B)}\\ P(A) $$\n",
    "\n",
    "$$P(A|B) =  \\frac{P(B|A)P(A)}{P(B)}$$"
   ]
  },
  {
   "cell_type": "markdown",
   "metadata": {
    "hidden": true
   },
   "source": [
    "Each part (note, depending how you approach this, you might group different parts together):\n",
    "\n",
    "- $P(A)$: *prior*\n",
    "- $P(A|B)$: *posterior*\n",
    "- $P(B|A)$: *likelihood*\n",
    "- $\\frac{1}{P(B)}$: *normalization*\n",
    "\n",
    "> That wasn't so bad at all!!"
   ]
  },
  {
   "cell_type": "markdown",
   "metadata": {
    "heading_collapsed": true,
    "hidden": true
   },
   "source": [
    "## Understanding the Math"
   ]
  },
  {
   "cell_type": "markdown",
   "metadata": {
    "hidden": true
   },
   "source": [
    "A lot of times, Bayes' Theorem can feel too abstract. Remember, Thomas Bayes never wrote that equation so it can help in breaking down what's going. We'll go over some methods in how we can think of problems that we use Bayes' Theorem to help solve."
   ]
  },
  {
   "cell_type": "markdown",
   "metadata": {
    "hidden": true
   },
   "source": [
    "But first let's present an example problem that we can use to ground ourselves in:"
   ]
  },
  {
   "cell_type": "markdown",
   "metadata": {
    "heading_collapsed": true,
    "hidden": true
   },
   "source": [
    "### The Example: Fan of a Movie 🌙"
   ]
  },
  {
   "cell_type": "markdown",
   "metadata": {
    "hidden": true
   },
   "source": [
    "> I'm a big fan of _Twilight_ and I want to be able to share my love for the series! Based on my experience, I found about 1 in 5 people (or 20%) also are fans of this vampire-werewolf saga.\n",
    ">\n",
    "> When I met Rory, they tell me they just watched _The Twilight Saga: New Moon_ (the second movie) at a friend's house this past month!"
   ]
  },
  {
   "cell_type": "markdown",
   "metadata": {
    "hidden": true
   },
   "source": [
    "![](https://upload.wikimedia.org/wikipedia/en/9/93/The_Twilight_Saga-_New_Moon_poster.JPG)"
   ]
  },
  {
   "cell_type": "markdown",
   "metadata": {
    "hidden": true
   },
   "source": [
    "> Now there are two scenarios here:\n",
    "> 1. Rory is a fan and watched the beloved sequel to _Twilight_. I estimate that if you're a fan, the chances of you watching one the five awe-inspiring movies in the past month is about 60%. (It would be more, but we fans get busy.)\n",
    "> 2. Rory isn't a fan and watched the sequel because it was just on. I estimate that if you're not a fan, there's only a 5% chance of you watching one of the movies in the past month (about 10x less likely)."
   ]
  },
  {
   "cell_type": "markdown",
   "metadata": {
    "hidden": true
   },
   "source": [
    "Reviewing Bayes' Theorem, we get:"
   ]
  },
  {
   "cell_type": "markdown",
   "metadata": {
    "hidden": true
   },
   "source": [
    "$P(A) = P(\\text{🌙 fan}) = 0.20$\n",
    "\n",
    "$P(B|A) = P(\\text{watched 🌙 in the past month, given you are a fan}) = 0.60$\n",
    "\n",
    "$P(B|\\neg A) = P(\\text{watched 🌙 in the past month, given you are NOT a fan}) = 0.05$\n",
    "\n",
    "$\\begin{aligned}\n",
    "P(B) &= P(\\text{watched 🌙 in the past month})  \\\\\n",
    "     &= P(B|A)\\cdot P(A) + P(B|\\neg A)\\cdot P(\\neg A) \\\\\n",
    "     &= 0.60\\cdot 0.20 + 0.05\\cdot 0.80 \\\\\n",
    "     &= 0.16 \n",
    "\\end{aligned}$"
   ]
  },
  {
   "cell_type": "markdown",
   "metadata": {
    "hidden": true
   },
   "source": [
    "So we get that the chances of someone like Rory is a _Twilight_ fan is:\n",
    "\n",
    "$$\\begin{aligned}\n",
    "P(A|B) &= P(\\text{🌙 fan & watched in the past month}) \\\\ \n",
    "       &= \\frac{P(B|A)P(A)}{P(B)} \\\\\n",
    "       &= \\frac{0.60 \\cdot 0.20}{0.16} \\\\\n",
    "       &= 0.75\n",
    "\\end{aligned}$$"
   ]
  },
  {
   "cell_type": "markdown",
   "metadata": {
    "ExecuteTime": {
     "end_time": "2021-02-28T19:25:14.437546Z",
     "start_time": "2021-02-28T19:25:14.434283Z"
    },
    "hidden": true
   },
   "source": [
    "So there's a $75\\%$ chance Rory is a fan too!"
   ]
  },
  {
   "cell_type": "markdown",
   "metadata": {
    "heading_collapsed": true,
    "hidden": true
   },
   "source": [
    "### Visualizing Probabilities & Bayes"
   ]
  },
  {
   "cell_type": "markdown",
   "metadata": {
    "hidden": true
   },
   "source": [
    "We are very visual creatures, so it can help if we try to visualize this same scenario."
   ]
  },
  {
   "cell_type": "markdown",
   "metadata": {
    "heading_collapsed": true,
    "hidden": true
   },
   "source": [
    "#### Area (Spaces)"
   ]
  },
  {
   "cell_type": "markdown",
   "metadata": {
    "hidden": true
   },
   "source": [
    "Imagine we have some random people and the ratios put forward are still true:\n",
    "\n",
    "* $P(A) = 20\\%$ of all people are _Twilight_ fans \n",
    "* $P(B|A) = 60\\%$ of all _Twilight_ fans have seen one of the movies in the past month\n",
    "* $P(B|\\neg A) = 5\\%$ of all non-_Twilight_ fans have seen one of the movies in the past month"
   ]
  },
  {
   "cell_type": "markdown",
   "metadata": {
    "hidden": true
   },
   "source": [
    "Using a pretend population of $50$ random people we get:\n",
    "\n",
    "-  $0.2\\cdot 50 = 10$ are _Twilight_ fans\n",
    "    - 4 haven't watched in the past month: 🌙\n",
    "    - 6 have watched in the past month: 🧛\n",
    "-  $0.8\\cdot 50 = 40$ are not _Twilight_ fans: \n",
    "    - 38 haven't watched in the past month: 🙂\n",
    "    - 2 have watched in the past month: 👁\n",
    "\n",
    "<pre>\n",
    "\n",
    "🧛🧛👁👁🙂🙂🙂🙂🙂🙂\n",
    "🧛🧛🙂🙂🙂🙂🙂🙂🙂🙂\n",
    "🧛🧛🙂🙂🙂🙂🙂🙂🙂🙂\n",
    "🌙🌙🙂🙂🙂🙂🙂🙂🙂🙂\n",
    "🌙🌙🙂🙂🙂🙂🙂🙂🙂🙂\n",
    "\n",
    "</pre>"
   ]
  },
  {
   "cell_type": "markdown",
   "metadata": {
    "hidden": true
   },
   "source": [
    "But we only care about those who watched (🧛 & 👁). So given that Rory watched one of the movies in the past month, we only care about this subset:\n",
    "\n",
    "<pre>\n",
    "\n",
    "🧛🧛👁👁\n",
    "🧛🧛\n",
    "🧛🧛\n",
    "\n",
    "</pre>\n",
    "\n",
    "Thus there is a $6$ out of $8$ chance Rory also is a _Twilight_ fan or simply $75\\%$"
   ]
  },
  {
   "cell_type": "markdown",
   "metadata": {
    "heading_collapsed": true,
    "hidden": true
   },
   "source": [
    "### A More Intuitive Method: The Bayes Factor"
   ]
  },
  {
   "cell_type": "markdown",
   "metadata": {
    "hidden": true
   },
   "source": [
    "The above visual example actually leads us to a more intuitive method which relies on _odds_ over _probability_.\n",
    "\n",
    "If we rearrange Bayes' Theorem, we can use the odds:\n",
    "\n",
    "$$P(A|B) =  \\frac{P(B|A)P(A)}{P(B)}$$\n",
    "\n",
    "$$O(A|B) =  O(A)\\frac{P(B|A)}{P(B|\\neg A)}$$\n"
   ]
  },
  {
   "cell_type": "markdown",
   "metadata": {
    "hidden": true
   },
   "source": [
    "We call this $\\frac{P(B|A)}{P(B|\\neg A)}$ the **Bayes factor** and can be seen how we update the prior odds."
   ]
  },
  {
   "cell_type": "markdown",
   "metadata": {
    "hidden": true
   },
   "source": [
    "To use this we, say what we want is the _odds_ that $A$ is true given $B$ is true (observed)"
   ]
  },
  {
   "cell_type": "markdown",
   "metadata": {
    "heading_collapsed": true,
    "hidden": true
   },
   "source": [
    "#### Using the Previous Example"
   ]
  },
  {
   "cell_type": "markdown",
   "metadata": {
    "hidden": true
   },
   "source": [
    "Going back to our _Twilight_ example:"
   ]
  },
  {
   "cell_type": "markdown",
   "metadata": {
    "hidden": true
   },
   "source": [
    "* $P(A) = 20\\%$ (or $O(A)= \\frac{1}{4}$ or {$1:4$}) of all people are _Twilight_ fans \n",
    "* $P(B|A) = 60\\%$ of all _Twilight_ fans have seen one of the movies in the past month\n",
    "* $P(B|\\neg A) = 5\\%$ of all non-_Twilight_ fans have seen one of the movies in the past month"
   ]
  },
  {
   "cell_type": "markdown",
   "metadata": {
    "hidden": true
   },
   "source": [
    "Well, then our odds form turns to:\n",
    "\n",
    "$$\\begin{aligned}\n",
    "O(A|B) &= O(A)\\frac{P(B|A)}{P(B|\\neg A)} \\\\\n",
    "\\\\\n",
    "       &= \\frac{1}{4} \\cdot \\frac{0.60}{0.05} \\\\\n",
    "       &= \\frac{1}{4} \\cdot 12 \\\\\n",
    "       &= \\frac{12}{4} \\\\\n",
    "       &= \\frac{3}{1} \\\\\n",
    "       & = 3:1 \\text{ odds}\n",
    "\\end{aligned}$$\n",
    "\n",
    "Or simply $3$ out of $4$ people who watched a movie from the _Twilight_ saga is a fan. That's the same $75\\%$ we found from before!"
   ]
  },
  {
   "cell_type": "markdown",
   "metadata": {
    "heading_collapsed": true,
    "hidden": true
   },
   "source": [
    "##### Going back to the visual example:"
   ]
  },
  {
   "cell_type": "markdown",
   "metadata": {
    "hidden": true
   },
   "source": [
    "Using a pretend population of $50$ random people we still get:\n",
    "\n",
    "-  $0.2\\cdot 50 = 10$ are _Twilight_ fans\n",
    "    - 4 haven't watched in the past month: 🌙\n",
    "    - 6 have watched in the past month: 🧛\n",
    "-  $0.8\\cdot 50 = 40$ are not _Twilight_ fans: \n",
    "    - 38 haven't watched in the past month: 🙂\n",
    "    - 2 have watched in the past month: 👁\n",
    "\n",
    "<pre>\n",
    "\n",
    "🧛🧛👁👁🙂🙂🙂🙂🙂🙂\n",
    "🧛🧛🙂🙂🙂🙂🙂🙂🙂🙂\n",
    "🧛🧛🙂🙂🙂🙂🙂🙂🙂🙂\n",
    "🌙🌙🙂🙂🙂🙂🙂🙂🙂🙂\n",
    "🌙🌙🙂🙂🙂🙂🙂🙂🙂🙂\n",
    "\n",
    "</pre>"
   ]
  },
  {
   "cell_type": "markdown",
   "metadata": {
    "heading_collapsed": true,
    "hidden": true
   },
   "source": [
    "##### Interpreting further:\n",
    "\n",
    "- There's $1$:$4$ odds you are a fan given no information\n",
    "- But if you watched a _Twilight_ movie in the past month, we know you're more likely to be a fan by the **Bayes factor** of 12 \n",
    "- We update our _prior_ belief with that knowledge to find we expect that there are 3 times **more** fans who watched in the past month than non-fans who watched in the past month"
   ]
  },
  {
   "cell_type": "markdown",
   "metadata": {
    "heading_collapsed": true
   },
   "source": [
    "# Bayes' Theorem Examples: "
   ]
  },
  {
   "cell_type": "markdown",
   "metadata": {
    "heading_collapsed": true,
    "hidden": true
   },
   "source": [
    "## Scenario: You Tested Positive for a Disease 🤢"
   ]
  },
  {
   "cell_type": "markdown",
   "metadata": {
    "hidden": true
   },
   "source": [
    "> Pretend we test positive for a rare disease"
   ]
  },
  {
   "cell_type": "markdown",
   "metadata": {
    "heading_collapsed": true,
    "hidden": true
   },
   "source": [
    "### The Setup"
   ]
  },
  {
   "cell_type": "markdown",
   "metadata": {
    "hidden": true
   },
   "source": [
    "Let's assume some things to get quantify:\n",
    "\n",
    "- Disease is rare; only 0.01% of the population has it\n",
    "- Test is 99% accurate \n",
    "    + Correctly identifies 99% of the time whether you are sick or not"
   ]
  },
  {
   "cell_type": "markdown",
   "metadata": {
    "heading_collapsed": true,
    "hidden": true
   },
   "source": [
    "### Q: What Does the Formula Look Like?"
   ]
  },
  {
   "cell_type": "markdown",
   "metadata": {
    "heading_collapsed": true,
    "hidden": true
   },
   "source": [
    "#### ANSWER:"
   ]
  },
  {
   "cell_type": "markdown",
   "metadata": {
    "hidden": true
   },
   "source": [
    "$A$ → I have the disease\n",
    "\n",
    "$B$ → I test positive\n",
    "\n",
    "----------\n",
    "\n",
    "$P(A) = P(\\text{have the disease}) = 0.0001$\n",
    "\n",
    "$P(B)$ = $P(\\text{test positive})$\n",
    "\n",
    "$P(A|B)$ = $P(\\text{having the disease given that test positive})$\n",
    "\n",
    "\n",
    "\n",
    "\n",
    "\n"
   ]
  },
  {
   "cell_type": "markdown",
   "metadata": {
    "heading_collapsed": true,
    "hidden": true
   },
   "source": [
    "##### Use Bayes' Theorem to fill it out:"
   ]
  },
  {
   "cell_type": "markdown",
   "metadata": {
    "hidden": true
   },
   "source": [
    "$P(sick | positive) =  \\frac{P(positive | sick)\\ P(sick)}{P(positive)}$"
   ]
  },
  {
   "cell_type": "markdown",
   "metadata": {
    "heading_collapsed": true,
    "hidden": true
   },
   "source": [
    "##### But we can be more specific by knowing the probability of testing positive for each case"
   ]
  },
  {
   "cell_type": "markdown",
   "metadata": {
    "hidden": true
   },
   "source": [
    "$P(positive) = P(sick)\\ P(positive | sick) + P(not\\ sick)\\ P(positive|not\\ sick)$"
   ]
  },
  {
   "cell_type": "markdown",
   "metadata": {
    "heading_collapsed": true,
    "hidden": true
   },
   "source": [
    "##### Finally, our ultimate equation"
   ]
  },
  {
   "cell_type": "markdown",
   "metadata": {
    "hidden": true
   },
   "source": [
    "$P(sick | positive) =  \\frac{P(positive | sick)\\ P(sick)}{P(sick)\\ P(positive | sick) + P(not\\ sick)\\ P(positive|not\\ sick)}$"
   ]
  },
  {
   "cell_type": "markdown",
   "metadata": {
    "heading_collapsed": true,
    "hidden": true
   },
   "source": [
    "### Work It Out"
   ]
  },
  {
   "cell_type": "markdown",
   "metadata": {
    "heading_collapsed": true,
    "hidden": true
   },
   "source": [
    "#### Defining the probabilities"
   ]
  },
  {
   "cell_type": "code",
   "execution_count": null,
   "metadata": {
    "hidden": true
   },
   "outputs": [],
   "source": [
    "# probability of sick & healthy\n",
    "p_sick = 0.0001\n",
    "p_not_sick = 1 - p_sick"
   ]
  },
  {
   "cell_type": "code",
   "execution_count": null,
   "metadata": {
    "hidden": true
   },
   "outputs": [],
   "source": [
    "# probability of test being correct (accuracy)\n",
    "p_positive_sick = 0.99\n",
    "p_positive_not_sick = 1 - p_positive_sick"
   ]
  },
  {
   "cell_type": "code",
   "execution_count": null,
   "metadata": {
    "hidden": true
   },
   "outputs": [],
   "source": [
    "# probability of positive test (whether or not you are sick)\n",
    "p_positive = p_sick*p_positive_sick + p_not_sick*p_positive_not_sick"
   ]
  },
  {
   "cell_type": "markdown",
   "metadata": {
    "heading_collapsed": true,
    "hidden": true
   },
   "source": [
    "#### Defining the parts for Bayes' Theorem"
   ]
  },
  {
   "cell_type": "code",
   "execution_count": null,
   "metadata": {
    "hidden": true
   },
   "outputs": [],
   "source": [
    "# belief before hand\n",
    "prior = p_sick\n",
    "\n",
    "# how likely are we to test positive and be sick\n",
    "likelihood = p_positive_sick / p_positive"
   ]
  },
  {
   "cell_type": "code",
   "execution_count": null,
   "metadata": {
    "hidden": true
   },
   "outputs": [],
   "source": [
    "# handy dandy function\n",
    "def find_posterior(prior, likelihood):\n",
    "    return prior * likelihood"
   ]
  },
  {
   "cell_type": "markdown",
   "metadata": {
    "heading_collapsed": true,
    "hidden": true
   },
   "source": [
    "#### Final result"
   ]
  },
  {
   "cell_type": "code",
   "execution_count": null,
   "metadata": {
    "hidden": true
   },
   "outputs": [],
   "source": [
    "prob_youre_sick = find_posterior(prior, likelihood)\n",
    "\n",
    "print(f'You have a {prob_youre_sick*100:.2f}% chance of actually being sick')"
   ]
  },
  {
   "cell_type": "markdown",
   "metadata": {
    "heading_collapsed": true,
    "hidden": true
   },
   "source": [
    "#### Q: Interpretation? Does this make sense?"
   ]
  },
  {
   "cell_type": "markdown",
   "metadata": {
    "hidden": true
   },
   "source": [
    "<!-- Space to illustrate -->\n",
    "<pre>\n",
    "\n",
    "\n",
    "\n",
    "\n",
    "\n",
    "\n",
    "\n",
    "\n",
    "\n",
    "\n",
    "\n",
    "\n",
    "\n",
    "\n",
    "\n",
    "\n",
    "\n",
    "</pre>"
   ]
  },
  {
   "cell_type": "markdown",
   "metadata": {
    "heading_collapsed": true,
    "hidden": true
   },
   "source": [
    "## Knowledge Check! 🧠 "
   ]
  },
  {
   "cell_type": "markdown",
   "metadata": {
    "hidden": true
   },
   "source": [
    "> Pretend we test positive for a disease twice (independent tests!)"
   ]
  },
  {
   "cell_type": "markdown",
   "metadata": {
    "hidden": true
   },
   "source": [
    "***How do you expect your chances of having the disease change now?***"
   ]
  },
  {
   "cell_type": "markdown",
   "metadata": {
    "heading_collapsed": true,
    "hidden": true
   },
   "source": [
    "### Back to the Code!"
   ]
  },
  {
   "cell_type": "code",
   "execution_count": null,
   "metadata": {
    "hidden": true
   },
   "outputs": [],
   "source": [
    "# knowledge from having the disease\n",
    "prior = prob_youre_sick\n",
    "\n",
    "# Why doesn't likelihood not change?\n",
    "# Answer: same situation! Only our KNOWLEDGE has changed 🧠"
   ]
  },
  {
   "cell_type": "code",
   "execution_count": null,
   "metadata": {
    "hidden": true
   },
   "outputs": [],
   "source": [
    "prob_sick_after_2_tests = find_posterior(prior, likelihood)\n",
    "print(f'''\n",
    "    You have a {prob_sick_after_2_tests*100:.2f}% chance of actually being \n",
    "    sick after two positive tests\n",
    "''')"
   ]
  }
 ],
 "metadata": {
  "kernelspec": {
   "display_name": "Python 3",
   "language": "python",
   "name": "python3"
  },
  "language_info": {
   "codemirror_mode": {
    "name": "ipython",
    "version": 3
   },
   "file_extension": ".py",
   "mimetype": "text/x-python",
   "name": "python",
   "nbconvert_exporter": "python",
   "pygments_lexer": "ipython3",
   "version": "3.8.5"
  },
  "toc": {
   "base_numbering": 1,
   "nav_menu": {},
   "number_sections": true,
   "sideBar": false,
   "skip_h1_title": false,
   "title_cell": "Table of Contents",
   "title_sidebar": "Contents",
   "toc_cell": true,
   "toc_position": {
    "height": "calc(100% - 180px)",
    "left": "10px",
    "top": "150px",
    "width": "177.391px"
   },
   "toc_section_display": false,
   "toc_window_display": false
  },
  "varInspector": {
   "cols": {
    "lenName": 16,
    "lenType": 16,
    "lenVar": 40
   },
   "kernels_config": {
    "python": {
     "delete_cmd_postfix": "",
     "delete_cmd_prefix": "del ",
     "library": "var_list.py",
     "varRefreshCmd": "print(var_dic_list())"
    },
    "r": {
     "delete_cmd_postfix": ") ",
     "delete_cmd_prefix": "rm(",
     "library": "var_list.r",
     "varRefreshCmd": "cat(var_dic_list()) "
    }
   },
   "types_to_exclude": [
    "module",
    "function",
    "builtin_function_or_method",
    "instance",
    "_Feature"
   ],
   "window_display": false
  }
 },
 "nbformat": 4,
 "nbformat_minor": 2
}
