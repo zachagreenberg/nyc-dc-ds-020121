{
 "cells": [
  {
   "cell_type": "markdown",
   "metadata": {},
   "source": [
    "# Statistical Power"
   ]
  },
  {
   "cell_type": "markdown",
   "metadata": {},
   "source": [
    "Author: Greg Damico."
   ]
  },
  {
   "cell_type": "code",
   "execution_count": null,
   "metadata": {},
   "outputs": [],
   "source": [
    "import pandas as pd\n",
    "import numpy as np\n",
    "from scipy import stats\n",
    "import itertools"
   ]
  },
  {
   "cell_type": "markdown",
   "metadata": {},
   "source": [
    "The power of a statistical test is simply P(reject null | null is false). That is, a test's power grows with the chance that we shall accurately reject the null hypothesis.\n",
    "\n",
    "If $\\beta$ is the probability of a false negative, i.e. the probability that we fail to reject the null hypothesis when it is false, then clearly the power of an associated test is simply $1 - \\beta$.\n",
    "\n",
    "## Example of Power Growing with Sample Size\n",
    "Consider some particular null hypothesis to the effect that Hepomanol, an experimental drug, has no effect in the treatment of liver cancer. And suppose in fact that this hypothesis is false. A typical test for the effectiveness of Hepomanol would involve patients with liver cancer taking both Hepomanol and a placebo. Some patients would show amelioration of symptoms and others would not. Given that the null hypothesis is false, we ought to expect to see a correlation between those who took Hepomanol and those who experienced relief of symptoms. But the probability that we might, by random chance, see _no_ correlation is higher for smaller sample sizes. The more patients we test, the more likely we are to observe the actually existing correlation. Thus, all else equal, tests involving larger samples will have higher degrees of power.\n",
    "\n",
    "Suppose in particular that we have the following data about our liver cancer patients.\n",
    "\n",
    "1. The average tumor length for those given a placebo is 5 cm.\n",
    "2. The tumor lengths for the ten patients given Hepomanol are:\n",
    "\n",
    "5, 2, 2, 5, 2.5, 2, 2, 3, 2.5, 2.25\n",
    "\n",
    "Hepomanol has in fact had great success, and so we'll assume that the null hypothesis is in fact false.\n",
    "\n",
    "Our statistical test will take the form of sampling from this population of ten. We'll see that the larger the sample is, the greater is the power of the test.\n",
    "\n",
    "We'll be using a t-test here, so we'll need to have access to t-critical values: We'll use scipy.stats.t for those.\n",
    "\n",
    "We'll also need the standard deviation of our sample."
   ]
  },
  {
   "cell_type": "code",
   "execution_count": null,
   "metadata": {},
   "outputs": [],
   "source": [
    "# Calculating the power of a statistical test:\n",
    "\n",
    "\n",
    "data = pd.Series([5, 2, 2, 5, 2.5, 2, 2, 3, 2.5, 2.25])"
   ]
  },
  {
   "cell_type": "markdown",
   "metadata": {},
   "source": [
    "Suppose we take a sample of 3. In that case, with a one-tail test and a 5% threshold, there are two degrees of freedom. Let's calculate our critical value:"
   ]
  },
  {
   "cell_type": "code",
   "execution_count": null,
   "metadata": {},
   "outputs": [],
   "source": [
    "stats.t.ppf(0.05, 2)"
   ]
  },
  {
   "cell_type": "markdown",
   "metadata": {},
   "source": [
    " So our chance of rejecting the null hypothesis is just the chance that our statistic $t\\leq -2.92$.\n",
    "\n",
    "t is calculated as follows: $\\Large\\frac{\\bar{x} - \\mu}{\\frac{s}{\\sqrt{n}}}$.\n",
    "\n",
    "\n",
    "There are $10\\choose 3$ ($=120$) ways of selecting three data points from a population of ten. The loop below counts the number of times that we would reject the null hypothesis. Thus we can calculate the power of our test by simply taking that number and dividing by $120$."
   ]
  },
  {
   "cell_type": "code",
   "execution_count": null,
   "metadata": {},
   "outputs": [],
   "source": [
    "combs = list(itertools.combinations(data, 3))\n",
    "t_crit = stats.t.ppf(0.05, 2)\n",
    "ctr = 0\n",
    "\n",
    "for comb in combs:\n",
    "    if np.std(comb) != 0:\n",
    "        t = (np.mean(comb) - 5) / (np.std(comb) / 3**0.5)\n",
    "        if t <= t_crit:\n",
    "            ctr += 1\n",
    "    else:\n",
    "        ctr += 1\n",
    "ctr / 120"
   ]
  },
  {
   "cell_type": "markdown",
   "metadata": {},
   "source": [
    "Let's write a function that will calculate the statistical power of our test for _any_ sample size and _any_ data. Again we are assuming that the null hypothesis is in fact *false*."
   ]
  },
  {
   "cell_type": "code",
   "execution_count": null,
   "metadata": {},
   "outputs": [],
   "source": [
    "def stat_power(n, obs=data):\n",
    "    ctr = 0\n",
    "    combs = list(itertools.combinations(obs, n))\n",
    "    for sample in combs:\n",
    "        if np.std(sample) != 0:\n",
    "            if (np.mean(sample) - 5) / (np.std(sample) / n ** 0.5)\\\n",
    "            <= -stats.t.ppf(0.95, df=n-1):\n",
    "                ctr += 1\n",
    "        else:\n",
    "            if sample[0] == 5:\n",
    "                pass\n",
    "            else:\n",
    "                ctr += 1\n",
    "    power = ctr / len(combs)\n",
    "    return power"
   ]
  },
  {
   "cell_type": "code",
   "execution_count": null,
   "metadata": {},
   "outputs": [],
   "source": [
    "stat_power(3)"
   ]
  },
  {
   "cell_type": "code",
   "execution_count": null,
   "metadata": {},
   "outputs": [],
   "source": [
    "# Plotting\n",
    "\n",
    "from matplotlib import pyplot as plt\n",
    "%matplotlib inline\n",
    "\n",
    "X = range(3, 9)\n",
    "y = [stat_power(i) for i in X]\n",
    "\n",
    "fig, ax = plt.subplots()\n",
    "ax.plot(X, y, 'g^');"
   ]
  },
  {
   "cell_type": "code",
   "execution_count": null,
   "metadata": {},
   "outputs": [],
   "source": []
  }
 ],
 "metadata": {
  "kernelspec": {
   "display_name": "Python 3",
   "language": "python",
   "name": "python3"
  },
  "language_info": {
   "codemirror_mode": {
    "name": "ipython",
    "version": 3
   },
   "file_extension": ".py",
   "mimetype": "text/x-python",
   "name": "python",
   "nbconvert_exporter": "python",
   "pygments_lexer": "ipython3",
   "version": "3.7.2"
  }
 },
 "nbformat": 4,
 "nbformat_minor": 2
}
