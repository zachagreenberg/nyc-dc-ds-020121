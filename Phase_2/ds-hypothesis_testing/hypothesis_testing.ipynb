{
 "cells": [
  {
   "cell_type": "markdown",
   "metadata": {},
   "source": [
    "# Hypothesis Testing"
   ]
  },
  {
   "cell_type": "code",
   "execution_count": 1,
   "metadata": {},
   "outputs": [],
   "source": [
    "from scipy import stats\n",
    "import numpy as np\n",
    "import seaborn as sns\n",
    "import matplotlib.pyplot as plt"
   ]
  },
  {
   "cell_type": "markdown",
   "metadata": {},
   "source": [
    "## Agenda\n",
    "\n",
    "SWBAT:\n",
    "- describe the basic framework and vocabulary for hypothesis testing;\n",
    "- define Null and Alternative Hypotheses;\n",
    "- define p-value, alpha, Type 1 and Type 2 Errors;\n",
    "- perform z-tests;\n",
    "- perform t-tests"
   ]
  },
  {
   "cell_type": "markdown",
   "metadata": {},
   "source": [
    "## Scenarios\n",
    "\n",
    "- Chemistry - do inputs from two different barley fields produce different\n",
    "yields?\n",
    "- Astrophysics - do star systems with near-orbiting gas giants have hotter\n",
    "stars?\n",
    "- Medicine - BMI vs. Hypertension, etc.\n",
    "- Business - which ad is more effective given engagement?"
   ]
  },
  {
   "cell_type": "markdown",
   "metadata": {},
   "source": [
    "![img1](./img/img1.png)"
   ]
  },
  {
   "cell_type": "markdown",
   "metadata": {},
   "source": [
    "![img2](./img/img2.png)"
   ]
  },
  {
   "cell_type": "markdown",
   "metadata": {},
   "source": [
    "## Basic framework and assumptions for hypothesis testing"
   ]
  },
  {
   "cell_type": "markdown",
   "metadata": {},
   "source": [
    "### High-Level Hypothesis Testing\n",
    "\n",
    "1. Start with a Scientific Question (yes/no)\n",
    "2. Take the skeptical stance (null hypothesis) \n",
    "3. State the complement (alternative)\n",
    "4. Set a threshold for errors\n",
    "5. Create a model (test statistic) of the situation *assuming the null hypothesis is true*\n",
    "6. Decide whether or not to reject the null hypothesis"
   ]
  },
  {
   "cell_type": "markdown",
   "metadata": {},
   "source": [
    "**Intuition** \n",
    "\n",
    "Suppose you have a large dataset for a population. The data is normally distributed with mean 0 and standard deviation 1.\n",
    "\n",
    "Along comes a new sample with a sample mean of 2.9.\n",
    "\n",
    "> The idea behind hypothesis testing is a desire to quantify our belief as to whether our sample of observations came from the same population as the original dataset. The likelihood that mean came from the same sample\n",
    "\n",
    "According to the empirical (68–95–99.7) rule for normal distributions there is only roughly a 0.003 chance that the sample came from the same population, because it is roughly 3 standard deviations above the mean. \n",
    "\n",
    "<img src=\"img/normal_sd_new.png\" width=\"500\">\n",
    " \n",
    "To formalize this intuition, we define a threshold value for deciding whether we believe that the sample is from the same underlying population or not. This threshold is $\\alpha$, the **significance threshold**.  \n",
    "\n",
    "This serves as the foundation for hypothesis testing where we will reject or fail to reject the null hypothesis."
   ]
  },
  {
   "cell_type": "markdown",
   "metadata": {},
   "source": [
    "### Define Null and Alternative Hypotheses"
   ]
  },
  {
   "cell_type": "markdown",
   "metadata": {},
   "source": [
    "#### The Null Hypothesis\n",
    "\n",
    "![gmonk](https://vignette.wikia.nocookie.net/villains/images/2/2f/Ogmork.jpg/revision/latest?cb=20120217040244) There is NOTHING, **no** difference."
   ]
  },
  {
   "cell_type": "markdown",
   "metadata": {},
   "source": [
    "If we're testing the function of a new drug, then the null hypothesis will say that the drug has _no effect_ on patients, or anyway no effect relative to relief of the malady the drug was designed to combat. "
   ]
  },
  {
   "cell_type": "markdown",
   "metadata": {},
   "source": [
    "If we're testing whether Peeps cause dementia, then the null hypothesis will say that there is _no correlation_ between Peeps consumption and rate of dementia development."
   ]
  },
  {
   "cell_type": "markdown",
   "metadata": {},
   "source": [
    "The **alternative hypothesis** says the opposite of the null hypothesis."
   ]
  },
  {
   "cell_type": "markdown",
   "metadata": {},
   "source": [
    "## One-tailed vs. two-tailed tests"
   ]
  },
  {
   "cell_type": "markdown",
   "metadata": {},
   "source": [
    "![](img/one_tailed.png)"
   ]
  },
  {
   "cell_type": "markdown",
   "metadata": {},
   "source": [
    "![](img/two_tailed.png)"
   ]
  },
  {
   "cell_type": "markdown",
   "metadata": {},
   "source": [
    "## Two Tail Hypothesis\n",
    "\n",
    "$\\Large H_0: \\bar{x} - \\mu_p = 0  $  \n",
    "$\\Large H_1: \\bar{x} - \\mu_p \\neq 0  $\n",
    "    \n",
    "## Left Tail Hypothesis\n",
    "\n",
    "$\\Large H_0: \\bar{x} >= \\mu_p  $  \n",
    "$\\Large H_1: \\bar{x} < \\mu_p  $\n",
    "    \n",
    "## Right Tail Hypothesis\n",
    "\n",
    "$\\Large H_0: \\bar{x} <= \\mu_p  $  \n",
    "$\\Large H_1: \\bar{x} > \\mu_p  $"
   ]
  },
  {
   "cell_type": "markdown",
   "metadata": {},
   "source": [
    "## Let's write the appropriate hypotheses\n",
    "\n",
    "1. A drug manufacturer claims that a drug increases memory. It designs an experiment where both control and experimental groups are shown a series of images, and records the number of correct recollections until an error is made for each group. "
   ]
  },
  {
   "cell_type": "markdown",
   "metadata": {},
   "source": [
    "Answer:\n",
    "\n",
    "Null: People who took the drug don't have more correct recollections than people who didn't take the drug.\n",
    "\n",
    "Alternative: People who took the drug do have more correct recollections than people who did't take the drug."
   ]
  },
  {
   "cell_type": "markdown",
   "metadata": {},
   "source": [
    "2. An online toystore claims that putting a 5 minute timer on the checkout page of its website decreases conversion rate. It sets up two versions of its site, one with a timer and one with no timer. "
   ]
  },
  {
   "cell_type": "markdown",
   "metadata": {},
   "source": [
    "Answer  \n",
    "Null: Conversion rate for the page timer is not less than\n",
    "Alt: Conversion rate is less than"
   ]
  },
  {
   "cell_type": "markdown",
   "metadata": {},
   "source": [
    "3. The Kansas City public school system wants to test whether the scores of students who take standardized tests under the supervision of teachers differ from the scores of students who take them in rooms with school administrators."
   ]
  },
  {
   "cell_type": "markdown",
   "metadata": {},
   "source": [
    "Answer  \n",
    "Null: the scores don't differ\n",
    "Alt: the scores differ"
   ]
  },
  {
   "cell_type": "markdown",
   "metadata": {},
   "source": [
    "4. A pest control company believes that the length of cockroach legs in colonies which have persisted after two or more insecticide treatements are longer than those in which have not been treated with insecticide."
   ]
  },
  {
   "cell_type": "markdown",
   "metadata": {},
   "source": [
    "Answer  \n",
    "$"
   ]
  },
  {
   "cell_type": "markdown",
   "metadata": {},
   "source": [
    "5. A healthcare company believes patients between the ages of 18 and 25 participate in annual checkups less than all other age groups."
   ]
  },
  {
   "cell_type": "markdown",
   "metadata": {},
   "source": [
    "Answer  \n",
    "$"
   ]
  },
  {
   "cell_type": "markdown",
   "metadata": {},
   "source": [
    "## $p$-value, $\\alpha$, Type I/II errors"
   ]
  },
  {
   "cell_type": "markdown",
   "metadata": {},
   "source": [
    "### $p$-Values based on if the null hypothesis were true\n",
    "\n",
    "The basic idea of a $p$-value is to quantify the probability that the results seen are in fact the result of mere random chance. This is connected with the null hypothesis: If the null hypothesis is true and there is no significant correlation between the population variables X and Y, then of course any correlation between X and Y observed in our sample would have to be the result of mere random chance.\n",
    "\n",
    "**How Unlikely Is Too Unlikely?**\n",
    "\n",
    "### $\\alpha$ is the threshold\n",
    "\n",
    "Suppose we calculate a $p$-value for some statistic we've measured (more on this below!) and we get a $p$-value of 20%. This would mean that there is a 20% chance that the results we observed were the result of mere random chance. Probably this is high enough that we ought _not_ to reject the null hypothesis that our variables are uncorrelated.\n",
    "\n",
    "In practice, a $p$-value _threshold_ ($\\Large \\alpha$) of 5% is very often the default value for these tests of statistical significance. Thus, if it is calculated that the chance that the results we observed were actually the result of randomness is less than 1 in 20, then we would _reject_ the null hypothesis and _accept_ the alternative hypothesis.\n",
    "\n",
    "If $p \\lt \\alpha$, we reject the null hypothesis. It is unlikely to come about by chance\n",
    "\n",
    "If $p \\geq \\alpha$, we fail to reject the null hypothesis.\n",
    "\n",
    "> **We never _accept_ the null hypothesis, because future experiments may yield significant results.**\n",
    "\n",
    "* We do not throw out \"failed\" experiments! \n",
    "* We say \"this methodology, with this data, does not produce significant results\" \n",
    "    * Maybe we need more data!\n",
    "    \n",
    "### A Caution\n",
    "\n",
    "The choice of $\\alpha = 0.05$ is arbitrary and has survived as a pseudo-standard largely because of traditions in teaching.\n",
    "\n",
    "The [American Statistical Association](https://www.amstat.org) has [recently been questioning this standard](https://www.tandfonline.com/toc/utas20/73/sup1?nav=tocList&) and in fact there are movements to reject hypothesis testing in a more wholesale way.\n",
    "\n",
    "The chief thing to keep in mind is that binary test results are often misleading. And as for an appropriate $p$-level: This really depends on the case. In some scenarios, false positives are more costly than in others. We must also determine our $\\alpha$ level *before* we conduct our tests. Otherwise, we will be accused of $p$-hacking."
   ]
  },
  {
   "cell_type": "markdown",
   "metadata": {},
   "source": [
    "## Type 1 Errors (False Positives) and Type 2 Errors (False Negatives)\n",
    "\n",
    "Most tests for the presence of some factor are imperfect. And in fact most tests are imperfect in two ways: They will sometimes fail to predict the presence of that factor when it is after all present, and they will sometimes predict the presence of that factor when in fact it is not. Clearly, the lower these error rates are, the better, but it is not uncommon for these rates to be between 1% and 5%, and sometimes they are even higher than that. (Of course, if they're higher than 50%, then we're better off just flipping a coin to run our test!)\n",
    "\n",
    "Predicting the presence of some factor (i.e. counter to the null hypothesis) when in fact it is not there (i.e. the null hypothesis is true) is called a \"false positive\". Failing to predict the presence of some factor (i.e. in accord with the null hypothesis) when in fact it is there (i.e. the null hypothesis is false) is called a \"false negative\"."
   ]
  },
  {
   "cell_type": "code",
   "execution_count": 2,
   "metadata": {},
   "outputs": [
    {
     "data": {
      "image/png": "[encoded data removed]",
      "text/plain": [
       "<Figure size 432x288 with 1 Axes>"
      ]
     },
     "metadata": {
      "needs_background": "light"
     },
     "output_type": "display_data"
    }
   ],
   "source": [
    "fig, ax = plt.subplots()\n",
    "\n",
    "y = np.linspace(stats.norm(0, 1).ppf(0.001),\n",
    "             stats.norm(0, 1).ppf(0.999), 100)\n",
    "\n",
    "alpha = stats.norm(0, 1).ppf(0.95)\n",
    "\n",
    "\n",
    "ax.plot(y, stats.norm(0, 1).pdf(y), 'r-', lw=5, alpha=0.6, label='Type I Error')\n",
    "ax.axvline(alpha)\n",
    "\n",
    "px = np.arange(stats.norm(0, 1).ppf(0.95), stats.norm(0, 1).ppf(0.999), 0.001)\n",
    "ax.fill_between(px, stats.norm(0, 1).pdf(px), color = 'pink')\n",
    "\n",
    "ax.set_title('Alpha shaded blue: Type I Error')\n",
    "\n",
    "\n",
    "x = np.linspace(stats.norm(3, 1).ppf(0.001),\n",
    "             stats.norm(3, 1).ppf(0.999), 100)\n",
    "\n",
    "ax.plot(x, stats.norm(3, 1).pdf(x), 'b-', lw=5, alpha=0.6, label='Type II Error')\n",
    "\n",
    "\n",
    "px = np.arange(stats.norm(0, 1).ppf(0.5),stats.norm(0, 1).ppf(0.95), 0.001)\n",
    "ax.fill_between(px, stats.norm(3, 1).pdf(px), color='blue')\n",
    "ax.legend(loc='upper right')\n",
    "\n",
    "ax.set_title('Type I and Type II Errors')\n",
    "ax.text(1.35, 0.25, 'Alpha: .05', rotation=90)\n",
    "\n",
    "plt.tight_layout()"
   ]
  },
  {
   "cell_type": "markdown",
   "metadata": {},
   "source": [
    "> The shaded areas here represent Type I and Type II Errors  \n",
    "> Type 1 is False Pos (ie You believe you have cancer when you don't)  \n",
    "> Type II is False Neg (ie You believe you don't have cancer when you do)"
   ]
  },
  {
   "cell_type": "markdown",
   "metadata": {},
   "source": [
    "## $z$-Tests "
   ]
  },
  {
   "cell_type": "markdown",
   "metadata": {},
   "source": [
    "A $z$-test is used when you know the population mean and standard deviation."
   ]
  },
  {
   "cell_type": "markdown",
   "metadata": {},
   "source": [
    "Our test statistic is the $z$-stat."
   ]
  },
  {
   "cell_type": "markdown",
   "metadata": {},
   "source": [
    "For a single point in relation to a distribution of points:\n",
    "\n",
    "$z = \\dfrac{{x} - \\mu}{\\sigma}$\n",
    "\n"
   ]
  },
  {
   "cell_type": "markdown",
   "metadata": {},
   "source": [
    "<br>Our $z$-score tells us how many standard deviations away from the mean our point is.\n",
    "<br>We assume that the sample population is normally destributed, and we are familiar with the empirical rule: <br>66:95:99.7\n",
    "\n",
    "![](img/Empirical_Rule.png)\n"
   ]
  },
  {
   "cell_type": "markdown",
   "metadata": {},
   "source": [
    "Because of this, we can say, with a $z$-score of approximately 2, our data point is 2 standard deviations from the mean, and therefore has a probability of appearing of 1-.95, or .05. "
   ]
  },
  {
   "cell_type": "markdown",
   "metadata": {},
   "source": [
    "Recall the following example: Assume the mean height for women is normally distributed with a mean of 65 inches and a standard deviation of 4 inches. What is the $z$-score of a woman who is 75 inches tall?"
   ]
  },
  {
   "cell_type": "code",
   "execution_count": 3,
   "metadata": {},
   "outputs": [
    {
     "name": "stdout",
     "output_type": "stream",
     "text": [
      "2.5\n"
     ]
    }
   ],
   "source": [
    "z_score = (75 - 65)/4\n",
    "print(z_score)"
   ]
  },
  {
   "cell_type": "markdown",
   "metadata": {},
   "source": [
    ">This means they are 2.5 std away from the mean. Generally greater than 2 is normally statistically significant"
   ]
  },
  {
   "cell_type": "markdown",
   "metadata": {},
   "source": [
    "When we are working with a **sampling distribution**, the z score is equal to <br><br>  $\\Large z = \\dfrac{{\\bar{x}} - \\mu_{0}}{\\dfrac{\\sigma}{\\sqrt{n}}}$"
   ]
  },
  {
   "cell_type": "markdown",
   "metadata": {},
   "source": [
    ">The bottom term is standard error. The larger the n, the smaller the standard error which increases precision"
   ]
  },
  {
   "cell_type": "markdown",
   "metadata": {},
   "source": [
    "### Variable review: \n",
    "\n",
    "$\\bar{x}$ equals the sample mean.\n",
    "<br>$\\mu_{0}$ is the mean associated with the null hypothesis.\n",
    "<br>$\\sigma$ is the population standard deviation\n",
    "<br>$\\sqrt{n}$ is the sample size, which reflects that we are dealing with a sample of the population, not the entire population."
   ]
  },
  {
   "cell_type": "markdown",
   "metadata": {},
   "source": [
    "The denominator $\\frac{\\sigma}{\\sqrt{n}}$, is the standard error\n",
    "\n",
    "Standard error is the standard deviation of the sampling mean. We will go into that further below."
   ]
  },
  {
   "cell_type": "markdown",
   "metadata": {},
   "source": [
    "Once we have a z-stat, we can use a [z-table](http://www.z-table.com/) to find the associated p-value."
   ]
  },
  {
   "cell_type": "code",
   "execution_count": 4,
   "metadata": {},
   "outputs": [
    {
     "data": {
      "text/plain": [
       "2.3499999999999943"
      ]
     },
     "execution_count": 4,
     "metadata": {},
     "output_type": "execute_result"
    }
   ],
   "source": [
    "sample_female_heights = [68, 65, 69, 70, 70, \n",
    "                         61, 59, 65, 64, 66,\n",
    "                         72, 71, 68, 66, 64,\n",
    "                         65, 65, 70, 71, 63, \n",
    "                         72, 66, 65, 65, 72]\n",
    "\n",
    "x_bar = np.mean(sample_female_heights)\n",
    "mu = 65\n",
    "n = len(sample_female_heights)\n",
    "std = 4\n",
    "\n",
    "z = (x_bar - mu)/(4/np.sqrt(n))\n",
    "z"
   ]
  },
  {
   "cell_type": "markdown",
   "metadata": {},
   "source": [
    ">z statistic is centered at 0. It shows the difference between your sample mean and mu"
   ]
  },
  {
   "cell_type": "code",
   "execution_count": 5,
   "metadata": {},
   "outputs": [
    {
     "data": {
      "text/plain": [
       "66.88"
      ]
     },
     "execution_count": 5,
     "metadata": {},
     "output_type": "execute_result"
    }
   ],
   "source": [
    "x_bar"
   ]
  },
  {
   "cell_type": "code",
   "execution_count": 6,
   "metadata": {},
   "outputs": [
    {
     "name": "stdout",
     "output_type": "stream",
     "text": [
      "0.9906132944651613\n"
     ]
    }
   ],
   "source": [
    "# we can use stats to calculate the percentile\n",
    "print(stats.norm.cdf(z))\n",
    "\n",
    "#This is the p-value"
   ]
  },
  {
   "cell_type": "code",
   "execution_count": 16,
   "metadata": {},
   "outputs": [
    {
     "name": "stdout",
     "output_type": "stream",
     "text": [
      "0.9946284931238197\n"
     ]
    }
   ],
   "source": [
    "# We can also use the survival function to calculate the probability\n",
    "print(stats.norm.sf(z))"
   ]
  },
  {
   "cell_type": "markdown",
   "metadata": {},
   "source": [
    "### Example\n",
    "\n",
    "Let's work with the normal distribution, since it's so useful. Suppose we are told that African elephants have weights distributed normally around a mean of 9000 lbs., with a standard deviation of 900 lbs. Pachyderm Adventures has recently measured the weights of 40 African elephants in Gabon and has calculated their average weight at 8637 lbs. They claim that these statistics on the Gabonese elephants are significant. Let's find out!"
   ]
  },
  {
   "cell_type": "markdown",
   "metadata": {},
   "source": [
    "What is our null hypothesis?"
   ]
  },
  {
   "cell_type": "code",
   "execution_count": 9,
   "metadata": {},
   "outputs": [],
   "source": [
    "#Both groups of elements have the same weight (NO DIFFERENCE)\n",
    "\n",
    "#NULL: The elephants in Gabon have an average weight of 9000 lbs"
   ]
  },
  {
   "cell_type": "markdown",
   "metadata": {},
   "source": [
    "What is our alternative hypothesis?"
   ]
  },
  {
   "cell_type": "code",
   "execution_count": 10,
   "metadata": {},
   "outputs": [],
   "source": [
    "#The elephant weights are different\n",
    "\n",
    "#ALT: The elephants in Gabon do not have an average weight of 9000 lbs\n",
    "\n",
    "#OR\n",
    "\n",
    "#ALT: The elephants in Gabon do not have a lower average weight"
   ]
  },
  {
   "cell_type": "markdown",
   "metadata": {},
   "source": [
    ">With a one tail, you are assuming you know something about the population\n",
    "\n",
    "**This test below is a ONE TAILED TEST**"
   ]
  },
  {
   "cell_type": "markdown",
   "metadata": {},
   "source": [
    "What is our alpha?"
   ]
  },
  {
   "cell_type": "code",
   "execution_count": 11,
   "metadata": {},
   "outputs": [],
   "source": [
    "alpha = .05"
   ]
  },
  {
   "cell_type": "markdown",
   "metadata": {},
   "source": [
    "Remember we gave the formula for standard error before as $\\frac{\\sigma}{\\sqrt{n}}$\n",
    "<br> Let's calculate that with our elephant numbers."
   ]
  },
  {
   "cell_type": "code",
   "execution_count": 12,
   "metadata": {},
   "outputs": [
    {
     "data": {
      "text/plain": [
       "142.30249470757707"
      ]
     },
     "execution_count": 12,
     "metadata": {},
     "output_type": "execute_result"
    }
   ],
   "source": [
    "se = 900 / np.sqrt(40)\n",
    "se"
   ]
  },
  {
   "cell_type": "markdown",
   "metadata": {},
   "source": [
    "Now let's calculate the z-score analytically.\n",
    "Remember the formula for z-score:\n",
    "$z = \\dfrac{{\\bar{x}} - \\mu_{0}}{\\dfrac{\\sigma}{\\sqrt{n}}}$"
   ]
  },
  {
   "cell_type": "code",
   "execution_count": 13,
   "metadata": {},
   "outputs": [
    {
     "data": {
      "text/plain": [
       "-2.5509486999297257"
      ]
     },
     "execution_count": 13,
     "metadata": {},
     "output_type": "execute_result"
    }
   ],
   "source": [
    "x_bar = 8637\n",
    "mu = 9000\n",
    "se = 142.3\n",
    "\n",
    "z = (x_bar - mu) / se\n",
    "z"
   ]
  },
  {
   "cell_type": "code",
   "execution_count": 14,
   "metadata": {},
   "outputs": [
    {
     "data": {
      "text/plain": [
       "0.005371506876180296"
      ]
     },
     "execution_count": 14,
     "metadata": {},
     "output_type": "execute_result"
    }
   ],
   "source": [
    "# Now we get our p-value from the test statistic:\n",
    "stats.norm.cdf(z)\n",
    "\n",
    "#this is the pvalue to the left, it is significant because the z is -2.55"
   ]
  },
  {
   "cell_type": "code",
   "execution_count": 15,
   "metadata": {},
   "outputs": [
    {
     "data": {
      "text/plain": [
       "0.9946284931238197"
      ]
     },
     "execution_count": 15,
     "metadata": {},
     "output_type": "execute_result"
    }
   ],
   "source": [
    "stats.norm.sf(z)\n",
    "#this is the pvalue to the right"
   ]
  },
  {
   "cell_type": "markdown",
   "metadata": {},
   "source": [
    "> Two tailed you have to look the the distribution to the left and right, so it would involve the subtracting"
   ]
  },
  {
   "cell_type": "markdown",
   "metadata": {},
   "source": [
    "## $t$-Tests"
   ]
  },
  {
   "cell_type": "markdown",
   "metadata": {},
   "source": [
    "### z-tests vs t-tests\n",
    "\n",
    "According to the **Central Limit Theorem**, the sampling distribution of a statistic, like the sample mean, will follow a normal distribution _as long as the sample size is sufficiently large_. \n",
    "\n",
    "__What if we don't have large sample sizes?__\n",
    "\n",
    "When we do not know the population standard deviation or we have a small sample size, the sampling distribution of the sample statistic will follow a $t$-distribution.\n",
    "\n",
    "* Smaller sample sizes have larger variance, and $t$-distributions account for that by having heavier tails than the normal distribution.\n",
    "* $t$-distributions are parametrized by degrees of freedom, fewer degrees of freedom fatter tails. Also converges to a normal distribution as dof >> 0"
   ]
  },
  {
   "cell_type": "markdown",
   "metadata": {},
   "source": [
    "<img src=\"img/z_or_t_test.png\" width=\"500\">"
   ]
  },
  {
   "cell_type": "markdown",
   "metadata": {},
   "source": [
    "**When we perform a hypothesis test for the population mean, we want to know how likely it is to obtain the test statistic for the sample mean given the null hypothesis that the sample mean and population mean are not different.** \n",
    "\n",
    "The test statistic for the sample mean summarizes our sample observations. How do test statistics differ for one-sample $z$-tests and $t$-tests? \n",
    "\n",
    "A $t$-test is like a modified $z$-test. \n",
    "\n",
    "* Penalize for small sample size: \"degrees of freedom\"\n",
    "\n",
    "* Use sample standard deviation $s$ to estimate the population standard deviation $\\sigma$.\n",
    "\n",
    "<img src=\"img/img5.png\" width=\"500\">\n",
    "\n"
   ]
  },
  {
   "cell_type": "markdown",
   "metadata": {},
   "source": [
    "### One-sample $z$-test\n",
    "\n",
    "* For large enough sample sizes $n$ with known population standard deviation $\\sigma$, the test statistic of the sample mean $\\bar x$ is given by the **$z$-statistic**, \n",
    "$$Z = \\frac{\\bar{x} - \\mu}{\\sigma/\\sqrt{n}}$$ where $\\mu$ is the population mean.  \n",
    "\n",
    "* Our hypothesis test tries to answer the question of how likely we are to observe a $z$-statistic as extreme as our sample's given the null hypothesis that the sample and the population have the same mean, given a significance threshold of $\\alpha$. This is a one-sample $z$-test.  "
   ]
  },
  {
   "cell_type": "markdown",
   "metadata": {},
   "source": [
    "### One-sample t-test\n",
    "\n",
    "* For small sample sizes or samples with unknown population standard deviation, the test statistic of the sample mean is given by the **$t$-statistic**, \n",
    "$$ t = \\frac{\\bar{x} - \\mu}{s/\\sqrt{n}} $$ Here, $s$ is the sample standard deviation, which is used to estimate the population standard deviation, and $\\mu$ is the population mean.  \n",
    "\n",
    "* Our hypothesis test tries to answer the question of how likely we are to observe a $t$-statistic as extreme as our sample's given the null hypothesis that the sample and population have the same mean, given a significance threshold of $\\alpha$. This is a one-sample $t$-test."
   ]
  },
  {
   "cell_type": "markdown",
   "metadata": {},
   "source": [
    "### Compare and contrast $z$-tests and $t$-tests. \n",
    "In both cases, it is assumed that the samples are normally distributed. \n",
    "\n",
    "$t$-distributions have more probability in the tails. As the sample size increases, this decreases and the t distribution more closely resembles the $z$, or standard normal, distribution. By sample size $n = 1000$ they are virtually indistinguishable from each other. \n",
    "\n",
    "As the degrees of freedom go up, the $t$-distribution gets closer to the normal curve.\n",
    "\n",
    "After calculating our $t$-stat, we compare it against our $t$-critical value determined by our preditermined alpha and the degrees of freedom.\n",
    "\n",
    "Degrees of freedom = n - 1\n",
    "### T-value table\n",
    "\n",
    "![img6](./img/img6.png)\n",
    "\n",
    "We can either [look it up](http://www.ttable.org/), or calculate it with python:"
   ]
  },
  {
   "cell_type": "code",
   "execution_count": 17,
   "metadata": {},
   "outputs": [
    {
     "name": "stdout",
     "output_type": "stream",
     "text": [
      "Help on function ttest_1samp in module scipy.stats.stats:\n",
      "\n",
      "ttest_1samp(a, popmean, axis=0, nan_policy='propagate')\n",
      "    Calculate the T-test for the mean of ONE group of scores.\n",
      "    \n",
      "    This is a two-sided test for the null hypothesis that the expected value\n",
      "    (mean) of a sample of independent observations `a` is equal to the given\n",
      "    population mean, `popmean`.\n",
      "    \n",
      "    Parameters\n",
      "    ----------\n",
      "    a : array_like\n",
      "        Sample observation.\n",
      "    popmean : float or array_like\n",
      "        Expected value in null hypothesis. If array_like, then it must have the\n",
      "        same shape as `a` excluding the axis dimension.\n",
      "    axis : int or None, optional\n",
      "        Axis along which to compute test. If None, compute over the whole\n",
      "        array `a`.\n",
      "    nan_policy : {'propagate', 'raise', 'omit'}, optional\n",
      "        Defines how to handle when input contains nan.\n",
      "        The following options are available (default is 'propagate'):\n",
      "    \n",
      "          * 'propagate': returns nan\n",
      "          * 'raise': throws an error\n",
      "          * 'omit': performs the calculations ignoring nan values\n",
      "    \n",
      "    Returns\n",
      "    -------\n",
      "    statistic : float or array\n",
      "        t-statistic.\n",
      "    pvalue : float or array\n",
      "        Two-sided p-value.\n",
      "    \n",
      "    Examples\n",
      "    --------\n",
      "    >>> from scipy import stats\n",
      "    \n",
      "    >>> np.random.seed(7654567)  # fix seed to get the same result\n",
      "    >>> rvs = stats.norm.rvs(loc=5, scale=10, size=(50,2))\n",
      "    \n",
      "    Test if mean of random sample is equal to true mean, and different mean.\n",
      "    We reject the null hypothesis in the second case and don't reject it in\n",
      "    the first case.\n",
      "    \n",
      "    >>> stats.ttest_1samp(rvs,5.0)\n",
      "    (array([-0.68014479, -0.04323899]), array([ 0.49961383,  0.96568674]))\n",
      "    >>> stats.ttest_1samp(rvs,0.0)\n",
      "    (array([ 2.77025808,  4.11038784]), array([ 0.00789095,  0.00014999]))\n",
      "    \n",
      "    Examples using axis and non-scalar dimension for population mean.\n",
      "    \n",
      "    >>> stats.ttest_1samp(rvs,[5.0,0.0])\n",
      "    (array([-0.68014479,  4.11038784]), array([  4.99613833e-01,   1.49986458e-04]))\n",
      "    >>> stats.ttest_1samp(rvs.T,[5.0,0.0],axis=1)\n",
      "    (array([-0.68014479,  4.11038784]), array([  4.99613833e-01,   1.49986458e-04]))\n",
      "    >>> stats.ttest_1samp(rvs,[[5.0],[0.0]])\n",
      "    (array([[-0.68014479, -0.04323899],\n",
      "           [ 2.77025808,  4.11038784]]), array([[  4.99613833e-01,   9.65686743e-01],\n",
      "           [  7.89094663e-03,   1.49986458e-04]]))\n",
      "\n"
     ]
    }
   ],
   "source": [
    "help(stats.ttest_1samp)"
   ]
  },
  {
   "cell_type": "markdown",
   "metadata": {},
   "source": [
    "Let's go back to our Gabonese elephants, but let's reduce the sample size to 20, and assume we don't know the standard deviation of the population, but know the sample standard deviation to be ~355 lbs.\n",
    "\n",
    "Here is the new scenario: suppose we are told that African elephants have weights distributed normally around a mean of 9000 lbs. Pachyderm Adventures has recently measured the weights of 20 African elephants in Gabon and has calculated their average weight at 8637 lbs. They claim that these statistics on the Gabonese elephants are significant. Let's find out!\n",
    "\n",
    "Because the sample size is smaller, we will use a one sample $t$-test."
   ]
  },
  {
   "cell_type": "code",
   "execution_count": 99,
   "metadata": {},
   "outputs": [],
   "source": [
    "# here is the array of our weights\n",
    "\n",
    "gab = np.random.normal(8637, 355, 20) #params are mean, sd, and sample"
   ]
  },
  {
   "cell_type": "markdown",
   "metadata": {},
   "source": [
    "This random selection of values won't actually have our desired statistics!"
   ]
  },
  {
   "cell_type": "code",
   "execution_count": 100,
   "metadata": {},
   "outputs": [
    {
     "name": "stdout",
     "output_type": "stream",
     "text": [
      "8603.000564416714\n",
      "408.3009441442641\n"
     ]
    }
   ],
   "source": [
    "print(gab.mean())\n",
    "print(gab.std())"
   ]
  },
  {
   "cell_type": "markdown",
   "metadata": {},
   "source": [
    "Let's set this up so that we actually have what we want!"
   ]
  },
  {
   "cell_type": "code",
   "execution_count": 101,
   "metadata": {},
   "outputs": [],
   "source": [
    "#Adding the differnce between the sample mean and our desired mean to \n",
    "#recenter the mean to what we want"
   ]
  },
  {
   "cell_type": "code",
   "execution_count": 102,
   "metadata": {},
   "outputs": [
    {
     "name": "stdout",
     "output_type": "stream",
     "text": [
      "8637.000000000002\n"
     ]
    }
   ],
   "source": [
    "gab = gab + (8637 - gab.mean())\n",
    "print(gab.mean())"
   ]
  },
  {
   "cell_type": "code",
   "execution_count": 103,
   "metadata": {},
   "outputs": [],
   "source": [
    "#multiplying our desired std divided by the std we got to get the \n",
    "#std we want"
   ]
  },
  {
   "cell_type": "code",
   "execution_count": 104,
   "metadata": {},
   "outputs": [
    {
     "name": "stdout",
     "output_type": "stream",
     "text": [
      "355.0\n"
     ]
    }
   ],
   "source": [
    "gab = gab * (355 / gab.std())\n",
    "print(gab.std())"
   ]
  },
  {
   "cell_type": "code",
   "execution_count": 105,
   "metadata": {},
   "outputs": [
    {
     "data": {
      "text/plain": [
       "-4.57291648356295"
      ]
     },
     "execution_count": 105,
     "metadata": {},
     "output_type": "execute_result"
    }
   ],
   "source": [
    "# Let's continue to assume our alpha is 0.05\n",
    "x_bar = 8637\n",
    "mu = 9000\n",
    "sample_std = 355\n",
    "n = 20\n",
    "\n",
    "t_stat = (x_bar - mu)/(sample_std/np.sqrt(n))\n",
    "t_stat"
   ]
  },
  {
   "cell_type": "code",
   "execution_count": 106,
   "metadata": {},
   "outputs": [
    {
     "data": {
      "text/plain": [
       "0.00010391257352531215"
      ]
     },
     "execution_count": 106,
     "metadata": {},
     "output_type": "execute_result"
    }
   ],
   "source": [
    "stats.t.cdf(t_stat, df=19) "
   ]
  },
  {
   "cell_type": "code",
   "execution_count": 107,
   "metadata": {},
   "outputs": [
    {
     "data": {
      "text/plain": [
       "1.729132811521367"
      ]
     },
     "execution_count": 107,
     "metadata": {},
     "output_type": "execute_result"
    }
   ],
   "source": [
    "# Calculate our t-critical value\n",
    "stats.t.ppf(0.95, 19) #demonstrates where any t value lower than that, you'd reject the null"
   ]
  },
  {
   "cell_type": "markdown",
   "metadata": {},
   "source": [
    "Now, let's use the t-table to find our critical t-value.\n",
    "t-critical = -1.729\n"
   ]
  },
  {
   "cell_type": "code",
   "execution_count": 108,
   "metadata": {},
   "outputs": [
    {
     "data": {
      "text/plain": [
       "Ttest_1sampResult(statistic=-18.301264538182682, pvalue=1.5886845886208673e-13)"
      ]
     },
     "execution_count": 108,
     "metadata": {},
     "output_type": "execute_result"
    }
   ],
   "source": [
    "# Using Python:\n",
    "stats.ttest_1samp(gab, 9000) #test is data, and the null hypothesis"
   ]
  },
  {
   "cell_type": "markdown",
   "metadata": {},
   "source": [
    "So, yes, we can very confidently reject our null.\n"
   ]
  },
  {
   "cell_type": "markdown",
   "metadata": {},
   "source": [
    "### Two sample $t$-tests"
   ]
  },
  {
   "cell_type": "markdown",
   "metadata": {},
   "source": [
    "Sometimes, we are interested in determining whether two population means are equal. In this case, we use two-sample $t$-tests.\n",
    "\n",
    "There are two types of two-sample t-tests: **paired** and **independent** (unpaired) tests. \n",
    "\n",
    "What's the difference?  \n",
    "\n",
    "**Paired tests**: How is a sample affected by a certain treatment? The individuals in the sample remain the same and you compare how they change after treatment. \n",
    "\n",
    "> Paired tests is measuring the same person twice\n",
    "\n",
    "**Independent tests**: When we compare two different, unrelated samples to each other, we use an independent (or unpaired) two-sample t-test."
   ]
  },
  {
   "cell_type": "markdown",
   "metadata": {},
   "source": [
    "The test statistic for an unpaired two-sample t-test is slightly different than the test statistic for the one-sample $t$-test. \n",
    "\n",
    "Assuming equal variances, the test statistic for a two-sample $t$-test is given by: \n",
    "\n",
    "$$ t = \\frac{\\bar{x_1} - \\bar{x_2}}{\\sqrt{s^2 \\left( \\frac{1}{n_1} + \\frac{1}{n_2} \\right)}}$$\n",
    "\n",
    "where $s^2$ is the pooled sample variance, \n",
    "\n",
    "$$ s^2 = \\frac{\\sum_{i=1}^{n_1} \\left(x_i - \\bar{x_1}\\right)^2 + \\sum_{j=1}^{n_2} \\left(x_j - \\bar{x_2}\\right)^2 }{n_1 + n_2 - 2} $$\n",
    "\n",
    "Here, $n_1$ is the sample size of sample 1 and $n_2$ is the sample size of sample 2. \n",
    "\n",
    "An independent two-sample $t$-test for samples of size $n_1$ and $n_2$ has $(n_1 + n_2 - 2)$ degrees of freedom. "
   ]
  },
  {
   "cell_type": "markdown",
   "metadata": {},
   "source": [
    "Now let's say we want to compare our Gabonese elephants to a sample of elephants from Kenya. "
   ]
  },
  {
   "cell_type": "code",
   "execution_count": 109,
   "metadata": {},
   "outputs": [
    {
     "name": "stdout",
     "output_type": "stream",
     "text": [
      "259.79701691897856\n",
      "355.0\n"
     ]
    }
   ],
   "source": [
    "ken = [8762, 8880, 8743, 8901,\n",
    "        8252, 8966, 8369, 9001,\n",
    "         8857, 8147, 8927, 9005,\n",
    "         9083, 8477, 8760, 8915,\n",
    "         8927, 8829, 8579, 9002]\n",
    "\n",
    "\n",
    "print(np.std(ken))\n",
    "print(np.std(gab))"
   ]
  },
  {
   "cell_type": "code",
   "execution_count": 110,
   "metadata": {},
   "outputs": [
    {
     "data": {
      "text/plain": [
       "-12.480957112445621"
      ]
     },
     "execution_count": 110,
     "metadata": {},
     "output_type": "execute_result"
    }
   ],
   "source": [
    "# so\n",
    "\n",
    "x_1 = np.mean(gab)\n",
    "x_2 = np.mean(ken)\n",
    "s_1_2 = np.var(gab, ddof = 1)\n",
    "s_2_2 = np.var(ken, ddof = 1)\n",
    "n_1 = len(gab)\n",
    "n_2 = len(ken)\n",
    "s_p_2 = ((n_1 - 1)*s_1_2 + (n_2 - 1 )* s_2_2)/(n_1 + n_2 -2)\n",
    "\n",
    "t = (x_1 - x_2)/np.sqrt(s_p_2*(1/n_1 + 1/n_2))\n",
    "t"
   ]
  },
  {
   "cell_type": "code",
   "execution_count": 111,
   "metadata": {},
   "outputs": [
    {
     "data": {
      "text/plain": [
       "101852.36315789474"
      ]
     },
     "execution_count": 111,
     "metadata": {},
     "output_type": "execute_result"
    }
   ],
   "source": [
    "s_p_2 = ((n_1 - 1)*s_1_2 + (n_2 - 1 )* s_2_2)/(n_1 + n_2 -2)\n",
    "s_p_2"
   ]
  },
  {
   "cell_type": "code",
   "execution_count": 112,
   "metadata": {},
   "outputs": [
    {
     "name": "stdout",
     "output_type": "stream",
     "text": [
      "132657.8947368421 71046.83157894739\n"
     ]
    }
   ],
   "source": [
    "print(s_1_2, s_2_2 )"
   ]
  },
  {
   "cell_type": "code",
   "execution_count": 113,
   "metadata": {},
   "outputs": [
    {
     "data": {
      "text/plain": [
       "Ttest_indResult(statistic=-12.480957112445621, pvalue=2.0729431918872473e-14)"
      ]
     },
     "execution_count": 113,
     "metadata": {},
     "output_type": "execute_result"
    }
   ],
   "source": [
    "stats.ttest_ind(gab, ken, equal_var=False) #assuming the pop variance is the same, you'd set it to True"
   ]
  },
  {
   "cell_type": "markdown",
   "metadata": {},
   "source": [
    "> This is for 2 tailed test"
   ]
  },
  {
   "cell_type": "code",
   "execution_count": 115,
   "metadata": {},
   "outputs": [
    {
     "data": {
      "text/plain": [
       "-2.063898561628021"
      ]
     },
     "execution_count": 115,
     "metadata": {},
     "output_type": "execute_result"
    }
   ],
   "source": [
    "stats.t.ppf(.025, 24)"
   ]
  },
  {
   "cell_type": "code",
   "execution_count": 114,
   "metadata": {},
   "outputs": [
    {
     "data": {
      "text/plain": [
       "2.0638985616280205"
      ]
     },
     "execution_count": 114,
     "metadata": {},
     "output_type": "execute_result"
    }
   ],
   "source": [
    "stats.t.ppf(.975, 24)"
   ]
  },
  {
   "cell_type": "markdown",
   "metadata": {
    "slideshow": {
     "slide_type": "slide"
    }
   },
   "source": [
    "### Examples\n",
    "\n",
    "#### 1.\n",
    "\n",
    "A coffee shop relocates from Manhattan to Brooklyn and wants to make sure that all lattes are consistent before and after their move. They buy a new machine and hire a new barista. In Manhattan, lattes are made with 4 oz of espresso. A random sample of 25 lattes made in their new store in Brooklyn shows a mean of 4.6 oz and standard deviation of 0.22 oz. Are their lattes different now that they've relocated to Brooklyn? Use a significance level of $\\alpha = 0.01$."
   ]
  },
  {
   "cell_type": "markdown",
   "metadata": {},
   "source": [
    "**State the null and alternative hypotheses**"
   ]
  },
  {
   "cell_type": "code",
   "execution_count": null,
   "metadata": {},
   "outputs": [],
   "source": [
    "# Your Answer Here"
   ]
  },
  {
   "cell_type": "markdown",
   "metadata": {},
   "source": [
    "**What kind of test should we run? Why?**"
   ]
  },
  {
   "cell_type": "code",
   "execution_count": null,
   "metadata": {},
   "outputs": [],
   "source": [
    "# Your answer here"
   ]
  },
  {
   "cell_type": "markdown",
   "metadata": {},
   "source": [
    "**Perform the test.**"
   ]
  },
  {
   "cell_type": "code",
   "execution_count": null,
   "metadata": {},
   "outputs": [],
   "source": []
  },
  {
   "cell_type": "markdown",
   "metadata": {
    "slideshow": {
     "slide_type": "notes"
    }
   },
   "source": [
    "**Make a decision**."
   ]
  },
  {
   "cell_type": "code",
   "execution_count": null,
   "metadata": {},
   "outputs": [],
   "source": []
  },
  {
   "cell_type": "markdown",
   "metadata": {
    "slideshow": {
     "slide_type": "slide"
    }
   },
   "source": [
    "#### 2.\n",
    "\n",
    "I'm buying jeans from store A and store B. I know nothing about their inventory other than prices. \n",
    "\n",
    "``` python\n",
    "storeA = [20, 30, 30, 50, 75, 25, 30, 30, 40, 80]\n",
    "storeB = [60, 30, 70, 90, 60, 40, 70, 40]\n",
    "```\n",
    "\n",
    "Should I go just to one store for a less expensive pair of jeans? I'm pretty apprehensive about my decision, so $\\alpha = 0.1$. It's okay to assume the samples have equal variances."
   ]
  },
  {
   "cell_type": "markdown",
   "metadata": {
    "slideshow": {
     "slide_type": "slide"
    }
   },
   "source": [
    "**State the null and alternative hypotheses**"
   ]
  },
  {
   "cell_type": "code",
   "execution_count": null,
   "metadata": {},
   "outputs": [],
   "source": []
  },
  {
   "cell_type": "markdown",
   "metadata": {},
   "source": [
    "**What kind of test should we run? Why?** "
   ]
  },
  {
   "cell_type": "code",
   "execution_count": null,
   "metadata": {},
   "outputs": [],
   "source": []
  },
  {
   "cell_type": "markdown",
   "metadata": {},
   "source": [
    "**Perform the test.**"
   ]
  },
  {
   "cell_type": "code",
   "execution_count": null,
   "metadata": {},
   "outputs": [],
   "source": []
  },
  {
   "cell_type": "markdown",
   "metadata": {},
   "source": [
    "**Make a decision.**"
   ]
  },
  {
   "cell_type": "code",
   "execution_count": null,
   "metadata": {},
   "outputs": [],
   "source": []
  },
  {
   "cell_type": "markdown",
   "metadata": {
    "slideshow": {
     "slide_type": "notes"
    }
   },
   "source": [
    "> We fail to reject the null hypothesis at a significance level of $\\alpha = 0.1$. We do not have evidence to support that jean prices are different in store A and store B. "
   ]
  },
  {
   "cell_type": "markdown",
   "metadata": {
    "slideshow": {
     "slide_type": "slide"
    }
   },
   "source": [
    "#### 3.\n",
    "\n",
    "You measure the delivery times of ten different restaurants in two different neighborhoods. You want to know if restaurants in the different neighborhoods have the same delivery times. It's okay to assume both samples have equal variances. Set your significance threshold to 0.05. \n",
    "\n",
    "``` python\n",
    "delivery_times_A = [28.4, 23.3, 30.4, 28.1, 29.4, 30.6, 27.8, 30.9, 27.0, 32.8]\n",
    "delivery_times_B = [26.4, 26.3, 27.4, 30.4, 25.1, 28.4, 23.3, 24.7, 31.8, 24.3]\n",
    "```"
   ]
  },
  {
   "cell_type": "markdown",
   "metadata": {
    "slideshow": {
     "slide_type": "slide"
    }
   },
   "source": [
    "**State the null and alternative hypotheses.**"
   ]
  },
  {
   "cell_type": "code",
   "execution_count": null,
   "metadata": {},
   "outputs": [],
   "source": []
  },
  {
   "cell_type": "markdown",
   "metadata": {
    "slideshow": {
     "slide_type": "slide"
    }
   },
   "source": [
    "**What kind of test should we run? Why?**"
   ]
  },
  {
   "cell_type": "code",
   "execution_count": null,
   "metadata": {},
   "outputs": [],
   "source": []
  },
  {
   "cell_type": "markdown",
   "metadata": {},
   "source": [
    "**Perform the test.**"
   ]
  },
  {
   "cell_type": "code",
   "execution_count": null,
   "metadata": {},
   "outputs": [],
   "source": []
  },
  {
   "cell_type": "markdown",
   "metadata": {},
   "source": [
    "**Make a decision.**"
   ]
  },
  {
   "cell_type": "code",
   "execution_count": null,
   "metadata": {},
   "outputs": [],
   "source": []
  },
  {
   "cell_type": "markdown",
   "metadata": {
    "slideshow": {
     "slide_type": "slide"
    }
   },
   "source": [
    "# Level Up: More practice problems!"
   ]
  },
  {
   "cell_type": "markdown",
   "metadata": {
    "slideshow": {
     "slide_type": "slide"
    }
   },
   "source": [
    "A rental car company claims the mean time to rent a car on their website is 60 seconds with a standard deviation of 30 seconds. A random sample of 36 customers attempted to rent a car on the website. The mean time to rent was 75 seconds. Is this enough evidence to contradict the company's claim at a significance level of $\\alpha = 0.05$? "
   ]
  },
  {
   "cell_type": "markdown",
   "metadata": {
    "slideshow": {
     "slide_type": "notes"
    }
   },
   "source": [
    "Null hypothesis:\n",
    "\n",
    "Alternative hypothesis:\n"
   ]
  },
  {
   "cell_type": "code",
   "execution_count": null,
   "metadata": {
    "slideshow": {
     "slide_type": "notes"
    }
   },
   "outputs": [],
   "source": [
    "# one-sample z-test \n"
   ]
  },
  {
   "cell_type": "markdown",
   "metadata": {
    "slideshow": {
     "slide_type": "notes"
    }
   },
   "source": [
    "Reject?:"
   ]
  },
  {
   "cell_type": "markdown",
   "metadata": {
    "slideshow": {
     "slide_type": "slide"
    }
   },
   "source": [
    "Consider the gain in weight (in grams) of 19 female rats between 28 and 84 days after birth. \n",
    "\n",
    "Twelve rats were fed on a high protein diet and seven rats were fed on a low protein diet.\n",
    "\n",
    "``` python\n",
    "high_protein = [134, 146, 104, 119, 124, 161, 107, 83, 113, 129, 97, 123]\n",
    "low_protein = [70, 118, 101, 85, 107, 132, 94]\n",
    "```\n",
    "\n",
    "Is there any difference in the weight gain of rats fed on high protein diet vs low protein diet? It's OK to assume equal sample variances. "
   ]
  },
  {
   "cell_type": "markdown",
   "metadata": {
    "slideshow": {
     "slide_type": "notes"
    }
   },
   "source": [
    "Null and alternative hypotheses? "
   ]
  },
  {
   "cell_type": "markdown",
   "metadata": {
    "slideshow": {
     "slide_type": "notes"
    }
   },
   "source": [
    "> null: \n",
    "\n",
    "> alternative: "
   ]
  },
  {
   "cell_type": "markdown",
   "metadata": {
    "slideshow": {
     "slide_type": "notes"
    }
   },
   "source": [
    "What kind of test should we perform and why? "
   ]
  },
  {
   "cell_type": "markdown",
   "metadata": {
    "slideshow": {
     "slide_type": "notes"
    }
   },
   "source": [
    "> Test:"
   ]
  },
  {
   "cell_type": "code",
   "execution_count": null,
   "metadata": {
    "slideshow": {
     "slide_type": "notes"
    }
   },
   "outputs": [],
   "source": []
  },
  {
   "cell_type": "markdown",
   "metadata": {
    "slideshow": {
     "slide_type": "notes"
    }
   },
   "source": [
    "We fail to reject the null hypothesis at a significance level of $\\alpha = 0.05$. "
   ]
  },
  {
   "cell_type": "markdown",
   "metadata": {
    "slideshow": {
     "slide_type": "slide"
    }
   },
   "source": [
    "**What if we wanted to test if the rats who ate a high protein diet gained more weight than those who ate a low-protein diet?**"
   ]
  },
  {
   "cell_type": "markdown",
   "metadata": {
    "slideshow": {
     "slide_type": "notes"
    }
   },
   "source": [
    "Null:\n",
    "\n",
    "alternative:"
   ]
  },
  {
   "cell_type": "markdown",
   "metadata": {
    "slideshow": {
     "slide_type": "notes"
    }
   },
   "source": [
    "Kind of test? "
   ]
  },
  {
   "cell_type": "markdown",
   "metadata": {
    "slideshow": {
     "slide_type": "notes"
    }
   },
   "source": [
    "Critical test statistic value? "
   ]
  },
  {
   "cell_type": "code",
   "execution_count": null,
   "metadata": {
    "slideshow": {
     "slide_type": "notes"
    }
   },
   "outputs": [],
   "source": []
  },
  {
   "cell_type": "markdown",
   "metadata": {
    "slideshow": {
     "slide_type": "notes"
    }
   },
   "source": [
    "Can we reject?"
   ]
  },
  {
   "cell_type": "markdown",
   "metadata": {
    "slideshow": {
     "slide_type": "slide"
    }
   },
   "source": [
    "# Summary \n",
    "\n",
    "Key Takeaways:\n",
    "\n",
    "* A statistical hypothesis test is a method for testing a hypothesis about a parameter in a population using data measured in a sample. \n",
    "* Hypothesis tests consist of a null hypothesis and an alternative hypothesis.\n",
    "* We test a hypothesis by determining the chance of obtaining a sample statistic if the null hypothesis regarding the population parameter is true. \n",
    "* One-sample $z$-tests and one-sample $t$-tests are hypothesis tests for the population mean $\\mu$. \n",
    "* We use a one-sample $z$-test for the population mean when the population standard deviation is known and the sample size is sufficiently large. We use a one-sample $t$-test for the population mean when the population standard deviation is unknown or when the sample size is small. \n",
    "* Two-sample $t$-tests are hypothesis tests for differences in two population means. "
   ]
  },
  {
   "cell_type": "code",
   "execution_count": 119,
   "metadata": {},
   "outputs": [],
   "source": [
    "import pandas as pd"
   ]
  },
  {
   "cell_type": "code",
   "execution_count": 161,
   "metadata": {},
   "outputs": [],
   "source": [
    "\n",
    "from collections import namedtuple\n",
    "\n",
    "Alumni = namedtuple('Alumni','name age gender degree title salary employer')\n",
    "\n",
    "alice = Alumni(name='Alice',\n",
    "               age=29,\n",
    "               gender='F',\n",
    "               degree ='PhD',\n",
    "               title = 'Data Scientist',\n",
    "               salary = 115000,\n",
    "               employer = 'Thumbtack')\n",
    "\n",
    "Bob = Alumni(name='Bob',\n",
    "               age=30,\n",
    "               gender='M',\n",
    "               degree ='PhD',\n",
    "               title = 'Data Analyst',\n",
    "               salary = 115000, \n",
    "             employer = 'Me')\n"
   ]
  },
  {
   "cell_type": "code",
   "execution_count": 168,
   "metadata": {},
   "outputs": [],
   "source": [
    "a = {'subjects':['math', 'science'], 'grades':['A', 'B']}"
   ]
  },
  {
   "cell_type": "code",
   "execution_count": 169,
   "metadata": {},
   "outputs": [
    {
     "ename": "TypeError",
     "evalue": "'dict' object is not callable",
     "output_type": "error",
     "traceback": [
      "\u001b[0;31m---------------------------------------------------------------------------\u001b[0m",
      "\u001b[0;31mTypeError\u001b[0m                                 Traceback (most recent call last)",
      "\u001b[0;32m<ipython-input-169-6378a9c5d5fa>\u001b[0m in \u001b[0;36m<module>\u001b[0;34m\u001b[0m\n\u001b[0;32m----> 1\u001b[0;31m \u001b[0ma\u001b[0m\u001b[0;34m(\u001b[0m\u001b[0;34m**\u001b[0m\u001b[0ma\u001b[0m\u001b[0;34m)\u001b[0m\u001b[0;34m\u001b[0m\u001b[0;34m\u001b[0m\u001b[0m\n\u001b[0m",
      "\u001b[0;31mTypeError\u001b[0m: 'dict' object is not callable"
     ]
    }
   ],
   "source": [
    "a(**a)"
   ]
  },
  {
   "cell_type": "code",
   "execution_count": 171,
   "metadata": {},
   "outputs": [
    {
     "data": {
      "text/plain": [
       "Alumni(name='Alice', age=29, gender='F', degree='PhD', title='Data Scientist', salary=115000, employer='Thumbtack')"
      ]
     },
     "execution_count": 171,
     "metadata": {},
     "output_type": "execute_result"
    }
   ],
   "source": [
    "alice"
   ]
  },
  {
   "cell_type": "code",
   "execution_count": 178,
   "metadata": {},
   "outputs": [],
   "source": [
    "dict1 = {'a': [10], 'b': 8}\n",
    "dict2 = {'a': [6], 'c': 4}\n",
    "dict2.update(dict1)"
   ]
  },
  {
   "cell_type": "code",
   "execution_count": 179,
   "metadata": {},
   "outputs": [
    {
     "data": {
      "text/plain": [
       "{'a': [10], 'c': 4, 'b': 8}"
      ]
     },
     "execution_count": 179,
     "metadata": {},
     "output_type": "execute_result"
    }
   ],
   "source": [
    "dict2"
   ]
  },
  {
   "cell_type": "code",
   "execution_count": 180,
   "metadata": {},
   "outputs": [],
   "source": [
    "df = pd.DataFrame.from_records(\n",
    "   [alice, Bob],\n",
    "   columns=Alumni._fields\n",
    ")"
   ]
  },
  {
   "cell_type": "code",
   "execution_count": 181,
   "metadata": {},
   "outputs": [
    {
     "data": {
      "text/html": [
       "<div>\n",
       "<style scoped>\n",
       "    .dataframe tbody tr th:only-of-type {\n",
       "        vertical-align: middle;\n",
       "    }\n",
       "\n",
       "    .dataframe tbody tr th {\n",
       "        vertical-align: top;\n",
       "    }\n",
       "\n",
       "    .dataframe thead th {\n",
       "        text-align: right;\n",
       "    }\n",
       "</style>\n",
       "<table border=\"1\" class=\"dataframe\">\n",
       "  <thead>\n",
       "    <tr style=\"text-align: right;\">\n",
       "      <th></th>\n",
       "      <th>name</th>\n",
       "      <th>age</th>\n",
       "      <th>gender</th>\n",
       "      <th>degree</th>\n",
       "      <th>title</th>\n",
       "      <th>salary</th>\n",
       "      <th>employer</th>\n",
       "    </tr>\n",
       "  </thead>\n",
       "  <tbody>\n",
       "    <tr>\n",
       "      <th>0</th>\n",
       "      <td>Alice</td>\n",
       "      <td>29</td>\n",
       "      <td>F</td>\n",
       "      <td>PhD</td>\n",
       "      <td>Data Scientist</td>\n",
       "      <td>115000</td>\n",
       "      <td>Thumbtack</td>\n",
       "    </tr>\n",
       "    <tr>\n",
       "      <th>1</th>\n",
       "      <td>Bob</td>\n",
       "      <td>30</td>\n",
       "      <td>M</td>\n",
       "      <td>PhD</td>\n",
       "      <td>Data Analyst</td>\n",
       "      <td>115000</td>\n",
       "      <td>Me</td>\n",
       "    </tr>\n",
       "  </tbody>\n",
       "</table>\n",
       "</div>"
      ],
      "text/plain": [
       "    name  age gender degree           title  salary   employer\n",
       "0  Alice   29      F    PhD  Data Scientist  115000  Thumbtack\n",
       "1    Bob   30      M    PhD    Data Analyst  115000         Me"
      ]
     },
     "execution_count": 181,
     "metadata": {},
     "output_type": "execute_result"
    }
   ],
   "source": [
    "df"
   ]
  },
  {
   "cell_type": "code",
   "execution_count": null,
   "metadata": {},
   "outputs": [],
   "source": []
  }
 ],
 "metadata": {
  "kernelspec": {
   "display_name": "Python 3",
   "language": "python",
   "name": "python3"
  },
  "language_info": {
   "codemirror_mode": {
    "name": "ipython",
    "version": 3
   },
   "file_extension": ".py",
   "mimetype": "text/x-python",
   "name": "python",
   "nbconvert_exporter": "python",
   "pygments_lexer": "ipython3",
   "version": "3.8.5"
  }
 },
 "nbformat": 4,
 "nbformat_minor": 4
}
