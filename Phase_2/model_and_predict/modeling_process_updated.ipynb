{
 "cells": [
  {
   "cell_type": "markdown",
   "metadata": {},
   "source": [
    "# Movie Gross Modelling\n",
    "\n",
    "Below are a list of steps that you should take while trying to complete your bake-off entry."
   ]
  },
  {
   "cell_type": "code",
   "execution_count": 1,
   "metadata": {},
   "outputs": [],
   "source": [
    "import numpy as np \n",
    "import pandas as pd\n",
    "import seaborn as sns\n",
    "from datetime import datetime\n",
    "import matplotlib.pyplot as plt\n",
    "%matplotlib inline\n",
    "pd.set_option('display.max_columns', 100)"
   ]
  },
  {
   "cell_type": "markdown",
   "metadata": {},
   "source": [
    "## Step 1: Read in Data"
   ]
  },
  {
   "cell_type": "code",
   "execution_count": 2,
   "metadata": {},
   "outputs": [
    {
     "name": "stdout",
     "output_type": "stream",
     "text": [
      "(2500, 28)\n"
     ]
    },
    {
     "data": {
      "text/html": [
       "<div>\n",
       "<style scoped>\n",
       "    .dataframe tbody tr th:only-of-type {\n",
       "        vertical-align: middle;\n",
       "    }\n",
       "\n",
       "    .dataframe tbody tr th {\n",
       "        vertical-align: top;\n",
       "    }\n",
       "\n",
       "    .dataframe thead th {\n",
       "        text-align: right;\n",
       "    }\n",
       "</style>\n",
       "<table border=\"1\" class=\"dataframe\">\n",
       "  <thead>\n",
       "    <tr style=\"text-align: right;\">\n",
       "      <th></th>\n",
       "      <th>color</th>\n",
       "      <th>director_name</th>\n",
       "      <th>num_critic_for_reviews</th>\n",
       "      <th>duration</th>\n",
       "      <th>director_facebook_likes</th>\n",
       "      <th>actor_3_facebook_likes</th>\n",
       "      <th>actor_2_name</th>\n",
       "      <th>actor_1_facebook_likes</th>\n",
       "      <th>genres</th>\n",
       "      <th>actor_1_name</th>\n",
       "      <th>movie_title</th>\n",
       "      <th>num_voted_users</th>\n",
       "      <th>cast_total_facebook_likes</th>\n",
       "      <th>actor_3_name</th>\n",
       "      <th>facenumber_in_poster</th>\n",
       "      <th>plot_keywords</th>\n",
       "      <th>movie_imdb_link</th>\n",
       "      <th>num_user_for_reviews</th>\n",
       "      <th>language</th>\n",
       "      <th>country</th>\n",
       "      <th>content_rating</th>\n",
       "      <th>budget</th>\n",
       "      <th>title_year</th>\n",
       "      <th>actor_2_facebook_likes</th>\n",
       "      <th>imdb_score</th>\n",
       "      <th>aspect_ratio</th>\n",
       "      <th>movie_facebook_likes</th>\n",
       "      <th>gross</th>\n",
       "    </tr>\n",
       "  </thead>\n",
       "  <tbody>\n",
       "    <tr>\n",
       "      <th>1630</th>\n",
       "      <td>Color</td>\n",
       "      <td>Luis Mandoki</td>\n",
       "      <td>85.0</td>\n",
       "      <td>131.0</td>\n",
       "      <td>43.0</td>\n",
       "      <td>362.0</td>\n",
       "      <td>John Savage</td>\n",
       "      <td>18000.0</td>\n",
       "      <td>Drama|Romance</td>\n",
       "      <td>Robin Wright</td>\n",
       "      <td>Message in a Bottle</td>\n",
       "      <td>28942</td>\n",
       "      <td>19815</td>\n",
       "      <td>Raphael Sbarge</td>\n",
       "      <td>0.0</td>\n",
       "      <td>beach|bottle|jogging|letter|love</td>\n",
       "      <td>http://www.imdb.com/title/tt0139462/?ref_=fn_t...</td>\n",
       "      <td>223.0</td>\n",
       "      <td>English</td>\n",
       "      <td>USA</td>\n",
       "      <td>PG-13</td>\n",
       "      <td>55000000.0</td>\n",
       "      <td>1999.0</td>\n",
       "      <td>652.0</td>\n",
       "      <td>6.1</td>\n",
       "      <td>2.35</td>\n",
       "      <td>0</td>\n",
       "      <td>52799004.0</td>\n",
       "    </tr>\n",
       "    <tr>\n",
       "      <th>1254</th>\n",
       "      <td>Color</td>\n",
       "      <td>Greg Mottola</td>\n",
       "      <td>342.0</td>\n",
       "      <td>109.0</td>\n",
       "      <td>99.0</td>\n",
       "      <td>57.0</td>\n",
       "      <td>Nelson Ascencio</td>\n",
       "      <td>176.0</td>\n",
       "      <td>Adventure|Comedy|Sci-Fi</td>\n",
       "      <td>Bobby Lee</td>\n",
       "      <td>Paul</td>\n",
       "      <td>192462</td>\n",
       "      <td>390</td>\n",
       "      <td>Jeremy Owen</td>\n",
       "      <td>0.0</td>\n",
       "      <td>alien|geek|nerd|road trip|ufo</td>\n",
       "      <td>http://www.imdb.com/title/tt1092026/?ref_=fn_t...</td>\n",
       "      <td>334.0</td>\n",
       "      <td>English</td>\n",
       "      <td>USA</td>\n",
       "      <td>R</td>\n",
       "      <td>40000000.0</td>\n",
       "      <td>2011.0</td>\n",
       "      <td>61.0</td>\n",
       "      <td>7.0</td>\n",
       "      <td>2.35</td>\n",
       "      <td>42000</td>\n",
       "      <td>37371385.0</td>\n",
       "    </tr>\n",
       "    <tr>\n",
       "      <th>1680</th>\n",
       "      <td>Color</td>\n",
       "      <td>Nicholas Stoller</td>\n",
       "      <td>232.0</td>\n",
       "      <td>131.0</td>\n",
       "      <td>89.0</td>\n",
       "      <td>372.0</td>\n",
       "      <td>Jacki Weaver</td>\n",
       "      <td>2000.0</td>\n",
       "      <td>Comedy|Romance</td>\n",
       "      <td>Alison Brie</td>\n",
       "      <td>The Five-Year Engagement</td>\n",
       "      <td>78974</td>\n",
       "      <td>3479</td>\n",
       "      <td>David Paymer</td>\n",
       "      <td>2.0</td>\n",
       "      <td>kissing while having sex|kitchen|reference to ...</td>\n",
       "      <td>http://www.imdb.com/title/tt1195478/?ref_=fn_t...</td>\n",
       "      <td>141.0</td>\n",
       "      <td>English</td>\n",
       "      <td>USA</td>\n",
       "      <td>R</td>\n",
       "      <td>30000000.0</td>\n",
       "      <td>2012.0</td>\n",
       "      <td>401.0</td>\n",
       "      <td>6.2</td>\n",
       "      <td>1.85</td>\n",
       "      <td>11000</td>\n",
       "      <td>28644770.0</td>\n",
       "    </tr>\n",
       "    <tr>\n",
       "      <th>2300</th>\n",
       "      <td>Color</td>\n",
       "      <td>Paul Thomas Anderson</td>\n",
       "      <td>401.0</td>\n",
       "      <td>148.0</td>\n",
       "      <td>0.0</td>\n",
       "      <td>175.0</td>\n",
       "      <td>Katherine Waterston</td>\n",
       "      <td>204.0</td>\n",
       "      <td>Comedy|Crime|Drama|Mystery|Romance</td>\n",
       "      <td>Martin Dew</td>\n",
       "      <td>Inherent Vice</td>\n",
       "      <td>61935</td>\n",
       "      <td>707</td>\n",
       "      <td>Serena Scott Thomas</td>\n",
       "      <td>0.0</td>\n",
       "      <td>1960s|based on novel|ex boyfriend ex girlfrien...</td>\n",
       "      <td>http://www.imdb.com/title/tt1791528/?ref_=fn_t...</td>\n",
       "      <td>242.0</td>\n",
       "      <td>English</td>\n",
       "      <td>USA</td>\n",
       "      <td>R</td>\n",
       "      <td>20000000.0</td>\n",
       "      <td>2014.0</td>\n",
       "      <td>178.0</td>\n",
       "      <td>6.7</td>\n",
       "      <td>1.85</td>\n",
       "      <td>18000</td>\n",
       "      <td>8093318.0</td>\n",
       "    </tr>\n",
       "    <tr>\n",
       "      <th>1844</th>\n",
       "      <td>Color</td>\n",
       "      <td>Wes Craven</td>\n",
       "      <td>224.0</td>\n",
       "      <td>85.0</td>\n",
       "      <td>0.0</td>\n",
       "      <td>178.0</td>\n",
       "      <td>Carl Gilliard</td>\n",
       "      <td>332.0</td>\n",
       "      <td>Mystery|Thriller</td>\n",
       "      <td>Robert Pine</td>\n",
       "      <td>Red Eye</td>\n",
       "      <td>94108</td>\n",
       "      <td>1090</td>\n",
       "      <td>Suzie Plakson</td>\n",
       "      <td>0.0</td>\n",
       "      <td>airport|flight|hotel|hotel manager|plane</td>\n",
       "      <td>http://www.imdb.com/title/tt0421239/?ref_=fn_t...</td>\n",
       "      <td>673.0</td>\n",
       "      <td>English</td>\n",
       "      <td>USA</td>\n",
       "      <td>PG-13</td>\n",
       "      <td>26000000.0</td>\n",
       "      <td>2005.0</td>\n",
       "      <td>285.0</td>\n",
       "      <td>6.5</td>\n",
       "      <td>2.35</td>\n",
       "      <td>0</td>\n",
       "      <td>57859105.0</td>\n",
       "    </tr>\n",
       "  </tbody>\n",
       "</table>\n",
       "</div>"
      ],
      "text/plain": [
       "      color         director_name  num_critic_for_reviews  duration  \\\n",
       "1630  Color          Luis Mandoki                    85.0     131.0   \n",
       "1254  Color          Greg Mottola                   342.0     109.0   \n",
       "1680  Color      Nicholas Stoller                   232.0     131.0   \n",
       "2300  Color  Paul Thomas Anderson                   401.0     148.0   \n",
       "1844  Color            Wes Craven                   224.0      85.0   \n",
       "\n",
       "      director_facebook_likes  actor_3_facebook_likes         actor_2_name  \\\n",
       "1630                     43.0                   362.0          John Savage   \n",
       "1254                     99.0                    57.0      Nelson Ascencio   \n",
       "1680                     89.0                   372.0         Jacki Weaver   \n",
       "2300                      0.0                   175.0  Katherine Waterston   \n",
       "1844                      0.0                   178.0        Carl Gilliard   \n",
       "\n",
       "      actor_1_facebook_likes                              genres  \\\n",
       "1630                 18000.0                       Drama|Romance   \n",
       "1254                   176.0             Adventure|Comedy|Sci-Fi   \n",
       "1680                  2000.0                      Comedy|Romance   \n",
       "2300                   204.0  Comedy|Crime|Drama|Mystery|Romance   \n",
       "1844                   332.0                    Mystery|Thriller   \n",
       "\n",
       "      actor_1_name                movie_title  num_voted_users  \\\n",
       "1630  Robin Wright       Message in a Bottle             28942   \n",
       "1254     Bobby Lee                      Paul            192462   \n",
       "1680   Alison Brie  The Five-Year Engagement             78974   \n",
       "2300    Martin Dew             Inherent Vice             61935   \n",
       "1844   Robert Pine                   Red Eye             94108   \n",
       "\n",
       "      cast_total_facebook_likes         actor_3_name  facenumber_in_poster  \\\n",
       "1630                      19815       Raphael Sbarge                   0.0   \n",
       "1254                        390          Jeremy Owen                   0.0   \n",
       "1680                       3479         David Paymer                   2.0   \n",
       "2300                        707  Serena Scott Thomas                   0.0   \n",
       "1844                       1090        Suzie Plakson                   0.0   \n",
       "\n",
       "                                          plot_keywords  \\\n",
       "1630                   beach|bottle|jogging|letter|love   \n",
       "1254                      alien|geek|nerd|road trip|ufo   \n",
       "1680  kissing while having sex|kitchen|reference to ...   \n",
       "2300  1960s|based on novel|ex boyfriend ex girlfrien...   \n",
       "1844           airport|flight|hotel|hotel manager|plane   \n",
       "\n",
       "                                        movie_imdb_link  num_user_for_reviews  \\\n",
       "1630  http://www.imdb.com/title/tt0139462/?ref_=fn_t...                 223.0   \n",
       "1254  http://www.imdb.com/title/tt1092026/?ref_=fn_t...                 334.0   \n",
       "1680  http://www.imdb.com/title/tt1195478/?ref_=fn_t...                 141.0   \n",
       "2300  http://www.imdb.com/title/tt1791528/?ref_=fn_t...                 242.0   \n",
       "1844  http://www.imdb.com/title/tt0421239/?ref_=fn_t...                 673.0   \n",
       "\n",
       "     language country content_rating      budget  title_year  \\\n",
       "1630  English     USA          PG-13  55000000.0      1999.0   \n",
       "1254  English     USA              R  40000000.0      2011.0   \n",
       "1680  English     USA              R  30000000.0      2012.0   \n",
       "2300  English     USA              R  20000000.0      2014.0   \n",
       "1844  English     USA          PG-13  26000000.0      2005.0   \n",
       "\n",
       "      actor_2_facebook_likes  imdb_score  aspect_ratio  movie_facebook_likes  \\\n",
       "1630                   652.0         6.1          2.35                     0   \n",
       "1254                    61.0         7.0          2.35                 42000   \n",
       "1680                   401.0         6.2          1.85                 11000   \n",
       "2300                   178.0         6.7          1.85                 18000   \n",
       "1844                   285.0         6.5          2.35                     0   \n",
       "\n",
       "           gross  \n",
       "1630  52799004.0  \n",
       "1254  37371385.0  \n",
       "1680  28644770.0  \n",
       "2300   8093318.0  \n",
       "1844  57859105.0  "
      ]
     },
     "execution_count": 2,
     "metadata": {},
     "output_type": "execute_result"
    }
   ],
   "source": [
    "df = pd.read_csv('movie_train_data.csv', index_col=0)\n",
    "print(df.shape)\n",
    "df.head()\n"
   ]
  },
  {
   "cell_type": "markdown",
   "metadata": {},
   "source": [
    "## Step 2: Exploratory Data Analysis \n",
    "    \n",
    "Become familiar with the data.  Look to see if there are any extreme values.  \n",
    "\n",
    "Additionally create data visualizations to determine if there are any relationships between your features and your target variables.  "
   ]
  },
  {
   "cell_type": "code",
   "execution_count": 3,
   "metadata": {},
   "outputs": [
    {
     "data": {
      "text/plain": [
       "color                         object\n",
       "director_name                 object\n",
       "num_critic_for_reviews       float64\n",
       "duration                     float64\n",
       "director_facebook_likes      float64\n",
       "actor_3_facebook_likes       float64\n",
       "actor_2_name                  object\n",
       "actor_1_facebook_likes       float64\n",
       "genres                        object\n",
       "actor_1_name                  object\n",
       "movie_title                   object\n",
       "num_voted_users                int64\n",
       "cast_total_facebook_likes      int64\n",
       "actor_3_name                  object\n",
       "facenumber_in_poster         float64\n",
       "plot_keywords                 object\n",
       "movie_imdb_link               object\n",
       "num_user_for_reviews         float64\n",
       "language                      object\n",
       "country                       object\n",
       "content_rating                object\n",
       "budget                       float64\n",
       "title_year                   float64\n",
       "actor_2_facebook_likes       float64\n",
       "imdb_score                   float64\n",
       "aspect_ratio                 float64\n",
       "movie_facebook_likes           int64\n",
       "gross                        float64\n",
       "dtype: object"
      ]
     },
     "execution_count": 3,
     "metadata": {},
     "output_type": "execute_result"
    }
   ],
   "source": [
    "df.dtypes"
   ]
  },
  {
   "cell_type": "code",
   "execution_count": 4,
   "metadata": {},
   "outputs": [],
   "source": [
    "df.drop(columns=['aspect_ratio', 'plot_keywords', \n",
    "                 'movie_facebook_likes', 'genres','imdb_score',\n",
    "                 'num_user_for_reviews', 'movie_imdb_link', 'num_voted_users',\n",
    "                 'num_critic_for_reviews'], inplace=True)"
   ]
  },
  {
   "cell_type": "code",
   "execution_count": 5,
   "metadata": {},
   "outputs": [
    {
     "data": {
      "text/plain": [
       "USA    2500\n",
       "Name: country, dtype: int64"
      ]
     },
     "execution_count": 5,
     "metadata": {},
     "output_type": "execute_result"
    }
   ],
   "source": [
    "df['country'].value_counts()"
   ]
  },
  {
   "cell_type": "code",
   "execution_count": 6,
   "metadata": {},
   "outputs": [
    {
     "data": {
      "text/plain": [
       "R        1117\n",
       "PG-13     922\n",
       "PG        398\n",
       "G          63\n",
       "Name: content_rating, dtype: int64"
      ]
     },
     "execution_count": 6,
     "metadata": {},
     "output_type": "execute_result"
    }
   ],
   "source": [
    "df['content_rating'].value_counts()"
   ]
  },
  {
   "cell_type": "code",
   "execution_count": 7,
   "metadata": {},
   "outputs": [
    {
     "data": {
      "text/plain": [
       "English    2500\n",
       "Name: language, dtype: int64"
      ]
     },
     "execution_count": 7,
     "metadata": {},
     "output_type": "execute_result"
    }
   ],
   "source": [
    "df['language'].value_counts()"
   ]
  },
  {
   "cell_type": "code",
   "execution_count": 8,
   "metadata": {},
   "outputs": [
    {
     "data": {
      "text/plain": [
       "<AxesSubplot:>"
      ]
     },
     "execution_count": 8,
     "metadata": {},
     "output_type": "execute_result"
    },
    {
     "data": {
      "image/png": "[encoded data removed]",
      "text/plain": [
       "<Figure size 432x288 with 1 Axes>"
      ]
     },
     "metadata": {
      "needs_background": "light"
     },
     "output_type": "display_data"
    }
   ],
   "source": [
    "sns.heatmap(df.isna(), cbar=False)"
   ]
  },
  {
   "cell_type": "code",
   "execution_count": null,
   "metadata": {},
   "outputs": [],
   "source": []
  },
  {
   "cell_type": "markdown",
   "metadata": {},
   "source": [
    "## Step 3: Clean up any issues (extreme values, etc.) with the data.  \n",
    "\n",
    "Remember that you can't just delete rows with extreme values. Similar observations might be present in the holdout data set, and you can't just delete those rows and not have a prediction for it. "
   ]
  },
  {
   "cell_type": "code",
   "execution_count": 9,
   "metadata": {},
   "outputs": [
    {
     "data": {
      "text/plain": [
       "<AxesSubplot:>"
      ]
     },
     "execution_count": 9,
     "metadata": {},
     "output_type": "execute_result"
    },
    {
     "data": {
      "image/png": "[encoded data removed]",
      "text/plain": [
       "<Figure size 432x288 with 1 Axes>"
      ]
     },
     "metadata": {
      "needs_background": "light"
     },
     "output_type": "display_data"
    }
   ],
   "source": [
    "df.boxplot(['gross'])"
   ]
  },
  {
   "cell_type": "code",
   "execution_count": 10,
   "metadata": {},
   "outputs": [
    {
     "data": {
      "text/plain": [
       "<AxesSubplot:>"
      ]
     },
     "execution_count": 10,
     "metadata": {},
     "output_type": "execute_result"
    },
    {
     "data": {
      "image/png": "[encoded data removed]",
      "text/plain": [
       "<Figure size 432x288 with 1 Axes>"
      ]
     },
     "metadata": {
      "needs_background": "light"
     },
     "output_type": "display_data"
    }
   ],
   "source": [
    "df['gross'].hist()"
   ]
  },
  {
   "cell_type": "code",
   "execution_count": 11,
   "metadata": {},
   "outputs": [
    {
     "data": {
      "text/html": [
       "<div>\n",
       "<style scoped>\n",
       "    .dataframe tbody tr th:only-of-type {\n",
       "        vertical-align: middle;\n",
       "    }\n",
       "\n",
       "    .dataframe tbody tr th {\n",
       "        vertical-align: top;\n",
       "    }\n",
       "\n",
       "    .dataframe thead th {\n",
       "        text-align: right;\n",
       "    }\n",
       "</style>\n",
       "<table border=\"1\" class=\"dataframe\">\n",
       "  <thead>\n",
       "    <tr style=\"text-align: right;\">\n",
       "      <th></th>\n",
       "      <th>duration</th>\n",
       "      <th>director_facebook_likes</th>\n",
       "      <th>actor_3_facebook_likes</th>\n",
       "      <th>actor_1_facebook_likes</th>\n",
       "      <th>cast_total_facebook_likes</th>\n",
       "      <th>facenumber_in_poster</th>\n",
       "      <th>budget</th>\n",
       "      <th>title_year</th>\n",
       "      <th>actor_2_facebook_likes</th>\n",
       "      <th>gross</th>\n",
       "    </tr>\n",
       "  </thead>\n",
       "  <tbody>\n",
       "    <tr>\n",
       "      <th>count</th>\n",
       "      <td>2499.000000</td>\n",
       "      <td>2500.000000</td>\n",
       "      <td>2497.000000</td>\n",
       "      <td>2500.000000</td>\n",
       "      <td>2500.000000</td>\n",
       "      <td>2497.000000</td>\n",
       "      <td>2.382000e+03</td>\n",
       "      <td>2500.000000</td>\n",
       "      <td>2499.000000</td>\n",
       "      <td>2.500000e+03</td>\n",
       "    </tr>\n",
       "    <tr>\n",
       "      <th>mean</th>\n",
       "      <td>109.221689</td>\n",
       "      <td>866.975200</td>\n",
       "      <td>827.032038</td>\n",
       "      <td>8343.568400</td>\n",
       "      <td>12458.762400</td>\n",
       "      <td>1.434922</td>\n",
       "      <td>4.068471e+07</td>\n",
       "      <td>2003.504800</td>\n",
       "      <td>2202.673069</td>\n",
       "      <td>5.639740e+07</td>\n",
       "    </tr>\n",
       "    <tr>\n",
       "      <th>std</th>\n",
       "      <td>22.024798</td>\n",
       "      <td>3298.306388</td>\n",
       "      <td>1948.306217</td>\n",
       "      <td>17851.287857</td>\n",
       "      <td>21408.614158</td>\n",
       "      <td>2.196996</td>\n",
       "      <td>4.344595e+07</td>\n",
       "      <td>8.631557</td>\n",
       "      <td>4945.875486</td>\n",
       "      <td>7.236286e+07</td>\n",
       "    </tr>\n",
       "    <tr>\n",
       "      <th>min</th>\n",
       "      <td>53.000000</td>\n",
       "      <td>0.000000</td>\n",
       "      <td>0.000000</td>\n",
       "      <td>0.000000</td>\n",
       "      <td>0.000000</td>\n",
       "      <td>0.000000</td>\n",
       "      <td>1.500000e+04</td>\n",
       "      <td>1939.000000</td>\n",
       "      <td>0.000000</td>\n",
       "      <td>7.030000e+02</td>\n",
       "    </tr>\n",
       "    <tr>\n",
       "      <th>25%</th>\n",
       "      <td>95.000000</td>\n",
       "      <td>10.000000</td>\n",
       "      <td>242.000000</td>\n",
       "      <td>826.000000</td>\n",
       "      <td>2316.000000</td>\n",
       "      <td>0.000000</td>\n",
       "      <td>1.100000e+07</td>\n",
       "      <td>1999.000000</td>\n",
       "      <td>455.000000</td>\n",
       "      <td>1.090070e+07</td>\n",
       "    </tr>\n",
       "    <tr>\n",
       "      <th>50%</th>\n",
       "      <td>105.000000</td>\n",
       "      <td>57.500000</td>\n",
       "      <td>484.000000</td>\n",
       "      <td>2000.000000</td>\n",
       "      <td>4582.000000</td>\n",
       "      <td>1.000000</td>\n",
       "      <td>2.600000e+07</td>\n",
       "      <td>2005.000000</td>\n",
       "      <td>739.000000</td>\n",
       "      <td>3.322234e+07</td>\n",
       "    </tr>\n",
       "    <tr>\n",
       "      <th>75%</th>\n",
       "      <td>119.000000</td>\n",
       "      <td>219.500000</td>\n",
       "      <td>726.000000</td>\n",
       "      <td>13000.000000</td>\n",
       "      <td>16764.750000</td>\n",
       "      <td>2.000000</td>\n",
       "      <td>5.500000e+07</td>\n",
       "      <td>2010.000000</td>\n",
       "      <td>1000.000000</td>\n",
       "      <td>7.365136e+07</td>\n",
       "    </tr>\n",
       "    <tr>\n",
       "      <th>max</th>\n",
       "      <td>330.000000</td>\n",
       "      <td>23000.000000</td>\n",
       "      <td>23000.000000</td>\n",
       "      <td>640000.000000</td>\n",
       "      <td>656730.000000</td>\n",
       "      <td>43.000000</td>\n",
       "      <td>3.000000e+08</td>\n",
       "      <td>2016.000000</td>\n",
       "      <td>137000.000000</td>\n",
       "      <td>7.605058e+08</td>\n",
       "    </tr>\n",
       "  </tbody>\n",
       "</table>\n",
       "</div>"
      ],
      "text/plain": [
       "          duration  director_facebook_likes  actor_3_facebook_likes  \\\n",
       "count  2499.000000              2500.000000             2497.000000   \n",
       "mean    109.221689               866.975200              827.032038   \n",
       "std      22.024798              3298.306388             1948.306217   \n",
       "min      53.000000                 0.000000                0.000000   \n",
       "25%      95.000000                10.000000              242.000000   \n",
       "50%     105.000000                57.500000              484.000000   \n",
       "75%     119.000000               219.500000              726.000000   \n",
       "max     330.000000             23000.000000            23000.000000   \n",
       "\n",
       "       actor_1_facebook_likes  cast_total_facebook_likes  \\\n",
       "count             2500.000000                2500.000000   \n",
       "mean              8343.568400               12458.762400   \n",
       "std              17851.287857               21408.614158   \n",
       "min                  0.000000                   0.000000   \n",
       "25%                826.000000                2316.000000   \n",
       "50%               2000.000000                4582.000000   \n",
       "75%              13000.000000               16764.750000   \n",
       "max             640000.000000              656730.000000   \n",
       "\n",
       "       facenumber_in_poster        budget   title_year  \\\n",
       "count           2497.000000  2.382000e+03  2500.000000   \n",
       "mean               1.434922  4.068471e+07  2003.504800   \n",
       "std                2.196996  4.344595e+07     8.631557   \n",
       "min                0.000000  1.500000e+04  1939.000000   \n",
       "25%                0.000000  1.100000e+07  1999.000000   \n",
       "50%                1.000000  2.600000e+07  2005.000000   \n",
       "75%                2.000000  5.500000e+07  2010.000000   \n",
       "max               43.000000  3.000000e+08  2016.000000   \n",
       "\n",
       "       actor_2_facebook_likes         gross  \n",
       "count             2499.000000  2.500000e+03  \n",
       "mean              2202.673069  5.639740e+07  \n",
       "std               4945.875486  7.236286e+07  \n",
       "min                  0.000000  7.030000e+02  \n",
       "25%                455.000000  1.090070e+07  \n",
       "50%                739.000000  3.322234e+07  \n",
       "75%               1000.000000  7.365136e+07  \n",
       "max             137000.000000  7.605058e+08  "
      ]
     },
     "execution_count": 11,
     "metadata": {},
     "output_type": "execute_result"
    }
   ],
   "source": [
    "df.describe()"
   ]
  },
  {
   "cell_type": "code",
   "execution_count": 12,
   "metadata": {},
   "outputs": [],
   "source": [
    "df['actor_1_facebook_likes']= np.where(df['actor_1_facebook_likes'] >200000, 200000, df['actor_1_facebook_likes'])\n",
    "df['actor_2_facebook_likes']= np.where(df['actor_2_facebook_likes'] >100000, 100000, df['actor_2_facebook_likes'])\n",
    "df['cast_total_facebook_likes']= np.where(df['cast_total_facebook_likes'] >300000, 300000, df['cast_total_facebook_likes'])"
   ]
  },
  {
   "cell_type": "code",
   "execution_count": 13,
   "metadata": {},
   "outputs": [
    {
     "data": {
      "text/plain": [
       "color                        0.0004\n",
       "director_name                0.0000\n",
       "duration                     0.0004\n",
       "director_facebook_likes      0.0000\n",
       "actor_3_facebook_likes       0.0012\n",
       "actor_2_name                 0.0004\n",
       "actor_1_facebook_likes       0.0000\n",
       "actor_1_name                 0.0000\n",
       "movie_title                  0.0000\n",
       "cast_total_facebook_likes    0.0000\n",
       "actor_3_name                 0.0012\n",
       "facenumber_in_poster         0.0012\n",
       "language                     0.0000\n",
       "country                      0.0000\n",
       "content_rating               0.0000\n",
       "budget                       0.0472\n",
       "title_year                   0.0000\n",
       "actor_2_facebook_likes       0.0004\n",
       "gross                        0.0000\n",
       "dtype: float64"
      ]
     },
     "execution_count": 13,
     "metadata": {},
     "output_type": "execute_result"
    }
   ],
   "source": [
    "# Find the Percentage of rows missing data\n",
    "df.isna().mean()"
   ]
  },
  {
   "cell_type": "code",
   "execution_count": 14,
   "metadata": {},
   "outputs": [
    {
     "data": {
      "text/plain": [
       "<AxesSubplot:xlabel='content_rating'>"
      ]
     },
     "execution_count": 14,
     "metadata": {},
     "output_type": "execute_result"
    },
    {
     "data": {
      "image/png": "[encoded data removed]",
      "text/plain": [
       "<Figure size 432x288 with 1 Axes>"
      ]
     },
     "metadata": {
      "needs_background": "light"
     },
     "output_type": "display_data"
    }
   ],
   "source": [
    "df.groupby('content_rating')['budget'].mean().plot(kind='bar')"
   ]
  },
  {
   "cell_type": "code",
   "execution_count": 15,
   "metadata": {},
   "outputs": [
    {
     "data": {
      "text/plain": [
       "{'G': 57937616.7, 'PG': 53613525.3, 'PG-13': 52682723.4, 'R': 25223942.9}"
      ]
     },
     "execution_count": 15,
     "metadata": {},
     "output_type": "execute_result"
    }
   ],
   "source": [
    "budget_ratings = df.groupby('content_rating')['budget'].mean().round(1).to_dict()\n",
    "\n",
    "budget_ratings"
   ]
  },
  {
   "cell_type": "code",
   "execution_count": 16,
   "metadata": {},
   "outputs": [],
   "source": [
    "df['budget'].fillna(df['content_rating'].map(budget_ratings), inplace=True)\n"
   ]
  },
  {
   "cell_type": "code",
   "execution_count": 17,
   "metadata": {},
   "outputs": [
    {
     "data": {
      "text/plain": [
       "color                        0.0004\n",
       "director_name                0.0000\n",
       "duration                     0.0004\n",
       "director_facebook_likes      0.0000\n",
       "actor_3_facebook_likes       0.0012\n",
       "actor_2_name                 0.0004\n",
       "actor_1_facebook_likes       0.0000\n",
       "actor_1_name                 0.0000\n",
       "movie_title                  0.0000\n",
       "cast_total_facebook_likes    0.0000\n",
       "actor_3_name                 0.0012\n",
       "facenumber_in_poster         0.0012\n",
       "language                     0.0000\n",
       "country                      0.0000\n",
       "content_rating               0.0000\n",
       "budget                       0.0000\n",
       "title_year                   0.0000\n",
       "actor_2_facebook_likes       0.0004\n",
       "gross                        0.0000\n",
       "dtype: float64"
      ]
     },
     "execution_count": 17,
     "metadata": {},
     "output_type": "execute_result"
    }
   ],
   "source": [
    "df.isna().mean()"
   ]
  },
  {
   "cell_type": "code",
   "execution_count": 18,
   "metadata": {},
   "outputs": [
    {
     "data": {
      "text/plain": [
       "Color               2443\n",
       " Black and White      56\n",
       "Name: color, dtype: int64"
      ]
     },
     "execution_count": 18,
     "metadata": {},
     "output_type": "execute_result"
    }
   ],
   "source": [
    "df['color'].value_counts()"
   ]
  },
  {
   "cell_type": "code",
   "execution_count": 19,
   "metadata": {},
   "outputs": [
    {
     "data": {
      "text/html": [
       "<div>\n",
       "<style scoped>\n",
       "    .dataframe tbody tr th:only-of-type {\n",
       "        vertical-align: middle;\n",
       "    }\n",
       "\n",
       "    .dataframe tbody tr th {\n",
       "        vertical-align: top;\n",
       "    }\n",
       "\n",
       "    .dataframe thead th {\n",
       "        text-align: right;\n",
       "    }\n",
       "</style>\n",
       "<table border=\"1\" class=\"dataframe\">\n",
       "  <thead>\n",
       "    <tr style=\"text-align: right;\">\n",
       "      <th></th>\n",
       "      <th>color</th>\n",
       "      <th>director_name</th>\n",
       "      <th>duration</th>\n",
       "      <th>director_facebook_likes</th>\n",
       "      <th>actor_3_facebook_likes</th>\n",
       "      <th>actor_2_name</th>\n",
       "      <th>actor_1_facebook_likes</th>\n",
       "      <th>actor_1_name</th>\n",
       "      <th>movie_title</th>\n",
       "      <th>cast_total_facebook_likes</th>\n",
       "      <th>actor_3_name</th>\n",
       "      <th>facenumber_in_poster</th>\n",
       "      <th>language</th>\n",
       "      <th>country</th>\n",
       "      <th>content_rating</th>\n",
       "      <th>budget</th>\n",
       "      <th>title_year</th>\n",
       "      <th>actor_2_facebook_likes</th>\n",
       "      <th>gross</th>\n",
       "    </tr>\n",
       "  </thead>\n",
       "  <tbody>\n",
       "    <tr>\n",
       "      <th>1948</th>\n",
       "      <td>NaN</td>\n",
       "      <td>Lasse Hallström</td>\n",
       "      <td>108.0</td>\n",
       "      <td>529.0</td>\n",
       "      <td>690.0</td>\n",
       "      <td>Henry Thomas</td>\n",
       "      <td>17000.0</td>\n",
       "      <td>Channing Tatum</td>\n",
       "      <td>Dear John</td>\n",
       "      <td>19945</td>\n",
       "      <td>Scott Porter</td>\n",
       "      <td>NaN</td>\n",
       "      <td>English</td>\n",
       "      <td>USA</td>\n",
       "      <td>PG-13</td>\n",
       "      <td>25000000.0</td>\n",
       "      <td>2010.0</td>\n",
       "      <td>861.0</td>\n",
       "      <td>80014842.0</td>\n",
       "    </tr>\n",
       "  </tbody>\n",
       "</table>\n",
       "</div>"
      ],
      "text/plain": [
       "     color    director_name  duration  director_facebook_likes  \\\n",
       "1948   NaN  Lasse Hallström     108.0                    529.0   \n",
       "\n",
       "      actor_3_facebook_likes  actor_2_name  actor_1_facebook_likes  \\\n",
       "1948                   690.0  Henry Thomas                 17000.0   \n",
       "\n",
       "        actor_1_name movie_title  cast_total_facebook_likes  actor_3_name  \\\n",
       "1948  Channing Tatum  Dear John                       19945  Scott Porter   \n",
       "\n",
       "      facenumber_in_poster language country content_rating      budget  \\\n",
       "1948                   NaN  English     USA          PG-13  25000000.0   \n",
       "\n",
       "      title_year  actor_2_facebook_likes       gross  \n",
       "1948      2010.0                   861.0  80014842.0  "
      ]
     },
     "execution_count": 19,
     "metadata": {},
     "output_type": "execute_result"
    }
   ],
   "source": [
    "df[df['color'].isna()]"
   ]
  },
  {
   "cell_type": "code",
   "execution_count": 20,
   "metadata": {},
   "outputs": [],
   "source": [
    "df['color'].fillna('Color', inplace=True)"
   ]
  },
  {
   "cell_type": "code",
   "execution_count": 21,
   "metadata": {},
   "outputs": [
    {
     "name": "stdout",
     "output_type": "stream",
     "text": [
      "109.22168867547019\n"
     ]
    }
   ],
   "source": [
    "duration_mean = df['duration'].mean()\n",
    "print(duration_mean)"
   ]
  },
  {
   "cell_type": "code",
   "execution_count": 22,
   "metadata": {},
   "outputs": [],
   "source": [
    "df['duration'].fillna(duration_mean, inplace=True)"
   ]
  },
  {
   "cell_type": "code",
   "execution_count": 23,
   "metadata": {},
   "outputs": [
    {
     "data": {
      "text/html": [
       "<div>\n",
       "<style scoped>\n",
       "    .dataframe tbody tr th:only-of-type {\n",
       "        vertical-align: middle;\n",
       "    }\n",
       "\n",
       "    .dataframe tbody tr th {\n",
       "        vertical-align: top;\n",
       "    }\n",
       "\n",
       "    .dataframe thead th {\n",
       "        text-align: right;\n",
       "    }\n",
       "</style>\n",
       "<table border=\"1\" class=\"dataframe\">\n",
       "  <thead>\n",
       "    <tr style=\"text-align: right;\">\n",
       "      <th></th>\n",
       "      <th>color</th>\n",
       "      <th>director_name</th>\n",
       "      <th>duration</th>\n",
       "      <th>director_facebook_likes</th>\n",
       "      <th>actor_3_facebook_likes</th>\n",
       "      <th>actor_2_name</th>\n",
       "      <th>actor_1_facebook_likes</th>\n",
       "      <th>actor_1_name</th>\n",
       "      <th>movie_title</th>\n",
       "      <th>cast_total_facebook_likes</th>\n",
       "      <th>actor_3_name</th>\n",
       "      <th>facenumber_in_poster</th>\n",
       "      <th>language</th>\n",
       "      <th>country</th>\n",
       "      <th>content_rating</th>\n",
       "      <th>budget</th>\n",
       "      <th>title_year</th>\n",
       "      <th>actor_2_facebook_likes</th>\n",
       "      <th>gross</th>\n",
       "    </tr>\n",
       "  </thead>\n",
       "  <tbody>\n",
       "    <tr>\n",
       "      <th>3346</th>\n",
       "      <td>Color</td>\n",
       "      <td>J.C. Chandor</td>\n",
       "      <td>106.0</td>\n",
       "      <td>78.0</td>\n",
       "      <td>NaN</td>\n",
       "      <td>NaN</td>\n",
       "      <td>0.0</td>\n",
       "      <td>Robert Redford</td>\n",
       "      <td>All Is Lost</td>\n",
       "      <td>0</td>\n",
       "      <td>NaN</td>\n",
       "      <td>0.0</td>\n",
       "      <td>English</td>\n",
       "      <td>USA</td>\n",
       "      <td>PG-13</td>\n",
       "      <td>9000000.0</td>\n",
       "      <td>2013.0</td>\n",
       "      <td>NaN</td>\n",
       "      <td>6262942.0</td>\n",
       "    </tr>\n",
       "  </tbody>\n",
       "</table>\n",
       "</div>"
      ],
      "text/plain": [
       "      color director_name  duration  director_facebook_likes  \\\n",
       "3346  Color  J.C. Chandor     106.0                     78.0   \n",
       "\n",
       "      actor_3_facebook_likes actor_2_name  actor_1_facebook_likes  \\\n",
       "3346                     NaN          NaN                     0.0   \n",
       "\n",
       "        actor_1_name   movie_title  cast_total_facebook_likes actor_3_name  \\\n",
       "3346  Robert Redford  All Is Lost                           0          NaN   \n",
       "\n",
       "      facenumber_in_poster language country content_rating     budget  \\\n",
       "3346                   0.0  English     USA          PG-13  9000000.0   \n",
       "\n",
       "      title_year  actor_2_facebook_likes      gross  \n",
       "3346      2013.0                     NaN  6262942.0  "
      ]
     },
     "execution_count": 23,
     "metadata": {},
     "output_type": "execute_result"
    }
   ],
   "source": [
    "df[df['actor_2_facebook_likes'].isna()]"
   ]
  },
  {
   "cell_type": "code",
   "execution_count": 24,
   "metadata": {},
   "outputs": [
    {
     "name": "stdout",
     "output_type": "stream",
     "text": [
      "2187.8671468587436\n"
     ]
    }
   ],
   "source": [
    "act_2_mean = df['actor_2_facebook_likes'].mean()\n",
    "print(act_2_mean)"
   ]
  },
  {
   "cell_type": "code",
   "execution_count": 25,
   "metadata": {},
   "outputs": [],
   "source": [
    "df['actor_2_facebook_likes'].fillna(act_2_mean, inplace=True)"
   ]
  },
  {
   "cell_type": "code",
   "execution_count": 26,
   "metadata": {},
   "outputs": [
    {
     "name": "stdout",
     "output_type": "stream",
     "text": [
      "827.0320384461354\n"
     ]
    }
   ],
   "source": [
    "act_3_mean = df['actor_3_facebook_likes'].mean()\n",
    "print(act_3_mean)"
   ]
  },
  {
   "cell_type": "code",
   "execution_count": 27,
   "metadata": {},
   "outputs": [],
   "source": [
    "df['actor_3_facebook_likes'].fillna(act_3_mean, inplace=True)"
   ]
  },
  {
   "cell_type": "code",
   "execution_count": 28,
   "metadata": {},
   "outputs": [
    {
     "data": {
      "text/plain": [
       "count    2497.000000\n",
       "mean        1.434922\n",
       "std         2.196996\n",
       "min         0.000000\n",
       "25%         0.000000\n",
       "50%         1.000000\n",
       "75%         2.000000\n",
       "max        43.000000\n",
       "Name: facenumber_in_poster, dtype: float64"
      ]
     },
     "execution_count": 28,
     "metadata": {},
     "output_type": "execute_result"
    }
   ],
   "source": [
    "df['facenumber_in_poster'].describe()"
   ]
  },
  {
   "cell_type": "code",
   "execution_count": 29,
   "metadata": {},
   "outputs": [],
   "source": [
    "df.drop(columns=['facenumber_in_poster'], inplace = True)"
   ]
  },
  {
   "cell_type": "code",
   "execution_count": 30,
   "metadata": {},
   "outputs": [
    {
     "data": {
      "text/plain": [
       "color                        0.0000\n",
       "director_name                0.0000\n",
       "duration                     0.0000\n",
       "director_facebook_likes      0.0000\n",
       "actor_3_facebook_likes       0.0000\n",
       "actor_2_name                 0.0004\n",
       "actor_1_facebook_likes       0.0000\n",
       "actor_1_name                 0.0000\n",
       "movie_title                  0.0000\n",
       "cast_total_facebook_likes    0.0000\n",
       "actor_3_name                 0.0012\n",
       "language                     0.0000\n",
       "country                      0.0000\n",
       "content_rating               0.0000\n",
       "budget                       0.0000\n",
       "title_year                   0.0000\n",
       "actor_2_facebook_likes       0.0000\n",
       "gross                        0.0000\n",
       "dtype: float64"
      ]
     },
     "execution_count": 30,
     "metadata": {},
     "output_type": "execute_result"
    }
   ],
   "source": [
    "# Find the Percentage of rows missing data\n",
    "df.isna().mean()"
   ]
  },
  {
   "cell_type": "markdown",
   "metadata": {},
   "source": [
    "## Step 4: Generate new features that you think could be important.\n",
    "\n",
    "After doing this, you will want to go back to steps 2 and 3 to investigate these new features."
   ]
  },
  {
   "cell_type": "code",
   "execution_count": 31,
   "metadata": {},
   "outputs": [],
   "source": [
    "df['superstar'] = np.where(df['actor_1_facebook_likes']>=25000, 1, 0)\n"
   ]
  },
  {
   "cell_type": "markdown",
   "metadata": {},
   "source": [
    "### 4.1) Identify a categorical variable in the data set and create dummy columns."
   ]
  },
  {
   "cell_type": "code",
   "execution_count": 32,
   "metadata": {},
   "outputs": [],
   "source": [
    "# your code here\n",
    "df = pd.get_dummies(df, columns=['content_rating', 'color'], drop_first=True)"
   ]
  },
  {
   "cell_type": "code",
   "execution_count": 33,
   "metadata": {},
   "outputs": [
    {
     "data": {
      "text/html": [
       "<div>\n",
       "<style scoped>\n",
       "    .dataframe tbody tr th:only-of-type {\n",
       "        vertical-align: middle;\n",
       "    }\n",
       "\n",
       "    .dataframe tbody tr th {\n",
       "        vertical-align: top;\n",
       "    }\n",
       "\n",
       "    .dataframe thead th {\n",
       "        text-align: right;\n",
       "    }\n",
       "</style>\n",
       "<table border=\"1\" class=\"dataframe\">\n",
       "  <thead>\n",
       "    <tr style=\"text-align: right;\">\n",
       "      <th></th>\n",
       "      <th>director_name</th>\n",
       "      <th>duration</th>\n",
       "      <th>director_facebook_likes</th>\n",
       "      <th>actor_3_facebook_likes</th>\n",
       "      <th>actor_2_name</th>\n",
       "      <th>actor_1_facebook_likes</th>\n",
       "      <th>actor_1_name</th>\n",
       "      <th>movie_title</th>\n",
       "      <th>cast_total_facebook_likes</th>\n",
       "      <th>actor_3_name</th>\n",
       "      <th>language</th>\n",
       "      <th>country</th>\n",
       "      <th>budget</th>\n",
       "      <th>title_year</th>\n",
       "      <th>actor_2_facebook_likes</th>\n",
       "      <th>gross</th>\n",
       "      <th>superstar</th>\n",
       "      <th>content_rating_PG</th>\n",
       "      <th>content_rating_PG-13</th>\n",
       "      <th>content_rating_R</th>\n",
       "      <th>color_Color</th>\n",
       "    </tr>\n",
       "  </thead>\n",
       "  <tbody>\n",
       "    <tr>\n",
       "      <th>1630</th>\n",
       "      <td>Luis Mandoki</td>\n",
       "      <td>131.0</td>\n",
       "      <td>43.0</td>\n",
       "      <td>362.0</td>\n",
       "      <td>John Savage</td>\n",
       "      <td>18000.0</td>\n",
       "      <td>Robin Wright</td>\n",
       "      <td>Message in a Bottle</td>\n",
       "      <td>19815</td>\n",
       "      <td>Raphael Sbarge</td>\n",
       "      <td>English</td>\n",
       "      <td>USA</td>\n",
       "      <td>55000000.0</td>\n",
       "      <td>1999.0</td>\n",
       "      <td>652.0</td>\n",
       "      <td>52799004.0</td>\n",
       "      <td>0</td>\n",
       "      <td>0</td>\n",
       "      <td>1</td>\n",
       "      <td>0</td>\n",
       "      <td>1</td>\n",
       "    </tr>\n",
       "    <tr>\n",
       "      <th>1254</th>\n",
       "      <td>Greg Mottola</td>\n",
       "      <td>109.0</td>\n",
       "      <td>99.0</td>\n",
       "      <td>57.0</td>\n",
       "      <td>Nelson Ascencio</td>\n",
       "      <td>176.0</td>\n",
       "      <td>Bobby Lee</td>\n",
       "      <td>Paul</td>\n",
       "      <td>390</td>\n",
       "      <td>Jeremy Owen</td>\n",
       "      <td>English</td>\n",
       "      <td>USA</td>\n",
       "      <td>40000000.0</td>\n",
       "      <td>2011.0</td>\n",
       "      <td>61.0</td>\n",
       "      <td>37371385.0</td>\n",
       "      <td>0</td>\n",
       "      <td>0</td>\n",
       "      <td>0</td>\n",
       "      <td>1</td>\n",
       "      <td>1</td>\n",
       "    </tr>\n",
       "    <tr>\n",
       "      <th>1680</th>\n",
       "      <td>Nicholas Stoller</td>\n",
       "      <td>131.0</td>\n",
       "      <td>89.0</td>\n",
       "      <td>372.0</td>\n",
       "      <td>Jacki Weaver</td>\n",
       "      <td>2000.0</td>\n",
       "      <td>Alison Brie</td>\n",
       "      <td>The Five-Year Engagement</td>\n",
       "      <td>3479</td>\n",
       "      <td>David Paymer</td>\n",
       "      <td>English</td>\n",
       "      <td>USA</td>\n",
       "      <td>30000000.0</td>\n",
       "      <td>2012.0</td>\n",
       "      <td>401.0</td>\n",
       "      <td>28644770.0</td>\n",
       "      <td>0</td>\n",
       "      <td>0</td>\n",
       "      <td>0</td>\n",
       "      <td>1</td>\n",
       "      <td>1</td>\n",
       "    </tr>\n",
       "    <tr>\n",
       "      <th>2300</th>\n",
       "      <td>Paul Thomas Anderson</td>\n",
       "      <td>148.0</td>\n",
       "      <td>0.0</td>\n",
       "      <td>175.0</td>\n",
       "      <td>Katherine Waterston</td>\n",
       "      <td>204.0</td>\n",
       "      <td>Martin Dew</td>\n",
       "      <td>Inherent Vice</td>\n",
       "      <td>707</td>\n",
       "      <td>Serena Scott Thomas</td>\n",
       "      <td>English</td>\n",
       "      <td>USA</td>\n",
       "      <td>20000000.0</td>\n",
       "      <td>2014.0</td>\n",
       "      <td>178.0</td>\n",
       "      <td>8093318.0</td>\n",
       "      <td>0</td>\n",
       "      <td>0</td>\n",
       "      <td>0</td>\n",
       "      <td>1</td>\n",
       "      <td>1</td>\n",
       "    </tr>\n",
       "    <tr>\n",
       "      <th>1844</th>\n",
       "      <td>Wes Craven</td>\n",
       "      <td>85.0</td>\n",
       "      <td>0.0</td>\n",
       "      <td>178.0</td>\n",
       "      <td>Carl Gilliard</td>\n",
       "      <td>332.0</td>\n",
       "      <td>Robert Pine</td>\n",
       "      <td>Red Eye</td>\n",
       "      <td>1090</td>\n",
       "      <td>Suzie Plakson</td>\n",
       "      <td>English</td>\n",
       "      <td>USA</td>\n",
       "      <td>26000000.0</td>\n",
       "      <td>2005.0</td>\n",
       "      <td>285.0</td>\n",
       "      <td>57859105.0</td>\n",
       "      <td>0</td>\n",
       "      <td>0</td>\n",
       "      <td>1</td>\n",
       "      <td>0</td>\n",
       "      <td>1</td>\n",
       "    </tr>\n",
       "  </tbody>\n",
       "</table>\n",
       "</div>"
      ],
      "text/plain": [
       "             director_name  duration  director_facebook_likes  \\\n",
       "1630          Luis Mandoki     131.0                     43.0   \n",
       "1254          Greg Mottola     109.0                     99.0   \n",
       "1680      Nicholas Stoller     131.0                     89.0   \n",
       "2300  Paul Thomas Anderson     148.0                      0.0   \n",
       "1844            Wes Craven      85.0                      0.0   \n",
       "\n",
       "      actor_3_facebook_likes         actor_2_name  actor_1_facebook_likes  \\\n",
       "1630                   362.0          John Savage                 18000.0   \n",
       "1254                    57.0      Nelson Ascencio                   176.0   \n",
       "1680                   372.0         Jacki Weaver                  2000.0   \n",
       "2300                   175.0  Katherine Waterston                   204.0   \n",
       "1844                   178.0        Carl Gilliard                   332.0   \n",
       "\n",
       "      actor_1_name                movie_title  cast_total_facebook_likes  \\\n",
       "1630  Robin Wright       Message in a Bottle                       19815   \n",
       "1254     Bobby Lee                      Paul                         390   \n",
       "1680   Alison Brie  The Five-Year Engagement                        3479   \n",
       "2300    Martin Dew             Inherent Vice                         707   \n",
       "1844   Robert Pine                   Red Eye                        1090   \n",
       "\n",
       "             actor_3_name language country      budget  title_year  \\\n",
       "1630       Raphael Sbarge  English     USA  55000000.0      1999.0   \n",
       "1254          Jeremy Owen  English     USA  40000000.0      2011.0   \n",
       "1680         David Paymer  English     USA  30000000.0      2012.0   \n",
       "2300  Serena Scott Thomas  English     USA  20000000.0      2014.0   \n",
       "1844        Suzie Plakson  English     USA  26000000.0      2005.0   \n",
       "\n",
       "      actor_2_facebook_likes       gross  superstar  content_rating_PG  \\\n",
       "1630                   652.0  52799004.0          0                  0   \n",
       "1254                    61.0  37371385.0          0                  0   \n",
       "1680                   401.0  28644770.0          0                  0   \n",
       "2300                   178.0   8093318.0          0                  0   \n",
       "1844                   285.0  57859105.0          0                  0   \n",
       "\n",
       "      content_rating_PG-13  content_rating_R  color_Color  \n",
       "1630                     1                 0            1  \n",
       "1254                     0                 1            1  \n",
       "1680                     0                 1            1  \n",
       "2300                     0                 1            1  \n",
       "1844                     1                 0            1  "
      ]
     },
     "execution_count": 33,
     "metadata": {},
     "output_type": "execute_result"
    }
   ],
   "source": [
    "df.head()"
   ]
  },
  {
   "cell_type": "markdown",
   "metadata": {},
   "source": [
    "### 4.2) There is a column that gives the date for when the house was sold, how could this be useful in your model? How might you transform the current column to a more useful feature?"
   ]
  },
  {
   "cell_type": "code",
   "execution_count": 34,
   "metadata": {},
   "outputs": [],
   "source": [
    "#your code here\n",
    "df['title_year']= pd.to_datetime(df['title_year'], format='%Y')\n",
    "df['yrs_old']= 2016-  pd.DatetimeIndex(df['title_year']).year"
   ]
  },
  {
   "cell_type": "markdown",
   "metadata": {},
   "source": [
    "### 4.3) There are columns for when the house was built and when it was renovated.  How could you use these columns to create a new column?"
   ]
  },
  {
   "cell_type": "code",
   "execution_count": 35,
   "metadata": {},
   "outputs": [],
   "source": [
    "#your code here "
   ]
  },
  {
   "cell_type": "markdown",
   "metadata": {},
   "source": [
    "### <ins>Non-linear transformations</ins>\n",
    "\n",
    "### 4.4) Create a polynomial feature for two of your continuous variables."
   ]
  },
  {
   "cell_type": "code",
   "execution_count": 36,
   "metadata": {},
   "outputs": [],
   "source": [
    "# your code here\n",
    "df['budget^2']= df['budget']*df['budget']\n",
    "df['actor_1_facebook_likes^2'] = df['actor_1_facebook_likes'] * df['actor_1_facebook_likes']   \n",
    "df['actor_2_facebook_likes^2'] = df['actor_2_facebook_likes'] * df['actor_2_facebook_likes'] \n",
    "df['actor_3_facebook_likes^2'] = df['actor_3_facebook_likes'] * df['actor_3_facebook_likes'] \n",
    "df['cast_total_facebook_likes^2'] = df['cast_total_facebook_likes'] * df['cast_total_facebook_likes'] "
   ]
  },
  {
   "cell_type": "markdown",
   "metadata": {},
   "source": [
    "### 4.5) Create an interaction feature between a binary variable (dummy variable) and a continuous variable."
   ]
  },
  {
   "cell_type": "code",
   "execution_count": 37,
   "metadata": {},
   "outputs": [
    {
     "data": {
      "text/plain": [
       "Index(['director_name', 'duration', 'director_facebook_likes',\n",
       "       'actor_3_facebook_likes', 'actor_2_name', 'actor_1_facebook_likes',\n",
       "       'actor_1_name', 'movie_title', 'cast_total_facebook_likes',\n",
       "       'actor_3_name', 'language', 'country', 'budget', 'title_year',\n",
       "       'actor_2_facebook_likes', 'gross', 'superstar', 'content_rating_PG',\n",
       "       'content_rating_PG-13', 'content_rating_R', 'color_Color', 'yrs_old',\n",
       "       'budget^2', 'actor_1_facebook_likes^2', 'actor_2_facebook_likes^2',\n",
       "       'actor_3_facebook_likes^2', 'cast_total_facebook_likes^2'],\n",
       "      dtype='object')"
      ]
     },
     "execution_count": 37,
     "metadata": {},
     "output_type": "execute_result"
    }
   ],
   "source": [
    "df.columns"
   ]
  },
  {
   "cell_type": "code",
   "execution_count": 38,
   "metadata": {},
   "outputs": [],
   "source": [
    "# your code here\n",
    "\n",
    "df['cast_fb_budget'] = df['cast_total_facebook_likes'] *df['budget']\n",
    "df['PG_budget'] = df['content_rating_PG'] *df['budget']\n",
    "df['PG13_budget'] = df['content_rating_PG-13'] *df['budget']\n",
    "df['R_budget'] = df['content_rating_R'] *df['budget']\n",
    "df['superstar_budget'] = df['superstar'] *df['budget']\n",
    "df['cast_fb_budget^2']= df['cast_total_facebook_likes'] *df['budget^2']\n",
    "\n"
   ]
  },
  {
   "cell_type": "markdown",
   "metadata": {},
   "source": [
    "## Step 5: Train-Test Split\n",
    "\n",
    "If you plan on doing any scaling of your data, make sure it is done at the appropriate time. "
   ]
  },
  {
   "cell_type": "code",
   "execution_count": 39,
   "metadata": {},
   "outputs": [
    {
     "data": {
      "text/plain": [
       "Index(['director_name', 'duration', 'director_facebook_likes',\n",
       "       'actor_3_facebook_likes', 'actor_2_name', 'actor_1_facebook_likes',\n",
       "       'actor_1_name', 'movie_title', 'cast_total_facebook_likes',\n",
       "       'actor_3_name', 'language', 'country', 'budget', 'title_year',\n",
       "       'actor_2_facebook_likes', 'gross', 'superstar', 'content_rating_PG',\n",
       "       'content_rating_PG-13', 'content_rating_R', 'color_Color', 'yrs_old',\n",
       "       'budget^2', 'actor_1_facebook_likes^2', 'actor_2_facebook_likes^2',\n",
       "       'actor_3_facebook_likes^2', 'cast_total_facebook_likes^2',\n",
       "       'cast_fb_budget', 'PG_budget', 'PG13_budget', 'R_budget',\n",
       "       'superstar_budget', 'cast_fb_budget^2'],\n",
       "      dtype='object')"
      ]
     },
     "execution_count": 39,
     "metadata": {},
     "output_type": "execute_result"
    }
   ],
   "source": [
    "df.columns"
   ]
  },
  {
   "cell_type": "markdown",
   "metadata": {},
   "source": [
    "### 5.1) Perform a train-test split of the data."
   ]
  },
  {
   "cell_type": "code",
   "execution_count": 40,
   "metadata": {},
   "outputs": [],
   "source": [
    "#your code here \n",
    "features =['duration', 'director_facebook_likes',\n",
    "       'actor_3_facebook_likes', 'actor_1_facebook_likes',\n",
    "       'cast_total_facebook_likes', 'budget',\n",
    "       'actor_2_facebook_likes', 'yrs_old', 'superstar',\n",
    "       'content_rating_PG', 'content_rating_PG-13', 'content_rating_R',\n",
    "       'color_Color', 'budget^2', 'actor_1_facebook_likes^2',\n",
    "       'actor_2_facebook_likes^2', 'actor_3_facebook_likes^2',\n",
    "       'cast_total_facebook_likes^2',\n",
    "       'cast_fb_budget', 'cast_fb_budget^2', 'PG_budget', 'PG13_budget',\n",
    "       'R_budget', 'superstar_budget']"
   ]
  },
  {
   "cell_type": "code",
   "execution_count": 41,
   "metadata": {},
   "outputs": [],
   "source": [
    "#improt train_test_split from sklearn package\n",
    "from sklearn.model_selection import train_test_split"
   ]
  },
  {
   "cell_type": "code",
   "execution_count": 42,
   "metadata": {},
   "outputs": [],
   "source": [
    "X_train, X_test, y_train, y_test = train_test_split(df[features], df['gross'], random_state=9,test_size=0.2)\n"
   ]
  },
  {
   "cell_type": "markdown",
   "metadata": {},
   "source": [
    "### 5.4) Fit the model to the training data."
   ]
  },
  {
   "cell_type": "code",
   "execution_count": 43,
   "metadata": {},
   "outputs": [],
   "source": [
    "from sklearn.linear_model import LinearRegression"
   ]
  },
  {
   "cell_type": "code",
   "execution_count": 44,
   "metadata": {},
   "outputs": [],
   "source": [
    "#your code here \n",
    "#instantiate a linear regression object\n",
    "lm = LinearRegression()\n",
    "\n",
    "#fit the linear regression to the data\n",
    "lm = lm.fit(X_train, y_train)\n"
   ]
  },
  {
   "cell_type": "markdown",
   "metadata": {},
   "source": [
    "### 5.5) Use the model to predict on the training set and the test set."
   ]
  },
  {
   "cell_type": "code",
   "execution_count": 45,
   "metadata": {},
   "outputs": [],
   "source": [
    "#your code here \n",
    "y_train_pred = lm.predict(X_train)\n",
    "\n",
    "y_test_pred = lm.predict(X_test)\n"
   ]
  },
  {
   "cell_type": "markdown",
   "metadata": {},
   "source": [
    "### 5.6) Evaluate the training and test predictions using RMSE."
   ]
  },
  {
   "cell_type": "code",
   "execution_count": 46,
   "metadata": {},
   "outputs": [],
   "source": [
    "from sklearn import metrics"
   ]
  },
  {
   "cell_type": "code",
   "execution_count": 47,
   "metadata": {},
   "outputs": [
    {
     "name": "stdout",
     "output_type": "stream",
     "text": [
      "Training Root Mean Squared Error: 55075645.80569117\n",
      "Test Root Mean Squared Error: 56454466.03083248\n"
     ]
    }
   ],
   "source": [
    "#your code here \n",
    "train_rmse = np.sqrt(metrics.mean_squared_error(y_train, y_train_pred))\n",
    "\n",
    "test_rmse = np.sqrt(metrics.mean_squared_error(y_test, y_test_pred))\n",
    "\n",
    "print('Training Root Mean Squared Error:' , train_rmse)\n",
    "print('Test Root Mean Squared Error:' , test_rmse)"
   ]
  },
  {
   "cell_type": "code",
   "execution_count": 48,
   "metadata": {},
   "outputs": [
    {
     "data": {
      "text/plain": [
       "0.7801579942469284"
      ]
     },
     "execution_count": 48,
     "metadata": {},
     "output_type": "execute_result"
    }
   ],
   "source": [
    "test_rmse / df['gross'].std()"
   ]
  },
  {
   "cell_type": "markdown",
   "metadata": {},
   "source": [
    "### 5.7) Determine if your model is overfit."
   ]
  },
  {
   "cell_type": "code",
   "execution_count": 49,
   "metadata": {},
   "outputs": [],
   "source": [
    "#your code here "
   ]
  },
  {
   "cell_type": "markdown",
   "metadata": {},
   "source": [
    "## Step 6: Utilize some different feature selection techniques before or in conjuction with fitting your models."
   ]
  },
  {
   "cell_type": "markdown",
   "metadata": {},
   "source": [
    "### 6.1) Utilize a filter method to identify some features to remove from the model.  "
   ]
  },
  {
   "cell_type": "code",
   "execution_count": 50,
   "metadata": {
    "scrolled": true
   },
   "outputs": [
    {
     "data": {
      "text/html": [
       "<div>\n",
       "<style scoped>\n",
       "    .dataframe tbody tr th:only-of-type {\n",
       "        vertical-align: middle;\n",
       "    }\n",
       "\n",
       "    .dataframe tbody tr th {\n",
       "        vertical-align: top;\n",
       "    }\n",
       "\n",
       "    .dataframe thead th {\n",
       "        text-align: right;\n",
       "    }\n",
       "</style>\n",
       "<table border=\"1\" class=\"dataframe\">\n",
       "  <thead>\n",
       "    <tr style=\"text-align: right;\">\n",
       "      <th></th>\n",
       "      <th>duration</th>\n",
       "      <th>director_facebook_likes</th>\n",
       "      <th>actor_3_facebook_likes</th>\n",
       "      <th>actor_1_facebook_likes</th>\n",
       "      <th>cast_total_facebook_likes</th>\n",
       "      <th>budget</th>\n",
       "      <th>actor_2_facebook_likes</th>\n",
       "      <th>yrs_old</th>\n",
       "      <th>superstar</th>\n",
       "      <th>content_rating_PG</th>\n",
       "      <th>content_rating_PG-13</th>\n",
       "      <th>content_rating_R</th>\n",
       "      <th>color_Color</th>\n",
       "      <th>budget^2</th>\n",
       "      <th>actor_1_facebook_likes^2</th>\n",
       "      <th>actor_2_facebook_likes^2</th>\n",
       "      <th>actor_3_facebook_likes^2</th>\n",
       "      <th>cast_total_facebook_likes^2</th>\n",
       "      <th>cast_fb_budget</th>\n",
       "      <th>cast_fb_budget^2</th>\n",
       "      <th>PG_budget</th>\n",
       "      <th>PG13_budget</th>\n",
       "      <th>R_budget</th>\n",
       "      <th>superstar_budget</th>\n",
       "    </tr>\n",
       "  </thead>\n",
       "  <tbody>\n",
       "    <tr>\n",
       "      <th>duration</th>\n",
       "      <td>1.000000</td>\n",
       "      <td>0.208904</td>\n",
       "      <td>0.147379</td>\n",
       "      <td>0.119747</td>\n",
       "      <td>0.152464</td>\n",
       "      <td>0.300243</td>\n",
       "      <td>0.166037</td>\n",
       "      <td>0.135792</td>\n",
       "      <td>0.081126</td>\n",
       "      <td>-0.111448</td>\n",
       "      <td>0.072700</td>\n",
       "      <td>0.038138</td>\n",
       "      <td>-0.034941</td>\n",
       "      <td>0.260892</td>\n",
       "      <td>-0.001186</td>\n",
       "      <td>0.033715</td>\n",
       "      <td>0.126244</td>\n",
       "      <td>0.020830</td>\n",
       "      <td>0.246186</td>\n",
       "      <td>0.216258</td>\n",
       "      <td>-0.083411</td>\n",
       "      <td>0.261243</td>\n",
       "      <td>0.272551</td>\n",
       "      <td>0.158065</td>\n",
       "    </tr>\n",
       "    <tr>\n",
       "      <th>director_facebook_likes</th>\n",
       "      <td>0.208904</td>\n",
       "      <td>1.000000</td>\n",
       "      <td>0.144964</td>\n",
       "      <td>0.113900</td>\n",
       "      <td>0.139636</td>\n",
       "      <td>0.102104</td>\n",
       "      <td>0.138904</td>\n",
       "      <td>0.078772</td>\n",
       "      <td>0.085916</td>\n",
       "      <td>-0.004864</td>\n",
       "      <td>-0.006682</td>\n",
       "      <td>0.021773</td>\n",
       "      <td>-0.080136</td>\n",
       "      <td>0.078374</td>\n",
       "      <td>0.014644</td>\n",
       "      <td>0.049157</td>\n",
       "      <td>0.169697</td>\n",
       "      <td>0.037496</td>\n",
       "      <td>0.174420</td>\n",
       "      <td>0.141633</td>\n",
       "      <td>-0.003566</td>\n",
       "      <td>0.067862</td>\n",
       "      <td>0.099606</td>\n",
       "      <td>0.129775</td>\n",
       "    </tr>\n",
       "    <tr>\n",
       "      <th>actor_3_facebook_likes</th>\n",
       "      <td>0.147379</td>\n",
       "      <td>0.144964</td>\n",
       "      <td>1.000000</td>\n",
       "      <td>0.287980</td>\n",
       "      <td>0.517673</td>\n",
       "      <td>0.255020</td>\n",
       "      <td>0.572760</td>\n",
       "      <td>-0.117332</td>\n",
       "      <td>0.265995</td>\n",
       "      <td>-0.008225</td>\n",
       "      <td>0.097160</td>\n",
       "      <td>-0.079121</td>\n",
       "      <td>0.022764</td>\n",
       "      <td>0.258239</td>\n",
       "      <td>0.111675</td>\n",
       "      <td>0.221732</td>\n",
       "      <td>0.936530</td>\n",
       "      <td>0.241689</td>\n",
       "      <td>0.614646</td>\n",
       "      <td>0.518972</td>\n",
       "      <td>0.052327</td>\n",
       "      <td>0.241164</td>\n",
       "      <td>0.007484</td>\n",
       "      <td>0.393565</td>\n",
       "    </tr>\n",
       "    <tr>\n",
       "      <th>actor_1_facebook_likes</th>\n",
       "      <td>0.119747</td>\n",
       "      <td>0.113900</td>\n",
       "      <td>0.287980</td>\n",
       "      <td>1.000000</td>\n",
       "      <td>0.940276</td>\n",
       "      <td>0.175609</td>\n",
       "      <td>0.491448</td>\n",
       "      <td>-0.103527</td>\n",
       "      <td>0.656101</td>\n",
       "      <td>-0.036613</td>\n",
       "      <td>0.045002</td>\n",
       "      <td>-0.002336</td>\n",
       "      <td>0.022476</td>\n",
       "      <td>0.157023</td>\n",
       "      <td>0.772707</td>\n",
       "      <td>0.358072</td>\n",
       "      <td>0.216339</td>\n",
       "      <td>0.702073</td>\n",
       "      <td>0.494885</td>\n",
       "      <td>0.286015</td>\n",
       "      <td>0.027868</td>\n",
       "      <td>0.131130</td>\n",
       "      <td>0.086540</td>\n",
       "      <td>0.393572</td>\n",
       "    </tr>\n",
       "    <tr>\n",
       "      <th>cast_total_facebook_likes</th>\n",
       "      <td>0.152464</td>\n",
       "      <td>0.139636</td>\n",
       "      <td>0.517673</td>\n",
       "      <td>0.940276</td>\n",
       "      <td>1.000000</td>\n",
       "      <td>0.235710</td>\n",
       "      <td>0.717739</td>\n",
       "      <td>-0.126424</td>\n",
       "      <td>0.618308</td>\n",
       "      <td>-0.037739</td>\n",
       "      <td>0.070178</td>\n",
       "      <td>-0.024768</td>\n",
       "      <td>0.021794</td>\n",
       "      <td>0.221975</td>\n",
       "      <td>0.734645</td>\n",
       "      <td>0.502705</td>\n",
       "      <td>0.430239</td>\n",
       "      <td>0.759375</td>\n",
       "      <td>0.633524</td>\n",
       "      <td>0.415615</td>\n",
       "      <td>0.036197</td>\n",
       "      <td>0.193994</td>\n",
       "      <td>0.082256</td>\n",
       "      <td>0.453666</td>\n",
       "    </tr>\n",
       "    <tr>\n",
       "      <th>budget</th>\n",
       "      <td>0.300243</td>\n",
       "      <td>0.102104</td>\n",
       "      <td>0.255020</td>\n",
       "      <td>0.175609</td>\n",
       "      <td>0.235710</td>\n",
       "      <td>1.000000</td>\n",
       "      <td>0.246283</td>\n",
       "      <td>-0.229149</td>\n",
       "      <td>0.123971</td>\n",
       "      <td>0.132246</td>\n",
       "      <td>0.215573</td>\n",
       "      <td>-0.327088</td>\n",
       "      <td>0.049192</td>\n",
       "      <td>0.922968</td>\n",
       "      <td>0.021831</td>\n",
       "      <td>0.081213</td>\n",
       "      <td>0.224053</td>\n",
       "      <td>0.062183</td>\n",
       "      <td>0.639867</td>\n",
       "      <td>0.605707</td>\n",
       "      <td>0.409721</td>\n",
       "      <td>0.673415</td>\n",
       "      <td>0.125384</td>\n",
       "      <td>0.339547</td>\n",
       "    </tr>\n",
       "    <tr>\n",
       "      <th>actor_2_facebook_likes</th>\n",
       "      <td>0.166037</td>\n",
       "      <td>0.138904</td>\n",
       "      <td>0.572760</td>\n",
       "      <td>0.491448</td>\n",
       "      <td>0.717739</td>\n",
       "      <td>0.246283</td>\n",
       "      <td>1.000000</td>\n",
       "      <td>-0.117024</td>\n",
       "      <td>0.356459</td>\n",
       "      <td>-0.039794</td>\n",
       "      <td>0.062657</td>\n",
       "      <td>-0.016067</td>\n",
       "      <td>0.011628</td>\n",
       "      <td>0.232910</td>\n",
       "      <td>0.269513</td>\n",
       "      <td>0.691879</td>\n",
       "      <td>0.480149</td>\n",
       "      <td>0.455445</td>\n",
       "      <td>0.600071</td>\n",
       "      <td>0.416501</td>\n",
       "      <td>0.037487</td>\n",
       "      <td>0.207702</td>\n",
       "      <td>0.081737</td>\n",
       "      <td>0.376831</td>\n",
       "    </tr>\n",
       "    <tr>\n",
       "      <th>yrs_old</th>\n",
       "      <td>0.135792</td>\n",
       "      <td>0.078772</td>\n",
       "      <td>-0.117332</td>\n",
       "      <td>-0.103527</td>\n",
       "      <td>-0.126424</td>\n",
       "      <td>-0.229149</td>\n",
       "      <td>-0.117024</td>\n",
       "      <td>1.000000</td>\n",
       "      <td>-0.090990</td>\n",
       "      <td>0.059026</td>\n",
       "      <td>-0.181239</td>\n",
       "      <td>0.104033</td>\n",
       "      <td>-0.068367</td>\n",
       "      <td>-0.204989</td>\n",
       "      <td>-0.045460</td>\n",
       "      <td>-0.049801</td>\n",
       "      <td>-0.099168</td>\n",
       "      <td>-0.055067</td>\n",
       "      <td>-0.174614</td>\n",
       "      <td>-0.146959</td>\n",
       "      <td>-0.099415</td>\n",
       "      <td>-0.187296</td>\n",
       "      <td>0.018461</td>\n",
       "      <td>-0.099432</td>\n",
       "    </tr>\n",
       "    <tr>\n",
       "      <th>superstar</th>\n",
       "      <td>0.081126</td>\n",
       "      <td>0.085916</td>\n",
       "      <td>0.265995</td>\n",
       "      <td>0.656101</td>\n",
       "      <td>0.618308</td>\n",
       "      <td>0.123971</td>\n",
       "      <td>0.356459</td>\n",
       "      <td>-0.090990</td>\n",
       "      <td>1.000000</td>\n",
       "      <td>-0.014928</td>\n",
       "      <td>0.013520</td>\n",
       "      <td>0.006653</td>\n",
       "      <td>0.001340</td>\n",
       "      <td>0.140372</td>\n",
       "      <td>0.401277</td>\n",
       "      <td>0.210514</td>\n",
       "      <td>0.259142</td>\n",
       "      <td>0.357726</td>\n",
       "      <td>0.452138</td>\n",
       "      <td>0.332646</td>\n",
       "      <td>0.023741</td>\n",
       "      <td>0.100685</td>\n",
       "      <td>0.046507</td>\n",
       "      <td>0.691585</td>\n",
       "    </tr>\n",
       "    <tr>\n",
       "      <th>content_rating_PG</th>\n",
       "      <td>-0.111448</td>\n",
       "      <td>-0.004864</td>\n",
       "      <td>-0.008225</td>\n",
       "      <td>-0.036613</td>\n",
       "      <td>-0.037739</td>\n",
       "      <td>0.132246</td>\n",
       "      <td>-0.039794</td>\n",
       "      <td>0.059026</td>\n",
       "      <td>-0.014928</td>\n",
       "      <td>1.000000</td>\n",
       "      <td>-0.332611</td>\n",
       "      <td>-0.391058</td>\n",
       "      <td>0.006762</td>\n",
       "      <td>0.097354</td>\n",
       "      <td>-0.019064</td>\n",
       "      <td>-0.019632</td>\n",
       "      <td>-0.017325</td>\n",
       "      <td>-0.021598</td>\n",
       "      <td>0.023593</td>\n",
       "      <td>0.023381</td>\n",
       "      <td>0.715232</td>\n",
       "      <td>-0.215825</td>\n",
       "      <td>-0.232757</td>\n",
       "      <td>0.009425</td>\n",
       "    </tr>\n",
       "    <tr>\n",
       "      <th>content_rating_PG-13</th>\n",
       "      <td>0.072700</td>\n",
       "      <td>-0.006682</td>\n",
       "      <td>0.097160</td>\n",
       "      <td>0.045002</td>\n",
       "      <td>0.070178</td>\n",
       "      <td>0.215573</td>\n",
       "      <td>0.062657</td>\n",
       "      <td>-0.181239</td>\n",
       "      <td>0.013520</td>\n",
       "      <td>-0.332611</td>\n",
       "      <td>1.000000</td>\n",
       "      <td>-0.686954</td>\n",
       "      <td>0.048477</td>\n",
       "      <td>0.171250</td>\n",
       "      <td>0.028908</td>\n",
       "      <td>0.006036</td>\n",
       "      <td>0.082838</td>\n",
       "      <td>0.036897</td>\n",
       "      <td>0.154147</td>\n",
       "      <td>0.138626</td>\n",
       "      <td>-0.237894</td>\n",
       "      <td>0.648881</td>\n",
       "      <td>-0.408874</td>\n",
       "      <td>0.070584</td>\n",
       "    </tr>\n",
       "    <tr>\n",
       "      <th>content_rating_R</th>\n",
       "      <td>0.038138</td>\n",
       "      <td>0.021773</td>\n",
       "      <td>-0.079121</td>\n",
       "      <td>-0.002336</td>\n",
       "      <td>-0.024768</td>\n",
       "      <td>-0.327088</td>\n",
       "      <td>-0.016067</td>\n",
       "      <td>0.104033</td>\n",
       "      <td>0.006653</td>\n",
       "      <td>-0.391058</td>\n",
       "      <td>-0.686954</td>\n",
       "      <td>1.000000</td>\n",
       "      <td>-0.059694</td>\n",
       "      <td>-0.255577</td>\n",
       "      <td>-0.008860</td>\n",
       "      <td>0.014349</td>\n",
       "      <td>-0.060325</td>\n",
       "      <td>-0.014133</td>\n",
       "      <td>-0.161322</td>\n",
       "      <td>-0.149203</td>\n",
       "      <td>-0.279697</td>\n",
       "      <td>-0.445751</td>\n",
       "      <td>0.595199</td>\n",
       "      <td>-0.068019</td>\n",
       "    </tr>\n",
       "    <tr>\n",
       "      <th>color_Color</th>\n",
       "      <td>-0.034941</td>\n",
       "      <td>-0.080136</td>\n",
       "      <td>0.022764</td>\n",
       "      <td>0.022476</td>\n",
       "      <td>0.021794</td>\n",
       "      <td>0.049192</td>\n",
       "      <td>0.011628</td>\n",
       "      <td>-0.068367</td>\n",
       "      <td>0.001340</td>\n",
       "      <td>0.006762</td>\n",
       "      <td>0.048477</td>\n",
       "      <td>-0.059694</td>\n",
       "      <td>1.000000</td>\n",
       "      <td>0.040953</td>\n",
       "      <td>0.010809</td>\n",
       "      <td>0.005206</td>\n",
       "      <td>0.018781</td>\n",
       "      <td>0.009999</td>\n",
       "      <td>0.029998</td>\n",
       "      <td>0.025739</td>\n",
       "      <td>0.019233</td>\n",
       "      <td>0.038771</td>\n",
       "      <td>-0.008362</td>\n",
       "      <td>0.014225</td>\n",
       "    </tr>\n",
       "    <tr>\n",
       "      <th>budget^2</th>\n",
       "      <td>0.260892</td>\n",
       "      <td>0.078374</td>\n",
       "      <td>0.258239</td>\n",
       "      <td>0.157023</td>\n",
       "      <td>0.221975</td>\n",
       "      <td>0.922968</td>\n",
       "      <td>0.232910</td>\n",
       "      <td>-0.204989</td>\n",
       "      <td>0.140372</td>\n",
       "      <td>0.097354</td>\n",
       "      <td>0.171250</td>\n",
       "      <td>-0.255577</td>\n",
       "      <td>0.040953</td>\n",
       "      <td>1.000000</td>\n",
       "      <td>0.026178</td>\n",
       "      <td>0.078081</td>\n",
       "      <td>0.247008</td>\n",
       "      <td>0.068703</td>\n",
       "      <td>0.682337</td>\n",
       "      <td>0.726421</td>\n",
       "      <td>0.369433</td>\n",
       "      <td>0.674327</td>\n",
       "      <td>0.023468</td>\n",
       "      <td>0.407137</td>\n",
       "    </tr>\n",
       "    <tr>\n",
       "      <th>actor_1_facebook_likes^2</th>\n",
       "      <td>-0.001186</td>\n",
       "      <td>0.014644</td>\n",
       "      <td>0.111675</td>\n",
       "      <td>0.772707</td>\n",
       "      <td>0.734645</td>\n",
       "      <td>0.021831</td>\n",
       "      <td>0.269513</td>\n",
       "      <td>-0.045460</td>\n",
       "      <td>0.401277</td>\n",
       "      <td>-0.019064</td>\n",
       "      <td>0.028908</td>\n",
       "      <td>-0.008860</td>\n",
       "      <td>0.010809</td>\n",
       "      <td>0.026178</td>\n",
       "      <td>1.000000</td>\n",
       "      <td>0.383868</td>\n",
       "      <td>0.080073</td>\n",
       "      <td>0.931577</td>\n",
       "      <td>0.244630</td>\n",
       "      <td>0.100476</td>\n",
       "      <td>0.000101</td>\n",
       "      <td>0.021515</td>\n",
       "      <td>0.010648</td>\n",
       "      <td>0.182741</td>\n",
       "    </tr>\n",
       "    <tr>\n",
       "      <th>actor_2_facebook_likes^2</th>\n",
       "      <td>0.033715</td>\n",
       "      <td>0.049157</td>\n",
       "      <td>0.221732</td>\n",
       "      <td>0.358072</td>\n",
       "      <td>0.502705</td>\n",
       "      <td>0.081213</td>\n",
       "      <td>0.691879</td>\n",
       "      <td>-0.049801</td>\n",
       "      <td>0.210514</td>\n",
       "      <td>-0.019632</td>\n",
       "      <td>0.006036</td>\n",
       "      <td>0.014349</td>\n",
       "      <td>0.005206</td>\n",
       "      <td>0.078081</td>\n",
       "      <td>0.383868</td>\n",
       "      <td>1.000000</td>\n",
       "      <td>0.203937</td>\n",
       "      <td>0.623089</td>\n",
       "      <td>0.331789</td>\n",
       "      <td>0.186352</td>\n",
       "      <td>0.010656</td>\n",
       "      <td>0.058933</td>\n",
       "      <td>0.048262</td>\n",
       "      <td>0.188556</td>\n",
       "    </tr>\n",
       "    <tr>\n",
       "      <th>actor_3_facebook_likes^2</th>\n",
       "      <td>0.126244</td>\n",
       "      <td>0.169697</td>\n",
       "      <td>0.936530</td>\n",
       "      <td>0.216339</td>\n",
       "      <td>0.430239</td>\n",
       "      <td>0.224053</td>\n",
       "      <td>0.480149</td>\n",
       "      <td>-0.099168</td>\n",
       "      <td>0.259142</td>\n",
       "      <td>-0.017325</td>\n",
       "      <td>0.082838</td>\n",
       "      <td>-0.060325</td>\n",
       "      <td>0.018781</td>\n",
       "      <td>0.247008</td>\n",
       "      <td>0.080073</td>\n",
       "      <td>0.203937</td>\n",
       "      <td>1.000000</td>\n",
       "      <td>0.212980</td>\n",
       "      <td>0.600180</td>\n",
       "      <td>0.552871</td>\n",
       "      <td>0.031616</td>\n",
       "      <td>0.227256</td>\n",
       "      <td>-0.001811</td>\n",
       "      <td>0.431713</td>\n",
       "    </tr>\n",
       "    <tr>\n",
       "      <th>cast_total_facebook_likes^2</th>\n",
       "      <td>0.020830</td>\n",
       "      <td>0.037496</td>\n",
       "      <td>0.241689</td>\n",
       "      <td>0.702073</td>\n",
       "      <td>0.759375</td>\n",
       "      <td>0.062183</td>\n",
       "      <td>0.455445</td>\n",
       "      <td>-0.055067</td>\n",
       "      <td>0.357726</td>\n",
       "      <td>-0.021598</td>\n",
       "      <td>0.036897</td>\n",
       "      <td>-0.014133</td>\n",
       "      <td>0.009999</td>\n",
       "      <td>0.068703</td>\n",
       "      <td>0.931577</td>\n",
       "      <td>0.623089</td>\n",
       "      <td>0.212980</td>\n",
       "      <td>1.000000</td>\n",
       "      <td>0.344984</td>\n",
       "      <td>0.188650</td>\n",
       "      <td>0.004906</td>\n",
       "      <td>0.058683</td>\n",
       "      <td>0.017492</td>\n",
       "      <td>0.224052</td>\n",
       "    </tr>\n",
       "    <tr>\n",
       "      <th>cast_fb_budget</th>\n",
       "      <td>0.246186</td>\n",
       "      <td>0.174420</td>\n",
       "      <td>0.614646</td>\n",
       "      <td>0.494885</td>\n",
       "      <td>0.633524</td>\n",
       "      <td>0.639867</td>\n",
       "      <td>0.600071</td>\n",
       "      <td>-0.174614</td>\n",
       "      <td>0.452138</td>\n",
       "      <td>0.023593</td>\n",
       "      <td>0.154147</td>\n",
       "      <td>-0.161322</td>\n",
       "      <td>0.029998</td>\n",
       "      <td>0.682337</td>\n",
       "      <td>0.244630</td>\n",
       "      <td>0.331789</td>\n",
       "      <td>0.600180</td>\n",
       "      <td>0.344984</td>\n",
       "      <td>1.000000</td>\n",
       "      <td>0.933704</td>\n",
       "      <td>0.186418</td>\n",
       "      <td>0.533181</td>\n",
       "      <td>0.044142</td>\n",
       "      <td>0.746626</td>\n",
       "    </tr>\n",
       "    <tr>\n",
       "      <th>cast_fb_budget^2</th>\n",
       "      <td>0.216258</td>\n",
       "      <td>0.141633</td>\n",
       "      <td>0.518972</td>\n",
       "      <td>0.286015</td>\n",
       "      <td>0.415615</td>\n",
       "      <td>0.605707</td>\n",
       "      <td>0.416501</td>\n",
       "      <td>-0.146959</td>\n",
       "      <td>0.332646</td>\n",
       "      <td>0.023381</td>\n",
       "      <td>0.138626</td>\n",
       "      <td>-0.149203</td>\n",
       "      <td>0.025739</td>\n",
       "      <td>0.726421</td>\n",
       "      <td>0.100476</td>\n",
       "      <td>0.186352</td>\n",
       "      <td>0.552871</td>\n",
       "      <td>0.188650</td>\n",
       "      <td>0.933704</td>\n",
       "      <td>1.000000</td>\n",
       "      <td>0.172440</td>\n",
       "      <td>0.538743</td>\n",
       "      <td>-0.020603</td>\n",
       "      <td>0.732299</td>\n",
       "    </tr>\n",
       "    <tr>\n",
       "      <th>PG_budget</th>\n",
       "      <td>-0.083411</td>\n",
       "      <td>-0.003566</td>\n",
       "      <td>0.052327</td>\n",
       "      <td>0.027868</td>\n",
       "      <td>0.036197</td>\n",
       "      <td>0.409721</td>\n",
       "      <td>0.037487</td>\n",
       "      <td>-0.099415</td>\n",
       "      <td>0.023741</td>\n",
       "      <td>0.715232</td>\n",
       "      <td>-0.237894</td>\n",
       "      <td>-0.279697</td>\n",
       "      <td>0.019233</td>\n",
       "      <td>0.369433</td>\n",
       "      <td>0.000101</td>\n",
       "      <td>0.010656</td>\n",
       "      <td>0.031616</td>\n",
       "      <td>0.004906</td>\n",
       "      <td>0.186418</td>\n",
       "      <td>0.172440</td>\n",
       "      <td>1.000000</td>\n",
       "      <td>-0.154365</td>\n",
       "      <td>-0.166475</td>\n",
       "      <td>0.088677</td>\n",
       "    </tr>\n",
       "    <tr>\n",
       "      <th>PG13_budget</th>\n",
       "      <td>0.261243</td>\n",
       "      <td>0.067862</td>\n",
       "      <td>0.241164</td>\n",
       "      <td>0.131130</td>\n",
       "      <td>0.193994</td>\n",
       "      <td>0.673415</td>\n",
       "      <td>0.207702</td>\n",
       "      <td>-0.187296</td>\n",
       "      <td>0.100685</td>\n",
       "      <td>-0.215825</td>\n",
       "      <td>0.648881</td>\n",
       "      <td>-0.445751</td>\n",
       "      <td>0.038771</td>\n",
       "      <td>0.674327</td>\n",
       "      <td>0.021515</td>\n",
       "      <td>0.058933</td>\n",
       "      <td>0.227256</td>\n",
       "      <td>0.058683</td>\n",
       "      <td>0.533181</td>\n",
       "      <td>0.538743</td>\n",
       "      <td>-0.154365</td>\n",
       "      <td>1.000000</td>\n",
       "      <td>-0.265311</td>\n",
       "      <td>0.300669</td>\n",
       "    </tr>\n",
       "    <tr>\n",
       "      <th>R_budget</th>\n",
       "      <td>0.272551</td>\n",
       "      <td>0.099606</td>\n",
       "      <td>0.007484</td>\n",
       "      <td>0.086540</td>\n",
       "      <td>0.082256</td>\n",
       "      <td>0.125384</td>\n",
       "      <td>0.081737</td>\n",
       "      <td>0.018461</td>\n",
       "      <td>0.046507</td>\n",
       "      <td>-0.232757</td>\n",
       "      <td>-0.408874</td>\n",
       "      <td>0.595199</td>\n",
       "      <td>-0.008362</td>\n",
       "      <td>0.023468</td>\n",
       "      <td>0.010648</td>\n",
       "      <td>0.048262</td>\n",
       "      <td>-0.001811</td>\n",
       "      <td>0.017492</td>\n",
       "      <td>0.044142</td>\n",
       "      <td>-0.020603</td>\n",
       "      <td>-0.166475</td>\n",
       "      <td>-0.265311</td>\n",
       "      <td>1.000000</td>\n",
       "      <td>0.021508</td>\n",
       "    </tr>\n",
       "    <tr>\n",
       "      <th>superstar_budget</th>\n",
       "      <td>0.158065</td>\n",
       "      <td>0.129775</td>\n",
       "      <td>0.393565</td>\n",
       "      <td>0.393572</td>\n",
       "      <td>0.453666</td>\n",
       "      <td>0.339547</td>\n",
       "      <td>0.376831</td>\n",
       "      <td>-0.099432</td>\n",
       "      <td>0.691585</td>\n",
       "      <td>0.009425</td>\n",
       "      <td>0.070584</td>\n",
       "      <td>-0.068019</td>\n",
       "      <td>0.014225</td>\n",
       "      <td>0.407137</td>\n",
       "      <td>0.182741</td>\n",
       "      <td>0.188556</td>\n",
       "      <td>0.431713</td>\n",
       "      <td>0.224052</td>\n",
       "      <td>0.746626</td>\n",
       "      <td>0.732299</td>\n",
       "      <td>0.088677</td>\n",
       "      <td>0.300669</td>\n",
       "      <td>0.021508</td>\n",
       "      <td>1.000000</td>\n",
       "    </tr>\n",
       "  </tbody>\n",
       "</table>\n",
       "</div>"
      ],
      "text/plain": [
       "                             duration  director_facebook_likes  \\\n",
       "duration                     1.000000                 0.208904   \n",
       "director_facebook_likes      0.208904                 1.000000   \n",
       "actor_3_facebook_likes       0.147379                 0.144964   \n",
       "actor_1_facebook_likes       0.119747                 0.113900   \n",
       "cast_total_facebook_likes    0.152464                 0.139636   \n",
       "budget                       0.300243                 0.102104   \n",
       "actor_2_facebook_likes       0.166037                 0.138904   \n",
       "yrs_old                      0.135792                 0.078772   \n",
       "superstar                    0.081126                 0.085916   \n",
       "content_rating_PG           -0.111448                -0.004864   \n",
       "content_rating_PG-13         0.072700                -0.006682   \n",
       "content_rating_R             0.038138                 0.021773   \n",
       "color_Color                 -0.034941                -0.080136   \n",
       "budget^2                     0.260892                 0.078374   \n",
       "actor_1_facebook_likes^2    -0.001186                 0.014644   \n",
       "actor_2_facebook_likes^2     0.033715                 0.049157   \n",
       "actor_3_facebook_likes^2     0.126244                 0.169697   \n",
       "cast_total_facebook_likes^2  0.020830                 0.037496   \n",
       "cast_fb_budget               0.246186                 0.174420   \n",
       "cast_fb_budget^2             0.216258                 0.141633   \n",
       "PG_budget                   -0.083411                -0.003566   \n",
       "PG13_budget                  0.261243                 0.067862   \n",
       "R_budget                     0.272551                 0.099606   \n",
       "superstar_budget             0.158065                 0.129775   \n",
       "\n",
       "                             actor_3_facebook_likes  actor_1_facebook_likes  \\\n",
       "duration                                   0.147379                0.119747   \n",
       "director_facebook_likes                    0.144964                0.113900   \n",
       "actor_3_facebook_likes                     1.000000                0.287980   \n",
       "actor_1_facebook_likes                     0.287980                1.000000   \n",
       "cast_total_facebook_likes                  0.517673                0.940276   \n",
       "budget                                     0.255020                0.175609   \n",
       "actor_2_facebook_likes                     0.572760                0.491448   \n",
       "yrs_old                                   -0.117332               -0.103527   \n",
       "superstar                                  0.265995                0.656101   \n",
       "content_rating_PG                         -0.008225               -0.036613   \n",
       "content_rating_PG-13                       0.097160                0.045002   \n",
       "content_rating_R                          -0.079121               -0.002336   \n",
       "color_Color                                0.022764                0.022476   \n",
       "budget^2                                   0.258239                0.157023   \n",
       "actor_1_facebook_likes^2                   0.111675                0.772707   \n",
       "actor_2_facebook_likes^2                   0.221732                0.358072   \n",
       "actor_3_facebook_likes^2                   0.936530                0.216339   \n",
       "cast_total_facebook_likes^2                0.241689                0.702073   \n",
       "cast_fb_budget                             0.614646                0.494885   \n",
       "cast_fb_budget^2                           0.518972                0.286015   \n",
       "PG_budget                                  0.052327                0.027868   \n",
       "PG13_budget                                0.241164                0.131130   \n",
       "R_budget                                   0.007484                0.086540   \n",
       "superstar_budget                           0.393565                0.393572   \n",
       "\n",
       "                             cast_total_facebook_likes    budget  \\\n",
       "duration                                      0.152464  0.300243   \n",
       "director_facebook_likes                       0.139636  0.102104   \n",
       "actor_3_facebook_likes                        0.517673  0.255020   \n",
       "actor_1_facebook_likes                        0.940276  0.175609   \n",
       "cast_total_facebook_likes                     1.000000  0.235710   \n",
       "budget                                        0.235710  1.000000   \n",
       "actor_2_facebook_likes                        0.717739  0.246283   \n",
       "yrs_old                                      -0.126424 -0.229149   \n",
       "superstar                                     0.618308  0.123971   \n",
       "content_rating_PG                            -0.037739  0.132246   \n",
       "content_rating_PG-13                          0.070178  0.215573   \n",
       "content_rating_R                             -0.024768 -0.327088   \n",
       "color_Color                                   0.021794  0.049192   \n",
       "budget^2                                      0.221975  0.922968   \n",
       "actor_1_facebook_likes^2                      0.734645  0.021831   \n",
       "actor_2_facebook_likes^2                      0.502705  0.081213   \n",
       "actor_3_facebook_likes^2                      0.430239  0.224053   \n",
       "cast_total_facebook_likes^2                   0.759375  0.062183   \n",
       "cast_fb_budget                                0.633524  0.639867   \n",
       "cast_fb_budget^2                              0.415615  0.605707   \n",
       "PG_budget                                     0.036197  0.409721   \n",
       "PG13_budget                                   0.193994  0.673415   \n",
       "R_budget                                      0.082256  0.125384   \n",
       "superstar_budget                              0.453666  0.339547   \n",
       "\n",
       "                             actor_2_facebook_likes   yrs_old  superstar  \\\n",
       "duration                                   0.166037  0.135792   0.081126   \n",
       "director_facebook_likes                    0.138904  0.078772   0.085916   \n",
       "actor_3_facebook_likes                     0.572760 -0.117332   0.265995   \n",
       "actor_1_facebook_likes                     0.491448 -0.103527   0.656101   \n",
       "cast_total_facebook_likes                  0.717739 -0.126424   0.618308   \n",
       "budget                                     0.246283 -0.229149   0.123971   \n",
       "actor_2_facebook_likes                     1.000000 -0.117024   0.356459   \n",
       "yrs_old                                   -0.117024  1.000000  -0.090990   \n",
       "superstar                                  0.356459 -0.090990   1.000000   \n",
       "content_rating_PG                         -0.039794  0.059026  -0.014928   \n",
       "content_rating_PG-13                       0.062657 -0.181239   0.013520   \n",
       "content_rating_R                          -0.016067  0.104033   0.006653   \n",
       "color_Color                                0.011628 -0.068367   0.001340   \n",
       "budget^2                                   0.232910 -0.204989   0.140372   \n",
       "actor_1_facebook_likes^2                   0.269513 -0.045460   0.401277   \n",
       "actor_2_facebook_likes^2                   0.691879 -0.049801   0.210514   \n",
       "actor_3_facebook_likes^2                   0.480149 -0.099168   0.259142   \n",
       "cast_total_facebook_likes^2                0.455445 -0.055067   0.357726   \n",
       "cast_fb_budget                             0.600071 -0.174614   0.452138   \n",
       "cast_fb_budget^2                           0.416501 -0.146959   0.332646   \n",
       "PG_budget                                  0.037487 -0.099415   0.023741   \n",
       "PG13_budget                                0.207702 -0.187296   0.100685   \n",
       "R_budget                                   0.081737  0.018461   0.046507   \n",
       "superstar_budget                           0.376831 -0.099432   0.691585   \n",
       "\n",
       "                             content_rating_PG  content_rating_PG-13  \\\n",
       "duration                             -0.111448              0.072700   \n",
       "director_facebook_likes              -0.004864             -0.006682   \n",
       "actor_3_facebook_likes               -0.008225              0.097160   \n",
       "actor_1_facebook_likes               -0.036613              0.045002   \n",
       "cast_total_facebook_likes            -0.037739              0.070178   \n",
       "budget                                0.132246              0.215573   \n",
       "actor_2_facebook_likes               -0.039794              0.062657   \n",
       "yrs_old                               0.059026             -0.181239   \n",
       "superstar                            -0.014928              0.013520   \n",
       "content_rating_PG                     1.000000             -0.332611   \n",
       "content_rating_PG-13                 -0.332611              1.000000   \n",
       "content_rating_R                     -0.391058             -0.686954   \n",
       "color_Color                           0.006762              0.048477   \n",
       "budget^2                              0.097354              0.171250   \n",
       "actor_1_facebook_likes^2             -0.019064              0.028908   \n",
       "actor_2_facebook_likes^2             -0.019632              0.006036   \n",
       "actor_3_facebook_likes^2             -0.017325              0.082838   \n",
       "cast_total_facebook_likes^2          -0.021598              0.036897   \n",
       "cast_fb_budget                        0.023593              0.154147   \n",
       "cast_fb_budget^2                      0.023381              0.138626   \n",
       "PG_budget                             0.715232             -0.237894   \n",
       "PG13_budget                          -0.215825              0.648881   \n",
       "R_budget                             -0.232757             -0.408874   \n",
       "superstar_budget                      0.009425              0.070584   \n",
       "\n",
       "                             content_rating_R  color_Color  budget^2  \\\n",
       "duration                             0.038138    -0.034941  0.260892   \n",
       "director_facebook_likes              0.021773    -0.080136  0.078374   \n",
       "actor_3_facebook_likes              -0.079121     0.022764  0.258239   \n",
       "actor_1_facebook_likes              -0.002336     0.022476  0.157023   \n",
       "cast_total_facebook_likes           -0.024768     0.021794  0.221975   \n",
       "budget                              -0.327088     0.049192  0.922968   \n",
       "actor_2_facebook_likes              -0.016067     0.011628  0.232910   \n",
       "yrs_old                              0.104033    -0.068367 -0.204989   \n",
       "superstar                            0.006653     0.001340  0.140372   \n",
       "content_rating_PG                   -0.391058     0.006762  0.097354   \n",
       "content_rating_PG-13                -0.686954     0.048477  0.171250   \n",
       "content_rating_R                     1.000000    -0.059694 -0.255577   \n",
       "color_Color                         -0.059694     1.000000  0.040953   \n",
       "budget^2                            -0.255577     0.040953  1.000000   \n",
       "actor_1_facebook_likes^2            -0.008860     0.010809  0.026178   \n",
       "actor_2_facebook_likes^2             0.014349     0.005206  0.078081   \n",
       "actor_3_facebook_likes^2            -0.060325     0.018781  0.247008   \n",
       "cast_total_facebook_likes^2         -0.014133     0.009999  0.068703   \n",
       "cast_fb_budget                      -0.161322     0.029998  0.682337   \n",
       "cast_fb_budget^2                    -0.149203     0.025739  0.726421   \n",
       "PG_budget                           -0.279697     0.019233  0.369433   \n",
       "PG13_budget                         -0.445751     0.038771  0.674327   \n",
       "R_budget                             0.595199    -0.008362  0.023468   \n",
       "superstar_budget                    -0.068019     0.014225  0.407137   \n",
       "\n",
       "                             actor_1_facebook_likes^2  \\\n",
       "duration                                    -0.001186   \n",
       "director_facebook_likes                      0.014644   \n",
       "actor_3_facebook_likes                       0.111675   \n",
       "actor_1_facebook_likes                       0.772707   \n",
       "cast_total_facebook_likes                    0.734645   \n",
       "budget                                       0.021831   \n",
       "actor_2_facebook_likes                       0.269513   \n",
       "yrs_old                                     -0.045460   \n",
       "superstar                                    0.401277   \n",
       "content_rating_PG                           -0.019064   \n",
       "content_rating_PG-13                         0.028908   \n",
       "content_rating_R                            -0.008860   \n",
       "color_Color                                  0.010809   \n",
       "budget^2                                     0.026178   \n",
       "actor_1_facebook_likes^2                     1.000000   \n",
       "actor_2_facebook_likes^2                     0.383868   \n",
       "actor_3_facebook_likes^2                     0.080073   \n",
       "cast_total_facebook_likes^2                  0.931577   \n",
       "cast_fb_budget                               0.244630   \n",
       "cast_fb_budget^2                             0.100476   \n",
       "PG_budget                                    0.000101   \n",
       "PG13_budget                                  0.021515   \n",
       "R_budget                                     0.010648   \n",
       "superstar_budget                             0.182741   \n",
       "\n",
       "                             actor_2_facebook_likes^2  \\\n",
       "duration                                     0.033715   \n",
       "director_facebook_likes                      0.049157   \n",
       "actor_3_facebook_likes                       0.221732   \n",
       "actor_1_facebook_likes                       0.358072   \n",
       "cast_total_facebook_likes                    0.502705   \n",
       "budget                                       0.081213   \n",
       "actor_2_facebook_likes                       0.691879   \n",
       "yrs_old                                     -0.049801   \n",
       "superstar                                    0.210514   \n",
       "content_rating_PG                           -0.019632   \n",
       "content_rating_PG-13                         0.006036   \n",
       "content_rating_R                             0.014349   \n",
       "color_Color                                  0.005206   \n",
       "budget^2                                     0.078081   \n",
       "actor_1_facebook_likes^2                     0.383868   \n",
       "actor_2_facebook_likes^2                     1.000000   \n",
       "actor_3_facebook_likes^2                     0.203937   \n",
       "cast_total_facebook_likes^2                  0.623089   \n",
       "cast_fb_budget                               0.331789   \n",
       "cast_fb_budget^2                             0.186352   \n",
       "PG_budget                                    0.010656   \n",
       "PG13_budget                                  0.058933   \n",
       "R_budget                                     0.048262   \n",
       "superstar_budget                             0.188556   \n",
       "\n",
       "                             actor_3_facebook_likes^2  \\\n",
       "duration                                     0.126244   \n",
       "director_facebook_likes                      0.169697   \n",
       "actor_3_facebook_likes                       0.936530   \n",
       "actor_1_facebook_likes                       0.216339   \n",
       "cast_total_facebook_likes                    0.430239   \n",
       "budget                                       0.224053   \n",
       "actor_2_facebook_likes                       0.480149   \n",
       "yrs_old                                     -0.099168   \n",
       "superstar                                    0.259142   \n",
       "content_rating_PG                           -0.017325   \n",
       "content_rating_PG-13                         0.082838   \n",
       "content_rating_R                            -0.060325   \n",
       "color_Color                                  0.018781   \n",
       "budget^2                                     0.247008   \n",
       "actor_1_facebook_likes^2                     0.080073   \n",
       "actor_2_facebook_likes^2                     0.203937   \n",
       "actor_3_facebook_likes^2                     1.000000   \n",
       "cast_total_facebook_likes^2                  0.212980   \n",
       "cast_fb_budget                               0.600180   \n",
       "cast_fb_budget^2                             0.552871   \n",
       "PG_budget                                    0.031616   \n",
       "PG13_budget                                  0.227256   \n",
       "R_budget                                    -0.001811   \n",
       "superstar_budget                             0.431713   \n",
       "\n",
       "                             cast_total_facebook_likes^2  cast_fb_budget  \\\n",
       "duration                                        0.020830        0.246186   \n",
       "director_facebook_likes                         0.037496        0.174420   \n",
       "actor_3_facebook_likes                          0.241689        0.614646   \n",
       "actor_1_facebook_likes                          0.702073        0.494885   \n",
       "cast_total_facebook_likes                       0.759375        0.633524   \n",
       "budget                                          0.062183        0.639867   \n",
       "actor_2_facebook_likes                          0.455445        0.600071   \n",
       "yrs_old                                        -0.055067       -0.174614   \n",
       "superstar                                       0.357726        0.452138   \n",
       "content_rating_PG                              -0.021598        0.023593   \n",
       "content_rating_PG-13                            0.036897        0.154147   \n",
       "content_rating_R                               -0.014133       -0.161322   \n",
       "color_Color                                     0.009999        0.029998   \n",
       "budget^2                                        0.068703        0.682337   \n",
       "actor_1_facebook_likes^2                        0.931577        0.244630   \n",
       "actor_2_facebook_likes^2                        0.623089        0.331789   \n",
       "actor_3_facebook_likes^2                        0.212980        0.600180   \n",
       "cast_total_facebook_likes^2                     1.000000        0.344984   \n",
       "cast_fb_budget                                  0.344984        1.000000   \n",
       "cast_fb_budget^2                                0.188650        0.933704   \n",
       "PG_budget                                       0.004906        0.186418   \n",
       "PG13_budget                                     0.058683        0.533181   \n",
       "R_budget                                        0.017492        0.044142   \n",
       "superstar_budget                                0.224052        0.746626   \n",
       "\n",
       "                             cast_fb_budget^2  PG_budget  PG13_budget  \\\n",
       "duration                             0.216258  -0.083411     0.261243   \n",
       "director_facebook_likes              0.141633  -0.003566     0.067862   \n",
       "actor_3_facebook_likes               0.518972   0.052327     0.241164   \n",
       "actor_1_facebook_likes               0.286015   0.027868     0.131130   \n",
       "cast_total_facebook_likes            0.415615   0.036197     0.193994   \n",
       "budget                               0.605707   0.409721     0.673415   \n",
       "actor_2_facebook_likes               0.416501   0.037487     0.207702   \n",
       "yrs_old                             -0.146959  -0.099415    -0.187296   \n",
       "superstar                            0.332646   0.023741     0.100685   \n",
       "content_rating_PG                    0.023381   0.715232    -0.215825   \n",
       "content_rating_PG-13                 0.138626  -0.237894     0.648881   \n",
       "content_rating_R                    -0.149203  -0.279697    -0.445751   \n",
       "color_Color                          0.025739   0.019233     0.038771   \n",
       "budget^2                             0.726421   0.369433     0.674327   \n",
       "actor_1_facebook_likes^2             0.100476   0.000101     0.021515   \n",
       "actor_2_facebook_likes^2             0.186352   0.010656     0.058933   \n",
       "actor_3_facebook_likes^2             0.552871   0.031616     0.227256   \n",
       "cast_total_facebook_likes^2          0.188650   0.004906     0.058683   \n",
       "cast_fb_budget                       0.933704   0.186418     0.533181   \n",
       "cast_fb_budget^2                     1.000000   0.172440     0.538743   \n",
       "PG_budget                            0.172440   1.000000    -0.154365   \n",
       "PG13_budget                          0.538743  -0.154365     1.000000   \n",
       "R_budget                            -0.020603  -0.166475    -0.265311   \n",
       "superstar_budget                     0.732299   0.088677     0.300669   \n",
       "\n",
       "                             R_budget  superstar_budget  \n",
       "duration                     0.272551          0.158065  \n",
       "director_facebook_likes      0.099606          0.129775  \n",
       "actor_3_facebook_likes       0.007484          0.393565  \n",
       "actor_1_facebook_likes       0.086540          0.393572  \n",
       "cast_total_facebook_likes    0.082256          0.453666  \n",
       "budget                       0.125384          0.339547  \n",
       "actor_2_facebook_likes       0.081737          0.376831  \n",
       "yrs_old                      0.018461         -0.099432  \n",
       "superstar                    0.046507          0.691585  \n",
       "content_rating_PG           -0.232757          0.009425  \n",
       "content_rating_PG-13        -0.408874          0.070584  \n",
       "content_rating_R             0.595199         -0.068019  \n",
       "color_Color                 -0.008362          0.014225  \n",
       "budget^2                     0.023468          0.407137  \n",
       "actor_1_facebook_likes^2     0.010648          0.182741  \n",
       "actor_2_facebook_likes^2     0.048262          0.188556  \n",
       "actor_3_facebook_likes^2    -0.001811          0.431713  \n",
       "cast_total_facebook_likes^2  0.017492          0.224052  \n",
       "cast_fb_budget               0.044142          0.746626  \n",
       "cast_fb_budget^2            -0.020603          0.732299  \n",
       "PG_budget                   -0.166475          0.088677  \n",
       "PG13_budget                 -0.265311          0.300669  \n",
       "R_budget                     1.000000          0.021508  \n",
       "superstar_budget             0.021508          1.000000  "
      ]
     },
     "execution_count": 50,
     "metadata": {},
     "output_type": "execute_result"
    }
   ],
   "source": [
    "# your code here\n",
    "df[features].corr()"
   ]
  },
  {
   "cell_type": "markdown",
   "metadata": {},
   "source": [
    "### 6.2) After removing the features, re-run Step 5 and see if your new model performs better than the old model."
   ]
  },
  {
   "cell_type": "code",
   "execution_count": 51,
   "metadata": {},
   "outputs": [],
   "source": [
    "# your code here\n",
    "from sklearn.feature_selection import RFECV"
   ]
  },
  {
   "cell_type": "code",
   "execution_count": 52,
   "metadata": {},
   "outputs": [
    {
     "name": "stdout",
     "output_type": "stream",
     "text": [
      "Fitting estimator with 24 features.\n",
      "Fitting estimator with 23 features.\n",
      "Fitting estimator with 22 features.\n",
      "Fitting estimator with 21 features.\n",
      "Fitting estimator with 20 features.\n",
      "Fitting estimator with 19 features.\n",
      "Fitting estimator with 18 features.\n"
     ]
    },
    {
     "data": {
      "text/plain": [
       "RFECV(cv=7, estimator=LinearRegression(), n_jobs=-1,\n",
       "      scoring='neg_mean_squared_error', verbose=1)"
      ]
     },
     "execution_count": 52,
     "metadata": {},
     "output_type": "execute_result"
    }
   ],
   "source": [
    "ols = LinearRegression()\n",
    "# Create recursive feature eliminator that scores features by mean squared errors\n",
    "selector = RFECV(estimator=ols, step=1, cv=7,  scoring='neg_mean_squared_error', n_jobs=-1, verbose=1)\n",
    "\n",
    "# Fit recursive feature eliminator \n",
    "\n",
    "selector.fit(X_train, y_train)\n"
   ]
  },
  {
   "cell_type": "code",
   "execution_count": 53,
   "metadata": {},
   "outputs": [],
   "source": [
    "selected_rfe = X_train.columns[selector.support_]\n",
    "removed_rfe = X_train.columns[~selector.support_]\n"
   ]
  },
  {
   "cell_type": "code",
   "execution_count": 54,
   "metadata": {},
   "outputs": [
    {
     "data": {
      "text/plain": [
       "17"
      ]
     },
     "execution_count": 54,
     "metadata": {},
     "output_type": "execute_result"
    }
   ],
   "source": [
    "len(selected_rfe)"
   ]
  },
  {
   "cell_type": "code",
   "execution_count": 55,
   "metadata": {},
   "outputs": [
    {
     "data": {
      "text/plain": [
       "Index(['duration', 'director_facebook_likes', 'actor_3_facebook_likes',\n",
       "       'actor_1_facebook_likes', 'cast_total_facebook_likes', 'budget',\n",
       "       'actor_2_facebook_likes', 'yrs_old', 'superstar', 'content_rating_PG',\n",
       "       'content_rating_PG-13', 'content_rating_R', 'color_Color', 'PG_budget',\n",
       "       'PG13_budget', 'R_budget', 'superstar_budget'],\n",
       "      dtype='object')"
      ]
     },
     "execution_count": 55,
     "metadata": {},
     "output_type": "execute_result"
    }
   ],
   "source": [
    "selected_rfe"
   ]
  },
  {
   "cell_type": "markdown",
   "metadata": {},
   "source": [
    "## Step 7: Evaluate your different models in order to determine the best model overall."
   ]
  },
  {
   "cell_type": "code",
   "execution_count": 56,
   "metadata": {},
   "outputs": [],
   "source": [
    "#instantiate a linear regression object\n",
    "lm_rfe = LinearRegression()\n",
    "\n",
    "#fit the linear regression to the data\n",
    "lm_rfe = lm_rfe.fit(X_train[selected_rfe], y_train)\n"
   ]
  },
  {
   "cell_type": "code",
   "execution_count": 57,
   "metadata": {},
   "outputs": [],
   "source": [
    "#your code here \n",
    "y_train_pred_rfe = lm_rfe.predict(X_train[selected_rfe])\n",
    "\n",
    "y_test_pred_rfe = lm_rfe.predict(X_test[selected_rfe])\n"
   ]
  },
  {
   "cell_type": "code",
   "execution_count": 58,
   "metadata": {},
   "outputs": [
    {
     "name": "stdout",
     "output_type": "stream",
     "text": [
      "Training Root Mean Squared Error: 53338434.42625644\n",
      "Test Root Mean Squared Error: 54937917.30014324\n"
     ]
    }
   ],
   "source": [
    "#your code here \n",
    "train_rmse = np.sqrt(metrics.mean_squared_error(y_train, y_train_pred_rfe))\n",
    "\n",
    "test_rmse = np.sqrt(metrics.mean_squared_error(y_test, y_test_pred_rfe))\n",
    "\n",
    "print('Training Root Mean Squared Error:' , train_rmse)\n",
    "print('Test Root Mean Squared Error:' , test_rmse)"
   ]
  },
  {
   "cell_type": "markdown",
   "metadata": {},
   "source": [
    "## Step 8:  Refit your best model to the entire dataset."
   ]
  },
  {
   "cell_type": "code",
   "execution_count": 59,
   "metadata": {},
   "outputs": [],
   "source": [
    "lm_final = LinearRegression()\n",
    "\n",
    "#fit the linear regression to the data\n",
    "lm_final = lm.fit(df[selected_rfe], df['gross'])"
   ]
  },
  {
   "cell_type": "code",
   "execution_count": 60,
   "metadata": {},
   "outputs": [
    {
     "data": {
      "text/plain": [
       "17"
      ]
     },
     "execution_count": 60,
     "metadata": {},
     "output_type": "execute_result"
    }
   ],
   "source": [
    "len(selected_rfe)"
   ]
  },
  {
   "cell_type": "code",
   "execution_count": 61,
   "metadata": {},
   "outputs": [
    {
     "data": {
      "text/plain": [
       "17"
      ]
     },
     "execution_count": 61,
     "metadata": {},
     "output_type": "execute_result"
    }
   ],
   "source": [
    "len(lm.coef_)"
   ]
  },
  {
   "cell_type": "markdown",
   "metadata": {},
   "source": [
    "## Step 9: Save your final model using pickle.\n",
    "\n",
    "https://machinelearningmastery.com/save-load-machine-learning-models-python-scikit-learn/"
   ]
  },
  {
   "cell_type": "markdown",
   "metadata": {},
   "source": [
    "This is exporting your model"
   ]
  },
  {
   "cell_type": "code",
   "execution_count": 62,
   "metadata": {},
   "outputs": [],
   "source": [
    "import pickle\n",
    "\n",
    "\n",
    "pickle_out = open(\"model.pickle\",\"wb\")\n",
    "pickle.dump(lm_final, pickle_out)\n",
    "pickle_out.close()\n",
    "\n"
   ]
  },
  {
   "cell_type": "code",
   "execution_count": 63,
   "metadata": {},
   "outputs": [],
   "source": [
    "other_info = [budget_ratings, act_2_mean, act_3_mean, duration_mean, selected_rfe]"
   ]
  },
  {
   "cell_type": "code",
   "execution_count": 64,
   "metadata": {},
   "outputs": [],
   "source": [
    "pickle_out = open('other_info.pickle', \"wb\")\n",
    "pickle.dump(other_info, pickle_out)\n",
    "pickle_out.close()"
   ]
  },
  {
   "cell_type": "code",
   "execution_count": null,
   "metadata": {},
   "outputs": [],
   "source": []
  }
 ],
 "metadata": {
  "kernelspec": {
   "display_name": "Python 3",
   "language": "python",
   "name": "python3"
  },
  "language_info": {
   "codemirror_mode": {
    "name": "ipython",
    "version": 3
   },
   "file_extension": ".py",
   "mimetype": "text/x-python",
   "name": "python",
   "nbconvert_exporter": "python",
   "pygments_lexer": "ipython3",
   "version": "3.8.5"
  }
 },
 "nbformat": 4,
 "nbformat_minor": 2
}
