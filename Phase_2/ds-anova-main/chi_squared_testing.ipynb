{
 "cells": [
  {
   "cell_type": "markdown",
   "metadata": {},
   "source": [
    "# $\\chi^2$ Testing in Python\n",
    "\n",
    "What is $\\chi^2$ testing and how can we do it in Python?"
   ]
  },
  {
   "cell_type": "code",
   "execution_count": 1,
   "metadata": {},
   "outputs": [],
   "source": [
    "import scipy.stats as stats\n",
    "import pandas as pd\n",
    "import numpy as np"
   ]
  },
  {
   "cell_type": "markdown",
   "metadata": {},
   "source": [
    "A $\\chi^2$ test is a kind of hypothesis test that is appropriate for categorical data. Generally speaking, the null hypothesis will be that there is no difference between groups with respect to some variable of interest. For example, below we'll be looking at responses to a survey about comma use and other fine points of English grammar. Besides the answers to the questions on the survey themselves, we also have access to other information about the respondents, such as their sexes and levels of education.\n",
    "\n",
    "So questions like:\n",
    "- Do men and women have different beliefs about the grammatical correctness of the Oxford comma? or\n",
    "- Is advanced collegiate education associated with wondering whether 'data' is singular or plural?\n",
    "\n",
    "are the sort of question for which a $\\chi^2$ test might be useful."
   ]
  },
  {
   "cell_type": "markdown",
   "metadata": {},
   "source": [
    "## Reading in the Data\n",
    "\n",
    "The dataset below comes from [fivethirtyeight.com](http://fivethirtyeight.com). It records the results of a survey about English grammar."
   ]
  },
  {
   "cell_type": "code",
   "execution_count": 2,
   "metadata": {},
   "outputs": [
    {
     "data": {
      "text/html": [
       "<div>\n",
       "<style scoped>\n",
       "    .dataframe tbody tr th:only-of-type {\n",
       "        vertical-align: middle;\n",
       "    }\n",
       "\n",
       "    .dataframe tbody tr th {\n",
       "        vertical-align: top;\n",
       "    }\n",
       "\n",
       "    .dataframe thead th {\n",
       "        text-align: right;\n",
       "    }\n",
       "</style>\n",
       "<table border=\"1\" class=\"dataframe\">\n",
       "  <thead>\n",
       "    <tr style=\"text-align: right;\">\n",
       "      <th></th>\n",
       "      <th>RespondentID</th>\n",
       "      <th>In your opinion, which sentence is more gramatically correct?</th>\n",
       "      <th>Prior to reading about it above, had you heard of the serial (or Oxford) comma?</th>\n",
       "      <th>How much, if at all, do you care about the use (or lack thereof) of the serial (or Oxford) comma in grammar?</th>\n",
       "      <th>How would you write the following sentence?</th>\n",
       "      <th>When faced with using the word \"data\", have you ever spent time considering if the word was a singular or plural noun?</th>\n",
       "      <th>How much, if at all, do you care about the debate over the use of the word \"data\" as a singluar or plural noun?</th>\n",
       "      <th>In your opinion, how important or unimportant is proper use of grammar?</th>\n",
       "      <th>Gender</th>\n",
       "      <th>Age</th>\n",
       "      <th>Household Income</th>\n",
       "      <th>Education</th>\n",
       "      <th>Location (Census Region)</th>\n",
       "    </tr>\n",
       "  </thead>\n",
       "  <tbody>\n",
       "    <tr>\n",
       "      <th>0</th>\n",
       "      <td>3292953864</td>\n",
       "      <td>It's important for a person to be honest, kind...</td>\n",
       "      <td>Yes</td>\n",
       "      <td>Some</td>\n",
       "      <td>Some experts say it's important to drink milk,...</td>\n",
       "      <td>No</td>\n",
       "      <td>Not much</td>\n",
       "      <td>Somewhat important</td>\n",
       "      <td>Male</td>\n",
       "      <td>30-44</td>\n",
       "      <td>$50,000 - $99,999</td>\n",
       "      <td>Bachelor degree</td>\n",
       "      <td>South Atlantic</td>\n",
       "    </tr>\n",
       "    <tr>\n",
       "      <th>1</th>\n",
       "      <td>3292950324</td>\n",
       "      <td>It's important for a person to be honest, kind...</td>\n",
       "      <td>No</td>\n",
       "      <td>Not much</td>\n",
       "      <td>Some experts say it's important to drink milk,...</td>\n",
       "      <td>No</td>\n",
       "      <td>Not much</td>\n",
       "      <td>Somewhat unimportant</td>\n",
       "      <td>Male</td>\n",
       "      <td>30-44</td>\n",
       "      <td>$50,000 - $99,999</td>\n",
       "      <td>Graduate degree</td>\n",
       "      <td>Mountain</td>\n",
       "    </tr>\n",
       "    <tr>\n",
       "      <th>2</th>\n",
       "      <td>3292942669</td>\n",
       "      <td>It's important for a person to be honest, kind...</td>\n",
       "      <td>Yes</td>\n",
       "      <td>Some</td>\n",
       "      <td>Some experts say it's important to drink milk,...</td>\n",
       "      <td>Yes</td>\n",
       "      <td>Not at all</td>\n",
       "      <td>Very important</td>\n",
       "      <td>Male</td>\n",
       "      <td>30-44</td>\n",
       "      <td>NaN</td>\n",
       "      <td>NaN</td>\n",
       "      <td>East North Central</td>\n",
       "    </tr>\n",
       "    <tr>\n",
       "      <th>3</th>\n",
       "      <td>3292932796</td>\n",
       "      <td>It's important for a person to be honest, kind...</td>\n",
       "      <td>Yes</td>\n",
       "      <td>Some</td>\n",
       "      <td>Some experts say it's important to drink milk,...</td>\n",
       "      <td>No</td>\n",
       "      <td>Some</td>\n",
       "      <td>Somewhat important</td>\n",
       "      <td>Male</td>\n",
       "      <td>18-29</td>\n",
       "      <td>NaN</td>\n",
       "      <td>Less than high school degree</td>\n",
       "      <td>Middle Atlantic</td>\n",
       "    </tr>\n",
       "    <tr>\n",
       "      <th>4</th>\n",
       "      <td>3292932522</td>\n",
       "      <td>It's important for a person to be honest, kind...</td>\n",
       "      <td>No</td>\n",
       "      <td>Not much</td>\n",
       "      <td>Some experts say it's important to drink milk,...</td>\n",
       "      <td>No</td>\n",
       "      <td>Not much</td>\n",
       "      <td>NaN</td>\n",
       "      <td>NaN</td>\n",
       "      <td>NaN</td>\n",
       "      <td>NaN</td>\n",
       "      <td>NaN</td>\n",
       "      <td>NaN</td>\n",
       "    </tr>\n",
       "  </tbody>\n",
       "</table>\n",
       "</div>"
      ],
      "text/plain": [
       "   RespondentID In your opinion, which sentence is more gramatically correct?  \\\n",
       "0    3292953864  It's important for a person to be honest, kind...              \n",
       "1    3292950324  It's important for a person to be honest, kind...              \n",
       "2    3292942669  It's important for a person to be honest, kind...              \n",
       "3    3292932796  It's important for a person to be honest, kind...              \n",
       "4    3292932522  It's important for a person to be honest, kind...              \n",
       "\n",
       "  Prior to reading about it above, had you heard of the serial (or Oxford) comma?  \\\n",
       "0                                                Yes                                \n",
       "1                                                 No                                \n",
       "2                                                Yes                                \n",
       "3                                                Yes                                \n",
       "4                                                 No                                \n",
       "\n",
       "  How much, if at all, do you care about the use (or lack thereof) of the serial (or Oxford) comma in grammar?  \\\n",
       "0                                               Some                                                             \n",
       "1                                           Not much                                                             \n",
       "2                                               Some                                                             \n",
       "3                                               Some                                                             \n",
       "4                                           Not much                                                             \n",
       "\n",
       "         How would you write the following sentence?  \\\n",
       "0  Some experts say it's important to drink milk,...   \n",
       "1  Some experts say it's important to drink milk,...   \n",
       "2  Some experts say it's important to drink milk,...   \n",
       "3  Some experts say it's important to drink milk,...   \n",
       "4  Some experts say it's important to drink milk,...   \n",
       "\n",
       "  When faced with using the word \"data\", have you ever spent time considering if the word was a singular or plural noun?  \\\n",
       "0                                                 No                                                                       \n",
       "1                                                 No                                                                       \n",
       "2                                                Yes                                                                       \n",
       "3                                                 No                                                                       \n",
       "4                                                 No                                                                       \n",
       "\n",
       "  How much, if at all, do you care about the debate over the use of the word \"data\" as a singluar or plural noun?  \\\n",
       "0                                           Not much                                                                \n",
       "1                                           Not much                                                                \n",
       "2                                         Not at all                                                                \n",
       "3                                               Some                                                                \n",
       "4                                           Not much                                                                \n",
       "\n",
       "  In your opinion, how important or unimportant is proper use of grammar?  \\\n",
       "0                                 Somewhat important                        \n",
       "1                               Somewhat unimportant                        \n",
       "2                                     Very important                        \n",
       "3                                 Somewhat important                        \n",
       "4                                                NaN                        \n",
       "\n",
       "  Gender    Age   Household Income                     Education  \\\n",
       "0   Male  30-44  $50,000 - $99,999               Bachelor degree   \n",
       "1   Male  30-44  $50,000 - $99,999               Graduate degree   \n",
       "2   Male  30-44                NaN                           NaN   \n",
       "3   Male  18-29                NaN  Less than high school degree   \n",
       "4    NaN    NaN                NaN                           NaN   \n",
       "\n",
       "  Location (Census Region)  \n",
       "0           South Atlantic  \n",
       "1                 Mountain  \n",
       "2       East North Central  \n",
       "3          Middle Atlantic  \n",
       "4                      NaN  "
      ]
     },
     "execution_count": 2,
     "metadata": {},
     "output_type": "execute_result"
    }
   ],
   "source": [
    "commas = pd.read_csv('comma-survey.csv')\n",
    "commas.head()"
   ]
  },
  {
   "cell_type": "markdown",
   "metadata": {},
   "source": [
    "## Exploration\n",
    "\n",
    "The first question on the survey is about whether a sentence is more grammatically correct with or without the Oxford comma (roughly, the optional comma before the 'and' in a list of several things)."
   ]
  },
  {
   "cell_type": "code",
   "execution_count": 3,
   "metadata": {},
   "outputs": [
    {
     "data": {
      "text/plain": [
       "It's important for a person to be honest, kind, and loyal.    641\n",
       "It's important for a person to be honest, kind and loyal.     488\n",
       "Name: In your opinion, which sentence is more gramatically correct?, dtype: int64"
      ]
     },
     "execution_count": 3,
     "metadata": {},
     "output_type": "execute_result"
    }
   ],
   "source": [
    "commas['In your opinion, which sentence is more gramatically correct?'].value_counts()"
   ]
  },
  {
   "cell_type": "markdown",
   "metadata": {},
   "source": [
    "## An Initial Question\n",
    "\n",
    "Suppose we were interested in whether there were some correlation between one's level of education and one's response to the above question.\n",
    "\n",
    "What we need to do first is to collect numbers: How did folks from each of the different education levels respond to the question about the Oxford comma?\n",
    "\n",
    "Let's look at the different education levels:"
   ]
  },
  {
   "cell_type": "code",
   "execution_count": 4,
   "metadata": {},
   "outputs": [
    {
     "data": {
      "text/plain": [
       "Bachelor degree                     344\n",
       "Some college or Associate degree    295\n",
       "Graduate degree                     276\n",
       "High school degree                  100\n",
       "Less than high school degree         11\n",
       "Name: Education, dtype: int64"
      ]
     },
     "execution_count": 4,
     "metadata": {},
     "output_type": "execute_result"
    }
   ],
   "source": [
    "commas['Education'].value_counts()"
   ]
  },
  {
   "cell_type": "markdown",
   "metadata": {},
   "source": [
    "What we want is a table for how people, as divided into these education levels, responded to the Oxford comma question.\n",
    "\n",
    "There are various ways we might go about assembling the table. One natural way would be to make use of the `.groupby()` method of `pandas` DataFrame objects. Here's another:"
   ]
  },
  {
   "cell_type": "code",
   "execution_count": 5,
   "metadata": {},
   "outputs": [],
   "source": [
    "# Here we'll just filter the data frame according to the\n",
    "# values we're interested in, and then just measure the\n",
    "# length of the resulting filtered data frame.\n",
    "\n",
    "table = np.zeros((2, 5))\n",
    "\n",
    "for idx, value in enumerate(commas['Education'].value_counts().index):\n",
    "    table[0, idx] = len(commas[(commas['In your opinion, which sentence is '\\\n",
    "                                       'more gramatically correct?'] ==\\\n",
    "                                        'It\\'s important for a person to be '\\\n",
    "                                'honest, kind, and loyal.') & (commas['Education'] == value)])\n",
    "    table[1, idx] = len(commas[(commas['In your opinion, which sentence is '\\\n",
    "                                       'more gramatically correct?'] ==\\\n",
    "                                        'It\\'s important for a person to be '\\\n",
    "                                'honest, kind and loyal.') & (commas['Education'] == value)])"
   ]
  },
  {
   "cell_type": "code",
   "execution_count": 6,
   "metadata": {},
   "outputs": [
    {
     "data": {
      "text/plain": [
       "array([[199., 157., 172.,  52.,   8.],\n",
       "       [145., 138., 104.,  48.,   3.]])"
      ]
     },
     "execution_count": 6,
     "metadata": {},
     "output_type": "execute_result"
    }
   ],
   "source": [
    "table"
   ]
  },
  {
   "cell_type": "markdown",
   "metadata": {},
   "source": [
    "## Using `scipy.stats.contingency.chi2_contingency()`\n",
    "\n",
    "We can use Scipy to conduct a $\\chi^2$ test. But before we rely on the software, let's think about what we're measuring here.\n",
    "\n",
    "Our null hypothesis is that there will be no difference in response to the Oxford comma question among people in the various levels of education. We don't have equal numbers of people in the different educational levels, notice, but the null hypothesis will say that there will be equal *proportions* of Oxford comma favorers and Oxford comma disfavorers among the various levels.\n",
    "\n",
    "There are five educational levels, so that means four degrees of freedom.\n",
    "\n",
    "The Scipy function we're using returns a quadruple: The $\\chi^2$ statistic itself, the $p$-value, the number of degrees of freedom, and a table of expected numbers given the null hypothesis. (Yes, I like the Oxford comma.)"
   ]
  },
  {
   "cell_type": "code",
   "execution_count": 7,
   "metadata": {},
   "outputs": [
    {
     "data": {
      "text/plain": [
       "(7.108946212449898,\n",
       " 0.13024170886530348,\n",
       " 4,\n",
       " array([[197.14619883, 169.06432749, 158.1754386 ,  57.30994152,\n",
       "           6.30409357],\n",
       "        [146.85380117, 125.93567251, 117.8245614 ,  42.69005848,\n",
       "           4.69590643]]))"
      ]
     },
     "execution_count": 7,
     "metadata": {},
     "output_type": "execute_result"
    }
   ],
   "source": [
    "chisq_test = stats.contingency.chi2_contingency(table)\n",
    "chisq_test"
   ]
  },
  {
   "cell_type": "markdown",
   "metadata": {},
   "source": [
    "The calculation of the $\\chi^2$ statistic uses the familiar idea of a sum of squared differences between expected and actual values, but we scale each addend (i.e. each squared difference) by the expected value.\n",
    "\n",
    "According to Scipy, the value of the $\\chi^2$ statistic given these numbers is 7.109. Let's see if we can recreate this figure manually:"
   ]
  },
  {
   "cell_type": "code",
   "execution_count": 8,
   "metadata": {},
   "outputs": [
    {
     "data": {
      "text/plain": [
       "True"
      ]
     },
     "execution_count": 8,
     "metadata": {},
     "output_type": "execute_result"
    }
   ],
   "source": [
    "# We'll compute the weighted sum of squared differences.\n",
    "\n",
    "manual_chisq = np.divide((table - chisq_test[3])**2, chisq_test[3]).sum()\n",
    "manual_chisq == chisq_test[0]"
   ]
  },
  {
   "cell_type": "markdown",
   "metadata": {},
   "source": [
    "## Further Exploration\n",
    "\n",
    "Great! That checks out. But our $p$-value is 13%, so the division by educational level that we see on the Oxford comma question is not particularly surprising.\n",
    "\n",
    "Let's see if we can find something more interesting."
   ]
  },
  {
   "cell_type": "code",
   "execution_count": 9,
   "metadata": {},
   "outputs": [],
   "source": [
    "# Maybe there's an interesting difference in answers\n",
    "# to this question according to sex?\n",
    "\n",
    "table2 = np.zeros((2, 2))"
   ]
  },
  {
   "cell_type": "code",
   "execution_count": 10,
   "metadata": {},
   "outputs": [],
   "source": [
    "for idx, value in enumerate(commas['Gender'].value_counts().index):\n",
    "    table2[0, idx] = len(commas[(commas['In your opinion, which sentence is '\\\n",
    "                                       'more gramatically correct?'] ==\\\n",
    "                                        'It\\'s important for a person to be '\\\n",
    "                                'honest, kind, and loyal.') & (commas['Gender'] == value)])\n",
    "    table2[1, idx] = len(commas[(commas['In your opinion, which sentence is '\\\n",
    "                                       'more gramatically correct?'] ==\\\n",
    "                                        'It\\'s important for a person to be '\\\n",
    "                                'honest, kind and loyal.') & (commas['Gender'] == value)])"
   ]
  },
  {
   "cell_type": "code",
   "execution_count": 11,
   "metadata": {},
   "outputs": [
    {
     "data": {
      "text/plain": [
       "array([[314., 280.],\n",
       "       [234., 209.]])"
      ]
     },
     "execution_count": 11,
     "metadata": {},
     "output_type": "execute_result"
    }
   ],
   "source": [
    "table2"
   ]
  },
  {
   "cell_type": "code",
   "execution_count": 12,
   "metadata": {},
   "outputs": [
    {
     "data": {
      "text/plain": [
       "(0.002502344351150657,\n",
       " 0.9601037108628604,\n",
       " 1,\n",
       " array([[313.89778206, 280.10221794],\n",
       "        [234.10221794, 208.89778206]]))"
      ]
     },
     "execution_count": 12,
     "metadata": {},
     "output_type": "execute_result"
    }
   ],
   "source": [
    "stats.contingency.chi2_contingency(table2)"
   ]
  },
  {
   "cell_type": "markdown",
   "metadata": {},
   "source": [
    "This test yielded a $p$-value of 96%! No interesting difference there.\n",
    "\n",
    "Let's try one more before we move to a more systematic search. Instead of looking across educational levels or the sexes for interesting differences in response to the Oxford comma question, we'll try looking across *ages*:"
   ]
  },
  {
   "cell_type": "code",
   "execution_count": 13,
   "metadata": {},
   "outputs": [
    {
     "data": {
      "text/plain": [
       "45-60    290\n",
       "> 60     272\n",
       "30-44    254\n",
       "18-29    221\n",
       "Name: Age, dtype: int64"
      ]
     },
     "execution_count": 13,
     "metadata": {},
     "output_type": "execute_result"
    }
   ],
   "source": [
    "commas.Age.value_counts()"
   ]
  },
  {
   "cell_type": "code",
   "execution_count": 14,
   "metadata": {},
   "outputs": [],
   "source": [
    "table3 = np.zeros((2, 4))"
   ]
  },
  {
   "cell_type": "code",
   "execution_count": 15,
   "metadata": {},
   "outputs": [],
   "source": [
    "for idx, value in enumerate(commas['Age'].value_counts().index):\n",
    "    table3[0, idx] = len(commas[(commas['In your opinion, which sentence is '\\\n",
    "                                       'more gramatically correct?'] ==\\\n",
    "                                        'It\\'s important for a person to be '\\\n",
    "                                'honest, kind, and loyal.') & (commas['Age'] == value)])\n",
    "    table3[1, idx] = len(commas[(commas['In your opinion, which sentence is '\\\n",
    "                                       'more gramatically correct?'] ==\\\n",
    "                                        'It\\'s important for a person to be '\\\n",
    "                                'honest, kind and loyal.') & (commas['Age'] == value)])"
   ]
  },
  {
   "cell_type": "code",
   "execution_count": 16,
   "metadata": {},
   "outputs": [
    {
     "data": {
      "text/plain": [
       "array([[142., 123., 155., 174.],\n",
       "       [148., 149.,  99.,  47.]])"
      ]
     },
     "execution_count": 16,
     "metadata": {},
     "output_type": "execute_result"
    }
   ],
   "source": [
    "table3"
   ]
  },
  {
   "cell_type": "code",
   "execution_count": 17,
   "metadata": {},
   "outputs": [
    {
     "data": {
      "text/plain": [
       "(67.37895834554394,\n",
       " 1.553656961877948e-14,\n",
       " 3,\n",
       " array([[166.11378978, 155.80327869, 145.4927676 , 126.59016393],\n",
       "        [123.88621022, 116.19672131, 108.5072324 ,  94.40983607]]))"
      ]
     },
     "execution_count": 17,
     "metadata": {},
     "output_type": "execute_result"
    }
   ],
   "source": [
    "stats.contingency.chi2_contingency(table3)"
   ]
  },
  {
   "cell_type": "markdown",
   "metadata": {},
   "source": [
    "Wow! Here we've found a $p$-value of 1.554e-14! That is strong evidence of a genuine correlation between age and Oxford comma preference. Comparing the columns of `table3` with the value counts of the Age column in `commas`, we can see that younger folks tend to think that the sentence with the Oxford comma is more grammatically correct. By contrast, older folks are more evenly split, and in fact there is a small majority in the other direction, voting for the sentence without the Oxford comma.\n",
    "\n",
    "If ours is to reason why, we might speculate that it was once common for English teachers and grammarians to advocate writing without the Oxford comma, but that it has since become common to use the comma."
   ]
  },
  {
   "cell_type": "markdown",
   "metadata": {},
   "source": [
    "## Searching Systematically\n",
    "\n",
    "Instead of trying things blindly, we might think about checking *all* possible correlations. Now we need to be careful about this, because by doing this sort of work we're opening ourselves up to charges of $p$-hacking or data dredging, i.e. conducting a large number of tests or otherwise manipulating our data so that we find some low $p$-value when in fact the associated correlation is spurious.\n",
    "\n",
    "The difficulty, to put it simply, is that, the more tests we perform, the more likely it will be to find an unlikely result. One way of dealing with this is by using the Bonferroni Correction, which scales critical testing thresholds by the number of tests run.\n",
    "\n",
    "Of course, if we get $p$-values as small as we got last time, this correction won't make much difference (as long as we're not running billions or trillions of tests), but this is something we should keep in mind. And it would be a good idea to count how many tests we'll be performing with our current dataset.\n",
    "\n",
    "For now, let's consider the following function, which will construct a table for $\\chi^2$ analysis given any two (categorical) columns from a `pandas` DataFrame:"
   ]
  },
  {
   "cell_type": "code",
   "execution_count": 18,
   "metadata": {},
   "outputs": [],
   "source": [
    "def chisq_table(df, col1, col2):\n",
    "    \n",
    "    # Build a table with the right dimensions and initialize\n",
    "    # counts to 0\n",
    "    table = np.zeros((len(df[col2].value_counts()),\n",
    "                      len(df[col1].value_counts())))\n",
    "    \n",
    "    # Filter the DataFrame down to the relevant rows and then\n",
    "    # fill the table with the length of each filtered DataFrame\n",
    "    for idx, value in enumerate(df[col2].value_counts().index):\n",
    "        for idx2, value2 in enumerate(df[col1].value_counts().index):\n",
    "            table[idx, idx2] = len(df[(df[col2] == value)\\\n",
    "                                      & (df[col1] == value2)])\n",
    "            \n",
    "    return table"
   ]
  },
  {
   "cell_type": "markdown",
   "metadata": {},
   "source": [
    "Let's see if our function reproduces the first table we generated above:"
   ]
  },
  {
   "cell_type": "code",
   "execution_count": 19,
   "metadata": {},
   "outputs": [
    {
     "data": {
      "text/plain": [
       "array([[199., 157., 172.,  52.,   8.],\n",
       "       [145., 138., 104.,  48.,   3.]])"
      ]
     },
     "execution_count": 19,
     "metadata": {},
     "output_type": "execute_result"
    }
   ],
   "source": [
    "chisq_table(commas, 'Education',\\\n",
    "           'In your opinion, which sentence is more gramatically correct?')"
   ]
  },
  {
   "cell_type": "markdown",
   "metadata": {},
   "source": [
    "Great! Looks like it works. Now we can try applying this function to *all* possible pairs of columns from our `commas` DataFrame. Again, we'll be sure to count the number of tests here so we remember to take $p$-values with a grain of salt (especially the ones that are low but not very low).\n",
    "\n",
    "We'll go ahead and assume that the RespondentID column is not relevant here. (And besides, it would force the creation of some very large tables!)"
   ]
  },
  {
   "cell_type": "code",
   "execution_count": 20,
   "metadata": {},
   "outputs": [
    {
     "data": {
      "text/plain": [
       "Index(['In your opinion, which sentence is more gramatically correct?',\n",
       "       'Prior to reading about it above, had you heard of the serial (or Oxford) comma?',\n",
       "       'How much, if at all, do you care about the use (or lack thereof) of the serial (or Oxford) comma in grammar?',\n",
       "       'How would you write the following sentence?',\n",
       "       'When faced with using the word \"data\", have you ever spent time considering if the word was a singular or plural noun?',\n",
       "       'How much, if at all, do you care about the debate over the use of the word \"data\" as a singluar or plural noun?',\n",
       "       'In your opinion, how important or unimportant is proper use of grammar?',\n",
       "       'Gender', 'Age', 'Household Income', 'Education',\n",
       "       'Location (Census Region)'],\n",
       "      dtype='object')"
      ]
     },
     "execution_count": 20,
     "metadata": {},
     "output_type": "execute_result"
    }
   ],
   "source": [
    "commas.columns.drop('RespondentID')"
   ]
  },
  {
   "cell_type": "markdown",
   "metadata": {},
   "source": [
    "Everything else looks usable! We'll collect the $p$-values of all the tests we run:"
   ]
  },
  {
   "cell_type": "code",
   "execution_count": 21,
   "metadata": {},
   "outputs": [],
   "source": [
    "pvals = []\n",
    "for col in commas.columns.drop('RespondentID'):\n",
    "    for col2 in commas.columns.drop('RespondentID'):\n",
    "        if col != col2:\n",
    "            pvals.append(stats.contingency.chi2_contingency\\\n",
    "                         (chisq_table(commas, col2, col))[1])"
   ]
  },
  {
   "cell_type": "code",
   "execution_count": 22,
   "metadata": {},
   "outputs": [
    {
     "data": {
      "text/plain": [
       "[2.1359199588922637e-10,\n",
       " 2.6128514366119275e-23,\n",
       " 0.43745396680738136,\n",
       " 0.3377039287679846,\n",
       " 0.24447447900218103,\n",
       " 0.2707945772193671,\n",
       " 0.9601037108628604,\n",
       " 1.553656961877948e-14,\n",
       " 0.02507153894449127,\n",
       " 0.13024170886530348,\n",
       " 0.01656656697760126,\n",
       " 2.1359199588922637e-10,\n",
       " 1.7986776086368326e-18,\n",
       " 0.011296356366072539,\n",
       " 2.9992859525216564e-08,\n",
       " 0.00036933093635573407,\n",
       " 0.014041252848884151,\n",
       " 0.6289453540554488,\n",
       " 3.70563898184614e-14,\n",
       " 0.8325492068869516,\n",
       " 3.3147029057493167e-05,\n",
       " 0.11146883471712238,\n",
       " 2.6128514366119275e-23,\n",
       " 1.7986776086368326e-18,\n",
       " 0.023000236181127023,\n",
       " 3.083593576094446e-08,\n",
       " 2.2927558393598515e-61,\n",
       " 9.759883174772929e-24,\n",
       " 0.0009441828426169297,\n",
       " 0.38375571770738026,\n",
       " 0.06978767870690113,\n",
       " 0.008056369776353264,\n",
       " 0.3405343499710523,\n",
       " 0.43745396680738136,\n",
       " 0.011296356366072539,\n",
       " 0.023000236181127023,\n",
       " 3.3287750238865536e-18,\n",
       " 5.898915155380134e-12,\n",
       " 0.47372320015969493,\n",
       " 0.10268712155789393,\n",
       " 0.0014516598512929596,\n",
       " 0.6751907148766849,\n",
       " 2.3017061937933766e-06,\n",
       " 0.7219433897679408,\n",
       " 0.3377039287679846,\n",
       " 2.9992859525216564e-08,\n",
       " 3.083593576094446e-08,\n",
       " 3.3287750238865775e-18,\n",
       " 3.165846783365897e-32,\n",
       " 2.4872182459516427e-05,\n",
       " 0.9765980118996199,\n",
       " 0.5838738534714951,\n",
       " 0.6169310639423792,\n",
       " 3.3493633602644437e-07,\n",
       " 0.11613708301955349,\n",
       " 0.24447447900218103,\n",
       " 0.000369330936355733,\n",
       " 2.292755839359917e-61,\n",
       " 5.898915155380134e-12,\n",
       " 3.165846783365897e-32,\n",
       " 6.564846719273692e-15,\n",
       " 0.007206440287688862,\n",
       " 0.3987363187925883,\n",
       " 0.08778689754429672,\n",
       " 0.010941721063865376,\n",
       " 0.9031376557735719,\n",
       " 0.2707945772193671,\n",
       " 0.014041252848884142,\n",
       " 9.759883174773e-24,\n",
       " 0.47372320015969493,\n",
       " 2.487218245951647e-05,\n",
       " 6.5648467192736445e-15,\n",
       " 0.0030640366610387225,\n",
       " 0.01952045453656809,\n",
       " 0.1848361620349747,\n",
       " 2.2708532920571933e-05,\n",
       " 0.9446239032407809,\n",
       " 0.9601037108628604,\n",
       " 0.6289453540554488,\n",
       " 0.0009441828426169297,\n",
       " 0.10268712155789393,\n",
       " 0.9765980118996199,\n",
       " 0.007206440287688862,\n",
       " 0.0030640366610387225,\n",
       " 0.9379864452302957,\n",
       " 0.10248223699223048,\n",
       " 0.30130985039321456,\n",
       " 0.5062178042363672,\n",
       " 1.553656961877948e-14,\n",
       " 3.705638981846168e-14,\n",
       " 0.38375571770738026,\n",
       " 0.0014516598512929581,\n",
       " 0.5838738534714951,\n",
       " 0.39873631879258825,\n",
       " 0.01952045453656808,\n",
       " 0.9379864452302956,\n",
       " 3.3551988931530774e-13,\n",
       " 1.3513467294229284e-09,\n",
       " 0.2702260840104164,\n",
       " 0.025071538944491285,\n",
       " 0.8325492068869517,\n",
       " 0.06978767870690103,\n",
       " 0.6751907148766849,\n",
       " 0.6169310639423791,\n",
       " 0.08778689754429679,\n",
       " 0.1848361620349747,\n",
       " 0.10248223699223048,\n",
       " 3.3551988931530774e-13,\n",
       " 9.255410522737304e-12,\n",
       " 0.7586872411533564,\n",
       " 0.13024170886530356,\n",
       " 3.314702905749321e-05,\n",
       " 0.008056369776353236,\n",
       " 2.3017061937933766e-06,\n",
       " 3.349363360264456e-07,\n",
       " 0.010941721063865376,\n",
       " 2.2708532920571933e-05,\n",
       " 0.30130985039321456,\n",
       " 1.3513467294229284e-09,\n",
       " 9.255410522737304e-12,\n",
       " 0.38792353827329024,\n",
       " 0.01656656697760126,\n",
       " 0.11146883471712239,\n",
       " 0.3405343499710523,\n",
       " 0.7219433897679408,\n",
       " 0.11613708301955349,\n",
       " 0.9031376557735719,\n",
       " 0.9446239032407812,\n",
       " 0.5062178042363672,\n",
       " 0.2702260840104164,\n",
       " 0.7586872411533561,\n",
       " 0.38792353827329024]"
      ]
     },
     "execution_count": 22,
     "metadata": {},
     "output_type": "execute_result"
    }
   ],
   "source": [
    "pvals"
   ]
  },
  {
   "cell_type": "markdown",
   "metadata": {},
   "source": [
    "So how many tests did we run?"
   ]
  },
  {
   "cell_type": "code",
   "execution_count": 23,
   "metadata": {
    "scrolled": true
   },
   "outputs": [
    {
     "data": {
      "text/plain": [
       "132"
      ]
     },
     "execution_count": 23,
     "metadata": {},
     "output_type": "execute_result"
    }
   ],
   "source": [
    "len(pvals)"
   ]
  },
  {
   "cell_type": "markdown",
   "metadata": {},
   "source": [
    "If we started with a typical Type I Error threshold of 5% and then added in the Bonferroni Correction, we'd be looking for $p$-values less than:"
   ]
  },
  {
   "cell_type": "code",
   "execution_count": 24,
   "metadata": {},
   "outputs": [
    {
     "data": {
      "text/plain": [
       "0.0003787878787878788"
      ]
     },
     "execution_count": 24,
     "metadata": {},
     "output_type": "execute_result"
    }
   ],
   "source": [
    "0.05/132"
   ]
  },
  {
   "cell_type": "markdown",
   "metadata": {},
   "source": [
    "This would move some of the results above from \"significant\" to \"insignificant\". But also some significance results would be unaffected, including our finding about the correlation between age and Oxford comma use."
   ]
  },
  {
   "cell_type": "code",
   "execution_count": null,
   "metadata": {},
   "outputs": [],
   "source": []
  }
 ],
 "metadata": {
  "kernelspec": {
   "display_name": "Python 3",
   "language": "python",
   "name": "python3"
  },
  "language_info": {
   "codemirror_mode": {
    "name": "ipython",
    "version": 3
   },
   "file_extension": ".py",
   "mimetype": "text/x-python",
   "name": "python",
   "nbconvert_exporter": "python",
   "pygments_lexer": "ipython3",
   "version": "3.7.2"
  }
 },
 "nbformat": 4,
 "nbformat_minor": 4
}
