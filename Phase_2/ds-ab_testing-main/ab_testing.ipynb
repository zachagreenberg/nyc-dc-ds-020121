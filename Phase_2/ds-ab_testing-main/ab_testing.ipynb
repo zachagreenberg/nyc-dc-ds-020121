{
 "cells": [
  {
   "cell_type": "markdown",
   "metadata": {},
   "source": [
    "# A/B Testing"
   ]
  },
  {
   "cell_type": "code",
   "execution_count": 1,
   "metadata": {
    "_cell_guid": "b1076dfc-b9ad-4769-8c92-a6c4dae69d19",
    "_uuid": "8f2839f25d086af736a60e9eeb907d3b93b6e0e5"
   },
   "outputs": [],
   "source": [
    "import numpy as np\n",
    "import pandas as pd\n",
    "from scipy.special import comb\n",
    "from scipy import stats\n",
    "import seaborn as sns"
   ]
  },
  {
   "cell_type": "markdown",
   "metadata": {},
   "source": [
    "## Outcomes\n",
    "\n",
    "- Describe what an A/B Test is:\n",
    "    - When it is used\n",
    "    - What forms it may take\n",
    "- Conduct an A/B Test in Python using `scipy`"
   ]
  },
  {
   "cell_type": "markdown",
   "metadata": {},
   "source": [
    "\n",
    "A/B Testing is really just a form of hypothesis testing applied to a business problem. And so it can take [many forms](https://en.wikipedia.org/wiki/A/B_testing).\n",
    "\n",
    "The classic form of A/B Testing is exposing customers to two different versions of a website (the A and B versions) and then conducting a hypothesis test to see if their behavior is significantly different between the two versions.\n",
    "\n",
    "Even limited to this context, there are [many](https://neilpatel.com/blog/19-obvious-ab-tests/) tests one might run!\n",
    "\n",
    "We'll try a couple examples of A/B Testing here.\n",
    "\n",
    "To start we'll try two examples with fake data:"
   ]
  },
  {
   "cell_type": "markdown",
   "metadata": {},
   "source": [
    "## Example 1: Canadian Winter Temperatures"
   ]
  },
  {
   "cell_type": "code",
   "execution_count": 2,
   "metadata": {},
   "outputs": [],
   "source": [
    "a1 = pd.read_csv('fake_data/a1.csv', usecols=['target'])\n",
    "b1 = pd.read_csv('fake_data/b1.csv', usecols=['target'])"
   ]
  },
  {
   "cell_type": "code",
   "execution_count": 3,
   "metadata": {},
   "outputs": [
    {
     "data": {
      "text/html": [
       "<div>\n",
       "<style scoped>\n",
       "    .dataframe tbody tr th:only-of-type {\n",
       "        vertical-align: middle;\n",
       "    }\n",
       "\n",
       "    .dataframe tbody tr th {\n",
       "        vertical-align: top;\n",
       "    }\n",
       "\n",
       "    .dataframe thead th {\n",
       "        text-align: right;\n",
       "    }\n",
       "</style>\n",
       "<table border=\"1\" class=\"dataframe\">\n",
       "  <thead>\n",
       "    <tr style=\"text-align: right;\">\n",
       "      <th></th>\n",
       "      <th>target</th>\n",
       "    </tr>\n",
       "  </thead>\n",
       "  <tbody>\n",
       "    <tr>\n",
       "      <th>0</th>\n",
       "      <td>-12.783261</td>\n",
       "    </tr>\n",
       "    <tr>\n",
       "      <th>1</th>\n",
       "      <td>-2.142397</td>\n",
       "    </tr>\n",
       "    <tr>\n",
       "      <th>2</th>\n",
       "      <td>13.996387</td>\n",
       "    </tr>\n",
       "    <tr>\n",
       "      <th>3</th>\n",
       "      <td>-9.040035</td>\n",
       "    </tr>\n",
       "    <tr>\n",
       "      <th>4</th>\n",
       "      <td>6.837523</td>\n",
       "    </tr>\n",
       "  </tbody>\n",
       "</table>\n",
       "</div>"
      ],
      "text/plain": [
       "      target\n",
       "0 -12.783261\n",
       "1  -2.142397\n",
       "2  13.996387\n",
       "3  -9.040035\n",
       "4   6.837523"
      ]
     },
     "execution_count": 3,
     "metadata": {},
     "output_type": "execute_result"
    }
   ],
   "source": [
    "a1.head()"
   ]
  },
  {
   "cell_type": "code",
   "execution_count": 4,
   "metadata": {},
   "outputs": [
    {
     "data": {
      "text/html": [
       "<div>\n",
       "<style scoped>\n",
       "    .dataframe tbody tr th:only-of-type {\n",
       "        vertical-align: middle;\n",
       "    }\n",
       "\n",
       "    .dataframe tbody tr th {\n",
       "        vertical-align: top;\n",
       "    }\n",
       "\n",
       "    .dataframe thead th {\n",
       "        text-align: right;\n",
       "    }\n",
       "</style>\n",
       "<table border=\"1\" class=\"dataframe\">\n",
       "  <thead>\n",
       "    <tr style=\"text-align: right;\">\n",
       "      <th></th>\n",
       "      <th>target</th>\n",
       "    </tr>\n",
       "  </thead>\n",
       "  <tbody>\n",
       "    <tr>\n",
       "      <th>0</th>\n",
       "      <td>24.304128</td>\n",
       "    </tr>\n",
       "    <tr>\n",
       "      <th>1</th>\n",
       "      <td>-10.077538</td>\n",
       "    </tr>\n",
       "    <tr>\n",
       "      <th>2</th>\n",
       "      <td>19.751174</td>\n",
       "    </tr>\n",
       "    <tr>\n",
       "      <th>3</th>\n",
       "      <td>-9.126446</td>\n",
       "    </tr>\n",
       "    <tr>\n",
       "      <th>4</th>\n",
       "      <td>17.236564</td>\n",
       "    </tr>\n",
       "  </tbody>\n",
       "</table>\n",
       "</div>"
      ],
      "text/plain": [
       "      target\n",
       "0  24.304128\n",
       "1 -10.077538\n",
       "2  19.751174\n",
       "3  -9.126446\n",
       "4  17.236564"
      ]
     },
     "execution_count": 4,
     "metadata": {},
     "output_type": "execute_result"
    }
   ],
   "source": [
    "b1.head()"
   ]
  },
  {
   "cell_type": "markdown",
   "metadata": {},
   "source": [
    "### Kernel Density Plots"
   ]
  },
  {
   "cell_type": "code",
   "execution_count": 5,
   "metadata": {},
   "outputs": [
    {
     "data": {
      "image/png": "[encoded data removed]",
      "text/plain": [
       "<Figure size 432x288 with 1 Axes>"
      ]
     },
     "metadata": {
      "needs_background": "light"
     },
     "output_type": "display_data"
    }
   ],
   "source": [
    "sns.kdeplot(a1['target']);"
   ]
  },
  {
   "cell_type": "code",
   "execution_count": 6,
   "metadata": {
    "scrolled": true
   },
   "outputs": [
    {
     "data": {
      "image/png": "[encoded data removed]",
      "text/plain": [
       "<Figure size 432x288 with 1 Axes>"
      ]
     },
     "metadata": {
      "needs_background": "light"
     },
     "output_type": "display_data"
    }
   ],
   "source": [
    "sns.kdeplot(b1['target']);"
   ]
  },
  {
   "cell_type": "markdown",
   "metadata": {},
   "source": [
    "### Hypothesis Test\n",
    "\n",
    "The data here represent average winter temperatures at various locations in Canada, and the question is whether the temperatures in Group A are lower than temperatures in Group B.\n",
    "\n",
    "**Null hypothesis**: The temperatures in Group A are not lower than the temperatures in Group B.\n",
    "\n",
    "**Alternative hypothesis**: The temperatures in Group A are lower than the temperatures in Group B."
   ]
  },
  {
   "cell_type": "markdown",
   "metadata": {},
   "source": [
    "### By Hand\n",
    "First let's try this by hand, assuming a $t$-distribution, and setting an $\\alpha$ threshold of 0.02:\n",
    "\n",
    "We'll start by calculating the pooled variance:\n",
    "- $\\Large s^2_P=\\frac{(n_1-1)s^2_1 - (n_2-1)s^2_2}{n_1+n_2-2}$."
   ]
  },
  {
   "cell_type": "code",
   "execution_count": 7,
   "metadata": {},
   "outputs": [
    {
     "data": {
      "text/plain": [
       "target   -3.60768\n",
       "dtype: float64"
      ]
     },
     "execution_count": 7,
     "metadata": {},
     "output_type": "execute_result"
    }
   ],
   "source": [
    "var_pooled = ((len(a1)-1) * a1.var() - (len(b1)-1) * b1.var()) / (len(a1) + len(b1) - 2)\n",
    "var_pooled"
   ]
  },
  {
   "cell_type": "markdown",
   "metadata": {},
   "source": [
    "Now we calculate the $t$-statistic:\n",
    "- $\\Large t=\\frac{\\bar{x_1} - \\bar{x_2}}{s^2_P\\sqrt{\\frac{1}{n_1} + \\frac{1}{n_2}}}$"
   ]
  },
  {
   "cell_type": "code",
   "execution_count": 8,
   "metadata": {},
   "outputs": [
    {
     "data": {
      "text/plain": [
       "target   -0.88395\n",
       "dtype: float64"
      ]
     },
     "execution_count": 8,
     "metadata": {},
     "output_type": "execute_result"
    }
   ],
   "source": [
    "t = (a1.mean() - b1.mean()) / (var_pooled * np.sqrt(1/len(a1) + 1/len(b1)))\n",
    "t"
   ]
  },
  {
   "cell_type": "markdown",
   "metadata": {},
   "source": [
    "And the critical $t$-stat is:"
   ]
  },
  {
   "cell_type": "markdown",
   "metadata": {},
   "source": [
    ">The alpha level here is .01!\n",
    "\n",
    ">The DoF is the sum of the sample sizes - 2"
   ]
  },
  {
   "cell_type": "code",
   "execution_count": 9,
   "metadata": {},
   "outputs": [
    {
     "data": {
      "text/plain": [
       "2.333859092543348"
      ]
     },
     "execution_count": 9,
     "metadata": {},
     "output_type": "execute_result"
    }
   ],
   "source": [
    "stats.t.ppf(0.99, df=len(a1)+len(b1)-2)"
   ]
  },
  {
   "cell_type": "markdown",
   "metadata": {},
   "source": [
    "### In One Line!"
   ]
  },
  {
   "cell_type": "markdown",
   "metadata": {},
   "source": [
    ">This gets you the p value below"
   ]
  },
  {
   "cell_type": "code",
   "execution_count": 10,
   "metadata": {},
   "outputs": [
    {
     "data": {
      "text/plain": [
       "array([0.84415484])"
      ]
     },
     "execution_count": 10,
     "metadata": {},
     "output_type": "execute_result"
    }
   ],
   "source": [
    "stats.ttest_ind(a1, b1, equal_var=False).pvalue"
   ]
  },
  {
   "cell_type": "markdown",
   "metadata": {},
   "source": [
    "## Example 2: Online Sales\n",
    "\n",
    "Now let's try a binomial A/B Test (where the variable of interest is binary). We can use [Fisher's exact test](https://en.wikipedia.org/wiki/Fisher%27s_exact_test)."
   ]
  },
  {
   "cell_type": "markdown",
   "metadata": {},
   "source": [
    "### Question\n",
    "\n",
    "We have data about whether customers completed sales transactions, segregated by the type of ad banners to which the customers were exposed.\n",
    "\n",
    "The question we want to answer is whether there was any difference in sales \"conversions\" between desktop customers who saw the sneakers banner and desktop customers who saw the accessories banner in the month of May 2019."
   ]
  },
  {
   "cell_type": "markdown",
   "metadata": {},
   "source": [
    "### Getting the Data\n",
    "\n",
    "First let's download the data from [kaggle](https://www.kaggle.com/podsyp/how-to-do-product-analytics)."
   ]
  },
  {
   "cell_type": "code",
   "execution_count": 11,
   "metadata": {},
   "outputs": [
    {
     "name": "stdout",
     "output_type": "stream",
     "text": [
      "/Users/zachgreenberg/Documents/Flatiron/nyc-dc-ds-020121/Phase_2/ds-ab_testing-main\r\n"
     ]
    }
   ],
   "source": [
    "!pwd"
   ]
  },
  {
   "cell_type": "markdown",
   "metadata": {},
   "source": [
    "Let's go ahead and amend the `.gitignore` file now so that we don't accidentally add the data to our next commit."
   ]
  },
  {
   "cell_type": "code",
   "execution_count": 12,
   "metadata": {},
   "outputs": [],
   "source": [
    "!(echo \"\"; echo \"# data\"; echo \"product.csv\") >> .gitignore"
   ]
  },
  {
   "cell_type": "code",
   "execution_count": 13,
   "metadata": {
    "_cell_guid": "79c7e3d0-c299-4dcb-8224-4455121ee9b0",
    "_uuid": "d629ff2d2480ee46fbb7e2d37f6b5fab8052498a"
   },
   "outputs": [],
   "source": [
    "df = pd.read_csv('data/product.csv')"
   ]
  },
  {
   "cell_type": "code",
   "execution_count": 14,
   "metadata": {},
   "outputs": [
    {
     "data": {
      "text/html": [
       "<div>\n",
       "<style scoped>\n",
       "    .dataframe tbody tr th:only-of-type {\n",
       "        vertical-align: middle;\n",
       "    }\n",
       "\n",
       "    .dataframe tbody tr th {\n",
       "        vertical-align: top;\n",
       "    }\n",
       "\n",
       "    .dataframe thead th {\n",
       "        text-align: right;\n",
       "    }\n",
       "</style>\n",
       "<table border=\"1\" class=\"dataframe\">\n",
       "  <thead>\n",
       "    <tr style=\"text-align: right;\">\n",
       "      <th></th>\n",
       "      <th>order_id</th>\n",
       "      <th>user_id</th>\n",
       "      <th>page_id</th>\n",
       "      <th>product</th>\n",
       "      <th>site_version</th>\n",
       "      <th>time</th>\n",
       "      <th>title</th>\n",
       "      <th>target</th>\n",
       "    </tr>\n",
       "  </thead>\n",
       "  <tbody>\n",
       "    <tr>\n",
       "      <th>0</th>\n",
       "      <td>cfcd208495d565ef66e7dff9f98764da</td>\n",
       "      <td>c81e728d9d4c2f636f067f89cc14862c</td>\n",
       "      <td>6f4922f45568161a8cdf4ad2299f6d23</td>\n",
       "      <td>sneakers</td>\n",
       "      <td>desktop</td>\n",
       "      <td>2019-01-11 09:24:43</td>\n",
       "      <td>banner_click</td>\n",
       "      <td>0</td>\n",
       "    </tr>\n",
       "    <tr>\n",
       "      <th>1</th>\n",
       "      <td>c4ca4238a0b923820dcc509a6f75849b</td>\n",
       "      <td>eccbc87e4b5ce2fe28308fd9f2a7baf3</td>\n",
       "      <td>4e732ced3463d06de0ca9a15b6153677</td>\n",
       "      <td>sneakers</td>\n",
       "      <td>desktop</td>\n",
       "      <td>2019-01-09 09:38:51</td>\n",
       "      <td>banner_show</td>\n",
       "      <td>0</td>\n",
       "    </tr>\n",
       "    <tr>\n",
       "      <th>2</th>\n",
       "      <td>c81e728d9d4c2f636f067f89cc14862c</td>\n",
       "      <td>eccbc87e4b5ce2fe28308fd9f2a7baf3</td>\n",
       "      <td>5c45a86277b8bf17bff6011be5cfb1b9</td>\n",
       "      <td>sports_nutrition</td>\n",
       "      <td>desktop</td>\n",
       "      <td>2019-01-09 09:12:45</td>\n",
       "      <td>banner_show</td>\n",
       "      <td>0</td>\n",
       "    </tr>\n",
       "    <tr>\n",
       "      <th>3</th>\n",
       "      <td>eccbc87e4b5ce2fe28308fd9f2a7baf3</td>\n",
       "      <td>eccbc87e4b5ce2fe28308fd9f2a7baf3</td>\n",
       "      <td>fb339ad311d50a229e497085aad219c7</td>\n",
       "      <td>company</td>\n",
       "      <td>desktop</td>\n",
       "      <td>2019-01-03 08:58:18</td>\n",
       "      <td>banner_show</td>\n",
       "      <td>0</td>\n",
       "    </tr>\n",
       "    <tr>\n",
       "      <th>4</th>\n",
       "      <td>a87ff679a2f3e71d9181a67b7542122c</td>\n",
       "      <td>eccbc87e4b5ce2fe28308fd9f2a7baf3</td>\n",
       "      <td>fb339ad311d50a229e497085aad219c7</td>\n",
       "      <td>company</td>\n",
       "      <td>desktop</td>\n",
       "      <td>2019-01-03 08:59:15</td>\n",
       "      <td>banner_click</td>\n",
       "      <td>0</td>\n",
       "    </tr>\n",
       "  </tbody>\n",
       "</table>\n",
       "</div>"
      ],
      "text/plain": [
       "                           order_id                           user_id  \\\n",
       "0  cfcd208495d565ef66e7dff9f98764da  c81e728d9d4c2f636f067f89cc14862c   \n",
       "1  c4ca4238a0b923820dcc509a6f75849b  eccbc87e4b5ce2fe28308fd9f2a7baf3   \n",
       "2  c81e728d9d4c2f636f067f89cc14862c  eccbc87e4b5ce2fe28308fd9f2a7baf3   \n",
       "3  eccbc87e4b5ce2fe28308fd9f2a7baf3  eccbc87e4b5ce2fe28308fd9f2a7baf3   \n",
       "4  a87ff679a2f3e71d9181a67b7542122c  eccbc87e4b5ce2fe28308fd9f2a7baf3   \n",
       "\n",
       "                            page_id           product site_version  \\\n",
       "0  6f4922f45568161a8cdf4ad2299f6d23          sneakers      desktop   \n",
       "1  4e732ced3463d06de0ca9a15b6153677          sneakers      desktop   \n",
       "2  5c45a86277b8bf17bff6011be5cfb1b9  sports_nutrition      desktop   \n",
       "3  fb339ad311d50a229e497085aad219c7           company      desktop   \n",
       "4  fb339ad311d50a229e497085aad219c7           company      desktop   \n",
       "\n",
       "                  time         title  target  \n",
       "0  2019-01-11 09:24:43  banner_click       0  \n",
       "1  2019-01-09 09:38:51   banner_show       0  \n",
       "2  2019-01-09 09:12:45   banner_show       0  \n",
       "3  2019-01-03 08:58:18   banner_show       0  \n",
       "4  2019-01-03 08:59:15  banner_click       0  "
      ]
     },
     "execution_count": 14,
     "metadata": {},
     "output_type": "execute_result"
    }
   ],
   "source": [
    "df.head()"
   ]
  },
  {
   "cell_type": "code",
   "execution_count": 15,
   "metadata": {},
   "outputs": [
    {
     "name": "stdout",
     "output_type": "stream",
     "text": [
      "<class 'pandas.core.frame.DataFrame'>\n",
      "RangeIndex: 8471220 entries, 0 to 8471219\n",
      "Data columns (total 8 columns):\n",
      " #   Column        Dtype \n",
      "---  ------        ----- \n",
      " 0   order_id      object\n",
      " 1   user_id       object\n",
      " 2   page_id       object\n",
      " 3   product       object\n",
      " 4   site_version  object\n",
      " 5   time          object\n",
      " 6   title         object\n",
      " 7   target        int64 \n",
      "dtypes: int64(1), object(7)\n",
      "memory usage: 517.0+ MB\n"
     ]
    }
   ],
   "source": [
    "df.info()"
   ]
  },
  {
   "cell_type": "markdown",
   "metadata": {},
   "source": [
    "### EDA\n",
    "\n",
    "Lets's look at the different banner types:"
   ]
  },
  {
   "cell_type": "code",
   "execution_count": 16,
   "metadata": {
    "scrolled": true
   },
   "outputs": [
    {
     "data": {
      "text/plain": [
       "clothes             1786438\n",
       "company             1725056\n",
       "sneakers            1703342\n",
       "sports_nutrition    1634625\n",
       "accessories         1621759\n",
       "Name: product, dtype: int64"
      ]
     },
     "execution_count": 16,
     "metadata": {},
     "output_type": "execute_result"
    }
   ],
   "source": [
    "df['product'].value_counts()"
   ]
  },
  {
   "cell_type": "code",
   "execution_count": 17,
   "metadata": {},
   "outputs": [
    {
     "data": {
      "text/plain": [
       "product           target\n",
       "accessories       0         1577208\n",
       "                  1           44551\n",
       "clothes           0         1673723\n",
       "                  1          112715\n",
       "company           0         1725056\n",
       "sneakers          0         1635623\n",
       "                  1           67719\n",
       "sports_nutrition  0         1610888\n",
       "                  1           23737\n",
       "Name: target, dtype: int64"
      ]
     },
     "execution_count": 17,
     "metadata": {},
     "output_type": "execute_result"
    }
   ],
   "source": [
    "df.groupby('product')['target'].value_counts()"
   ]
  },
  {
   "cell_type": "markdown",
   "metadata": {},
   "source": [
    "Let's look at the range of time-stamps on these data:"
   ]
  },
  {
   "cell_type": "code",
   "execution_count": 18,
   "metadata": {},
   "outputs": [
    {
     "data": {
      "text/plain": [
       "'2019-01-01 00:00:03'"
      ]
     },
     "execution_count": 18,
     "metadata": {},
     "output_type": "execute_result"
    }
   ],
   "source": [
    "df['time'].min()"
   ]
  },
  {
   "cell_type": "code",
   "execution_count": 19,
   "metadata": {},
   "outputs": [
    {
     "data": {
      "text/plain": [
       "'2019-05-31 23:59:58'"
      ]
     },
     "execution_count": 19,
     "metadata": {},
     "output_type": "execute_result"
    }
   ],
   "source": [
    "df['time'].max()"
   ]
  },
  {
   "cell_type": "markdown",
   "metadata": {},
   "source": [
    "Let's check the counts of the different site_version values:"
   ]
  },
  {
   "cell_type": "code",
   "execution_count": 20,
   "metadata": {
    "scrolled": true
   },
   "outputs": [
    {
     "data": {
      "text/plain": [
       "mobile     6088335\n",
       "desktop    2382885\n",
       "Name: site_version, dtype: int64"
      ]
     },
     "execution_count": 20,
     "metadata": {},
     "output_type": "execute_result"
    }
   ],
   "source": [
    "df['site_version'].value_counts()"
   ]
  },
  {
   "cell_type": "code",
   "execution_count": 21,
   "metadata": {},
   "outputs": [
    {
     "data": {
      "text/plain": [
       "banner_show     7393314\n",
       "banner_click     829184\n",
       "order            248722\n",
       "Name: title, dtype: int64"
      ]
     },
     "execution_count": 21,
     "metadata": {},
     "output_type": "execute_result"
    }
   ],
   "source": [
    "df['title'].value_counts()"
   ]
  },
  {
   "cell_type": "code",
   "execution_count": 22,
   "metadata": {},
   "outputs": [
    {
     "data": {
      "text/html": [
       "<div>\n",
       "<style scoped>\n",
       "    .dataframe tbody tr th:only-of-type {\n",
       "        vertical-align: middle;\n",
       "    }\n",
       "\n",
       "    .dataframe tbody tr th {\n",
       "        vertical-align: top;\n",
       "    }\n",
       "\n",
       "    .dataframe thead th {\n",
       "        text-align: right;\n",
       "    }\n",
       "</style>\n",
       "<table border=\"1\" class=\"dataframe\">\n",
       "  <thead>\n",
       "    <tr style=\"text-align: right;\">\n",
       "      <th></th>\n",
       "      <th>target</th>\n",
       "    </tr>\n",
       "    <tr>\n",
       "      <th>title</th>\n",
       "      <th></th>\n",
       "    </tr>\n",
       "  </thead>\n",
       "  <tbody>\n",
       "    <tr>\n",
       "      <th>banner_click</th>\n",
       "      <td>0</td>\n",
       "    </tr>\n",
       "    <tr>\n",
       "      <th>banner_show</th>\n",
       "      <td>0</td>\n",
       "    </tr>\n",
       "    <tr>\n",
       "      <th>order</th>\n",
       "      <td>1</td>\n",
       "    </tr>\n",
       "  </tbody>\n",
       "</table>\n",
       "</div>"
      ],
      "text/plain": [
       "              target\n",
       "title               \n",
       "banner_click       0\n",
       "banner_show        0\n",
       "order              1"
      ]
     },
     "execution_count": 22,
     "metadata": {},
     "output_type": "execute_result"
    }
   ],
   "source": [
    "df.groupby('title').agg({'target': 'mean'})"
   ]
  },
  {
   "cell_type": "markdown",
   "metadata": {},
   "source": [
    ">Order shown above means they made an order"
   ]
  },
  {
   "cell_type": "markdown",
   "metadata": {},
   "source": [
    "### Experimental Setup\n",
    "\n",
    "We need to filter by site_version, time, and product:"
   ]
  },
  {
   "cell_type": "code",
   "execution_count": 23,
   "metadata": {},
   "outputs": [],
   "source": [
    "df_AB = df[(df['site_version'] == 'desktop') &\n",
    "           (df['time'] >= '2019-05-01') &\n",
    "           ((df['product'] == 'accessories') | (df['product'] == 'sneakers'))].reset_index(drop = True)"
   ]
  },
  {
   "cell_type": "markdown",
   "metadata": {},
   "source": [
    ">drop=True will drop the old index, otherwise it would be it's own index column"
   ]
  },
  {
   "cell_type": "code",
   "execution_count": 24,
   "metadata": {
    "scrolled": true
   },
   "outputs": [
    {
     "data": {
      "text/html": [
       "<div>\n",
       "<style scoped>\n",
       "    .dataframe tbody tr th:only-of-type {\n",
       "        vertical-align: middle;\n",
       "    }\n",
       "\n",
       "    .dataframe tbody tr th {\n",
       "        vertical-align: top;\n",
       "    }\n",
       "\n",
       "    .dataframe thead th {\n",
       "        text-align: right;\n",
       "    }\n",
       "</style>\n",
       "<table border=\"1\" class=\"dataframe\">\n",
       "  <thead>\n",
       "    <tr style=\"text-align: right;\">\n",
       "      <th></th>\n",
       "      <th>order_id</th>\n",
       "      <th>user_id</th>\n",
       "      <th>page_id</th>\n",
       "      <th>product</th>\n",
       "      <th>site_version</th>\n",
       "      <th>time</th>\n",
       "      <th>title</th>\n",
       "      <th>target</th>\n",
       "    </tr>\n",
       "  </thead>\n",
       "  <tbody>\n",
       "    <tr>\n",
       "      <th>218783</th>\n",
       "      <td>f549b8a88b84d5b6813bb98c03b3270a</td>\n",
       "      <td>f57ab001ccae51094cdbf91e6a7a1db8</td>\n",
       "      <td>07403df14c267a77b7df508eed9e651c</td>\n",
       "      <td>sneakers</td>\n",
       "      <td>desktop</td>\n",
       "      <td>2019-05-23 10:22:00</td>\n",
       "      <td>banner_show</td>\n",
       "      <td>0</td>\n",
       "    </tr>\n",
       "    <tr>\n",
       "      <th>218784</th>\n",
       "      <td>566828e3ea907d4966d4965b28265986</td>\n",
       "      <td>5df0d1240a575396e75223a589e44295</td>\n",
       "      <td>f2dff4a4f409d399398e583da973983f</td>\n",
       "      <td>accessories</td>\n",
       "      <td>desktop</td>\n",
       "      <td>2019-05-24 06:49:26</td>\n",
       "      <td>banner_show</td>\n",
       "      <td>0</td>\n",
       "    </tr>\n",
       "    <tr>\n",
       "      <th>218785</th>\n",
       "      <td>f37363d980d062d9ccdfd58f793a36c8</td>\n",
       "      <td>fd645f04aa9c16781d2173bcf38592dd</td>\n",
       "      <td>f10503fd6aa0473bad30f78150035a75</td>\n",
       "      <td>sneakers</td>\n",
       "      <td>desktop</td>\n",
       "      <td>2019-05-29 17:17:27</td>\n",
       "      <td>banner_show</td>\n",
       "      <td>0</td>\n",
       "    </tr>\n",
       "    <tr>\n",
       "      <th>218786</th>\n",
       "      <td>982c47ce571d715bd1e5ebcb185500f9</td>\n",
       "      <td>d73ee197a864f988f7edf1cc284c44c3</td>\n",
       "      <td>01f91b0ef0f8b9807232eb4e5a02babb</td>\n",
       "      <td>accessories</td>\n",
       "      <td>desktop</td>\n",
       "      <td>2019-05-27 18:50:51</td>\n",
       "      <td>banner_show</td>\n",
       "      <td>0</td>\n",
       "    </tr>\n",
       "    <tr>\n",
       "      <th>218787</th>\n",
       "      <td>70c275428b8d53eef294d0529253b694</td>\n",
       "      <td>59e736f90b5f8003072bf0eb271ddb86</td>\n",
       "      <td>7bc3a33568d00773d5b58d6c7348bf3e</td>\n",
       "      <td>accessories</td>\n",
       "      <td>desktop</td>\n",
       "      <td>2019-05-23 14:07:00</td>\n",
       "      <td>banner_show</td>\n",
       "      <td>0</td>\n",
       "    </tr>\n",
       "  </tbody>\n",
       "</table>\n",
       "</div>"
      ],
      "text/plain": [
       "                                order_id                           user_id  \\\n",
       "218783  f549b8a88b84d5b6813bb98c03b3270a  f57ab001ccae51094cdbf91e6a7a1db8   \n",
       "218784  566828e3ea907d4966d4965b28265986  5df0d1240a575396e75223a589e44295   \n",
       "218785  f37363d980d062d9ccdfd58f793a36c8  fd645f04aa9c16781d2173bcf38592dd   \n",
       "218786  982c47ce571d715bd1e5ebcb185500f9  d73ee197a864f988f7edf1cc284c44c3   \n",
       "218787  70c275428b8d53eef294d0529253b694  59e736f90b5f8003072bf0eb271ddb86   \n",
       "\n",
       "                                 page_id      product site_version  \\\n",
       "218783  07403df14c267a77b7df508eed9e651c     sneakers      desktop   \n",
       "218784  f2dff4a4f409d399398e583da973983f  accessories      desktop   \n",
       "218785  f10503fd6aa0473bad30f78150035a75     sneakers      desktop   \n",
       "218786  01f91b0ef0f8b9807232eb4e5a02babb  accessories      desktop   \n",
       "218787  7bc3a33568d00773d5b58d6c7348bf3e  accessories      desktop   \n",
       "\n",
       "                       time        title  target  \n",
       "218783  2019-05-23 10:22:00  banner_show       0  \n",
       "218784  2019-05-24 06:49:26  banner_show       0  \n",
       "218785  2019-05-29 17:17:27  banner_show       0  \n",
       "218786  2019-05-27 18:50:51  banner_show       0  \n",
       "218787  2019-05-23 14:07:00  banner_show       0  "
      ]
     },
     "execution_count": 24,
     "metadata": {},
     "output_type": "execute_result"
    }
   ],
   "source": [
    "df_AB.tail()"
   ]
  },
  {
   "cell_type": "markdown",
   "metadata": {},
   "source": [
    "### The Hypotheses\n",
    "\n",
    "NULL: Customers who saw the sneakers banner were no more or less likely to buy than customers who saw the accessories banner.\n",
    "\n",
    "ALTERNATIVE: Customers who saw the sneakers banner were more or less likely to buy than customers who saw the accessories banner."
   ]
  },
  {
   "cell_type": "markdown",
   "metadata": {},
   "source": [
    ">This is a two tailed test!"
   ]
  },
  {
   "cell_type": "markdown",
   "metadata": {},
   "source": [
    "### Setting a Threshold\n",
    "\n",
    "We'll set a false-positive rate of $\\alpha = 0.05$."
   ]
  },
  {
   "cell_type": "code",
   "execution_count": 28,
   "metadata": {},
   "outputs": [],
   "source": [
    "#This is an example of Fishers Test:\n",
    "\n",
    "#         Men   \t  Women  \tRow Total\n",
    "# Studying\ta\tb\ta + b\n",
    "#   Non-studying  \tc\td\tc + d\n",
    "# Column Total\ta + c\tb + d\ta + b + c + d (=n)\n"
   ]
  },
  {
   "cell_type": "markdown",
   "metadata": {},
   "source": [
    "### Preparing Fisher's Test\n",
    "\n",
    "Fisher's Test is an exact calculation of a $p$-value that requires four quantities: the respective numbers of 1's and 0's for each class."
   ]
  },
  {
   "cell_type": "code",
   "execution_count": 26,
   "metadata": {},
   "outputs": [],
   "source": [
    "df_A = df_AB[df_AB['product'] == 'accessories']\n",
    "df_B = df_AB[df_AB['product'] == 'sneakers']"
   ]
  },
  {
   "cell_type": "markdown",
   "metadata": {},
   "source": [
    "We calculate values in a 2x2 table: the numbers of people who did or did not submit orders, both for the accessories banner and thesneakers banner. "
   ]
  },
  {
   "cell_type": "code",
   "execution_count": 27,
   "metadata": {},
   "outputs": [
    {
     "data": {
      "text/plain": [
       "(4649, 6868)"
      ]
     },
     "execution_count": 27,
     "metadata": {},
     "output_type": "execute_result"
    }
   ],
   "source": [
    "accessories_orders = sum(df_A['target'])\n",
    "sneakers_orders = sum(df_B['target'])\n",
    "\n",
    "accessories_orders, sneakers_orders"
   ]
  },
  {
   "cell_type": "markdown",
   "metadata": {},
   "source": [
    "To get the numbers of people who didn't submit orders, we get the total number of people who were shown banners and then subtract the numbers of people who did make orders."
   ]
  },
  {
   "cell_type": "code",
   "execution_count": 29,
   "metadata": {},
   "outputs": [
    {
     "data": {
      "text/plain": [
       "(93562, 92492)"
      ]
     },
     "execution_count": 29,
     "metadata": {},
     "output_type": "execute_result"
    }
   ],
   "source": [
    "accessories_total = sum(df_A['title'] == 'banner_show')\n",
    "sneakers_total = sum(df_B['title'] == 'banner_show')\n",
    "\n",
    "accessories_no_orders = accessories_total - accessories_orders\n",
    "sneakers_no_orders = sneakers_total - sneakers_orders\n",
    "\n",
    "accessories_no_orders, sneakers_no_orders"
   ]
  },
  {
   "cell_type": "markdown",
   "metadata": {},
   "source": [
    "### Calculation\n",
    "\n",
    "Fisher's Test tells us that the $p$-value corresponding to our distribution is given by:\n",
    "\n",
    "$\\Large p = \\frac{(a+b)!(c+d)!(a+c)!(b+d)!}{a!b!c!d!n!}$"
   ]
  },
  {
   "cell_type": "code",
   "execution_count": 30,
   "metadata": {},
   "outputs": [],
   "source": [
    "a = accessories_orders\n",
    "b = sneakers_orders\n",
    "c = accessories_no_orders\n",
    "d = sneakers_no_orders"
   ]
  },
  {
   "cell_type": "code",
   "execution_count": 31,
   "metadata": {},
   "outputs": [],
   "source": [
    "ab_choose_a = comb(a+b, a, exact=True)"
   ]
  },
  {
   "cell_type": "code",
   "execution_count": 32,
   "metadata": {},
   "outputs": [],
   "source": [
    "cd_choose_c = comb(c+d, c, exact=True)"
   ]
  },
  {
   "cell_type": "code",
   "execution_count": 33,
   "metadata": {},
   "outputs": [],
   "source": [
    "n_choose_ac = comb(a+b+c+d, a+c, exact=True)"
   ]
  },
  {
   "cell_type": "code",
   "execution_count": 34,
   "metadata": {},
   "outputs": [
    {
     "data": {
      "text/plain": [
       "3.849329970961971e-96"
      ]
     },
     "execution_count": 34,
     "metadata": {},
     "output_type": "execute_result"
    }
   ],
   "source": [
    "p = ab_choose_a * cd_choose_c / n_choose_ac\n",
    "p"
   ]
  },
  {
   "cell_type": "markdown",
   "metadata": {},
   "source": [
    "Comparing with `stats.fisher_exact()`:"
   ]
  },
  {
   "cell_type": "code",
   "execution_count": 35,
   "metadata": {
    "scrolled": true
   },
   "outputs": [
    {
     "data": {
      "text/plain": [
       "(0.6691661029944147, 2.2151768161436975e-95)"
      ]
     },
     "execution_count": 35,
     "metadata": {},
     "output_type": "execute_result"
    }
   ],
   "source": [
    "stats.fisher_exact(np.array([[a, b], [c, d]]))"
   ]
  },
  {
   "cell_type": "markdown",
   "metadata": {},
   "source": [
    ">With a large sample, more often than not you will reject the null. "
   ]
  },
  {
   "cell_type": "markdown",
   "metadata": {},
   "source": [
    "This extremely low $p$-value suggests that these two groups are genuinely performing differently. In particular, the desktop customers who saw the sneakers banner in May 2019 bought at a higher rate than the desktop customers who saw the accessories banner in May 2019."
   ]
  },
  {
   "cell_type": "markdown",
   "metadata": {},
   "source": [
    "## Exercise\n",
    "\n",
    "Same question as before, but this time for April 2019 instead of May! Use a threshold of 0.05."
   ]
  },
  {
   "cell_type": "code",
   "execution_count": 40,
   "metadata": {},
   "outputs": [],
   "source": [
    "df_AB = df[(df['site_version'] == 'desktop') &\n",
    "           ((df['time'] >= '2019-04-01') | (df['time'] <= '2019-04-30')) &\n",
    "           ((df['product'] == 'accessories') | (df['product'] == 'sneakers'))].reset_index(drop = True)"
   ]
  },
  {
   "cell_type": "code",
   "execution_count": 41,
   "metadata": {},
   "outputs": [
    {
     "data": {
      "text/plain": [
       "(0.6637888056820483, 0.0)"
      ]
     },
     "execution_count": 41,
     "metadata": {},
     "output_type": "execute_result"
    }
   ],
   "source": [
    "df_A = df_AB[df_AB['product'] == 'accessories']\n",
    "df_B = df_AB[df_AB['product'] == 'sneakers']\n",
    "\n",
    "accessories_orders = sum(df_A['target'])\n",
    "sneakers_orders = sum(df_B['target'])\n",
    "\n",
    "accessories_orders, sneakers_orders\n",
    "\n",
    "accessories_total = sum(df_A['title'] == 'banner_show')\n",
    "sneakers_total = sum(df_B['title'] == 'banner_show')\n",
    "\n",
    "accessories_no_orders = accessories_total - accessories_orders\n",
    "sneakers_no_orders = sneakers_total - sneakers_orders\n",
    "\n",
    "accessories_no_orders, sneakers_no_orders\n",
    "\n",
    "a = accessories_orders\n",
    "b = sneakers_orders\n",
    "c = accessories_no_orders\n",
    "d = sneakers_no_orders\n",
    "\n",
    "stats.fisher_exact(np.array([[a, b], [c, d]]))"
   ]
  },
  {
   "cell_type": "code",
   "execution_count": null,
   "metadata": {},
   "outputs": [],
   "source": [
    "#We would fail to reject the null hypothesis due to the p value being less than the threshold."
   ]
  }
 ],
 "metadata": {
  "kernelspec": {
   "display_name": "Python 3",
   "language": "python",
   "name": "python3"
  },
  "language_info": {
   "codemirror_mode": {
    "name": "ipython",
    "version": 3
   },
   "file_extension": ".py",
   "mimetype": "text/x-python",
   "name": "python",
   "nbconvert_exporter": "python",
   "pygments_lexer": "ipython3",
   "version": "3.8.5"
  }
 },
 "nbformat": 4,
 "nbformat_minor": 4
}
