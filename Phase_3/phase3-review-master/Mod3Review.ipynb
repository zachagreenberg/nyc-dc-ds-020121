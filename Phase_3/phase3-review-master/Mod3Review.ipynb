{
 "cells": [
  {
   "cell_type": "markdown",
   "metadata": {},
   "source": [
    "# Phase 3 Code Challenge Review\n",
    "\n",
    "Agenda:\n",
    "- Gradient Descent & Cost Function\n",
    "- Logistic Regression\n",
    "- Evaluation Metrics\n",
    "- Decision Trees"
   ]
  },
  {
   "cell_type": "markdown",
   "metadata": {},
   "source": [
    "## Part I. Gradient Descent & Cost Function\n",
    "- What is a cost function? What are we trying to find?\n",
    "- How to use gd to find the lowest point? How does the gradient change as we get closer to the bottom?\n",
    "- What's the role learning rate play? How can learning rate affect your result? \n",
    "\n",
    "\n",
    "<p style='text-align:center;font-size:20px'>$ \\theta_j := \\theta_j - \\alpha * \\frac{\\partial J(\\theta)}{\\partial\\theta_i} $</p>"
   ]
  },
  {
   "cell_type": "code",
   "execution_count": null,
   "metadata": {},
   "outputs": [],
   "source": [
    "import matplotlib.pyplot as plt\n",
    "import numpy as np\n",
    "from sklearn.metrics import mean_squared_error\n",
    "import seaborn as sns\n",
    "%matplotlib inline\n",
    "x = [1, 1, 2, 3, 4, 3, 4, 6, 4]\n",
    "y = [2, 1, 0.5, 1, 3, 3, 2, 5, 4]\n",
    "plt.figure(figsize = (8,8))\n",
    "fig, ax = plt.subplots()\n",
    "\n",
    "ax.scatter(x,y)\n",
    "plt.show()"
   ]
  },
  {
   "cell_type": "code",
   "execution_count": null,
   "metadata": {},
   "outputs": [],
   "source": [
    "beta_0 = 0\n",
    "#beta_1 = [.25, .5, .75, .8, 1,]\n",
    "beta_1 = np.arange(0.25,3,0.1)\n",
    "fig, ax = plt.subplots(figsize=(10,6))\n",
    "mses = []\n",
    "for t in beta_1:\n",
    "    line = beta_0 + (np.array(x)*t)\n",
    "    mse = round(mean_squared_error(y, line),3)\n",
    "    mses.append(mse)\n",
    "    ax.plot(x, line, label=f'{mse} {t}')\n",
    "ax.scatter(x,y)\n",
    "plt.legend()\n",
    "plt.show()"
   ]
  },
  {
   "cell_type": "code",
   "execution_count": null,
   "metadata": {
    "scrolled": false
   },
   "outputs": [],
   "source": [
    "# Plot the Cost Curve\n",
    "fig, ax = plt.subplots(figsize=(10,6))\n",
    "ax.plot(beta_1, mses)\n",
    "ax.set_title('Cost Curve')\n",
    "ax.set_xlabel('beta 1')\n",
    "ax.set_ylabel('MSE')\n",
    "plt.show()"
   ]
  },
  {
   "cell_type": "markdown",
   "metadata": {},
   "source": [
    "#### For gradient descent, the questions are going to be mostly intuitive and written answers. You will need to be able to answer questions such as the 3 bullet points above."
   ]
  },
  {
   "cell_type": "markdown",
   "metadata": {},
   "source": [
    "## Part II. Logistic Regression \n",
    "- How does linear regression differ from logistic regression?\n",
    "- Why is logistic regression better at modeling a binary outcome?\n",
    "- What are some advantages and disadvantages of logistic regression?"
   ]
  },
  {
   "cell_type": "markdown",
   "metadata": {},
   "source": [
    "## Part III. Evaluation Metrics \n",
    "- What are precision and recall?\n",
    "- How to evaluate a logistic regression model?\n",
    "- What is roc auc curve?\n",
    "- What is class imbalance and how do we deal with it?"
   ]
  },
  {
   "cell_type": "markdown",
   "metadata": {},
   "source": [
    "<img src = 'confusion_matrix.png' width = 300>"
   ]
  },
  {
   "cell_type": "code",
   "execution_count": null,
   "metadata": {},
   "outputs": [],
   "source": [
    "### calculate precision here\n"
   ]
  },
  {
   "cell_type": "code",
   "execution_count": null,
   "metadata": {},
   "outputs": [],
   "source": [
    "### calculate recall here\n"
   ]
  },
  {
   "cell_type": "code",
   "execution_count": null,
   "metadata": {},
   "outputs": [],
   "source": [
    "### calculate F1 score here\n"
   ]
  },
  {
   "cell_type": "markdown",
   "metadata": {},
   "source": [
    "**Explain which model below has the best performance based on ROC-AUC curve? Why?**"
   ]
  },
  {
   "cell_type": "markdown",
   "metadata": {},
   "source": [
    "<img src='roc_auc.png' width = 400>"
   ]
  },
  {
   "cell_type": "markdown",
   "metadata": {},
   "source": [
    "### Class Imbalance\n",
    "<img src = 'imbalanced.png' wid = 300>"
   ]
  },
  {
   "cell_type": "code",
   "execution_count": null,
   "metadata": {},
   "outputs": [],
   "source": [
    "### what problem would it cause? "
   ]
  },
  {
   "cell_type": "code",
   "execution_count": null,
   "metadata": {},
   "outputs": [],
   "source": [
    "### How to remedy it?"
   ]
  },
  {
   "cell_type": "markdown",
   "metadata": {},
   "source": [
    "### Solution 1 - Resampling\n",
    "<img src = 'resampling.png'>"
   ]
  },
  {
   "cell_type": "markdown",
   "metadata": {},
   "source": [
    "#### Solution 2 - Smote\n",
    "<img src = 'smote.png'>"
   ]
  },
  {
   "cell_type": "markdown",
   "metadata": {},
   "source": [
    "#### Solution 3 - Tomek Link \n",
    "<img src = 'tomek.png'>"
   ]
  },
  {
   "cell_type": "markdown",
   "metadata": {},
   "source": [
    "## Part III. Decision Trees\n",
    "- Build trees with the sklearn machine learning framework"
   ]
  },
  {
   "cell_type": "code",
   "execution_count": null,
   "metadata": {
    "scrolled": true
   },
   "outputs": [],
   "source": [
    "# import the dataset and set up predictors and target\n",
    "titanic = sns.load_dataset('titanic')"
   ]
  },
  {
   "cell_type": "code",
   "execution_count": null,
   "metadata": {},
   "outputs": [],
   "source": [
    "# define x and y \n",
    "y = titanic['survived']\n",
    "X = titanic[['pclass', 'sex', 'age', 'sibsp', 'parch', 'fare',\n",
    "     'adult_male']]"
   ]
  },
  {
   "cell_type": "code",
   "execution_count": null,
   "metadata": {
    "scrolled": true
   },
   "outputs": [],
   "source": [
    "# fill the age columns missing value with mean \n"
   ]
  },
  {
   "cell_type": "code",
   "execution_count": null,
   "metadata": {},
   "outputs": [],
   "source": [
    "# Train test split\n",
    "from sklearn.model_selection import train_test_split\n"
   ]
  },
  {
   "cell_type": "code",
   "execution_count": null,
   "metadata": {},
   "outputs": [],
   "source": [
    "# fit the tree\n",
    "from sklearn.tree import DecisionTreeClassifier\n"
   ]
  },
  {
   "cell_type": "code",
   "execution_count": null,
   "metadata": {},
   "outputs": [],
   "source": [
    "# test the tree \n"
   ]
  },
  {
   "cell_type": "code",
   "execution_count": null,
   "metadata": {},
   "outputs": [],
   "source": [
    "# generate prediction and output metric (use accuracy)\n",
    "from sklearn.metrics import accuracy_score\n",
    "acc = accuracy_score(y_test, pred)\n",
    "print(acc)"
   ]
  },
  {
   "cell_type": "code",
   "execution_count": null,
   "metadata": {},
   "outputs": [],
   "source": [
    "# how did our tree do? did it perform well?\n",
    "\n",
    "## hint: think about baseline model\n"
   ]
  },
  {
   "cell_type": "code",
   "execution_count": null,
   "metadata": {},
   "outputs": [],
   "source": []
  }
 ],
 "metadata": {
  "kernelspec": {
   "display_name": "Python 3",
   "language": "python",
   "name": "python3"
  },
  "language_info": {
   "codemirror_mode": {
    "name": "ipython",
    "version": 3
   },
   "file_extension": ".py",
   "mimetype": "text/x-python",
   "name": "python",
   "nbconvert_exporter": "python",
   "pygments_lexer": "ipython3",
   "version": "3.7.3"
  }
 },
 "nbformat": 4,
 "nbformat_minor": 2
}
