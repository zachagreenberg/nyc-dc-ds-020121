{
 "cells": [
  {
   "cell_type": "markdown",
   "metadata": {
    "toc": true
   },
   "source": [
    "<h1>Table of Contents<span class=\"tocSkip\"></span></h1>\n",
    "<div class=\"toc\"><ul class=\"toc-item\"><li><span><a href=\"#Agenda\" data-toc-modified-id=\"Agenda-1\"><span class=\"toc-item-num\">1&nbsp;&nbsp;</span>Agenda</a></span></li><li><span><a href=\"#Let's-Review\" data-toc-modified-id=\"Let's-Review-2\"><span class=\"toc-item-num\">2&nbsp;&nbsp;</span>Let's Review</a></span><ul class=\"toc-item\"><li><span><a href=\"#Defining-a-Class\" data-toc-modified-id=\"Defining-a-Class-2.1\"><span class=\"toc-item-num\">2.1&nbsp;&nbsp;</span>Defining a Class</a></span></li><li><span><a href=\"#Instantiating-Objects\" data-toc-modified-id=\"Instantiating-Objects-2.2\"><span class=\"toc-item-num\">2.2&nbsp;&nbsp;</span>Instantiating Objects</a></span></li><li><span><a href=\"#Attibutes--of-an-Object\" data-toc-modified-id=\"Attibutes--of-an-Object-2.3\"><span class=\"toc-item-num\">2.3&nbsp;&nbsp;</span>Attibutes  of an Object</a></span><ul class=\"toc-item\"><li><span><a href=\"#Making-Improvements\" data-toc-modified-id=\"Making-Improvements-2.3.1\"><span class=\"toc-item-num\">2.3.1&nbsp;&nbsp;</span>Making Improvements</a></span><ul class=\"toc-item\"><li><span><a href=\"#🧠-Knowledge-Check\" data-toc-modified-id=\"🧠-Knowledge-Check-2.3.1.1\"><span class=\"toc-item-num\">2.3.1.1&nbsp;&nbsp;</span>🧠 Knowledge Check</a></span></li></ul></li><li><span><a href=\"#Robot-Override!!!\" data-toc-modified-id=\"Robot-Override!!!-2.3.2\"><span class=\"toc-item-num\">2.3.2&nbsp;&nbsp;</span>Robot Override!!!</a></span></li></ul></li><li><span><a href=\"#How-is-This-Useful?\" data-toc-modified-id=\"How-is-This-Useful?-2.4\"><span class=\"toc-item-num\">2.4&nbsp;&nbsp;</span>How is This Useful?</a></span></li></ul></li><li><span><a href=\"#Methods:-Who-me?-Knowing-yourSELF\" data-toc-modified-id=\"Methods:-Who-me?-Knowing-yourSELF-3\"><span class=\"toc-item-num\">3&nbsp;&nbsp;</span>Methods: Who me? Knowing yourSELF</a></span><ul class=\"toc-item\"><li><span><a href=\"#Magic-Methods\" data-toc-modified-id=\"Magic-Methods-3.1\"><span class=\"toc-item-num\">3.1&nbsp;&nbsp;</span>Magic Methods</a></span></li><li><span><a href=\"#*args-and-**kwargs\" data-toc-modified-id=\"*args-and-**kwargs-3.2\"><span class=\"toc-item-num\">3.2&nbsp;&nbsp;</span><code>*args</code> and <code>**kwargs</code></a></span><ul class=\"toc-item\"><li><span><a href=\"#*-Operator:-*args\" data-toc-modified-id=\"*-Operator:-*args-3.2.1\"><span class=\"toc-item-num\">3.2.1&nbsp;&nbsp;</span><code>*</code> Operator: <code>*args</code></a></span></li><li><span><a href=\"#**-Operator:-*kwargs\" data-toc-modified-id=\"**-Operator:-*kwargs-3.2.2\"><span class=\"toc-item-num\">3.2.2&nbsp;&nbsp;</span><code>**</code> Operator: <code>*kwargs</code></a></span></li></ul></li><li><span><a href=\"#🧠-Knowledge-Check\" data-toc-modified-id=\"🧠-Knowledge-Check-3.3\"><span class=\"toc-item-num\">3.3&nbsp;&nbsp;</span>🧠 Knowledge Check</a></span></li></ul></li><li><span><a href=\"#Overview-of-Inheritance\" data-toc-modified-id=\"Overview-of-Inheritance-4\"><span class=\"toc-item-num\">4&nbsp;&nbsp;</span>Overview of Inheritance</a></span><ul class=\"toc-item\"><li><span><a href=\"#Motivation:-So-What's-the-Benefit?\" data-toc-modified-id=\"Motivation:-So-What's-the-Benefit?-4.1\"><span class=\"toc-item-num\">4.1&nbsp;&nbsp;</span>Motivation: So What's the Benefit?</a></span></li><li><span><a href=\"#Garbage-Bot\" data-toc-modified-id=\"Garbage-Bot-4.2\"><span class=\"toc-item-num\">4.2&nbsp;&nbsp;</span>Garbage Bot</a></span><ul class=\"toc-item\"><li><span><a href=\"#Inherit-the-Robot-Class\" data-toc-modified-id=\"Inherit-the-Robot-Class-4.2.1\"><span class=\"toc-item-num\">4.2.1&nbsp;&nbsp;</span>Inherit the <code>Robot</code> Class</a></span></li><li><span><a href=\"#Give-It-a-Battery!\" data-toc-modified-id=\"Give-It-a-Battery!-4.2.2\"><span class=\"toc-item-num\">4.2.2&nbsp;&nbsp;</span>Give It a Battery!</a></span></li><li><span><a href=\"#Modifying-the-speak()-method\" data-toc-modified-id=\"Modifying-the-speak()-method-4.2.3\"><span class=\"toc-item-num\">4.2.3&nbsp;&nbsp;</span>Modifying the <code>speak()</code> method</a></span></li><li><span><a href=\"#Enable-Recharging\" data-toc-modified-id=\"Enable-Recharging-4.2.4\"><span class=\"toc-item-num\">4.2.4&nbsp;&nbsp;</span>Enable Recharging</a></span></li></ul></li></ul></li><li><span><a href=\"#Important-Data-Science-Tools-Through-the-Lens-of-Objects:\" data-toc-modified-id=\"Important-Data-Science-Tools-Through-the-Lens-of-Objects:-5\"><span class=\"toc-item-num\">5&nbsp;&nbsp;</span>Important Data Science Tools Through the Lens of Objects:</a></span><ul class=\"toc-item\"><li><span><a href=\"#StandardScaler\" data-toc-modified-id=\"StandardScaler-5.1\"><span class=\"toc-item-num\">5.1&nbsp;&nbsp;</span><code>StandardScaler</code></a></span><ul class=\"toc-item\"><li><span><a href=\"#Observing-Learned-Attributes\" data-toc-modified-id=\"Observing-Learned-Attributes-5.1.1\"><span class=\"toc-item-num\">5.1.1&nbsp;&nbsp;</span>Observing Learned Attributes</a></span><ul class=\"toc-item\"><li><span><a href=\"#🧠-Knowledge-Check\" data-toc-modified-id=\"🧠-Knowledge-Check-5.1.1.1\"><span class=\"toc-item-num\">5.1.1.1&nbsp;&nbsp;</span>🧠 Knowledge Check</a></span></li></ul></li><li><span><a href=\"#Transforming-an-Array-of-Numbers\" data-toc-modified-id=\"Transforming-an-Array-of-Numbers-5.1.2\"><span class=\"toc-item-num\">5.1.2&nbsp;&nbsp;</span>Transforming an Array of Numbers</a></span></li><li><span><a href=\"#Transforming-a-DataFrame\" data-toc-modified-id=\"Transforming-a-DataFrame-5.1.3\"><span class=\"toc-item-num\">5.1.3&nbsp;&nbsp;</span>Transforming a DataFrame</a></span></li><li><span><a href=\"#Exercise\" data-toc-modified-id=\"Exercise-5.1.4\"><span class=\"toc-item-num\">5.1.4&nbsp;&nbsp;</span>Exercise</a></span></li></ul></li></ul></li><li><span><a href=\"#Level-Up\" data-toc-modified-id=\"Level-Up-6\"><span class=\"toc-item-num\">6&nbsp;&nbsp;</span>Level Up</a></span><ul class=\"toc-item\"><li><span><a href=\"#Setters,-Getters,-and-Using-property\" data-toc-modified-id=\"Setters,-Getters,-and-Using-property-6.1\"><span class=\"toc-item-num\">6.1&nbsp;&nbsp;</span>Setters, Getters, and Using <code>property</code></a></span></li></ul></li></ul></div>"
   ]
  },
  {
   "cell_type": "markdown",
   "metadata": {},
   "source": [
    "![fvo](https://cdn.educba.com/academy/wp-content/uploads/2018/07/Functional-Programming-vs-OOP-1.png)"
   ]
  },
  {
   "cell_type": "markdown",
   "metadata": {},
   "source": [
    "# Object-Oriented Programming"
   ]
  },
  {
   "cell_type": "code",
   "execution_count": null,
   "metadata": {},
   "outputs": [],
   "source": [
    "from sklearn.preprocessing import StandardScaler\n",
    "import numpy as np\n",
    "import pandas as pd\n",
    "from sklearn.preprocessing import OneHotEncoder\n",
    "from sklearn.datasets import make_regression"
   ]
  },
  {
   "cell_type": "markdown",
   "metadata": {
    "heading_collapsed": true
   },
   "source": [
    "## Agenda"
   ]
  },
  {
   "cell_type": "markdown",
   "metadata": {
    "hidden": true
   },
   "source": [
    "SWBAT:\n",
    "\n",
    "- Explain the different types of methods available for Python classes\n",
    "- Explain the notion of inheritance and how it's useful\n",
    "- Describe how the object structure is used in `sklearn` tools like `StandardScaler`\n",
    "- Describe and use the single-asterisk (`*args`) and double-asterisk (`**kwargs`) functionality in Python"
   ]
  },
  {
   "cell_type": "markdown",
   "metadata": {
    "heading_collapsed": true
   },
   "source": [
    "## Let's Review"
   ]
  },
  {
   "cell_type": "markdown",
   "metadata": {
    "heading_collapsed": true,
    "hidden": true
   },
   "source": [
    "### Defining a Class"
   ]
  },
  {
   "cell_type": "markdown",
   "metadata": {
    "hidden": true
   },
   "source": [
    "Recall every class is like a **blueprint** or **mold**"
   ]
  },
  {
   "cell_type": "markdown",
   "metadata": {
    "hidden": true
   },
   "source": [
    "![blueprint](img/blueprint.jpeg)"
   ]
  },
  {
   "cell_type": "markdown",
   "metadata": {
    "hidden": true
   },
   "source": [
    "We can define **new** classes of objects altogether by using the keyword `class`:"
   ]
  },
  {
   "cell_type": "code",
   "execution_count": null,
   "metadata": {
    "hidden": true
   },
   "outputs": [],
   "source": [
    "class Robot():\n",
    "  # Essentially a blank template since we never defined any attributes\n",
    "  pass"
   ]
  },
  {
   "cell_type": "markdown",
   "metadata": {
    "heading_collapsed": true,
    "hidden": true
   },
   "source": [
    "### Instantiating Objects"
   ]
  },
  {
   "cell_type": "markdown",
   "metadata": {
    "hidden": true
   },
   "source": [
    "We **instantiate** an **object** using the class."
   ]
  },
  {
   "cell_type": "code",
   "execution_count": null,
   "metadata": {
    "hidden": true
   },
   "outputs": [],
   "source": [
    "# Give it life!\n",
    "my_robot = Robot()"
   ]
  },
  {
   "cell_type": "markdown",
   "metadata": {
    "heading_collapsed": true,
    "hidden": true
   },
   "source": [
    "### Attibutes  of an Object "
   ]
  },
  {
   "cell_type": "markdown",
   "metadata": {
    "hidden": true
   },
   "source": [
    "We gave it **attributes** using dot notation"
   ]
  },
  {
   "cell_type": "code",
   "execution_count": null,
   "metadata": {
    "hidden": true
   },
   "outputs": [],
   "source": [
    "my_robot.name = 'Wall-E'\n",
    "my_robot.height = 100  # cm"
   ]
  },
  {
   "cell_type": "code",
   "execution_count": null,
   "metadata": {
    "hidden": true
   },
   "outputs": [],
   "source": [
    "# It lives!!!!!\n",
    "print(my_robot.name, my_robot.height)"
   ]
  },
  {
   "cell_type": "code",
   "execution_count": null,
   "metadata": {
    "hidden": true
   },
   "outputs": [],
   "source": [
    "# Here's another bot!\n",
    "your_robot = Robot()\n",
    "your_robot.name = 'Rob'\n",
    "your_robot.height = 200 # cm"
   ]
  },
  {
   "cell_type": "code",
   "execution_count": null,
   "metadata": {
    "hidden": true
   },
   "outputs": [],
   "source": [
    "# Uh oh, we didn't give it this attribute\n",
    "try:\n",
    "    print(my_robot.purpose)\n",
    "except Exception as err:\n",
    "    print(err)"
   ]
  },
  {
   "cell_type": "markdown",
   "metadata": {
    "heading_collapsed": true,
    "hidden": true
   },
   "source": [
    "#### Making Improvements"
   ]
  },
  {
   "cell_type": "markdown",
   "metadata": {
    "hidden": true
   },
   "source": [
    "It'd be great to give some default parameters that instances should have"
   ]
  },
  {
   "cell_type": "code",
   "execution_count": null,
   "metadata": {
    "hidden": true
   },
   "outputs": [],
   "source": [
    "class Robot():\n",
    "    # All robots should love humans\n",
    "    purpose = 'To love humans'\n",
    "    name = None"
   ]
  },
  {
   "cell_type": "code",
   "execution_count": null,
   "metadata": {
    "hidden": true
   },
   "outputs": [],
   "source": [
    "# Give them life!\n",
    "my_robot = Robot()\n",
    "my_robot.name = 'Wall-E 2.0'\n",
    "my_robot.height = 100  # cm\n",
    "\n",
    "your_robot = Robot()\n",
    "your_robot.height = 200 # cm"
   ]
  },
  {
   "cell_type": "code",
   "execution_count": null,
   "metadata": {
    "hidden": true
   },
   "outputs": [],
   "source": [
    "print('What is your name?')\n",
    "print(my_robot.name)\n",
    "print()\n",
    "print('What is your purpose?')\n",
    "print(my_robot.purpose)"
   ]
  },
  {
   "cell_type": "markdown",
   "metadata": {
    "heading_collapsed": true,
    "hidden": true
   },
   "source": [
    "##### 🧠 Knowledge Check"
   ]
  },
  {
   "cell_type": "markdown",
   "metadata": {
    "hidden": true
   },
   "source": [
    "What should the code below print?"
   ]
  },
  {
   "cell_type": "code",
   "execution_count": null,
   "metadata": {
    "hidden": true
   },
   "outputs": [],
   "source": [
    "print(your_robot.name)\n",
    "print(your_robot.purpose)\n",
    "print(your_robot.height)"
   ]
  },
  {
   "cell_type": "markdown",
   "metadata": {
    "heading_collapsed": true,
    "hidden": true
   },
   "source": [
    "#### Robot Override!!!"
   ]
  },
  {
   "cell_type": "code",
   "execution_count": null,
   "metadata": {
    "hidden": true
   },
   "outputs": [],
   "source": [
    "# Rogue robot!!!\n",
    "evil_robot = Robot()\n",
    "evil_robot.name = 'Bender'\n",
    "evil_robot.purpose = 'TO KILL ALL HUMANS!!!'"
   ]
  },
  {
   "cell_type": "code",
   "execution_count": null,
   "metadata": {
    "hidden": true
   },
   "outputs": [],
   "source": [
    "print('What is your name and your purpose?\\n')\n",
    "print(f'My name is {evil_robot.name} and my purpose is {evil_robot.purpose}')"
   ]
  },
  {
   "cell_type": "markdown",
   "metadata": {
    "heading_collapsed": true,
    "hidden": true
   },
   "source": [
    "### How is This Useful?"
   ]
  },
  {
   "cell_type": "markdown",
   "metadata": {
    "hidden": true
   },
   "source": [
    "Abstraction!!"
   ]
  },
  {
   "cell_type": "code",
   "execution_count": null,
   "metadata": {
    "hidden": true
   },
   "outputs": [],
   "source": [
    "my_robot = Robot()\n",
    "my_robot.name = 'Wall-E'\n",
    "my_robot.height = 100  # cm\n",
    "\n",
    "your_robot = Robot()\n",
    "your_robot.name = 'Rob'\n",
    "your_robot.height = 200 # cm"
   ]
  },
  {
   "cell_type": "code",
   "execution_count": null,
   "metadata": {
    "hidden": true
   },
   "outputs": [],
   "source": [
    "# Who's taller?\n",
    "# Tie defaults to my bot 😁\n",
    "if my_robot.height >= your_robot.height:\n",
    "    tall_bot = my_robot\n",
    "else:\n",
    "    tall_bot = your_robot\n",
    "\n",
    "    \n",
    "# Alternative code\n",
    "# tall_bot = my_robot if my_robot.height >= your_robot.height else your_robot"
   ]
  },
  {
   "cell_type": "code",
   "execution_count": null,
   "metadata": {
    "hidden": true
   },
   "outputs": [],
   "source": [
    "print(f'{tall_bot.name} is the tallest bot at {tall_bot.height} cm')"
   ]
  },
  {
   "cell_type": "markdown",
   "metadata": {
    "heading_collapsed": true
   },
   "source": [
    "## Methods: Who me? Knowing yourSELF"
   ]
  },
  {
   "cell_type": "markdown",
   "metadata": {
    "hidden": true
   },
   "source": [
    "We can also write **methods** that are associated with each class.  \n",
    "A method is just a function associated with a class."
   ]
  },
  {
   "cell_type": "code",
   "execution_count": null,
   "metadata": {
    "hidden": true
   },
   "outputs": [],
   "source": [
    "class Robot():\n",
    "    '''(Look a docstring! Some info on how this class works.)'''\n",
    "    \n",
    "    ## These variables will belong to the Object\n",
    "    name = None\n",
    "    material = 'Metal'\n",
    "    is_electric = True\n",
    "    num_of_arms = 2\n",
    "\n",
    "    ## These methods belong to the Object (its \"self\")\n",
    "    \n",
    "    # Method that takes some inputs and returns like a normal function\n",
    "    def add_numbers(self, num0, num1):\n",
    "        total = num0 + num1\n",
    "        return total\n",
    "\n",
    "    # No parameters; uses attributes of the Object\n",
    "    def speak(self):\n",
    "        print(f'I am {self.name}!')\n",
    "        \n",
    "    # Modifies the Object\n",
    "    def change_name(self, new_name):\n",
    "        self.name =  new_name"
   ]
  },
  {
   "cell_type": "code",
   "execution_count": null,
   "metadata": {
    "hidden": true
   },
   "outputs": [],
   "source": [
    "walle = Robot()"
   ]
  },
  {
   "cell_type": "code",
   "execution_count": null,
   "metadata": {
    "hidden": true
   },
   "outputs": [],
   "source": [
    "print(f'''\n",
    "name: {walle.name}\n",
    "material: {walle.material}\n",
    "is_electric: {walle.is_electric}\n",
    "num_of_arms: {walle.num_of_arms}\n",
    "''')"
   ]
  },
  {
   "cell_type": "code",
   "execution_count": null,
   "metadata": {
    "hidden": true
   },
   "outputs": [],
   "source": [
    "# Look at those fancy methods the object has\n",
    "walle.speak()\n",
    "walle.add_numbers(100,1)"
   ]
  },
  {
   "cell_type": "code",
   "execution_count": null,
   "metadata": {
    "hidden": true
   },
   "outputs": [],
   "source": [
    "# Let's give this robot an identity\n",
    "walle.change_name(\"Wall-e\")\n",
    "walle.speak()"
   ]
  },
  {
   "cell_type": "markdown",
   "metadata": {
    "hidden": true
   },
   "source": [
    "> tl;dr: `self` is really a reference to the instantiated object"
   ]
  },
  {
   "cell_type": "markdown",
   "metadata": {
    "heading_collapsed": true,
    "hidden": true
   },
   "source": [
    "### Magic Methods"
   ]
  },
  {
   "cell_type": "markdown",
   "metadata": {
    "hidden": true
   },
   "source": [
    "It is common for a class to have magic methods. These are identifiable by the \"dunder\" (i.e. **d**ouble **under**score) prefixes and suffixes, such as `__init__()`. These methods will get called **automatically** as a result of a different call, as we'll see below.\n",
    "\n",
    "For more on these \"magic methods\", see the documentation [here](https://docs.python.org/3/reference/datamodel.html#special-method-names) and this useful tutorial [here](https://www.geeksforgeeks.org/dunder-magic-methods-python/).\n",
    "\n",
    "When we create an instance of a class, Python invokes the __init__ to initialize the object.  Let's add __init__ to our class."
   ]
  },
  {
   "cell_type": "code",
   "execution_count": null,
   "metadata": {
    "hidden": true
   },
   "outputs": [],
   "source": [
    "class Robot():\n",
    "    '''New and improved robot!'''\n",
    "    # We can still define attributes here\n",
    "    purpose = 'To love humans'\n",
    "    \n",
    "    # We'd like to start off with some initial attributes\n",
    "    def __init__(self, first_name='Generic', last_name=''):\n",
    "        # Clean the names of extra spaces at beginning & end\n",
    "        first_name = first_name.strip()\n",
    "        last_name = last_name.strip()    \n",
    "        # Setting attributes\n",
    "        self._first_name = first_name\n",
    "        self._last_name = last_name\n",
    "        # Combine first and last names and remove any extra spacing\n",
    "        self.name = ' '.join([first_name,last_name]).strip()\n",
    "\n",
    "    # We can define how it's string representation!\n",
    "    def __str__(self):\n",
    "        obj_str_rep = f'Robot: \"{self.name}\"'\n",
    "        return obj_str_rep\n"
   ]
  },
  {
   "cell_type": "code",
   "execution_count": null,
   "metadata": {
    "hidden": true
   },
   "outputs": [],
   "source": [
    "walle = Robot('Wall-E')\n",
    "bender = Robot('Bender', 'Rodriguez')"
   ]
  },
  {
   "cell_type": "code",
   "execution_count": null,
   "metadata": {
    "hidden": true
   },
   "outputs": [],
   "source": [
    "# Now we can see the string representation!\n",
    "print(walle)\n",
    "print(bender)"
   ]
  },
  {
   "cell_type": "code",
   "execution_count": null,
   "metadata": {
    "hidden": true
   },
   "outputs": [],
   "source": [
    "print(f'This is `{str(walle)}`')"
   ]
  },
  {
   "cell_type": "markdown",
   "metadata": {
    "hidden": true
   },
   "source": [
    "> **ASIDE**\n",
    ">\n",
    "> You might notice that if you change the `first_name` or `last_name` property of the object, the `name` property won't update as might be desired.\n",
    "> We can actually get this functionality using _setters_ and _getters_ in Python. This is getting a bit deeper into OOP so we leave this a ***[Level Up](#S#Setters,-Getters,-and-Using-property)*** discussion towards the end of the notebook."
   ]
  },
  {
   "cell_type": "markdown",
   "metadata": {
    "heading_collapsed": true,
    "hidden": true
   },
   "source": [
    "### `*args` and `**kwargs`"
   ]
  },
  {
   "cell_type": "markdown",
   "metadata": {
    "hidden": true
   },
   "source": [
    "There are times when we want to have more flexibility in how we pass parameters to our functions/methods.\n",
    "\n",
    "There's a whole lot we can discuss on this (checkout the [argument](https://docs.python.org/3/glossary.html#term-argument) & [parameter](https://docs.python.org/3/glossary.html#term-parameter) documentation for more details), but specifically we'll briefly discuss using `*args` and `**kwargs` in our functions/methods"
   ]
  },
  {
   "cell_type": "markdown",
   "metadata": {
    "hidden": true
   },
   "source": [
    "> **NOTE**\n",
    ">\n",
    "> `*args` and `**kwargs` can be used in methods (functions associated with classes & objects) or in plain functions"
   ]
  },
  {
   "cell_type": "markdown",
   "metadata": {
    "heading_collapsed": true,
    "hidden": true
   },
   "source": [
    "#### `*` Operator: `*args`"
   ]
  },
  {
   "cell_type": "markdown",
   "metadata": {
    "hidden": true
   },
   "source": [
    "The single-asterisk operator `*` can be used to unpack iterables."
   ]
  },
  {
   "cell_type": "markdown",
   "metadata": {
    "hidden": true
   },
   "source": [
    "Suppose I am building a function that will return the product of inputted numbers. I might start with this:"
   ]
  },
  {
   "cell_type": "code",
   "execution_count": null,
   "metadata": {
    "hidden": true
   },
   "outputs": [],
   "source": [
    "def product(factor1, factor2):\n",
    "    out = factor1 * factor2\n",
    "    return out"
   ]
  },
  {
   "cell_type": "markdown",
   "metadata": {
    "hidden": true
   },
   "source": [
    "But if I want the product of *three* numbers this function won't do:\n",
    "\n",
    "```python\n",
    "product(3, 5, 6)\n",
    "```"
   ]
  },
  {
   "cell_type": "markdown",
   "metadata": {
    "hidden": true
   },
   "source": [
    "A nice way around this problem is to use the `*` operator."
   ]
  },
  {
   "cell_type": "code",
   "execution_count": null,
   "metadata": {
    "hidden": true
   },
   "outputs": [],
   "source": [
    "def product_better(*factors):\n",
    "    out = 1\n",
    "    for f in factors:\n",
    "        out *= f\n",
    "    return out"
   ]
  },
  {
   "cell_type": "code",
   "execution_count": null,
   "metadata": {
    "hidden": true
   },
   "outputs": [],
   "source": [
    "product_better(2)"
   ]
  },
  {
   "cell_type": "code",
   "execution_count": null,
   "metadata": {
    "hidden": true
   },
   "outputs": [],
   "source": [
    "product_better(2, 4)"
   ]
  },
  {
   "cell_type": "code",
   "execution_count": null,
   "metadata": {
    "hidden": true
   },
   "outputs": [],
   "source": [
    "product_better(2, 4, 8, 16, 32)"
   ]
  },
  {
   "cell_type": "markdown",
   "metadata": {
    "hidden": true
   },
   "source": [
    "We can also use this notation to unpack an iterable to a function and will use each value as a _positional parameter_."
   ]
  },
  {
   "cell_type": "code",
   "execution_count": null,
   "metadata": {
    "hidden": true
   },
   "outputs": [],
   "source": [
    "my_list_of_numbers = [1,2,3,4,5]\n",
    "\n",
    "print(*my_list_of_numbers)\n",
    "product_better(*my_list_of_numbers)"
   ]
  },
  {
   "cell_type": "code",
   "execution_count": null,
   "metadata": {
    "hidden": true
   },
   "outputs": [],
   "source": [
    "# Works for other iterables too!\n",
    "my_range = range(2,10,2)\n",
    "\n",
    "print(*my_range)\n",
    "product_better(*my_range)"
   ]
  },
  {
   "cell_type": "markdown",
   "metadata": {
    "hidden": true
   },
   "source": [
    "> **Note on Notation**\n",
    ">\n",
    "> Though we can use this any parameter name with the `*` operator, convention is to use `*args` (short for \"arguments\")."
   ]
  },
  {
   "cell_type": "markdown",
   "metadata": {
    "heading_collapsed": true,
    "hidden": true
   },
   "source": [
    "#### `**` Operator: `*kwargs`"
   ]
  },
  {
   "cell_type": "markdown",
   "metadata": {
    "hidden": true
   },
   "source": [
    "The double-asterisk operator  `∗∗`  is used for _keyword arguments_, i.e. _named arguments_."
   ]
  },
  {
   "cell_type": "code",
   "execution_count": null,
   "metadata": {
    "hidden": true
   },
   "outputs": [],
   "source": [
    "def hello_to_the_office(**kwargs):\n",
    "    hello_strs = []\n",
    "    # Iterate through each item of kwargs (a dictionary!)\n",
    "    for position_title, name in kwargs.items():\n",
    "        # Note that the keys are going to be treated as a string\n",
    "        hello_strs.append(f'Hi {name}, the {position_title.title()}!')\n",
    "    \n",
    "    print('\\n'.join(hello_strs))"
   ]
  },
  {
   "cell_type": "code",
   "execution_count": null,
   "metadata": {
    "hidden": true
   },
   "outputs": [],
   "source": [
    "hello_to_the_office(\n",
    "    regional_manager='Micael',\n",
    "    office_administrato='Pam',\n",
    "    regional_co_manager='Jim',\n",
    "    asssistant_to_the_regional_manager='Dwight'\n",
    ")"
   ]
  },
  {
   "cell_type": "markdown",
   "metadata": {
    "hidden": true
   },
   "source": [
    "Here's a more complicated function that also uses `**kwargs`"
   ]
  },
  {
   "cell_type": "code",
   "execution_count": null,
   "metadata": {
    "hidden": true
   },
   "outputs": [],
   "source": [
    "def report(to_print=True, **kwargs):\n",
    "    \n",
    "    # Effectively, kwargs is a dictionary\n",
    "    the_keys = ';'.join(kwargs.keys())\n",
    "    the_values = kwargs.values()\n",
    "    \n",
    "    # Note the safe way of getting a the values\n",
    "    if kwargs.get('is_bot'):\n",
    "        print('ROBOT ALERT!!')\n",
    "    \n",
    "    if to_print:\n",
    "        print(f'''\n",
    "            The Keys:\n",
    "                {the_keys}\n",
    "            The Values:\n",
    "                {the_values}\n",
    "        ''')\n",
    "    else:\n",
    "        return the_keys, the_values"
   ]
  },
  {
   "cell_type": "code",
   "execution_count": null,
   "metadata": {
    "hidden": true
   },
   "outputs": [],
   "source": [
    "# Note that these arguments were never defined in the report() function\n",
    "report(name='Fry', birth_year=1985)"
   ]
  },
  {
   "cell_type": "code",
   "execution_count": null,
   "metadata": {
    "hidden": true
   },
   "outputs": [],
   "source": [
    "report(name='Bender', titanium_level=0.4, birth_year=2996, is_bot=True)"
   ]
  },
  {
   "cell_type": "markdown",
   "metadata": {
    "hidden": true
   },
   "source": [
    "We can also use the `**` operator to unpack a dictionary to a function as _named parameters_."
   ]
  },
  {
   "cell_type": "code",
   "execution_count": null,
   "metadata": {
    "hidden": true
   },
   "outputs": [],
   "source": [
    "def named_paramter_function(param0, param1, default=10):\n",
    "    return (param0, param1, default)"
   ]
  },
  {
   "cell_type": "code",
   "execution_count": null,
   "metadata": {
    "hidden": true
   },
   "outputs": [],
   "source": [
    "my_params = {'param0':'Zero', 'param1':10000, 'default':False}\n",
    "\n",
    "named_paramter_function(**my_params)"
   ]
  },
  {
   "cell_type": "markdown",
   "metadata": {
    "heading_collapsed": true,
    "hidden": true
   },
   "source": [
    "### 🧠 Knowledge Check"
   ]
  },
  {
   "cell_type": "markdown",
   "metadata": {
    "hidden": true
   },
   "source": [
    "Let's take inspiration from the `Robot` class and build one that can charge! 🤖⚡️"
   ]
  },
  {
   "cell_type": "markdown",
   "metadata": {
    "hidden": true
   },
   "source": [
    "Complete the two functions `recharge()` and `say_battery_status()` so the bot's battery can recharge and state how charged it is. You may need to add some attributes in the class.\n",
    "\n",
    "Then you can test it out with the code below!"
   ]
  },
  {
   "cell_type": "code",
   "execution_count": null,
   "metadata": {
    "hidden": true
   },
   "outputs": [],
   "source": [
    "# STUDENT'S CODE HERE - DEFINE A CLASS\n",
    "\n",
    "class YourRobot():\n",
    "    # Add your attributes for when object is instantiated (here or in __init__)\n",
    "    def __init__(self):\n",
    "        # Every robot has to have a name\n",
    "        self.name = None\n",
    "        # What about a battery?\n",
    "    \n",
    "    def say_my_name(self):\n",
    "        print(self.name)\n",
    "    \n",
    "    # YOUR CODE for two methods!\n",
    "    def recharge(self): # You can add your own arguments too!\n",
    "        '''Recharge the robot's battery'''\n",
    "        pass\n",
    "    \n",
    "    def say_battery_status(self):\n",
    "        '''Robot says (prints out) battery status'''\n",
    "        pass"
   ]
  },
  {
   "cell_type": "markdown",
   "metadata": {
    "hidden": true
   },
   "source": [
    "Test your code from above!! 🤖"
   ]
  },
  {
   "cell_type": "code",
   "execution_count": null,
   "metadata": {
    "hidden": true
   },
   "outputs": [],
   "source": [
    "bot = YourRobot() # Set parameters as needed"
   ]
  },
  {
   "cell_type": "code",
   "execution_count": null,
   "metadata": {
    "hidden": true
   },
   "outputs": [],
   "source": [
    "# Says their name\n",
    "bot.say_my_name()\n",
    "# What's the bot's current battery?\n",
    "bot.say_battery_status()# Set parameters as needed"
   ]
  },
  {
   "cell_type": "code",
   "execution_count": null,
   "metadata": {
    "hidden": true
   },
   "outputs": [],
   "source": [
    "# Recharge the battery\n",
    "bot.recharge() # Set parameters as needed\n",
    "bot.say_battery_status()# Set parameters as needed"
   ]
  },
  {
   "cell_type": "markdown",
   "metadata": {
    "hidden": true
   },
   "source": [
    "<details>\n",
    "    <summary>My implementation (if you get stuck)</summary>\n",
    "    <pre>\n",
    "        class YourRobot():\n",
    "            def __init__(self, name='?', initial_charge=0.5):\n",
    "                # Every robot has to have a name\n",
    "                self.name = name\n",
    "                self.battery = initial_charge\n",
    "\n",
    "            def say_my_name(self):\n",
    "                # Speaking runs down the battery!\n",
    "                self.battery -= 0.2\n",
    "                if self.battery < 0: # Battert can't be more dead\n",
    "                    self.battery = 0\n",
    "                print(self.name)\n",
    "\n",
    "            def recharge(self, increment=0.3):\n",
    "                '''Recharge the robot's battery'''\n",
    "                self.battery += increment\n",
    "                # Only allow the battery to get to 100%\n",
    "                if self.battery > 1.0:\n",
    "                    self.battery = 1.0\n",
    "\n",
    "            def say_battery_status(self):\n",
    "                '''Robot says (prints out) battery status'''\n",
    "\n",
    "                if self.battery <= 0:\n",
    "                    print('☠️: Battery dead!')\n",
    "                elif self.battery <= 0.4:\n",
    "                    print(f'Battery running low: {self.battery*100:.1f}%')\n",
    "                else:\n",
    "                    print(f'Battery: {self.battery*100:.1f}%')\n",
    "</pre>\n",
    "</details>"
   ]
  },
  {
   "cell_type": "markdown",
   "metadata": {
    "heading_collapsed": true
   },
   "source": [
    "## Overview of Inheritance"
   ]
  },
  {
   "cell_type": "markdown",
   "metadata": {
    "hidden": true
   },
   "source": [
    "We can also define classes in terms of *other* classes, in which case the new classes **inherit** the attributes and methods from the classes in terms of which they're defined."
   ]
  },
  {
   "cell_type": "markdown",
   "metadata": {
    "heading_collapsed": true,
    "hidden": true
   },
   "source": [
    "### Motivation: So What's the Benefit? "
   ]
  },
  {
   "cell_type": "markdown",
   "metadata": {
    "hidden": true
   },
   "source": [
    "_More abstraction is better_"
   ]
  },
  {
   "cell_type": "markdown",
   "metadata": {
    "hidden": true
   },
   "source": [
    "Take a look at this code below. Look at our hard we've already done:"
   ]
  },
  {
   "cell_type": "code",
   "execution_count": null,
   "metadata": {
    "hidden": true
   },
   "outputs": [],
   "source": [
    "# Look at all that code we wrote... do we have to do it all again...?\n",
    "class Robot():\n",
    "    purpose = 'To love humans'\n",
    "    \n",
    "    # We'd like to start off with some initial attributes\n",
    "    def __init__(self, first_name='?', last_name=''):\n",
    "        # Clean the names of extra spaces at beginning & end\n",
    "        first_name = first_name.strip()\n",
    "        last_name = last_name.strip()    \n",
    "        # Setting attributes\n",
    "        self._first_name = first_name\n",
    "        self._last_name = last_name\n",
    "        # Combine first and last names and remove any extra spacing\n",
    "        self.name = ' '.join([first_name,last_name]).strip()\n",
    "\n",
    "    # We can define how it's string representation!\n",
    "    def __str__(self):\n",
    "        obj_str_rep = f'Robot: \"{self.name}\"'\n",
    "        return obj_str_rep\n",
    "           \n",
    "    def change_name(self, new_name):\n",
    "        self.name =  new_name\n",
    "    \n",
    "    def speak(self):\n",
    "        print(f'I am {self.name}!')"
   ]
  },
  {
   "cell_type": "markdown",
   "metadata": {
    "hidden": true
   },
   "source": [
    "Let's say we want to create a specific class of robots that have to deal with garbage all day. Since it's working all day, it'd be great to have some extra functionality like keeping track of its battery charge. Maybe something like charging a battery and doing certain tasks loses charge.\n",
    "\n",
    "Do we have to copy and paste this and then add our new functionality? Nope! Since we can abstract away the stuff we already did!"
   ]
  },
  {
   "cell_type": "markdown",
   "metadata": {
    "hidden": true
   },
   "source": [
    "Let's make that robot below by _inheriting_ from the base class `Robot`!"
   ]
  },
  {
   "cell_type": "markdown",
   "metadata": {
    "heading_collapsed": true,
    "hidden": true
   },
   "source": [
    "### Garbage Bot"
   ]
  },
  {
   "cell_type": "markdown",
   "metadata": {
    "hidden": true
   },
   "source": [
    "Let's define what we want for this new bot:"
   ]
  },
  {
   "cell_type": "markdown",
   "metadata": {
    "hidden": true
   },
   "source": [
    "- [ ] Keep all the functionality of the original base class\n",
    "- [ ] Have a battery that we can keep an eye on\n",
    "- [ ] Give status of the battery charge\n",
    "- [ ] When it speaks, it loses some charge and gives a battery status update\n",
    "- [ ] Be able charge the battery"
   ]
  },
  {
   "cell_type": "markdown",
   "metadata": {
    "heading_collapsed": true,
    "hidden": true
   },
   "source": [
    "#### Inherit the `Robot` Class"
   ]
  },
  {
   "cell_type": "markdown",
   "metadata": {
    "hidden": true
   },
   "source": [
    "Let's try it out! First, let's pull from the `Robot` class:"
   ]
  },
  {
   "cell_type": "code",
   "execution_count": null,
   "metadata": {
    "hidden": true
   },
   "outputs": [],
   "source": [
    "class GarbageBot(Robot): # Specify the base class(es) we inherit from\n",
    "    '''A robot that takes care of garbage while we're away!'''\n",
    "    pass"
   ]
  },
  {
   "cell_type": "markdown",
   "metadata": {
    "hidden": true
   },
   "source": [
    "Wow... that wasn't very exciting but did it work? Let's test it!"
   ]
  },
  {
   "cell_type": "code",
   "execution_count": null,
   "metadata": {
    "hidden": true
   },
   "outputs": [],
   "source": [
    "walle_bot = GarbageBot('Wall-e')\n",
    "print(walle_bot)\n",
    "walle_bot.speak()"
   ]
  },
  {
   "cell_type": "markdown",
   "metadata": {
    "hidden": true
   },
   "source": [
    "Look at that! We got that functionality for _free_! So we got that first item down!"
   ]
  },
  {
   "cell_type": "markdown",
   "metadata": {
    "hidden": true
   },
   "source": [
    "- [X] Keep all the functionality of the original base class\n",
    "- [ ] Have a battery that we can keep an eye on\n",
    "- [ ] Give status of the battery charge\n",
    "- [ ] When it speaks, it loses some charge and gives a battery status update\n",
    "- [ ] Be able charge the battery"
   ]
  },
  {
   "cell_type": "markdown",
   "metadata": {
    "heading_collapsed": true,
    "hidden": true
   },
   "source": [
    "#### Give It a Battery!"
   ]
  },
  {
   "cell_type": "markdown",
   "metadata": {
    "hidden": true
   },
   "source": [
    "Let's give our class battery and a way to check it!"
   ]
  },
  {
   "cell_type": "markdown",
   "metadata": {
    "hidden": true
   },
   "source": [
    "Since we want to make sure every new `GarbageBot` has a battery, we should modify that `__init__()` method. We can use the [`super()` function](https://docs.python.org/3/library/functions.html#super)!\n",
    "\n",
    "And while we're at it, let's create a method `charge_status()` to let us know what the battery level is."
   ]
  },
  {
   "cell_type": "code",
   "execution_count": null,
   "metadata": {
    "hidden": true
   },
   "outputs": [],
   "source": [
    "class GarbageBot(Robot): # Specify the base class(es) we inherit from\n",
    "    '''A robot that takes care of garbage while we're away!'''\n",
    "    \n",
    "    def __init__(self, first_name, last_name='', initial_charge=60):\n",
    "        # Start with the mold from Robot class\n",
    "        super().__init__(first_name, last_name)\n",
    "        # Note we usually use an underscore before a property to signal this\n",
    "        # is an \"internal use\"\n",
    "        self._battery = initial_charge\n",
    "        \n",
    "    def charge_status(self):\n",
    "        # Default emotional status\n",
    "        emotion = '😆'\n",
    "        if self._battery <= 0:\n",
    "            emotion = '☠️'\n",
    "        elif self._battery <= 30:\n",
    "            emotion = ''\n",
    "        elif self._battery <= 80:\n",
    "            emotion = '😄'\n",
    "\n",
    "        print(f'🔋: {self._battery}% {emotion}')"
   ]
  },
  {
   "cell_type": "code",
   "execution_count": null,
   "metadata": {
    "hidden": true
   },
   "outputs": [],
   "source": [
    "walle_bot = GarbageBot('Wall-e')\n",
    "# Prints its charge status\n",
    "walle_bot.charge_status()\n",
    "# Speaking\n",
    "walle_bot.speak()\n",
    "# Check that status\n",
    "walle_bot.charge_status()"
   ]
  },
  {
   "cell_type": "markdown",
   "metadata": {
    "hidden": true
   },
   "source": [
    "It works! ⚡️\n",
    "\n",
    "It doesn't lose any charge when it speaks but a couple more items off our list!"
   ]
  },
  {
   "cell_type": "markdown",
   "metadata": {
    "hidden": true
   },
   "source": [
    "- [X] Keep all the functionality of the original base class\n",
    "- [X] Have a battery that we can keep an eye on\n",
    "- [X] Give status of the battery charge\n",
    "- [ ] When it speaks, it loses some charge and gives a battery status update\n",
    "- [ ] Be able charge the battery"
   ]
  },
  {
   "cell_type": "markdown",
   "metadata": {
    "heading_collapsed": true,
    "hidden": true
   },
   "source": [
    "#### Modifying the `speak()` method"
   ]
  },
  {
   "cell_type": "markdown",
   "metadata": {
    "hidden": true
   },
   "source": [
    "We want to modify that `speak()` method so that it loses some battery and gives a status. We could just completely overwrite it but let's use that `super()` function to first perform the old way of speaking then give it new functionality!"
   ]
  },
  {
   "cell_type": "code",
   "execution_count": null,
   "metadata": {
    "hidden": true
   },
   "outputs": [],
   "source": [
    "class GarbageBot(Robot): # Specify the base class(es) we inherit from\n",
    "    '''A robot that takes care of garbage while we're away!'''\n",
    "    \n",
    "    def __init__(self, first_name, last_name='', initial_charge=60):\n",
    "        # Start with the mold from Robot class\n",
    "        super().__init__(first_name, last_name)\n",
    "        # Note we usually use an underscore before a property to signal this\n",
    "        # is an \"internal use\"\n",
    "        self._battery = initial_charge\n",
    "        \n",
    "    def charge_status(self):\n",
    "        # Default emotional status\n",
    "        emotion = '😆'\n",
    "        if self._battery <= 0:\n",
    "            emotion = '☠️'\n",
    "        elif self._battery <= 30:\n",
    "            emotion = ''\n",
    "        elif self._battery < 70:\n",
    "            emotion = '😄'\n",
    "\n",
    "        print(f'🔋: {self._battery}% {emotion}')\n",
    "        \n",
    "    def speak(self):\n",
    "        # Still does the old speak function before moving on\n",
    "        super().speak() \n",
    "        ## New functionality - discharge battery some after speaking\n",
    "        self._battery -= 20\n",
    "        if self._battery <= 0: # Don't let it have a \"negative charge\"\n",
    "            self._battery = 0\n",
    "        ## New functionality - print charge status\n",
    "        self.charge_status()"
   ]
  },
  {
   "cell_type": "code",
   "execution_count": null,
   "metadata": {
    "hidden": true
   },
   "outputs": [],
   "source": [
    "walle_bot = GarbageBot('Wall-e')\n",
    "\n",
    "# Speaking - old functionality + new functionality\n",
    "walle_bot.speak()"
   ]
  },
  {
   "cell_type": "markdown",
   "metadata": {
    "hidden": true
   },
   "source": [
    "Another item off the list! One more to go!"
   ]
  },
  {
   "cell_type": "markdown",
   "metadata": {
    "hidden": true
   },
   "source": [
    "- [X] Keep all the functionality of the original base class\n",
    "- [X] Have a battery that we can keep an eye on\n",
    "- [X] Give status of the battery charge\n",
    "- [X] When it speaks, it loses some charge and gives a battery status update\n",
    "- [ ] Be able charge the battery"
   ]
  },
  {
   "cell_type": "markdown",
   "metadata": {
    "heading_collapsed": true,
    "hidden": true
   },
   "source": [
    "#### Enable Recharging"
   ]
  },
  {
   "cell_type": "markdown",
   "metadata": {
    "hidden": true
   },
   "source": [
    "At this point, it should be pretty trivial since we're just adding a new method."
   ]
  },
  {
   "cell_type": "code",
   "execution_count": null,
   "metadata": {
    "hidden": true
   },
   "outputs": [],
   "source": [
    "class GarbageBot(Robot): # Specify the base class(es) we inherit from\n",
    "    '''A robot that takes care of garbage while we're away!'''\n",
    "    \n",
    "    def __init__(self, first_name, last_name='', initial_charge=60):\n",
    "        # Start with the mold from Robot class\n",
    "        super().__init__(first_name, last_name)\n",
    "        # Note we usually use an underscore before a property to signal this\n",
    "        # is an \"internal use\"\n",
    "        self._battery = initial_charge\n",
    "        \n",
    "    def charge_status(self):\n",
    "        # Default emotional status\n",
    "        emotion = '😆'\n",
    "        if self._battery <= 0:\n",
    "            emotion = '☠️'\n",
    "        elif self._battery <= 30:\n",
    "            emotion = ''\n",
    "        elif self._battery < 70:\n",
    "            emotion = '😄'\n",
    "\n",
    "        print(f'🔋: {self._battery}% {emotion}') \n",
    "        \n",
    "    def speak(self):\n",
    "        # Still does the old speak function before moving on\n",
    "        super().speak() \n",
    "        ## New functionality - discharge battery some after speaking\n",
    "        self._battery -= 20\n",
    "        if self._battery <= 0: # Don't let it have a \"negative charge\"\n",
    "            self._battery = 0\n",
    "        ## New functionality - print charge status\n",
    "        self.charge_status()\n",
    "        \n",
    "    def recharge(self, increment=30):\n",
    "        self._battery += increment\n",
    "        # Make sure we never overcharge\n",
    "        if self._battery >= 100:\n",
    "            self._battery = 100"
   ]
  },
  {
   "cell_type": "code",
   "execution_count": null,
   "metadata": {
    "hidden": true
   },
   "outputs": [],
   "source": [
    "walle_bot = GarbageBot('Wall-e')\n",
    "\n",
    "# Speaking - old functionality + new functionality\n",
    "walle_bot.speak()\n",
    "\n",
    "print('Time to charge with solar power ☀️')\n",
    "walle_bot.recharge()\n",
    "walle_bot.charge_status()"
   ]
  },
  {
   "cell_type": "markdown",
   "metadata": {
    "hidden": true
   },
   "source": [
    "And that does it!"
   ]
  },
  {
   "cell_type": "markdown",
   "metadata": {
    "hidden": true
   },
   "source": [
    "- [X] Keep all the functionality of the original base class\n",
    "- [X] Have a battery that we can keep an eye on\n",
    "- [X] Give status of the battery charge\n",
    "- [X] When it speaks, it loses some charge and gives a battery status update\n",
    "- [X] Be able charge the battery"
   ]
  },
  {
   "cell_type": "markdown",
   "metadata": {
    "heading_collapsed": true
   },
   "source": [
    "## Important Data Science Tools Through the Lens of Objects: "
   ]
  },
  {
   "cell_type": "markdown",
   "metadata": {
    "hidden": true
   },
   "source": [
    "We are becomming more and more familiar with a series of methods with names such as `fit()` and `fit_transform()`.\n",
    "\n",
    "After instantiating an instance of a `StandardScaler`, `LinearRegression`, or `OneHotEncoder`, we use `fit()` to learn about the dataset and save what is learned. What is learned is saved as attributes."
   ]
  },
  {
   "cell_type": "markdown",
   "metadata": {
    "heading_collapsed": true,
    "hidden": true
   },
   "source": [
    "### `StandardScaler `"
   ]
  },
  {
   "cell_type": "markdown",
   "metadata": {
    "hidden": true
   },
   "source": [
    "The `StandardScaler` takes a series and, for each element, computes the difference between the element and the mean of the series, and then divides by the standard deviation.\n",
    "\n",
    "$\\Large z = \\frac{x - \\mu}{s}$"
   ]
  },
  {
   "cell_type": "markdown",
   "metadata": {
    "heading_collapsed": true,
    "hidden": true
   },
   "source": [
    "#### Observing Learned Attributes"
   ]
  },
  {
   "cell_type": "markdown",
   "metadata": {
    "hidden": true
   },
   "source": [
    "What attributes and methods are available for a `StandardScaler` object? Let's go back to the code on [GitHub](https://github.com/scikit-learn/scikit-learn/blob/579e7de7f38f9f514ff2b2be049e67b14e723d17/sklearn/preprocessing/_data.py#L577) or in the [documentation](https://scikit-learn.org/stable/modules/generated/sklearn.preprocessing.StandardScaler.html). "
   ]
  },
  {
   "cell_type": "markdown",
   "metadata": {
    "hidden": true
   },
   "source": [
    "> **Note on Notation**\n",
    ">\n",
    "> In Scikit-Learn, attributes that are \"learned\" during the `.fit()` method end with an underscore like `my_scaler.mean_`"
   ]
  },
  {
   "cell_type": "code",
   "execution_count": null,
   "metadata": {
    "hidden": true
   },
   "outputs": [],
   "source": [
    "# Instantiate a standard scaler object\n",
    "my_scaler = StandardScaler()\n",
    "\n",
    "# We can instantiate as many scaler objects as we want\n",
    "other_scaler = StandardScaler()"
   ]
  },
  {
   "cell_type": "code",
   "execution_count": null,
   "metadata": {
    "hidden": true
   },
   "outputs": [],
   "source": [
    "# Should these be the same?\n",
    "my_scaler == other_scaler"
   ]
  },
  {
   "cell_type": "code",
   "execution_count": null,
   "metadata": {
    "hidden": true
   },
   "outputs": [],
   "source": [
    "# Let's create a dataframe with two series\n",
    "np.random.seed(42)\n",
    "series_1 = np.random.normal(3, 1, 1000)\n",
    "\n",
    "print(f'Mean {series_1.mean()}')\n",
    "print(f'Standard deviation: {series_1.std()}')"
   ]
  },
  {
   "cell_type": "markdown",
   "metadata": {
    "hidden": true
   },
   "source": [
    "When we fit the `StandardScaler`, it studies the object passed to it, and saves what is learned in its instance attributes."
   ]
  },
  {
   "cell_type": "code",
   "execution_count": null,
   "metadata": {
    "hidden": true
   },
   "outputs": [],
   "source": [
    "my_scaler.fit(series_1.reshape(-1,1))"
   ]
  },
  {
   "cell_type": "code",
   "execution_count": null,
   "metadata": {
    "hidden": true
   },
   "outputs": [],
   "source": [
    "# mean is saved into the attribute \"mean_\"\n",
    "my_scaler.mean_"
   ]
  },
  {
   "cell_type": "code",
   "execution_count": null,
   "metadata": {
    "hidden": true
   },
   "outputs": [],
   "source": [
    "# standard deviation is saved in the attribute \"scale_\"\n",
    "my_scaler.scale_"
   ]
  },
  {
   "cell_type": "markdown",
   "metadata": {
    "heading_collapsed": true,
    "hidden": true
   },
   "source": [
    "##### 🧠 Knowledge Check"
   ]
  },
  {
   "cell_type": "code",
   "execution_count": null,
   "metadata": {
    "hidden": true
   },
   "outputs": [],
   "source": [
    "# What value should I pass into the `transform()` method to\n",
    "# get a return of 0?\n",
    "turn_me_to_zero = None\n",
    "my_scaler.transform([[turn_me_to_zero]])"
   ]
  },
  {
   "cell_type": "markdown",
   "metadata": {
    "heading_collapsed": true,
    "hidden": true
   },
   "source": [
    "#### Transforming an Array of Numbers"
   ]
  },
  {
   "cell_type": "code",
   "execution_count": null,
   "metadata": {
    "hidden": true
   },
   "outputs": [],
   "source": [
    "# We can then use these attributes to transform objects\n",
    "np.random.seed(42)\n",
    "random_numbers = np.random.normal(3, 1, 2)\n",
    "random_numbers"
   ]
  },
  {
   "cell_type": "code",
   "execution_count": null,
   "metadata": {
    "hidden": true
   },
   "outputs": [],
   "source": [
    "my_scaler.transform(random_numbers.reshape(-1, 1))"
   ]
  },
  {
   "cell_type": "markdown",
   "metadata": {
    "heading_collapsed": true,
    "hidden": true
   },
   "source": [
    "#### Transforming a DataFrame"
   ]
  },
  {
   "cell_type": "code",
   "execution_count": null,
   "metadata": {
    "hidden": true
   },
   "outputs": [],
   "source": [
    "# We can also use a scaler on a DataFrame\n",
    "series_1 = np.random.normal(3, 1, 1000)\n",
    "series_2 = np.random.uniform(0, 100, 1000)\n",
    "df = pd.DataFrame([series_1, series_2]).T\n",
    "df.head()"
   ]
  },
  {
   "cell_type": "code",
   "execution_count": null,
   "metadata": {
    "hidden": true
   },
   "outputs": [],
   "source": [
    "ss_df = StandardScaler()\n",
    "\n",
    "df_scaled = pd.DataFrame((ss_df.fit_transform(df)))\n",
    "df_scaled.head()"
   ]
  },
  {
   "cell_type": "code",
   "execution_count": null,
   "metadata": {
    "hidden": true
   },
   "outputs": [],
   "source": [
    "ss_df.transform([[5, 50]])"
   ]
  },
  {
   "cell_type": "markdown",
   "metadata": {
    "heading_collapsed": true,
    "hidden": true
   },
   "source": [
    "#### Exercise"
   ]
  },
  {
   "cell_type": "markdown",
   "metadata": {
    "hidden": true
   },
   "source": [
    "Use inheritance together with `StandardScaler` to create your own scaler that includes, as an attribute, a list of the largest and smallest z-scores for each attribute to which the scaler has been fitted.\n",
    "\n",
    "**Test**: After you run `fit_extra()` on the $X$ defined below and then fetch the extremes attribute, your array values should match these:\n",
    "\n",
    "| Feature 1 | Feature 2|\n",
    "| - | - |\n",
    "|-1.2068162135708724 | 1.6237142612014306| <br/>\n",
    " |-1.1298429699595565 | 1.6037759986784352 |"
   ]
  },
  {
   "cell_type": "code",
   "execution_count": null,
   "metadata": {
    "hidden": true
   },
   "outputs": [],
   "source": [
    "X, y = make_regression(n_features=2, n_samples=5, random_state=42)"
   ]
  },
  {
   "cell_type": "code",
   "execution_count": null,
   "metadata": {
    "hidden": true
   },
   "outputs": [],
   "source": [
    "class MyScaler(StandardScaler):\n",
    "    \n",
    "    def __init__(self):\n",
    "        super().__init__()\n",
    "    \n",
    "    def fit_extra(self, X):\n",
    "        \n",
    "        # ???\n",
    "        \n",
    "        self.fit(X)\n",
    "        return self"
   ]
  },
  {
   "cell_type": "code",
   "execution_count": null,
   "metadata": {
    "hidden": true
   },
   "outputs": [],
   "source": [
    "new = MyScaler()"
   ]
  },
  {
   "cell_type": "code",
   "execution_count": null,
   "metadata": {
    "hidden": true
   },
   "outputs": [],
   "source": [
    "new.fit_extra(X)"
   ]
  },
  {
   "cell_type": "code",
   "execution_count": null,
   "metadata": {
    "hidden": true
   },
   "outputs": [],
   "source": [
    "try:\n",
    "    new.extremes\n",
    "except:\n",
    "    print('Define `new.extremes` first')"
   ]
  },
  {
   "cell_type": "code",
   "execution_count": null,
   "metadata": {
    "hidden": true
   },
   "outputs": [],
   "source": [
    "new.transform(X)"
   ]
  },
  {
   "cell_type": "markdown",
   "metadata": {
    "hidden": true
   },
   "source": [
    "<details><summary>\n",
    "    Answer code here\n",
    "    </summary>\n",
    "    <code>self.extremes = [((min(feat)-feat.mean()) / feat.std(),\n",
    "        (max(feat)-feat.mean()) / feat.std()) for feat in X.T]</code>\n",
    "    </details>"
   ]
  },
  {
   "cell_type": "markdown",
   "metadata": {
    "heading_collapsed": true
   },
   "source": [
    "## Level Up"
   ]
  },
  {
   "cell_type": "markdown",
   "metadata": {
    "heading_collapsed": true,
    "hidden": true
   },
   "source": [
    "### Setters, Getters, and Using `property`"
   ]
  },
  {
   "cell_type": "markdown",
   "metadata": {
    "hidden": true
   },
   "source": [
    "See [oop_ex.ipynb](oop_ex.ipynb) notebook for more details"
   ]
  }
 ],
 "metadata": {
  "kernelspec": {
   "display_name": "Python 3",
   "language": "python",
   "name": "python3"
  },
  "language_info": {
   "codemirror_mode": {
    "name": "ipython",
    "version": 3
   },
   "file_extension": ".py",
   "mimetype": "text/x-python",
   "name": "python",
   "nbconvert_exporter": "python",
   "pygments_lexer": "ipython3",
   "version": "3.8.5"
  },
  "toc": {
   "base_numbering": 1,
   "nav_menu": {},
   "number_sections": true,
   "sideBar": false,
   "skip_h1_title": true,
   "title_cell": "Table of Contents",
   "title_sidebar": "TOC",
   "toc_cell": true,
   "toc_position": {},
   "toc_section_display": false,
   "toc_window_display": false
  }
 },
 "nbformat": 4,
 "nbformat_minor": 4
}