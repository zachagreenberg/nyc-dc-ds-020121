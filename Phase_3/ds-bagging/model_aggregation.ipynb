{
 "cells": [
  {
   "cell_type": "markdown",
   "metadata": {
    "toc": true
   },
   "source": [
    "<h1>Table of Contents<span class=\"tocSkip\"></span></h1>\n",
    "<div class=\"toc\"><ul class=\"toc-item\"><li><span><a href=\"#Objectives\" data-toc-modified-id=\"Objectives-1\"><span class=\"toc-item-num\">1&nbsp;&nbsp;</span>Objectives</a></span></li><li><span><a href=\"#Aggregating:-Averaging,-Bagging,-and-Random-Forests\" data-toc-modified-id=\"Aggregating:-Averaging,-Bagging,-and-Random-Forests-2\"><span class=\"toc-item-num\">2&nbsp;&nbsp;</span>Aggregating: Averaging, Bagging, and Random Forests</a></span><ul class=\"toc-item\"><li><span><a href=\"#Data-Preparation-for-Examples\" data-toc-modified-id=\"Data-Preparation-for-Examples-2.1\"><span class=\"toc-item-num\">2.1&nbsp;&nbsp;</span>Data Preparation for Examples</a></span></li></ul></li><li><span><a href=\"#Averaging\" data-toc-modified-id=\"Averaging-3\"><span class=\"toc-item-num\">3&nbsp;&nbsp;</span>Averaging</a></span><ul class=\"toc-item\"><li><span><a href=\"#Model-1---Linear-Regression\" data-toc-modified-id=\"Model-1---Linear-Regression-3.1\"><span class=\"toc-item-num\">3.1&nbsp;&nbsp;</span>Model 1 - Linear Regression</a></span></li><li><span><a href=\"#Model-2---KNN\" data-toc-modified-id=\"Model-2---KNN-3.2\"><span class=\"toc-item-num\">3.2&nbsp;&nbsp;</span>Model 2 - KNN</a></span></li><li><span><a href=\"#Model-3---Decision-Tree\" data-toc-modified-id=\"Model-3---Decision-Tree-3.3\"><span class=\"toc-item-num\">3.3&nbsp;&nbsp;</span>Model 3 - Decision Tree</a></span></li><li><span><a href=\"#Averaging-the-Models\" data-toc-modified-id=\"Averaging-the-Models-3.4\"><span class=\"toc-item-num\">3.4&nbsp;&nbsp;</span>Averaging the Models</a></span><ul class=\"toc-item\"><li><span><a href=\"#From-Scratch\" data-toc-modified-id=\"From-Scratch-3.4.1\"><span class=\"toc-item-num\">3.4.1&nbsp;&nbsp;</span>From Scratch</a></span></li><li><span><a href=\"#Building-a-VotingClassifier\" data-toc-modified-id=\"Building-a-VotingClassifier-3.4.2\"><span class=\"toc-item-num\">3.4.2&nbsp;&nbsp;</span>Building a <code>VotingClassifier</code></a></span></li><li><span><a href=\"#Weighted-Averaging\" data-toc-modified-id=\"Weighted-Averaging-3.4.3\"><span class=\"toc-item-num\">3.4.3&nbsp;&nbsp;</span>Weighted Averaging</a></span><ul class=\"toc-item\"><li><span><a href=\"#Weighted-Averaging-with-the-VotingClassifier\" data-toc-modified-id=\"Weighted-Averaging-with-the-VotingClassifier-3.4.3.1\"><span class=\"toc-item-num\">3.4.3.1&nbsp;&nbsp;</span>Weighted Averaging with the VotingClassifier</a></span></li></ul></li></ul></li></ul></li><li><span><a href=\"#Bagging\" data-toc-modified-id=\"Bagging-4\"><span class=\"toc-item-num\">4&nbsp;&nbsp;</span>Bagging</a></span><ul class=\"toc-item\"><li><span><a href=\"#Bagging-Algorithm\" data-toc-modified-id=\"Bagging-Algorithm-4.1\"><span class=\"toc-item-num\">4.1&nbsp;&nbsp;</span>Bagging Algorithm</a></span></li><li><span><a href=\"#Back-to-the-Example-Data\" data-toc-modified-id=\"Back-to-the-Example-Data-4.2\"><span class=\"toc-item-num\">4.2&nbsp;&nbsp;</span>Back to the Example Data</a></span><ul class=\"toc-item\"><li><span><a href=\"#Change-the-base-estimator\" data-toc-modified-id=\"Change-the-base-estimator-4.2.1\"><span class=\"toc-item-num\">4.2.1&nbsp;&nbsp;</span>Change the base estimator</a></span></li></ul></li></ul></li><li><span><a href=\"#Fitting-a-Random-Forest\" data-toc-modified-id=\"Fitting-a-Random-Forest-5\"><span class=\"toc-item-num\">5&nbsp;&nbsp;</span>Fitting a Random Forest</a></span><ul class=\"toc-item\"><li><span><a href=\"#An-Aside-Story---Bananas-🍌\" data-toc-modified-id=\"An-Aside-Story---Bananas-🍌-5.1\"><span class=\"toc-item-num\">5.1&nbsp;&nbsp;</span>An Aside Story - Bananas 🍌</a></span></li><li><span><a href=\"#The-Goods-&amp;-The-Bads\" data-toc-modified-id=\"The-Goods-&amp;-The-Bads-5.2\"><span class=\"toc-item-num\">5.2&nbsp;&nbsp;</span>The Goods &amp; The Bads</a></span><ul class=\"toc-item\"><li><span><a href=\"#Breed-variety-of-trees\" data-toc-modified-id=\"Breed-variety-of-trees-5.2.1\"><span class=\"toc-item-num\">5.2.1&nbsp;&nbsp;</span>Breed variety of trees</a></span><ul class=\"toc-item\"><li><span><a href=\"#Steps:\" data-toc-modified-id=\"Steps:-5.2.1.1\"><span class=\"toc-item-num\">5.2.1.1&nbsp;&nbsp;</span>Steps:</a></span></li></ul></li></ul></li><li><span><a href=\"#Back-to-the-Example-Data\" data-toc-modified-id=\"Back-to-the-Example-Data-5.3\"><span class=\"toc-item-num\">5.3&nbsp;&nbsp;</span>Back to the Example Data</a></span></li><li><span><a href=\"#Cool-Features-of-Random-Forests\" data-toc-modified-id=\"Cool-Features-of-Random-Forests-5.4\"><span class=\"toc-item-num\">5.4&nbsp;&nbsp;</span>Cool Features of Random Forests</a></span><ul class=\"toc-item\"><li><span><a href=\"#Investigate-Your-Forest-🌲🌲👀🌲🌲\" data-toc-modified-id=\"Investigate-Your-Forest-🌲🌲👀🌲🌲-5.4.1\"><span class=\"toc-item-num\">5.4.1&nbsp;&nbsp;</span>Investigate Your Forest 🌲🌲👀🌲🌲</a></span></li><li><span><a href=\"#Feature-Importance\" data-toc-modified-id=\"Feature-Importance-5.4.2\"><span class=\"toc-item-num\">5.4.2&nbsp;&nbsp;</span>Feature Importance</a></span></li></ul></li><li><span><a href=\"#Extremely-Randomized-Trees-(Extra-Trees)\" data-toc-modified-id=\"Extremely-Randomized-Trees-(Extra-Trees)-5.5\"><span class=\"toc-item-num\">5.5&nbsp;&nbsp;</span>Extremely Randomized Trees (Extra Trees)</a></span></li></ul></li></ul></div>"
   ]
  },
  {
   "cell_type": "code",
   "execution_count": 1,
   "metadata": {
    "ExecuteTime": {
     "end_time": "2021-03-25T17:09:39.377998Z",
     "start_time": "2021-03-25T17:09:38.387831Z"
    }
   },
   "outputs": [],
   "source": [
    "import numpy as np\n",
    "import pandas as pd\n",
    "\n",
    "import seaborn as sns\n",
    "from sklearn.model_selection import train_test_split, GridSearchCV,\\\n",
    "cross_val_score\n",
    "from sklearn.linear_model import LogisticRegression\n",
    "from sklearn.neighbors import KNeighborsClassifier\n",
    "from sklearn.tree import DecisionTreeClassifier\n",
    "from sklearn.ensemble import BaggingClassifier, RandomForestClassifier,\\\n",
    "ExtraTreesClassifier, VotingClassifier\n",
    "from sklearn.metrics import r2_score\n",
    "from sklearn.preprocessing import OneHotEncoder"
   ]
  },
  {
   "cell_type": "markdown",
   "metadata": {
    "heading_collapsed": true
   },
   "source": [
    "# Objectives"
   ]
  },
  {
   "cell_type": "markdown",
   "metadata": {
    "hidden": true
   },
   "source": [
    "SWBAT:\n",
    "\n",
    "- Use `sklearn` to build voting models\n",
    "- Describe the algorithm of bagging\n",
    "- Describe the differences among simple bagging, random forest, and extra trees algorithms\n",
    "- Implement bagging models in `sklearn`"
   ]
  },
  {
   "cell_type": "markdown",
   "metadata": {
    "heading_collapsed": true
   },
   "source": [
    "# Aggregating: Averaging, Bagging, and Random Forests"
   ]
  },
  {
   "cell_type": "markdown",
   "metadata": {
    "hidden": true
   },
   "source": [
    "We can imagine training different models (maybe with different conditions) and then having them \"vote\" on what they think is best."
   ]
  },
  {
   "cell_type": "markdown",
   "metadata": {
    "heading_collapsed": true,
    "hidden": true
   },
   "source": [
    "## Data Preparation for Examples"
   ]
  },
  {
   "cell_type": "markdown",
   "metadata": {
    "hidden": true
   },
   "source": [
    "> Let's prepare some data to do some examples"
   ]
  },
  {
   "cell_type": "code",
   "execution_count": 2,
   "metadata": {
    "ExecuteTime": {
     "end_time": "2021-03-25T17:09:39.416261Z",
     "start_time": "2021-03-25T17:09:39.381031Z"
    },
    "hidden": true
   },
   "outputs": [
    {
     "data": {
      "text/html": [
       "<div>\n",
       "<style scoped>\n",
       "    .dataframe tbody tr th:only-of-type {\n",
       "        vertical-align: middle;\n",
       "    }\n",
       "\n",
       "    .dataframe tbody tr th {\n",
       "        vertical-align: top;\n",
       "    }\n",
       "\n",
       "    .dataframe thead th {\n",
       "        text-align: right;\n",
       "    }\n",
       "</style>\n",
       "<table border=\"1\" class=\"dataframe\">\n",
       "  <thead>\n",
       "    <tr style=\"text-align: right;\">\n",
       "      <th></th>\n",
       "      <th>Age</th>\n",
       "      <th>Education</th>\n",
       "      <th>Occupation</th>\n",
       "      <th>Relationship</th>\n",
       "      <th>Sex</th>\n",
       "      <th>Target</th>\n",
       "    </tr>\n",
       "  </thead>\n",
       "  <tbody>\n",
       "    <tr>\n",
       "      <th>0</th>\n",
       "      <td>39</td>\n",
       "      <td>Bachelors</td>\n",
       "      <td>Adm-clerical</td>\n",
       "      <td>Not-in-family</td>\n",
       "      <td>Male</td>\n",
       "      <td>&lt;=50K</td>\n",
       "    </tr>\n",
       "    <tr>\n",
       "      <th>1</th>\n",
       "      <td>50</td>\n",
       "      <td>Bachelors</td>\n",
       "      <td>Exec-managerial</td>\n",
       "      <td>Husband</td>\n",
       "      <td>Male</td>\n",
       "      <td>&lt;=50K</td>\n",
       "    </tr>\n",
       "    <tr>\n",
       "      <th>2</th>\n",
       "      <td>38</td>\n",
       "      <td>HS-grad</td>\n",
       "      <td>Handlers-cleaners</td>\n",
       "      <td>Not-in-family</td>\n",
       "      <td>Male</td>\n",
       "      <td>&lt;=50K</td>\n",
       "    </tr>\n",
       "    <tr>\n",
       "      <th>3</th>\n",
       "      <td>53</td>\n",
       "      <td>11th</td>\n",
       "      <td>Handlers-cleaners</td>\n",
       "      <td>Husband</td>\n",
       "      <td>Male</td>\n",
       "      <td>&lt;=50K</td>\n",
       "    </tr>\n",
       "    <tr>\n",
       "      <th>4</th>\n",
       "      <td>28</td>\n",
       "      <td>Bachelors</td>\n",
       "      <td>Prof-specialty</td>\n",
       "      <td>Wife</td>\n",
       "      <td>Female</td>\n",
       "      <td>&lt;=50K</td>\n",
       "    </tr>\n",
       "  </tbody>\n",
       "</table>\n",
       "</div>"
      ],
      "text/plain": [
       "   Age  Education         Occupation   Relationship     Sex Target\n",
       "0   39  Bachelors       Adm-clerical  Not-in-family    Male  <=50K\n",
       "1   50  Bachelors    Exec-managerial        Husband    Male  <=50K\n",
       "2   38    HS-grad  Handlers-cleaners  Not-in-family    Male  <=50K\n",
       "3   53       11th  Handlers-cleaners        Husband    Male  <=50K\n",
       "4   28  Bachelors     Prof-specialty           Wife  Female  <=50K"
      ]
     },
     "execution_count": 2,
     "metadata": {},
     "output_type": "execute_result"
    }
   ],
   "source": [
    "df = pd.read_csv('data/salaries.csv')\n",
    "df.head()"
   ]
  },
  {
   "cell_type": "code",
   "execution_count": 3,
   "metadata": {
    "ExecuteTime": {
     "end_time": "2021-03-25T17:09:39.432913Z",
     "start_time": "2021-03-25T17:09:39.420999Z"
    },
    "hidden": true
   },
   "outputs": [
    {
     "name": "stdout",
     "output_type": "stream",
     "text": [
      "<class 'pandas.core.frame.DataFrame'>\n",
      "RangeIndex: 32561 entries, 0 to 32560\n",
      "Data columns (total 6 columns):\n",
      " #   Column        Non-Null Count  Dtype \n",
      "---  ------        --------------  ----- \n",
      " 0   Age           32561 non-null  int64 \n",
      " 1   Education     32561 non-null  object\n",
      " 2   Occupation    32561 non-null  object\n",
      " 3   Relationship  32561 non-null  object\n",
      " 4   Sex           32561 non-null  object\n",
      " 5   Target        32561 non-null  object\n",
      "dtypes: int64(1), object(5)\n",
      "memory usage: 1.5+ MB\n"
     ]
    }
   ],
   "source": [
    "df.info()"
   ]
  },
  {
   "cell_type": "code",
   "execution_count": 4,
   "metadata": {
    "ExecuteTime": {
     "end_time": "2021-03-25T17:09:39.444656Z",
     "start_time": "2021-03-25T17:09:39.434830Z"
    },
    "hidden": true
   },
   "outputs": [
    {
     "data": {
      "text/plain": [
       "0"
      ]
     },
     "execution_count": 4,
     "metadata": {},
     "output_type": "execute_result"
    }
   ],
   "source": [
    "df.isna().sum().sum()"
   ]
  },
  {
   "cell_type": "code",
   "execution_count": 5,
   "metadata": {
    "ExecuteTime": {
     "end_time": "2021-03-25T17:09:39.450169Z",
     "start_time": "2021-03-25T17:09:39.446063Z"
    },
    "hidden": true
   },
   "outputs": [],
   "source": [
    "# Convert Target to 0 or 1\n",
    "df['Target'] = df['Target'] == '>50K'"
   ]
  },
  {
   "cell_type": "code",
   "execution_count": 6,
   "metadata": {
    "ExecuteTime": {
     "end_time": "2021-03-25T17:09:39.462656Z",
     "start_time": "2021-03-25T17:09:39.453874Z"
    },
    "hidden": true
   },
   "outputs": [],
   "source": [
    "X_train, X_test, y_train, y_test = train_test_split(\n",
    "    df.drop('Target',axis=1), df['Target'], random_state=42)"
   ]
  },
  {
   "cell_type": "code",
   "execution_count": 7,
   "metadata": {
    "ExecuteTime": {
     "end_time": "2021-03-25T17:09:39.477271Z",
     "start_time": "2021-03-25T17:09:39.465083Z"
    },
    "hidden": true
   },
   "outputs": [
    {
     "data": {
      "text/plain": [
       "OneHotEncoder(drop='first', sparse=False)"
      ]
     },
     "execution_count": 7,
     "metadata": {},
     "output_type": "execute_result"
    }
   ],
   "source": [
    "ohe = OneHotEncoder(drop='first', sparse=False)\n",
    "ohe.fit(X_train.select_dtypes('object'))"
   ]
  },
  {
   "cell_type": "code",
   "execution_count": 8,
   "metadata": {
    "ExecuteTime": {
     "end_time": "2021-03-25T17:09:39.512585Z",
     "start_time": "2021-03-25T17:09:39.480099Z"
    },
    "hidden": true
   },
   "outputs": [],
   "source": [
    "X_tr_ohe = pd.DataFrame(ohe.transform(X_train.select_dtypes('object')),\n",
    "                                  columns=ohe.get_feature_names(),\n",
    "                                    index=X_train.index)"
   ]
  },
  {
   "cell_type": "code",
   "execution_count": 9,
   "metadata": {
    "ExecuteTime": {
     "end_time": "2021-03-25T17:09:39.532512Z",
     "start_time": "2021-03-25T17:09:39.514803Z"
    },
    "hidden": true,
    "scrolled": true
   },
   "outputs": [
    {
     "data": {
      "text/html": [
       "<div>\n",
       "<style scoped>\n",
       "    .dataframe tbody tr th:only-of-type {\n",
       "        vertical-align: middle;\n",
       "    }\n",
       "\n",
       "    .dataframe tbody tr th {\n",
       "        vertical-align: top;\n",
       "    }\n",
       "\n",
       "    .dataframe thead th {\n",
       "        text-align: right;\n",
       "    }\n",
       "</style>\n",
       "<table border=\"1\" class=\"dataframe\">\n",
       "  <thead>\n",
       "    <tr style=\"text-align: right;\">\n",
       "      <th></th>\n",
       "      <th>x0_11th</th>\n",
       "      <th>x0_12th</th>\n",
       "      <th>x0_1st-4th</th>\n",
       "      <th>x0_5th-6th</th>\n",
       "      <th>x0_7th-8th</th>\n",
       "      <th>x0_9th</th>\n",
       "      <th>x0_Assoc-acdm</th>\n",
       "      <th>x0_Assoc-voc</th>\n",
       "      <th>x0_Bachelors</th>\n",
       "      <th>x0_Doctorate</th>\n",
       "      <th>...</th>\n",
       "      <th>x1_Protective-serv</th>\n",
       "      <th>x1_Sales</th>\n",
       "      <th>x1_Tech-support</th>\n",
       "      <th>x1_Transport-moving</th>\n",
       "      <th>x2_Not-in-family</th>\n",
       "      <th>x2_Other-relative</th>\n",
       "      <th>x2_Own-child</th>\n",
       "      <th>x2_Unmarried</th>\n",
       "      <th>x2_Wife</th>\n",
       "      <th>x3_Male</th>\n",
       "    </tr>\n",
       "  </thead>\n",
       "  <tbody>\n",
       "    <tr>\n",
       "      <th>29</th>\n",
       "      <td>0.0</td>\n",
       "      <td>0.0</td>\n",
       "      <td>0.0</td>\n",
       "      <td>0.0</td>\n",
       "      <td>0.0</td>\n",
       "      <td>0.0</td>\n",
       "      <td>0.0</td>\n",
       "      <td>0.0</td>\n",
       "      <td>0.0</td>\n",
       "      <td>0.0</td>\n",
       "      <td>...</td>\n",
       "      <td>0.0</td>\n",
       "      <td>0.0</td>\n",
       "      <td>0.0</td>\n",
       "      <td>0.0</td>\n",
       "      <td>0.0</td>\n",
       "      <td>0.0</td>\n",
       "      <td>0.0</td>\n",
       "      <td>0.0</td>\n",
       "      <td>0.0</td>\n",
       "      <td>1.0</td>\n",
       "    </tr>\n",
       "    <tr>\n",
       "      <th>12181</th>\n",
       "      <td>0.0</td>\n",
       "      <td>0.0</td>\n",
       "      <td>0.0</td>\n",
       "      <td>0.0</td>\n",
       "      <td>0.0</td>\n",
       "      <td>0.0</td>\n",
       "      <td>0.0</td>\n",
       "      <td>0.0</td>\n",
       "      <td>0.0</td>\n",
       "      <td>0.0</td>\n",
       "      <td>...</td>\n",
       "      <td>0.0</td>\n",
       "      <td>0.0</td>\n",
       "      <td>0.0</td>\n",
       "      <td>0.0</td>\n",
       "      <td>0.0</td>\n",
       "      <td>0.0</td>\n",
       "      <td>0.0</td>\n",
       "      <td>0.0</td>\n",
       "      <td>0.0</td>\n",
       "      <td>1.0</td>\n",
       "    </tr>\n",
       "    <tr>\n",
       "      <th>18114</th>\n",
       "      <td>1.0</td>\n",
       "      <td>0.0</td>\n",
       "      <td>0.0</td>\n",
       "      <td>0.0</td>\n",
       "      <td>0.0</td>\n",
       "      <td>0.0</td>\n",
       "      <td>0.0</td>\n",
       "      <td>0.0</td>\n",
       "      <td>0.0</td>\n",
       "      <td>0.0</td>\n",
       "      <td>...</td>\n",
       "      <td>0.0</td>\n",
       "      <td>0.0</td>\n",
       "      <td>0.0</td>\n",
       "      <td>0.0</td>\n",
       "      <td>0.0</td>\n",
       "      <td>0.0</td>\n",
       "      <td>0.0</td>\n",
       "      <td>0.0</td>\n",
       "      <td>0.0</td>\n",
       "      <td>1.0</td>\n",
       "    </tr>\n",
       "    <tr>\n",
       "      <th>4278</th>\n",
       "      <td>0.0</td>\n",
       "      <td>0.0</td>\n",
       "      <td>0.0</td>\n",
       "      <td>0.0</td>\n",
       "      <td>0.0</td>\n",
       "      <td>0.0</td>\n",
       "      <td>0.0</td>\n",
       "      <td>0.0</td>\n",
       "      <td>1.0</td>\n",
       "      <td>0.0</td>\n",
       "      <td>...</td>\n",
       "      <td>0.0</td>\n",
       "      <td>0.0</td>\n",
       "      <td>0.0</td>\n",
       "      <td>0.0</td>\n",
       "      <td>0.0</td>\n",
       "      <td>0.0</td>\n",
       "      <td>0.0</td>\n",
       "      <td>1.0</td>\n",
       "      <td>0.0</td>\n",
       "      <td>1.0</td>\n",
       "    </tr>\n",
       "    <tr>\n",
       "      <th>12050</th>\n",
       "      <td>0.0</td>\n",
       "      <td>0.0</td>\n",
       "      <td>0.0</td>\n",
       "      <td>0.0</td>\n",
       "      <td>0.0</td>\n",
       "      <td>0.0</td>\n",
       "      <td>0.0</td>\n",
       "      <td>0.0</td>\n",
       "      <td>1.0</td>\n",
       "      <td>0.0</td>\n",
       "      <td>...</td>\n",
       "      <td>0.0</td>\n",
       "      <td>1.0</td>\n",
       "      <td>0.0</td>\n",
       "      <td>0.0</td>\n",
       "      <td>1.0</td>\n",
       "      <td>0.0</td>\n",
       "      <td>0.0</td>\n",
       "      <td>0.0</td>\n",
       "      <td>0.0</td>\n",
       "      <td>0.0</td>\n",
       "    </tr>\n",
       "  </tbody>\n",
       "</table>\n",
       "<p>5 rows × 35 columns</p>\n",
       "</div>"
      ],
      "text/plain": [
       "       x0_11th  x0_12th  x0_1st-4th  x0_5th-6th  x0_7th-8th  x0_9th  \\\n",
       "29         0.0      0.0         0.0         0.0         0.0     0.0   \n",
       "12181      0.0      0.0         0.0         0.0         0.0     0.0   \n",
       "18114      1.0      0.0         0.0         0.0         0.0     0.0   \n",
       "4278       0.0      0.0         0.0         0.0         0.0     0.0   \n",
       "12050      0.0      0.0         0.0         0.0         0.0     0.0   \n",
       "\n",
       "       x0_Assoc-acdm  x0_Assoc-voc  x0_Bachelors  x0_Doctorate  ...  \\\n",
       "29               0.0           0.0           0.0           0.0  ...   \n",
       "12181            0.0           0.0           0.0           0.0  ...   \n",
       "18114            0.0           0.0           0.0           0.0  ...   \n",
       "4278             0.0           0.0           1.0           0.0  ...   \n",
       "12050            0.0           0.0           1.0           0.0  ...   \n",
       "\n",
       "       x1_Protective-serv  x1_Sales  x1_Tech-support  x1_Transport-moving  \\\n",
       "29                    0.0       0.0              0.0                  0.0   \n",
       "12181                 0.0       0.0              0.0                  0.0   \n",
       "18114                 0.0       0.0              0.0                  0.0   \n",
       "4278                  0.0       0.0              0.0                  0.0   \n",
       "12050                 0.0       1.0              0.0                  0.0   \n",
       "\n",
       "       x2_Not-in-family  x2_Other-relative  x2_Own-child  x2_Unmarried  \\\n",
       "29                  0.0                0.0           0.0           0.0   \n",
       "12181               0.0                0.0           0.0           0.0   \n",
       "18114               0.0                0.0           0.0           0.0   \n",
       "4278                0.0                0.0           0.0           1.0   \n",
       "12050               1.0                0.0           0.0           0.0   \n",
       "\n",
       "       x2_Wife  x3_Male  \n",
       "29         0.0      1.0  \n",
       "12181      0.0      1.0  \n",
       "18114      0.0      1.0  \n",
       "4278       0.0      1.0  \n",
       "12050      0.0      0.0  \n",
       "\n",
       "[5 rows x 35 columns]"
      ]
     },
     "execution_count": 9,
     "metadata": {},
     "output_type": "execute_result"
    }
   ],
   "source": [
    "X_tr_ohe.head()"
   ]
  },
  {
   "cell_type": "code",
   "execution_count": 10,
   "metadata": {
    "ExecuteTime": {
     "end_time": "2021-03-25T17:09:39.550288Z",
     "start_time": "2021-03-25T17:09:39.534191Z"
    },
    "hidden": true
   },
   "outputs": [],
   "source": [
    "X_te_ohe = pd.DataFrame(ohe.transform(X_test.select_dtypes('object')),\n",
    "                                  columns=ohe.get_feature_names(),\n",
    "                                    index=X_test.index)\n"
   ]
  },
  {
   "cell_type": "code",
   "execution_count": 11,
   "metadata": {
    "ExecuteTime": {
     "end_time": "2021-03-25T17:09:39.571551Z",
     "start_time": "2021-03-25T17:09:39.551986Z"
    },
    "hidden": true
   },
   "outputs": [
    {
     "data": {
      "text/html": [
       "<div>\n",
       "<style scoped>\n",
       "    .dataframe tbody tr th:only-of-type {\n",
       "        vertical-align: middle;\n",
       "    }\n",
       "\n",
       "    .dataframe tbody tr th {\n",
       "        vertical-align: top;\n",
       "    }\n",
       "\n",
       "    .dataframe thead th {\n",
       "        text-align: right;\n",
       "    }\n",
       "</style>\n",
       "<table border=\"1\" class=\"dataframe\">\n",
       "  <thead>\n",
       "    <tr style=\"text-align: right;\">\n",
       "      <th></th>\n",
       "      <th>x0_11th</th>\n",
       "      <th>x0_12th</th>\n",
       "      <th>x0_1st-4th</th>\n",
       "      <th>x0_5th-6th</th>\n",
       "      <th>x0_7th-8th</th>\n",
       "      <th>x0_9th</th>\n",
       "      <th>x0_Assoc-acdm</th>\n",
       "      <th>x0_Assoc-voc</th>\n",
       "      <th>x0_Bachelors</th>\n",
       "      <th>x0_Doctorate</th>\n",
       "      <th>...</th>\n",
       "      <th>x1_Protective-serv</th>\n",
       "      <th>x1_Sales</th>\n",
       "      <th>x1_Tech-support</th>\n",
       "      <th>x1_Transport-moving</th>\n",
       "      <th>x2_Not-in-family</th>\n",
       "      <th>x2_Other-relative</th>\n",
       "      <th>x2_Own-child</th>\n",
       "      <th>x2_Unmarried</th>\n",
       "      <th>x2_Wife</th>\n",
       "      <th>x3_Male</th>\n",
       "    </tr>\n",
       "  </thead>\n",
       "  <tbody>\n",
       "    <tr>\n",
       "      <th>14160</th>\n",
       "      <td>0.0</td>\n",
       "      <td>0.0</td>\n",
       "      <td>0.0</td>\n",
       "      <td>0.0</td>\n",
       "      <td>0.0</td>\n",
       "      <td>0.0</td>\n",
       "      <td>0.0</td>\n",
       "      <td>0.0</td>\n",
       "      <td>0.0</td>\n",
       "      <td>0.0</td>\n",
       "      <td>...</td>\n",
       "      <td>0.0</td>\n",
       "      <td>0.0</td>\n",
       "      <td>0.0</td>\n",
       "      <td>0.0</td>\n",
       "      <td>1.0</td>\n",
       "      <td>0.0</td>\n",
       "      <td>0.0</td>\n",
       "      <td>0.0</td>\n",
       "      <td>0.0</td>\n",
       "      <td>0.0</td>\n",
       "    </tr>\n",
       "    <tr>\n",
       "      <th>27048</th>\n",
       "      <td>0.0</td>\n",
       "      <td>0.0</td>\n",
       "      <td>0.0</td>\n",
       "      <td>0.0</td>\n",
       "      <td>0.0</td>\n",
       "      <td>0.0</td>\n",
       "      <td>0.0</td>\n",
       "      <td>0.0</td>\n",
       "      <td>0.0</td>\n",
       "      <td>0.0</td>\n",
       "      <td>...</td>\n",
       "      <td>0.0</td>\n",
       "      <td>0.0</td>\n",
       "      <td>0.0</td>\n",
       "      <td>0.0</td>\n",
       "      <td>0.0</td>\n",
       "      <td>0.0</td>\n",
       "      <td>0.0</td>\n",
       "      <td>0.0</td>\n",
       "      <td>1.0</td>\n",
       "      <td>0.0</td>\n",
       "    </tr>\n",
       "    <tr>\n",
       "      <th>28868</th>\n",
       "      <td>0.0</td>\n",
       "      <td>0.0</td>\n",
       "      <td>0.0</td>\n",
       "      <td>0.0</td>\n",
       "      <td>0.0</td>\n",
       "      <td>0.0</td>\n",
       "      <td>0.0</td>\n",
       "      <td>0.0</td>\n",
       "      <td>1.0</td>\n",
       "      <td>0.0</td>\n",
       "      <td>...</td>\n",
       "      <td>0.0</td>\n",
       "      <td>0.0</td>\n",
       "      <td>0.0</td>\n",
       "      <td>0.0</td>\n",
       "      <td>0.0</td>\n",
       "      <td>0.0</td>\n",
       "      <td>0.0</td>\n",
       "      <td>0.0</td>\n",
       "      <td>0.0</td>\n",
       "      <td>1.0</td>\n",
       "    </tr>\n",
       "    <tr>\n",
       "      <th>5667</th>\n",
       "      <td>0.0</td>\n",
       "      <td>0.0</td>\n",
       "      <td>0.0</td>\n",
       "      <td>0.0</td>\n",
       "      <td>0.0</td>\n",
       "      <td>0.0</td>\n",
       "      <td>0.0</td>\n",
       "      <td>0.0</td>\n",
       "      <td>1.0</td>\n",
       "      <td>0.0</td>\n",
       "      <td>...</td>\n",
       "      <td>0.0</td>\n",
       "      <td>0.0</td>\n",
       "      <td>0.0</td>\n",
       "      <td>0.0</td>\n",
       "      <td>1.0</td>\n",
       "      <td>0.0</td>\n",
       "      <td>0.0</td>\n",
       "      <td>0.0</td>\n",
       "      <td>0.0</td>\n",
       "      <td>0.0</td>\n",
       "    </tr>\n",
       "    <tr>\n",
       "      <th>7827</th>\n",
       "      <td>0.0</td>\n",
       "      <td>0.0</td>\n",
       "      <td>0.0</td>\n",
       "      <td>0.0</td>\n",
       "      <td>0.0</td>\n",
       "      <td>0.0</td>\n",
       "      <td>0.0</td>\n",
       "      <td>0.0</td>\n",
       "      <td>0.0</td>\n",
       "      <td>0.0</td>\n",
       "      <td>...</td>\n",
       "      <td>0.0</td>\n",
       "      <td>0.0</td>\n",
       "      <td>0.0</td>\n",
       "      <td>0.0</td>\n",
       "      <td>1.0</td>\n",
       "      <td>0.0</td>\n",
       "      <td>0.0</td>\n",
       "      <td>0.0</td>\n",
       "      <td>0.0</td>\n",
       "      <td>1.0</td>\n",
       "    </tr>\n",
       "  </tbody>\n",
       "</table>\n",
       "<p>5 rows × 35 columns</p>\n",
       "</div>"
      ],
      "text/plain": [
       "       x0_11th  x0_12th  x0_1st-4th  x0_5th-6th  x0_7th-8th  x0_9th  \\\n",
       "14160      0.0      0.0         0.0         0.0         0.0     0.0   \n",
       "27048      0.0      0.0         0.0         0.0         0.0     0.0   \n",
       "28868      0.0      0.0         0.0         0.0         0.0     0.0   \n",
       "5667       0.0      0.0         0.0         0.0         0.0     0.0   \n",
       "7827       0.0      0.0         0.0         0.0         0.0     0.0   \n",
       "\n",
       "       x0_Assoc-acdm  x0_Assoc-voc  x0_Bachelors  x0_Doctorate  ...  \\\n",
       "14160            0.0           0.0           0.0           0.0  ...   \n",
       "27048            0.0           0.0           0.0           0.0  ...   \n",
       "28868            0.0           0.0           1.0           0.0  ...   \n",
       "5667             0.0           0.0           1.0           0.0  ...   \n",
       "7827             0.0           0.0           0.0           0.0  ...   \n",
       "\n",
       "       x1_Protective-serv  x1_Sales  x1_Tech-support  x1_Transport-moving  \\\n",
       "14160                 0.0       0.0              0.0                  0.0   \n",
       "27048                 0.0       0.0              0.0                  0.0   \n",
       "28868                 0.0       0.0              0.0                  0.0   \n",
       "5667                  0.0       0.0              0.0                  0.0   \n",
       "7827                  0.0       0.0              0.0                  0.0   \n",
       "\n",
       "       x2_Not-in-family  x2_Other-relative  x2_Own-child  x2_Unmarried  \\\n",
       "14160               1.0                0.0           0.0           0.0   \n",
       "27048               0.0                0.0           0.0           0.0   \n",
       "28868               0.0                0.0           0.0           0.0   \n",
       "5667                1.0                0.0           0.0           0.0   \n",
       "7827                1.0                0.0           0.0           0.0   \n",
       "\n",
       "       x2_Wife  x3_Male  \n",
       "14160      0.0      0.0  \n",
       "27048      1.0      0.0  \n",
       "28868      0.0      1.0  \n",
       "5667       0.0      0.0  \n",
       "7827       0.0      1.0  \n",
       "\n",
       "[5 rows x 35 columns]"
      ]
     },
     "execution_count": 11,
     "metadata": {},
     "output_type": "execute_result"
    }
   ],
   "source": [
    "X_te_ohe.head()"
   ]
  },
  {
   "cell_type": "markdown",
   "metadata": {
    "heading_collapsed": true
   },
   "source": [
    "# Averaging"
   ]
  },
  {
   "cell_type": "markdown",
   "metadata": {
    "hidden": true
   },
   "source": [
    "> Each model uses the same data to train and then we \"vote\" to make a prediction"
   ]
  },
  {
   "cell_type": "markdown",
   "metadata": {
    "heading_collapsed": true,
    "hidden": true
   },
   "source": [
    "## Model 1 - Linear Regression"
   ]
  },
  {
   "cell_type": "code",
   "execution_count": 12,
   "metadata": {
    "ExecuteTime": {
     "end_time": "2021-03-25T17:09:39.793691Z",
     "start_time": "2021-03-25T17:09:39.573368Z"
    },
    "hidden": true
   },
   "outputs": [
    {
     "data": {
      "text/plain": [
       "LogisticRegression()"
      ]
     },
     "execution_count": 12,
     "metadata": {},
     "output_type": "execute_result"
    }
   ],
   "source": [
    "lr = LogisticRegression()\n",
    "\n",
    "lr.fit(X_tr_ohe, y_train)"
   ]
  },
  {
   "cell_type": "code",
   "execution_count": 13,
   "metadata": {
    "ExecuteTime": {
     "end_time": "2021-03-25T17:09:40.574391Z",
     "start_time": "2021-03-25T17:09:39.795277Z"
    },
    "hidden": true
   },
   "outputs": [
    {
     "data": {
      "text/plain": [
       "array([0.81859132, 0.82903358, 0.82657658, 0.83108108, 0.82473382])"
      ]
     },
     "execution_count": 13,
     "metadata": {},
     "output_type": "execute_result"
    }
   ],
   "source": [
    "scores = cross_val_score(estimator=lr, X=X_tr_ohe,\n",
    "                        y=y_train, cv=5)\n",
    "scores"
   ]
  },
  {
   "cell_type": "code",
   "execution_count": 14,
   "metadata": {
    "ExecuteTime": {
     "end_time": "2021-03-25T17:09:40.579999Z",
     "start_time": "2021-03-25T17:09:40.576331Z"
    },
    "hidden": true
   },
   "outputs": [
    {
     "data": {
      "text/plain": [
       "0.8265765765765766"
      ]
     },
     "execution_count": 14,
     "metadata": {},
     "output_type": "execute_result"
    }
   ],
   "source": [
    "np.median(scores)"
   ]
  },
  {
   "cell_type": "code",
   "execution_count": 15,
   "metadata": {
    "ExecuteTime": {
     "end_time": "2021-03-25T17:09:40.589446Z",
     "start_time": "2021-03-25T17:09:40.581612Z"
    },
    "hidden": true
   },
   "outputs": [
    {
     "data": {
      "text/plain": [
       "0.8312246652745363"
      ]
     },
     "execution_count": 15,
     "metadata": {},
     "output_type": "execute_result"
    }
   ],
   "source": [
    "lr.score(X_te_ohe, y_test)"
   ]
  },
  {
   "cell_type": "markdown",
   "metadata": {
    "heading_collapsed": true,
    "hidden": true
   },
   "source": [
    "## Model 2 - KNN"
   ]
  },
  {
   "cell_type": "code",
   "execution_count": 16,
   "metadata": {
    "ExecuteTime": {
     "end_time": "2021-03-25T17:09:41.448449Z",
     "start_time": "2021-03-25T17:09:40.591013Z"
    },
    "hidden": true
   },
   "outputs": [
    {
     "data": {
      "text/plain": [
       "KNeighborsClassifier()"
      ]
     },
     "execution_count": 16,
     "metadata": {},
     "output_type": "execute_result"
    }
   ],
   "source": [
    "knn = KNeighborsClassifier()\n",
    "\n",
    "knn.fit(X_tr_ohe, y_train)"
   ]
  },
  {
   "cell_type": "code",
   "execution_count": 17,
   "metadata": {
    "ExecuteTime": {
     "end_time": "2021-03-25T17:09:50.037886Z",
     "start_time": "2021-03-25T17:09:41.450438Z"
    },
    "hidden": true
   },
   "outputs": [
    {
     "data": {
      "text/plain": [
       "0.7905405405405406"
      ]
     },
     "execution_count": 17,
     "metadata": {},
     "output_type": "execute_result"
    }
   ],
   "source": [
    "scores = cross_val_score(estimator=knn, X=X_tr_ohe,\n",
    "                y=y_train, cv=5)\n",
    "np.median(scores)"
   ]
  },
  {
   "cell_type": "code",
   "execution_count": 18,
   "metadata": {
    "ExecuteTime": {
     "end_time": "2021-03-25T17:09:50.041892Z",
     "start_time": "2021-03-25T17:09:38.438Z"
    },
    "hidden": true
   },
   "outputs": [
    {
     "data": {
      "text/plain": [
       "0.77607173565901"
      ]
     },
     "execution_count": 18,
     "metadata": {},
     "output_type": "execute_result"
    }
   ],
   "source": [
    "knn.score(X_te_ohe, y_test)"
   ]
  },
  {
   "cell_type": "markdown",
   "metadata": {},
   "source": [
    ">KNN takes a long time because it looks at every point and it's the making predictions part that is taking so long."
   ]
  },
  {
   "cell_type": "markdown",
   "metadata": {
    "heading_collapsed": true,
    "hidden": true
   },
   "source": [
    "## Model 3 - Decision Tree"
   ]
  },
  {
   "cell_type": "code",
   "execution_count": 19,
   "metadata": {
    "ExecuteTime": {
     "end_time": "2021-03-25T17:09:50.043015Z",
     "start_time": "2021-03-25T17:09:38.441Z"
    },
    "hidden": true
   },
   "outputs": [
    {
     "data": {
      "text/plain": [
       "DecisionTreeClassifier(random_state=42)"
      ]
     },
     "execution_count": 19,
     "metadata": {},
     "output_type": "execute_result"
    }
   ],
   "source": [
    "rt = DecisionTreeClassifier(random_state=42)\n",
    "\n",
    "rt.fit(X_tr_ohe, y_train)"
   ]
  },
  {
   "cell_type": "code",
   "execution_count": 20,
   "metadata": {
    "ExecuteTime": {
     "end_time": "2021-03-25T17:09:50.044197Z",
     "start_time": "2021-03-25T17:09:38.444Z"
    },
    "hidden": true
   },
   "outputs": [
    {
     "data": {
      "text/plain": [
       "array([0.81613432, 0.82166257, 0.82104832, 0.82964783, 0.81981982])"
      ]
     },
     "execution_count": 20,
     "metadata": {},
     "output_type": "execute_result"
    }
   ],
   "source": [
    "scores = cross_val_score(estimator=rt, X=X_tr_ohe,\n",
    "               y=y_train, cv=5)\n",
    "scores"
   ]
  },
  {
   "cell_type": "code",
   "execution_count": 21,
   "metadata": {
    "ExecuteTime": {
     "end_time": "2021-03-25T17:09:50.045824Z",
     "start_time": "2021-03-25T17:09:38.447Z"
    },
    "hidden": true
   },
   "outputs": [
    {
     "data": {
      "text/plain": [
       "0.821048321048321"
      ]
     },
     "execution_count": 21,
     "metadata": {},
     "output_type": "execute_result"
    }
   ],
   "source": [
    "np.median(scores)"
   ]
  },
  {
   "cell_type": "code",
   "execution_count": 22,
   "metadata": {
    "ExecuteTime": {
     "end_time": "2021-03-25T17:09:50.047062Z",
     "start_time": "2021-03-25T17:09:38.450Z"
    },
    "hidden": true
   },
   "outputs": [
    {
     "data": {
      "text/plain": [
       "0.8250829136469722"
      ]
     },
     "execution_count": 22,
     "metadata": {},
     "output_type": "execute_result"
    }
   ],
   "source": [
    "rt.score(X_te_ohe, y_test)"
   ]
  },
  {
   "cell_type": "markdown",
   "metadata": {
    "heading_collapsed": true,
    "hidden": true
   },
   "source": [
    "## Averaging the Models"
   ]
  },
  {
   "cell_type": "markdown",
   "metadata": {
    "heading_collapsed": true,
    "hidden": true
   },
   "source": [
    "### From Scratch"
   ]
  },
  {
   "cell_type": "markdown",
   "metadata": {
    "hidden": true
   },
   "source": [
    "To build our simple averagaing meata-estimator, we'll just average the predictions of the three base estimators:"
   ]
  },
  {
   "cell_type": "code",
   "execution_count": 25,
   "metadata": {
    "ExecuteTime": {
     "end_time": "2021-03-25T17:09:50.048029Z",
     "start_time": "2021-03-25T17:09:38.454Z"
    },
    "hidden": true
   },
   "outputs": [],
   "source": [
    "meta_preds = np.round(sum([lr.predict(X_te_ohe), knn.predict(X_te_ohe),\n",
    "                  rt.predict(X_te_ohe)]) / 3)"
   ]
  },
  {
   "cell_type": "markdown",
   "metadata": {
    "hidden": true
   },
   "source": [
    "Now we can evaluate our meta-estimator:"
   ]
  },
  {
   "cell_type": "code",
   "execution_count": 26,
   "metadata": {
    "ExecuteTime": {
     "end_time": "2021-03-25T17:09:50.049210Z",
     "start_time": "2021-03-25T17:09:38.457Z"
    },
    "hidden": true
   },
   "outputs": [
    {
     "data": {
      "text/plain": [
       "0.04818438168562922"
      ]
     },
     "execution_count": 26,
     "metadata": {},
     "output_type": "execute_result"
    }
   ],
   "source": [
    "r2_score(y_test, meta_preds)"
   ]
  },
  {
   "cell_type": "markdown",
   "metadata": {
    "heading_collapsed": true,
    "hidden": true
   },
   "source": [
    "### Building a `VotingClassifier`"
   ]
  },
  {
   "cell_type": "markdown",
   "metadata": {
    "hidden": true
   },
   "source": [
    "> Of course there's a Scikit-Learn class for that"
   ]
  },
  {
   "cell_type": "code",
   "execution_count": 27,
   "metadata": {
    "ExecuteTime": {
     "end_time": "2021-03-25T17:09:50.050159Z",
     "start_time": "2021-03-25T17:09:38.461Z"
    },
    "hidden": true
   },
   "outputs": [
    {
     "data": {
      "text/plain": [
       "VotingClassifier(estimators=[('lr', LogisticRegression()),\n",
       "                             ('knn', KNeighborsClassifier()),\n",
       "                             ('rt', DecisionTreeClassifier(random_state=42))])"
      ]
     },
     "execution_count": 27,
     "metadata": {},
     "output_type": "execute_result"
    }
   ],
   "source": [
    "avg = VotingClassifier(estimators=[\n",
    "    ('lr', lr),\n",
    "    ('knn', knn),\n",
    "    ('rt', rt)])\n",
    "avg.fit(X_tr_ohe, y_train)"
   ]
  },
  {
   "cell_type": "code",
   "execution_count": 28,
   "metadata": {
    "ExecuteTime": {
     "end_time": "2021-03-25T17:09:50.051308Z",
     "start_time": "2021-03-25T17:09:38.464Z"
    },
    "hidden": true
   },
   "outputs": [
    {
     "data": {
      "text/plain": [
       "array([0.81756757, 0.82616708, 0.82289107, 0.83210483, 0.82289107])"
      ]
     },
     "execution_count": 28,
     "metadata": {},
     "output_type": "execute_result"
    }
   ],
   "source": [
    "scores = cross_val_score(estimator=avg, X=X_tr_ohe,\n",
    "               y=y_train, cv=5)\n",
    "scores"
   ]
  },
  {
   "cell_type": "code",
   "execution_count": 29,
   "metadata": {
    "ExecuteTime": {
     "end_time": "2021-03-25T17:09:50.052715Z",
     "start_time": "2021-03-25T17:09:38.467Z"
    },
    "hidden": true
   },
   "outputs": [
    {
     "data": {
      "text/plain": [
       "0.8228910728910729"
      ]
     },
     "execution_count": 29,
     "metadata": {},
     "output_type": "execute_result"
    }
   ],
   "source": [
    "np.median(scores)"
   ]
  },
  {
   "cell_type": "code",
   "execution_count": 30,
   "metadata": {
    "ExecuteTime": {
     "end_time": "2021-03-25T17:09:50.053653Z",
     "start_time": "2021-03-25T17:09:38.470Z"
    },
    "hidden": true
   },
   "outputs": [
    {
     "data": {
      "text/plain": [
       "0.828030954428203"
      ]
     },
     "execution_count": 30,
     "metadata": {},
     "output_type": "execute_result"
    }
   ],
   "source": [
    "# This should be the same as above!\n",
    "\n",
    "avg.score(X_te_ohe, y_test)"
   ]
  },
  {
   "cell_type": "markdown",
   "metadata": {
    "heading_collapsed": true,
    "hidden": true
   },
   "source": [
    "### Weighted Averaging"
   ]
  },
  {
   "cell_type": "markdown",
   "metadata": {
    "hidden": true
   },
   "source": [
    "> Even if the vote is 50-50, you'd probably side with the \"smart\" ones more"
   ]
  },
  {
   "cell_type": "markdown",
   "metadata": {
    "hidden": true
   },
   "source": [
    "This meta-estimator is not as good as one of our base estimators, so in this case the averaging did not work very well. Realizing that the decision tree is performing better than the logistic regression and the k-nearest-neighbors model, however, we might decide to build a meta-estimator by calculating a **weighted average** of the base estimators' predictions. And we can weight, or bias, this estimator in favor of the best-performing base estimator. Suppose we weight the tree 40%, the knn model 20%, and the logistic regression 40%:"
   ]
  },
  {
   "cell_type": "code",
   "execution_count": 31,
   "metadata": {
    "ExecuteTime": {
     "end_time": "2021-03-25T17:09:50.054544Z",
     "start_time": "2021-03-25T17:09:38.474Z"
    },
    "hidden": true
   },
   "outputs": [],
   "source": [
    "weighted_preds = sum([0.4 * lr.predict(X_te_ohe), 0.2 * knn.predict(X_te_ohe),\n",
    "                     0.4 * rt.predict(X_te_ohe)])"
   ]
  },
  {
   "cell_type": "markdown",
   "metadata": {
    "hidden": true
   },
   "source": [
    "Now we can evaluate this new meta-estimator:"
   ]
  },
  {
   "cell_type": "code",
   "execution_count": 32,
   "metadata": {
    "ExecuteTime": {
     "end_time": "2021-03-25T17:09:50.055369Z",
     "start_time": "2021-03-25T17:09:38.478Z"
    },
    "hidden": true
   },
   "outputs": [
    {
     "data": {
      "text/plain": [
       "0.2046356746045599"
      ]
     },
     "execution_count": 32,
     "metadata": {},
     "output_type": "execute_result"
    }
   ],
   "source": [
    "r2_score(y_test, weighted_preds)"
   ]
  },
  {
   "cell_type": "markdown",
   "metadata": {
    "heading_collapsed": true,
    "hidden": true
   },
   "source": [
    "#### Weighted Averaging with the VotingClassifier"
   ]
  },
  {
   "cell_type": "code",
   "execution_count": 33,
   "metadata": {
    "ExecuteTime": {
     "end_time": "2021-03-25T17:09:50.056219Z",
     "start_time": "2021-03-25T17:09:38.481Z"
    },
    "hidden": true
   },
   "outputs": [
    {
     "data": {
      "text/plain": [
       "VotingClassifier(estimators=[('lr', LogisticRegression()),\n",
       "                             ('knn', KNeighborsClassifier()),\n",
       "                             ('rt', DecisionTreeClassifier(random_state=42))],\n",
       "                 weights=[0.4, 0.2, 0.4])"
      ]
     },
     "execution_count": 33,
     "metadata": {},
     "output_type": "execute_result"
    }
   ],
   "source": [
    "w_avg = VotingClassifier(estimators=[\n",
    "    ('lr', lr),\n",
    "    ('knn', knn),\n",
    "    ('rt', rt)],\n",
    "    weights=[0.4, 0.2, 0.4])\n",
    "w_avg.fit(X_tr_ohe, y_train)"
   ]
  },
  {
   "cell_type": "code",
   "execution_count": 34,
   "metadata": {
    "ExecuteTime": {
     "end_time": "2021-03-25T17:09:50.057031Z",
     "start_time": "2021-03-25T17:09:38.486Z"
    },
    "hidden": true
   },
   "outputs": [
    {
     "data": {
      "text/plain": [
       "array([0.81756757, 0.82616708, 0.82289107, 0.83210483, 0.82289107])"
      ]
     },
     "execution_count": 34,
     "metadata": {},
     "output_type": "execute_result"
    }
   ],
   "source": [
    "scores = cross_val_score(estimator=w_avg, X=X_tr_ohe,\n",
    "                        y=y_train, cv=5)\n",
    "scores"
   ]
  },
  {
   "cell_type": "code",
   "execution_count": 35,
   "metadata": {
    "ExecuteTime": {
     "end_time": "2021-03-25T17:09:50.057945Z",
     "start_time": "2021-03-25T17:09:38.489Z"
    },
    "hidden": true
   },
   "outputs": [
    {
     "data": {
      "text/plain": [
       "0.8228910728910729"
      ]
     },
     "execution_count": 35,
     "metadata": {},
     "output_type": "execute_result"
    }
   ],
   "source": [
    "np.median(scores)"
   ]
  },
  {
   "cell_type": "code",
   "execution_count": 36,
   "metadata": {
    "ExecuteTime": {
     "end_time": "2021-03-25T17:09:50.058773Z",
     "start_time": "2021-03-25T17:09:38.492Z"
    },
    "hidden": true
   },
   "outputs": [
    {
     "data": {
      "text/plain": [
       "0.828030954428203"
      ]
     },
     "execution_count": 36,
     "metadata": {},
     "output_type": "execute_result"
    }
   ],
   "source": [
    "# This should be the same as above!\n",
    "\n",
    "w_avg.score(X_te_ohe, y_test)"
   ]
  },
  {
   "cell_type": "markdown",
   "metadata": {
    "heading_collapsed": true
   },
   "source": [
    "# Bagging"
   ]
  },
  {
   "cell_type": "markdown",
   "metadata": {
    "hidden": true
   },
   "source": [
    "A single decision tree will often overfit your training data. Let's see if we have evidence of that in the current case:"
   ]
  },
  {
   "cell_type": "code",
   "execution_count": 37,
   "metadata": {
    "ExecuteTime": {
     "end_time": "2021-03-25T17:09:50.059761Z",
     "start_time": "2021-03-25T17:09:38.496Z"
    },
    "hidden": true
   },
   "outputs": [
    {
     "data": {
      "text/plain": [
       "0.8329238329238329"
      ]
     },
     "execution_count": 37,
     "metadata": {},
     "output_type": "execute_result"
    }
   ],
   "source": [
    "rt.score(X_tr_ohe, y_train)"
   ]
  },
  {
   "cell_type": "markdown",
   "metadata": {
    "hidden": true
   },
   "source": [
    "<details>\n",
    "    <summary><b>🧠 Knowledge Check</b>: What is this score? And why is it nearly equal to 1?</summary>\n",
    "    <br/>\n",
    "    <quote>\n",
    "    This nearly perfect score on the training data is already evidence of model overfitting. There are steps one can take to help with this, like limiting the \"depth\" of the nodes. And of course we can use cross-validation to get a more honest estimate of model quality\n",
    "    </quote>\n",
    "</details>\n",
    "\n",
    "\n"
   ]
  },
  {
   "cell_type": "code",
   "execution_count": 38,
   "metadata": {
    "ExecuteTime": {
     "end_time": "2021-03-25T17:09:50.060900Z",
     "start_time": "2021-03-25T17:09:38.500Z"
    },
    "hidden": true
   },
   "outputs": [
    {
     "data": {
      "text/plain": [
       "array([0.81613432, 0.82166257, 0.82104832, 0.82964783, 0.81981982])"
      ]
     },
     "execution_count": 38,
     "metadata": {},
     "output_type": "execute_result"
    }
   ],
   "source": [
    "scores = cross_val_score(estimator=rt, X=X_tr_ohe,\n",
    "                y=y_train, cv=5)\n",
    "scores"
   ]
  },
  {
   "cell_type": "code",
   "execution_count": 39,
   "metadata": {
    "ExecuteTime": {
     "end_time": "2021-03-25T17:09:50.061849Z",
     "start_time": "2021-03-25T17:09:38.503Z"
    },
    "hidden": true
   },
   "outputs": [
    {
     "data": {
      "text/plain": [
       "0.821048321048321"
      ]
     },
     "execution_count": 39,
     "metadata": {},
     "output_type": "execute_result"
    }
   ],
   "source": [
    "np.median(scores)"
   ]
  },
  {
   "cell_type": "code",
   "execution_count": 40,
   "metadata": {
    "ExecuteTime": {
     "end_time": "2021-03-25T17:09:50.062767Z",
     "start_time": "2021-03-25T17:09:38.506Z"
    },
    "hidden": true
   },
   "outputs": [
    {
     "data": {
      "text/plain": [
       "0.8250829136469722"
      ]
     },
     "execution_count": 40,
     "metadata": {},
     "output_type": "execute_result"
    }
   ],
   "source": [
    "rt.score(X_te_ohe, y_test)"
   ]
  },
  {
   "cell_type": "markdown",
   "metadata": {
    "hidden": true
   },
   "source": [
    "But it's often better to do something else: Plant another tree!\n",
    "\n",
    "Of course, if a second tree is going to be of any value, it has to be *different from* the first. Here's a good algorithm for achieving that:"
   ]
  },
  {
   "cell_type": "markdown",
   "metadata": {
    "heading_collapsed": true,
    "hidden": true
   },
   "source": [
    "## Bagging Algorithm"
   ]
  },
  {
   "cell_type": "markdown",
   "metadata": {
    "hidden": true
   },
   "source": [
    "- Take a sample of your X_train and fit a decision tree to it.\n",
    "- Replace the first batch of data and repeat.\n",
    "- When you've got as many trees as you like, make use of all your individual trees' predictions to come up with some holistic prediction. \n",
    "    - (Most obviously, we could take the average of our predictions, but there are other methods we might try.)"
   ]
  },
  {
   "cell_type": "markdown",
   "metadata": {
    "hidden": true
   },
   "source": [
    "* Because we're resampling our data with replacement, we're *bootstrapping*.\n",
    "  --pasteing is bootstrap WITHOUT replacement (ie replace=False)\n",
    "* Because we're making use of our many samples' predictions, we're *aggregating*.\n",
    "* Because we're bootstrapping and aggregating all in the same algorithm, we're *bagging*."
   ]
  },
  {
   "cell_type": "markdown",
   "metadata": {
    "heading_collapsed": true,
    "hidden": true
   },
   "source": [
    "## Back to the Example Data"
   ]
  },
  {
   "cell_type": "code",
   "execution_count": 41,
   "metadata": {
    "ExecuteTime": {
     "end_time": "2021-03-25T17:09:50.063733Z",
     "start_time": "2021-03-25T17:09:38.512Z"
    },
    "hidden": true
   },
   "outputs": [],
   "source": [
    "# Instatiate a BaggingRegessor\n",
    "\n",
    "bag = BaggingClassifier(n_estimators=100,\n",
    "                       verbose=1,\n",
    "                       random_state=1)"
   ]
  },
  {
   "cell_type": "code",
   "execution_count": 42,
   "metadata": {
    "ExecuteTime": {
     "end_time": "2021-03-25T17:09:50.064677Z",
     "start_time": "2021-03-25T17:09:38.516Z"
    },
    "hidden": true
   },
   "outputs": [
    {
     "name": "stderr",
     "output_type": "stream",
     "text": [
      "[Parallel(n_jobs=1)]: Using backend SequentialBackend with 1 concurrent workers.\n",
      "[Parallel(n_jobs=1)]: Done   1 out of   1 | elapsed:    4.2s finished\n"
     ]
    },
    {
     "data": {
      "text/plain": [
       "BaggingClassifier(n_estimators=100, random_state=1, verbose=1)"
      ]
     },
     "execution_count": 42,
     "metadata": {},
     "output_type": "execute_result"
    }
   ],
   "source": [
    "# Fit it\n",
    "\n",
    "bag.fit(X_tr_ohe, y_train)"
   ]
  },
  {
   "cell_type": "code",
   "execution_count": 43,
   "metadata": {
    "ExecuteTime": {
     "end_time": "2021-03-25T17:09:50.066810Z",
     "start_time": "2021-03-25T17:09:38.519Z"
    },
    "hidden": true
   },
   "outputs": [
    {
     "name": "stderr",
     "output_type": "stream",
     "text": [
      "[Parallel(n_jobs=1)]: Using backend SequentialBackend with 1 concurrent workers.\n",
      "[Parallel(n_jobs=1)]: Done   1 out of   1 | elapsed:    3.4s finished\n",
      "[Parallel(n_jobs=1)]: Using backend SequentialBackend with 1 concurrent workers.\n",
      "[Parallel(n_jobs=1)]: Done   1 out of   1 | elapsed:    0.1s finished\n",
      "[Parallel(n_jobs=1)]: Using backend SequentialBackend with 1 concurrent workers.\n",
      "[Parallel(n_jobs=1)]: Done   1 out of   1 | elapsed:    2.9s finished\n",
      "[Parallel(n_jobs=1)]: Using backend SequentialBackend with 1 concurrent workers.\n",
      "[Parallel(n_jobs=1)]: Done   1 out of   1 | elapsed:    0.1s finished\n",
      "[Parallel(n_jobs=1)]: Using backend SequentialBackend with 1 concurrent workers.\n",
      "[Parallel(n_jobs=1)]: Done   1 out of   1 | elapsed:    3.0s finished\n",
      "[Parallel(n_jobs=1)]: Using backend SequentialBackend with 1 concurrent workers.\n",
      "[Parallel(n_jobs=1)]: Done   1 out of   1 | elapsed:    0.1s finished\n",
      "[Parallel(n_jobs=1)]: Using backend SequentialBackend with 1 concurrent workers.\n",
      "[Parallel(n_jobs=1)]: Done   1 out of   1 | elapsed:    3.0s finished\n",
      "[Parallel(n_jobs=1)]: Using backend SequentialBackend with 1 concurrent workers.\n",
      "[Parallel(n_jobs=1)]: Done   1 out of   1 | elapsed:    0.1s finished\n",
      "[Parallel(n_jobs=1)]: Using backend SequentialBackend with 1 concurrent workers.\n",
      "[Parallel(n_jobs=1)]: Done   1 out of   1 | elapsed:    3.6s finished\n",
      "[Parallel(n_jobs=1)]: Using backend SequentialBackend with 1 concurrent workers.\n",
      "[Parallel(n_jobs=1)]: Done   1 out of   1 | elapsed:    0.1s finished\n"
     ]
    },
    {
     "data": {
      "text/plain": [
       "array([0.81572482, 0.82268632, 0.82043407, 0.82678133, 0.81941032])"
      ]
     },
     "execution_count": 43,
     "metadata": {},
     "output_type": "execute_result"
    }
   ],
   "source": [
    "# Cross-validation\n",
    "\n",
    "scores = cross_val_score(estimator=bag, X=X_tr_ohe,\n",
    "               y=y_train, cv=5)\n",
    "scores"
   ]
  },
  {
   "cell_type": "code",
   "execution_count": 44,
   "metadata": {
    "ExecuteTime": {
     "end_time": "2021-03-25T17:09:50.067743Z",
     "start_time": "2021-03-25T17:09:38.522Z"
    },
    "hidden": true
   },
   "outputs": [
    {
     "data": {
      "text/plain": [
       "0.8204340704340705"
      ]
     },
     "execution_count": 44,
     "metadata": {},
     "output_type": "execute_result"
    }
   ],
   "source": [
    "np.median(scores)"
   ]
  },
  {
   "cell_type": "code",
   "execution_count": 45,
   "metadata": {
    "ExecuteTime": {
     "end_time": "2021-03-25T17:09:50.068585Z",
     "start_time": "2021-03-25T17:09:38.525Z"
    },
    "hidden": true
   },
   "outputs": [
    {
     "name": "stderr",
     "output_type": "stream",
     "text": [
      "[Parallel(n_jobs=1)]: Using backend SequentialBackend with 1 concurrent workers.\n",
      "[Parallel(n_jobs=1)]: Done   1 out of   1 | elapsed:    0.3s finished\n"
     ]
    },
    {
     "data": {
      "text/plain": [
       "0.8241002333865618"
      ]
     },
     "execution_count": 45,
     "metadata": {},
     "output_type": "execute_result"
    }
   ],
   "source": [
    "# Score on test\n",
    "\n",
    "bag.score(X_te_ohe, y_test)"
   ]
  },
  {
   "cell_type": "markdown",
   "metadata": {
    "heading_collapsed": true,
    "hidden": true
   },
   "source": [
    "### Change the base estimator"
   ]
  },
  {
   "cell_type": "code",
   "execution_count": 46,
   "metadata": {
    "ExecuteTime": {
     "end_time": "2021-03-25T17:09:50.069457Z",
     "start_time": "2021-03-25T17:09:38.529Z"
    },
    "hidden": true
   },
   "outputs": [],
   "source": [
    "bag = BaggingClassifier(random_state=1,\n",
    "                      base_estimator=KNeighborsClassifier(3),\n",
    "                       n_estimators=4)"
   ]
  },
  {
   "cell_type": "code",
   "execution_count": 47,
   "metadata": {
    "ExecuteTime": {
     "end_time": "2021-03-25T17:09:50.070324Z",
     "start_time": "2021-03-25T17:09:38.532Z"
    },
    "hidden": true,
    "scrolled": true
   },
   "outputs": [
    {
     "data": {
      "text/plain": [
       "BaggingClassifier(base_estimator=KNeighborsClassifier(n_neighbors=3),\n",
       "                  n_estimators=4, random_state=1)"
      ]
     },
     "execution_count": 47,
     "metadata": {},
     "output_type": "execute_result"
    }
   ],
   "source": [
    "bag.fit(X_tr_ohe, y_train)"
   ]
  },
  {
   "cell_type": "code",
   "execution_count": 48,
   "metadata": {
    "ExecuteTime": {
     "end_time": "2021-03-25T17:09:50.071080Z",
     "start_time": "2021-03-25T17:09:38.535Z"
    },
    "hidden": true
   },
   "outputs": [
    {
     "data": {
      "text/plain": [
       "0.804692298243459"
      ]
     },
     "execution_count": 48,
     "metadata": {},
     "output_type": "execute_result"
    }
   ],
   "source": [
    "bag.score(X_te_ohe, y_test)"
   ]
  },
  {
   "cell_type": "markdown",
   "metadata": {
    "heading_collapsed": true
   },
   "source": [
    "# Fitting a Random Forest"
   ]
  },
  {
   "cell_type": "markdown",
   "metadata": {
    "heading_collapsed": true,
    "hidden": true
   },
   "source": [
    "## An Aside Story - Bananas 🍌"
   ]
  },
  {
   "cell_type": "markdown",
   "metadata": {
    "hidden": true
   },
   "source": [
    "Banana trees can be susceptible to [Panama's disease](https://en.wikipedia.org/wiki/Panama_disease)"
   ]
  },
  {
   "cell_type": "markdown",
   "metadata": {
    "hidden": true
   },
   "source": [
    "![Many individual yellow bananas](images/bananas.jpg)"
   ]
  },
  {
   "cell_type": "markdown",
   "metadata": {
    "hidden": true
   },
   "source": [
    "They're all clones!\n",
    "\n",
    "Similarly, all the Decision Trees will be the same if given the same data! (A clone!!!)"
   ]
  },
  {
   "cell_type": "markdown",
   "metadata": {
    "heading_collapsed": true,
    "hidden": true
   },
   "source": [
    "## The Goods & The Bads"
   ]
  },
  {
   "cell_type": "markdown",
   "metadata": {
    "hidden": true
   },
   "source": [
    "**The Goods**\n",
    "\n",
    "- Super friend! \n",
    "- High performance \n",
    "    + low variance\n",
    "- Transparent\n",
    "    + inherited from Decision Trees\n",
    "    "
   ]
  },
  {
   "cell_type": "markdown",
   "metadata": {
    "hidden": true
   },
   "source": [
    "**The Bads**\n",
    "\n",
    "- We got so many trees to plant...\n",
    "- Computationally expensive\n",
    "- Memory\n",
    "    + all trees stored in memory\n",
    "    + think back to k-Nearest Neighbors"
   ]
  },
  {
   "cell_type": "markdown",
   "metadata": {
    "heading_collapsed": true,
    "hidden": true
   },
   "source": [
    "### Breed variety of trees"
   ]
  },
  {
   "cell_type": "markdown",
   "metadata": {
    "hidden": true
   },
   "source": [
    "Let's add an extra layer of randomization: Instead of using *all* the features of my model to optimize a branch at each node, I'll just choose a subset of my features.\n",
    "\n",
    "That's the essence of a random forest model. Note that there are now **two** levels of random sampling happening: To build a new tree, I'll be taking only some of my data points; and at any branching point in a tree, I'll be using only some of my features to determine the split."
   ]
  },
  {
   "cell_type": "markdown",
   "metadata": {
    "heading_collapsed": true,
    "hidden": true
   },
   "source": [
    "#### Steps:"
   ]
  },
  {
   "cell_type": "markdown",
   "metadata": {
    "hidden": true
   },
   "source": [
    "1. Save a portion of data for validation (**out-of-bag**), the rest for training (**bag**)\n",
    "2. The data for training (**bag**) is then split up by randomly selecting predictors\n",
    "3. Grow/train your tree with the training data using just those features\n",
    "4. Use our validation set (**out-of-bag**), take out the columns used in our tree from the previous step, and predict using the tree & this *out-of-bag* data\n",
    "5. Compare on how well the tree did *out-of-bag error*\n",
    "6. Repeat to make new trees and use the result to \"vote\" for the final decision"
   ]
  },
  {
   "cell_type": "markdown",
   "metadata": {
    "heading_collapsed": true,
    "hidden": true
   },
   "source": [
    "## Back to the Example Data"
   ]
  },
  {
   "cell_type": "markdown",
   "metadata": {
    "hidden": true
   },
   "source": [
    "> Here's the [documentation](https://scikit-learn.org/stable/modules/generated/sklearn.ensemble.RandomForestClassifier.html#sklearn.ensemble.RandomForestClassifier) on `RandomForestClassifier`"
   ]
  },
  {
   "cell_type": "markdown",
   "metadata": {},
   "source": [
    "Default is 100"
   ]
  },
  {
   "cell_type": "code",
   "execution_count": 49,
   "metadata": {
    "ExecuteTime": {
     "end_time": "2021-03-25T17:09:50.071966Z",
     "start_time": "2021-03-25T17:09:38.545Z"
    },
    "hidden": true
   },
   "outputs": [],
   "source": [
    "# Instantiate a RandomForestClassifier\n",
    "\n",
    "rfr = RandomForestClassifier(max_features='sqrt',\n",
    "                            max_samples=0.5,\n",
    "                            random_state=1)"
   ]
  },
  {
   "cell_type": "code",
   "execution_count": 50,
   "metadata": {
    "ExecuteTime": {
     "end_time": "2021-03-25T17:09:50.072768Z",
     "start_time": "2021-03-25T17:09:38.548Z"
    },
    "hidden": true
   },
   "outputs": [
    {
     "data": {
      "text/plain": [
       "RandomForestClassifier(max_features='sqrt', max_samples=0.5, random_state=1)"
      ]
     },
     "execution_count": 50,
     "metadata": {},
     "output_type": "execute_result"
    }
   ],
   "source": [
    "# Fit it\n",
    "\n",
    "rfr.fit(X_tr_ohe, y_train)"
   ]
  },
  {
   "cell_type": "code",
   "execution_count": 51,
   "metadata": {
    "ExecuteTime": {
     "end_time": "2021-03-25T17:09:50.073758Z",
     "start_time": "2021-03-25T17:09:38.551Z"
    },
    "hidden": true
   },
   "outputs": [
    {
     "data": {
      "text/plain": [
       "array([0.81838657, 0.82186732, 0.82104832, 0.82903358, 0.82125307])"
      ]
     },
     "execution_count": 51,
     "metadata": {},
     "output_type": "execute_result"
    }
   ],
   "source": [
    "# Cross-validation\n",
    "\n",
    "scores = cross_val_score(estimator=rfr, X=X_tr_ohe,\n",
    "               y=y_train, cv=5)\n",
    "scores"
   ]
  },
  {
   "cell_type": "code",
   "execution_count": 52,
   "metadata": {
    "ExecuteTime": {
     "end_time": "2021-03-25T17:09:50.074539Z",
     "start_time": "2021-03-25T17:09:38.555Z"
    },
    "hidden": true
   },
   "outputs": [
    {
     "data": {
      "text/plain": [
       "0.8212530712530712"
      ]
     },
     "execution_count": 52,
     "metadata": {},
     "output_type": "execute_result"
    }
   ],
   "source": [
    "np.median(scores)"
   ]
  },
  {
   "cell_type": "code",
   "execution_count": 53,
   "metadata": {
    "ExecuteTime": {
     "end_time": "2021-03-25T17:09:50.075447Z",
     "start_time": "2021-03-25T17:09:38.558Z"
    },
    "hidden": true
   },
   "outputs": [
    {
     "data": {
      "text/plain": [
       "0.8249600786144208"
      ]
     },
     "execution_count": 53,
     "metadata": {},
     "output_type": "execute_result"
    }
   ],
   "source": [
    "# Score on test\n",
    "\n",
    "score = rfr.score(X_te_ohe, y_test)\n",
    "score"
   ]
  },
  {
   "cell_type": "code",
   "execution_count": 54,
   "metadata": {
    "ExecuteTime": {
     "end_time": "2021-03-25T17:09:50.076294Z",
     "start_time": "2021-03-25T17:09:38.561Z"
    },
    "hidden": true
   },
   "outputs": [
    {
     "data": {
      "text/plain": [
       "Index(['x0_11th', 'x0_12th', 'x0_1st-4th', 'x0_5th-6th', 'x0_7th-8th',\n",
       "       'x0_9th', 'x0_Assoc-acdm', 'x0_Assoc-voc', 'x0_Bachelors',\n",
       "       'x0_Doctorate', 'x0_HS-grad', 'x0_Masters', 'x0_Preschool',\n",
       "       'x0_Prof-school', 'x0_Some-college', 'x1_Adm-clerical',\n",
       "       'x1_Armed-Forces', 'x1_Craft-repair', 'x1_Exec-managerial',\n",
       "       'x1_Farming-fishing', 'x1_Handlers-cleaners', 'x1_Machine-op-inspct',\n",
       "       'x1_Other-service', 'x1_Priv-house-serv', 'x1_Prof-specialty',\n",
       "       'x1_Protective-serv', 'x1_Sales', 'x1_Tech-support',\n",
       "       'x1_Transport-moving', 'x2_Not-in-family', 'x2_Other-relative',\n",
       "       'x2_Own-child', 'x2_Unmarried', 'x2_Wife', 'x3_Male'],\n",
       "      dtype='object')"
      ]
     },
     "execution_count": 54,
     "metadata": {},
     "output_type": "execute_result"
    }
   ],
   "source": [
    "X_te_ohe.columns"
   ]
  },
  {
   "cell_type": "markdown",
   "metadata": {
    "heading_collapsed": true,
    "hidden": true
   },
   "source": [
    "## Cool Features of Random Forests"
   ]
  },
  {
   "cell_type": "markdown",
   "metadata": {
    "hidden": true
   },
   "source": [
    "There are some extra investigations we can do with random forests since they're built of decision trees.\n",
    "\n",
    "> **NOTE**\n",
    ">\n",
    "> Not all of these are _specific_ to random forests and can be applied to other (ensemble) models"
   ]
  },
  {
   "cell_type": "markdown",
   "metadata": {
    "heading_collapsed": true,
    "hidden": true
   },
   "source": [
    "### Investigate Your Forest 🌲🌲👀🌲🌲"
   ]
  },
  {
   "cell_type": "markdown",
   "metadata": {
    "hidden": true
   },
   "source": [
    "We can check out our trained estimators after training the ensemble. This isn't necessarily unique to random forests, but since the base model is always a decision tree we can really investigate how the model is working!"
   ]
  },
  {
   "cell_type": "code",
   "execution_count": 55,
   "metadata": {
    "ExecuteTime": {
     "end_time": "2021-03-25T17:09:50.077172Z",
     "start_time": "2021-03-25T17:09:38.565Z"
    },
    "hidden": true,
    "scrolled": true
   },
   "outputs": [
    {
     "name": "stdout",
     "output_type": "stream",
     "text": [
      "100\n"
     ]
    },
    {
     "data": {
      "text/plain": [
       "[DecisionTreeClassifier(max_features='sqrt', random_state=1791095845),\n",
       " DecisionTreeClassifier(max_features='sqrt', random_state=2135392491),\n",
       " DecisionTreeClassifier(max_features='sqrt', random_state=946286476),\n",
       " DecisionTreeClassifier(max_features='sqrt', random_state=1857819720),\n",
       " DecisionTreeClassifier(max_features='sqrt', random_state=491263),\n",
       " DecisionTreeClassifier(max_features='sqrt', random_state=550290313),\n",
       " DecisionTreeClassifier(max_features='sqrt', random_state=1298508491),\n",
       " DecisionTreeClassifier(max_features='sqrt', random_state=2143362693),\n",
       " DecisionTreeClassifier(max_features='sqrt', random_state=630311759),\n",
       " DecisionTreeClassifier(max_features='sqrt', random_state=1013994432),\n",
       " DecisionTreeClassifier(max_features='sqrt', random_state=396591248),\n",
       " DecisionTreeClassifier(max_features='sqrt', random_state=1703301249),\n",
       " DecisionTreeClassifier(max_features='sqrt', random_state=799981516),\n",
       " DecisionTreeClassifier(max_features='sqrt', random_state=1666063943),\n",
       " DecisionTreeClassifier(max_features='sqrt', random_state=1484172013),\n",
       " DecisionTreeClassifier(max_features='sqrt', random_state=729053692),\n",
       " DecisionTreeClassifier(max_features='sqrt', random_state=1704103302),\n",
       " DecisionTreeClassifier(max_features='sqrt', random_state=1870626073),\n",
       " DecisionTreeClassifier(max_features='sqrt', random_state=166716594),\n",
       " DecisionTreeClassifier(max_features='sqrt', random_state=1487394068),\n",
       " DecisionTreeClassifier(max_features='sqrt', random_state=1800426750),\n",
       " DecisionTreeClassifier(max_features='sqrt', random_state=1345499493),\n",
       " DecisionTreeClassifier(max_features='sqrt', random_state=795511698),\n",
       " DecisionTreeClassifier(max_features='sqrt', random_state=105433556),\n",
       " DecisionTreeClassifier(max_features='sqrt', random_state=878115723),\n",
       " DecisionTreeClassifier(max_features='sqrt', random_state=1904615676),\n",
       " DecisionTreeClassifier(max_features='sqrt', random_state=1624002026),\n",
       " DecisionTreeClassifier(max_features='sqrt', random_state=986026652),\n",
       " DecisionTreeClassifier(max_features='sqrt', random_state=117628829),\n",
       " DecisionTreeClassifier(max_features='sqrt', random_state=147806606),\n",
       " DecisionTreeClassifier(max_features='sqrt', random_state=732152370),\n",
       " DecisionTreeClassifier(max_features='sqrt', random_state=1777953348),\n",
       " DecisionTreeClassifier(max_features='sqrt', random_state=1792310487),\n",
       " DecisionTreeClassifier(max_features='sqrt', random_state=1963679703),\n",
       " DecisionTreeClassifier(max_features='sqrt', random_state=252070889),\n",
       " DecisionTreeClassifier(max_features='sqrt', random_state=1849836273),\n",
       " DecisionTreeClassifier(max_features='sqrt', random_state=602957303),\n",
       " DecisionTreeClassifier(max_features='sqrt', random_state=1886039518),\n",
       " DecisionTreeClassifier(max_features='sqrt', random_state=850839392),\n",
       " DecisionTreeClassifier(max_features='sqrt', random_state=1195672662),\n",
       " DecisionTreeClassifier(max_features='sqrt', random_state=1291688077),\n",
       " DecisionTreeClassifier(max_features='sqrt', random_state=927586281),\n",
       " DecisionTreeClassifier(max_features='sqrt', random_state=2011168137),\n",
       " DecisionTreeClassifier(max_features='sqrt', random_state=1300333575),\n",
       " DecisionTreeClassifier(max_features='sqrt', random_state=1346146623),\n",
       " DecisionTreeClassifier(max_features='sqrt', random_state=398576445),\n",
       " DecisionTreeClassifier(max_features='sqrt', random_state=826019350),\n",
       " DecisionTreeClassifier(max_features='sqrt', random_state=77964601),\n",
       " DecisionTreeClassifier(max_features='sqrt', random_state=1616579073),\n",
       " DecisionTreeClassifier(max_features='sqrt', random_state=1567750016),\n",
       " DecisionTreeClassifier(max_features='sqrt', random_state=1694822716),\n",
       " DecisionTreeClassifier(max_features='sqrt', random_state=1413675217),\n",
       " DecisionTreeClassifier(max_features='sqrt', random_state=365262088),\n",
       " DecisionTreeClassifier(max_features='sqrt', random_state=1415635672),\n",
       " DecisionTreeClassifier(max_features='sqrt', random_state=167739021),\n",
       " DecisionTreeClassifier(max_features='sqrt', random_state=1172740723),\n",
       " DecisionTreeClassifier(max_features='sqrt', random_state=729416111),\n",
       " DecisionTreeClassifier(max_features='sqrt', random_state=254447594),\n",
       " DecisionTreeClassifier(max_features='sqrt', random_state=1624109689),\n",
       " DecisionTreeClassifier(max_features='sqrt', random_state=732412360),\n",
       " DecisionTreeClassifier(max_features='sqrt', random_state=422396446),\n",
       " DecisionTreeClassifier(max_features='sqrt', random_state=399713351),\n",
       " DecisionTreeClassifier(max_features='sqrt', random_state=1808643459),\n",
       " DecisionTreeClassifier(max_features='sqrt', random_state=737248710),\n",
       " DecisionTreeClassifier(max_features='sqrt', random_state=1966620565),\n",
       " DecisionTreeClassifier(max_features='sqrt', random_state=1768615473),\n",
       " DecisionTreeClassifier(max_features='sqrt', random_state=142443833),\n",
       " DecisionTreeClassifier(max_features='sqrt', random_state=848474627),\n",
       " DecisionTreeClassifier(max_features='sqrt', random_state=824105924),\n",
       " DecisionTreeClassifier(max_features='sqrt', random_state=1243949848),\n",
       " DecisionTreeClassifier(max_features='sqrt', random_state=1355129329),\n",
       " DecisionTreeClassifier(max_features='sqrt', random_state=610401323),\n",
       " DecisionTreeClassifier(max_features='sqrt', random_state=801015372),\n",
       " DecisionTreeClassifier(max_features='sqrt', random_state=1216826394),\n",
       " DecisionTreeClassifier(max_features='sqrt', random_state=1437206324),\n",
       " DecisionTreeClassifier(max_features='sqrt', random_state=1771840848),\n",
       " DecisionTreeClassifier(max_features='sqrt', random_state=78547565),\n",
       " DecisionTreeClassifier(max_features='sqrt', random_state=146764659),\n",
       " DecisionTreeClassifier(max_features='sqrt', random_state=1074361641),\n",
       " DecisionTreeClassifier(max_features='sqrt', random_state=532704722),\n",
       " DecisionTreeClassifier(max_features='sqrt', random_state=2099642383),\n",
       " DecisionTreeClassifier(max_features='sqrt', random_state=689925184),\n",
       " DecisionTreeClassifier(max_features='sqrt', random_state=1065863364),\n",
       " DecisionTreeClassifier(max_features='sqrt', random_state=1282027545),\n",
       " DecisionTreeClassifier(max_features='sqrt', random_state=1204497775),\n",
       " DecisionTreeClassifier(max_features='sqrt', random_state=1916133090),\n",
       " DecisionTreeClassifier(max_features='sqrt', random_state=1242445271),\n",
       " DecisionTreeClassifier(max_features='sqrt', random_state=954017671),\n",
       " DecisionTreeClassifier(max_features='sqrt', random_state=443352346),\n",
       " DecisionTreeClassifier(max_features='sqrt', random_state=315096729),\n",
       " DecisionTreeClassifier(max_features='sqrt', random_state=1923688040),\n",
       " DecisionTreeClassifier(max_features='sqrt', random_state=2015364118),\n",
       " DecisionTreeClassifier(max_features='sqrt', random_state=1754904329),\n",
       " DecisionTreeClassifier(max_features='sqrt', random_state=413056707),\n",
       " DecisionTreeClassifier(max_features='sqrt', random_state=1261063143),\n",
       " DecisionTreeClassifier(max_features='sqrt', random_state=1732461694),\n",
       " DecisionTreeClassifier(max_features='sqrt', random_state=1235985687),\n",
       " DecisionTreeClassifier(max_features='sqrt', random_state=513207677),\n",
       " DecisionTreeClassifier(max_features='sqrt', random_state=558468452),\n",
       " DecisionTreeClassifier(max_features='sqrt', random_state=106512539)]"
      ]
     },
     "execution_count": 55,
     "metadata": {},
     "output_type": "execute_result"
    }
   ],
   "source": [
    "model_estimators = rfr.estimators_ \n",
    "print(len(model_estimators))\n",
    "model_estimators"
   ]
  },
  {
   "cell_type": "code",
   "execution_count": 56,
   "metadata": {
    "ExecuteTime": {
     "end_time": "2021-03-25T17:09:50.078026Z",
     "start_time": "2021-03-25T17:09:38.569Z"
    },
    "hidden": true
   },
   "outputs": [
    {
     "name": "stdout",
     "output_type": "stream",
     "text": [
      "Overall model's score was 0.825\n",
      "======================================================================\n"
     ]
    },
    {
     "data": {
      "text/plain": [
       "DecisionTreeClassifier(max_features='sqrt', random_state=1791095845)"
      ]
     },
     "metadata": {},
     "output_type": "display_data"
    },
    {
     "name": "stdout",
     "output_type": "stream",
     "text": [
      "\tModel gave score of 0.823\n"
     ]
    },
    {
     "data": {
      "text/plain": [
       "DecisionTreeClassifier(max_features='sqrt', random_state=2135392491)"
      ]
     },
     "metadata": {},
     "output_type": "display_data"
    },
    {
     "name": "stdout",
     "output_type": "stream",
     "text": [
      "\tModel gave score of 0.822\n"
     ]
    },
    {
     "data": {
      "text/plain": [
       "DecisionTreeClassifier(max_features='sqrt', random_state=946286476)"
      ]
     },
     "metadata": {},
     "output_type": "display_data"
    },
    {
     "name": "stdout",
     "output_type": "stream",
     "text": [
      "\tModel gave score of 0.819\n"
     ]
    },
    {
     "data": {
      "text/plain": [
       "DecisionTreeClassifier(max_features='sqrt', random_state=1857819720)"
      ]
     },
     "metadata": {},
     "output_type": "display_data"
    },
    {
     "name": "stdout",
     "output_type": "stream",
     "text": [
      "\tModel gave score of 0.822\n"
     ]
    },
    {
     "data": {
      "text/plain": [
       "DecisionTreeClassifier(max_features='sqrt', random_state=491263)"
      ]
     },
     "metadata": {},
     "output_type": "display_data"
    },
    {
     "name": "stdout",
     "output_type": "stream",
     "text": [
      "\tModel gave score of 0.821\n"
     ]
    }
   ],
   "source": [
    "print(f'Overall model\\'s score was {score:.3f}')\n",
    "print('='*70)\n",
    "\n",
    "for model in model_estimators[:5]:\n",
    "    display(model)\n",
    "    model_score = model.score(X_te_ohe, y_test)\n",
    "    print(f'\\tModel gave score of {model_score:.3f}')"
   ]
  },
  {
   "cell_type": "markdown",
   "metadata": {
    "heading_collapsed": true,
    "hidden": true
   },
   "source": [
    "### Feature Importance"
   ]
  },
  {
   "cell_type": "markdown",
   "metadata": {
    "hidden": true
   },
   "source": [
    "We can use [`.feature_importances_`](https://scikit-learn.org/stable/modules/generated/sklearn.ensemble.RandomForestClassifier.html#sklearn.ensemble.RandomForestClassifier.feature_importances_) property of the trained model to get an idea of what features mattered the most"
   ]
  },
  {
   "cell_type": "code",
   "execution_count": 57,
   "metadata": {
    "ExecuteTime": {
     "end_time": "2021-03-25T17:09:50.078819Z",
     "start_time": "2021-03-25T17:09:38.573Z"
    },
    "hidden": true
   },
   "outputs": [
    {
     "data": {
      "text/plain": [
       "{'x0_11th': 0.00980712490911537,\n",
       " 'x0_12th': 0.0038737852216593816,\n",
       " 'x0_1st-4th': 0.0021472312633547884,\n",
       " 'x0_5th-6th': 0.003634926552043488,\n",
       " 'x0_7th-8th': 0.007066801422009459,\n",
       " 'x0_9th': 0.006244667656806083,\n",
       " 'x0_Assoc-acdm': 0.010863954851914798,\n",
       " 'x0_Assoc-voc': 0.010229604641031053,\n",
       " 'x0_Bachelors': 0.0635689750402614,\n",
       " 'x0_Doctorate': 0.022259610336353458,\n",
       " 'x0_HS-grad': 0.02334469334612589,\n",
       " 'x0_Masters': 0.051159117468887814,\n",
       " 'x0_Preschool': 0.00037664419884751596,\n",
       " 'x0_Prof-school': 0.032820840422392146,\n",
       " 'x0_Some-college': 0.016303429754082506,\n",
       " 'x1_Adm-clerical': 0.010753565590176829,\n",
       " 'x1_Armed-Forces': 5.7819127477563116e-05,\n",
       " 'x1_Craft-repair': 0.009424234231434946,\n",
       " 'x1_Exec-managerial': 0.08287174941777982,\n",
       " 'x1_Farming-fishing': 0.00898163107923625,\n",
       " 'x1_Handlers-cleaners': 0.009905128863746221,\n",
       " 'x1_Machine-op-inspct': 0.007786686690077609,\n",
       " 'x1_Other-service': 0.026205708447500413,\n",
       " 'x1_Priv-house-serv': 0.0007005907744311382,\n",
       " 'x1_Prof-specialty': 0.06355850269852444,\n",
       " 'x1_Protective-serv': 0.006968585119425179,\n",
       " 'x1_Sales': 0.016154261487308214,\n",
       " 'x1_Tech-support': 0.01247873826258026,\n",
       " 'x1_Transport-moving': 0.005770968302670905,\n",
       " 'x2_Not-in-family': 0.131539589337216,\n",
       " 'x2_Other-relative': 0.02569902578885822,\n",
       " 'x2_Own-child': 0.13116342146478377,\n",
       " 'x2_Unmarried': 0.055568640317398485,\n",
       " 'x2_Wife': 0.046238476796802624,\n",
       " 'x3_Male': 0.08447126911768611}"
      ]
     },
     "execution_count": 57,
     "metadata": {},
     "output_type": "execute_result"
    }
   ],
   "source": [
    "feat_import = {name: score \n",
    "                   for name, score \n",
    "                       in zip(X_te_ohe.columns, rfr.feature_importances_)\n",
    "}\n",
    "feat_import"
   ]
  },
  {
   "cell_type": "markdown",
   "metadata": {
    "heading_collapsed": true,
    "hidden": true
   },
   "source": [
    "## Extremely Randomized Trees (Extra Trees)"
   ]
  },
  {
   "cell_type": "markdown",
   "metadata": {
    "hidden": true
   },
   "source": [
    "Sometimes we might want even one more bit of randomization. Instead of always choosing the *optimal* branching path, we might just choose a branching path at random. If we're doing that, then we've got extremely randomized trees.\n",
    "\n",
    "There are now **three** levels of randomization: sampling of data, sampling of features, and random selection of branching paths."
   ]
  },
  {
   "cell_type": "code",
   "execution_count": 58,
   "metadata": {
    "ExecuteTime": {
     "end_time": "2021-03-25T17:09:50.079771Z",
     "start_time": "2021-03-25T17:09:38.577Z"
    },
    "hidden": true
   },
   "outputs": [],
   "source": [
    "# Instantiate an ExtraTreesRegressor\n",
    "\n",
    "etr = ExtraTreesClassifier(max_features='sqrt',\n",
    "                         max_samples=0.5,\n",
    "                         bootstrap=True,\n",
    "                         random_state=1)"
   ]
  },
  {
   "cell_type": "code",
   "execution_count": 59,
   "metadata": {
    "ExecuteTime": {
     "end_time": "2021-03-25T17:09:50.080743Z",
     "start_time": "2021-03-25T17:09:38.580Z"
    },
    "hidden": true
   },
   "outputs": [
    {
     "data": {
      "text/plain": [
       "ExtraTreesClassifier(bootstrap=True, max_features='sqrt', max_samples=0.5,\n",
       "                     random_state=1)"
      ]
     },
     "execution_count": 59,
     "metadata": {},
     "output_type": "execute_result"
    }
   ],
   "source": [
    "# Fit it\n",
    "\n",
    "etr.fit(X_tr_ohe, y_train)"
   ]
  },
  {
   "cell_type": "code",
   "execution_count": 60,
   "metadata": {
    "ExecuteTime": {
     "end_time": "2021-03-25T17:09:50.081828Z",
     "start_time": "2021-03-25T17:09:38.583Z"
    },
    "hidden": true
   },
   "outputs": [
    {
     "data": {
      "text/plain": [
       "array([0.81777232, 0.82104832, 0.82186732, 0.82944308, 0.82166257])"
      ]
     },
     "execution_count": 60,
     "metadata": {},
     "output_type": "execute_result"
    }
   ],
   "source": [
    "# Cross-validation\n",
    "\n",
    "scores = cross_val_score(estimator=etr, X=X_tr_ohe,\n",
    "               y=y_train, cv=5)\n",
    "scores"
   ]
  },
  {
   "cell_type": "code",
   "execution_count": 61,
   "metadata": {
    "ExecuteTime": {
     "end_time": "2021-03-25T17:09:50.082938Z",
     "start_time": "2021-03-25T17:09:38.587Z"
    },
    "hidden": true
   },
   "outputs": [
    {
     "data": {
      "text/plain": [
       "0.8216625716625716"
      ]
     },
     "execution_count": 61,
     "metadata": {},
     "output_type": "execute_result"
    }
   ],
   "source": [
    "np.median(scores)"
   ]
  },
  {
   "cell_type": "code",
   "execution_count": 62,
   "metadata": {
    "hidden": true
   },
   "outputs": [
    {
     "data": {
      "text/plain": [
       "0.8245915735167669"
      ]
     },
     "execution_count": 62,
     "metadata": {},
     "output_type": "execute_result"
    }
   ],
   "source": [
    "# Score on test\n",
    "\n",
    "etr.score(X_te_ohe, y_test)"
   ]
  }
 ],
 "metadata": {
  "kernelspec": {
   "display_name": "Python 3",
   "language": "python",
   "name": "python3"
  },
  "language_info": {
   "codemirror_mode": {
    "name": "ipython",
    "version": 3
   },
   "file_extension": ".py",
   "mimetype": "text/x-python",
   "name": "python",
   "nbconvert_exporter": "python",
   "pygments_lexer": "ipython3",
   "version": "3.8.5"
  },
  "toc": {
   "base_numbering": 1,
   "nav_menu": {},
   "number_sections": true,
   "sideBar": true,
   "skip_h1_title": false,
   "title_cell": "Table of Contents",
   "title_sidebar": "TOC",
   "toc_cell": true,
   "toc_position": {
    "height": "calc(100% - 180px)",
    "left": "10px",
    "top": "150px",
    "width": "288px"
   },
   "toc_section_display": true,
   "toc_window_display": true
  }
 },
 "nbformat": 4,
 "nbformat_minor": 4
}
