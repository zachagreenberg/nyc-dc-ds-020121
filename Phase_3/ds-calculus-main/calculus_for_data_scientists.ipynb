{
 "cells": [
  {
   "cell_type": "markdown",
   "metadata": {
    "toc": true
   },
   "source": [
    "<h1>Table of Contents<span class=\"tocSkip\"></span></h1>\n",
    "<div class=\"toc\"><ul class=\"toc-item\"><li><span><a href=\"#Agenda\" data-toc-modified-id=\"Agenda-1\"><span class=\"toc-item-num\">1&nbsp;&nbsp;</span>Agenda</a></span></li><li><span><a href=\"#What-Has-Calculus-Done-For-You\" data-toc-modified-id=\"What-Has-Calculus-Done-For-You-2\"><span class=\"toc-item-num\">2&nbsp;&nbsp;</span>What Has Calculus Done For You</a></span></li><li><span><a href=\"#Differentiation\" data-toc-modified-id=\"Differentiation-3\"><span class=\"toc-item-num\">3&nbsp;&nbsp;</span>Differentiation</a></span><ul class=\"toc-item\"><li><span><a href=\"#Common-Derivatives\" data-toc-modified-id=\"Common-Derivatives-3.1\"><span class=\"toc-item-num\">3.1&nbsp;&nbsp;</span>Common Derivatives</a></span></li><li><span><a href=\"#sympy\" data-toc-modified-id=\"sympy-3.2\"><span class=\"toc-item-num\">3.2&nbsp;&nbsp;</span><code>sympy</code></a></span></li></ul></li><li><span><a href=\"#Integration\" data-toc-modified-id=\"Integration-4\"><span class=\"toc-item-num\">4&nbsp;&nbsp;</span>Integration</a></span><ul class=\"toc-item\"><li><span><a href=\"#Common-Integrals\" data-toc-modified-id=\"Common-Integrals-4.1\"><span class=\"toc-item-num\">4.1&nbsp;&nbsp;</span>Common Integrals</a></span></li><li><span><a href=\"#sympy\" data-toc-modified-id=\"sympy-4.2\"><span class=\"toc-item-num\">4.2&nbsp;&nbsp;</span><code>sympy</code></a></span></li></ul></li><li><span><a href=\"#The-Chain-Rule\" data-toc-modified-id=\"The-Chain-Rule-5\"><span class=\"toc-item-num\">5&nbsp;&nbsp;</span>The Chain Rule</a></span><ul class=\"toc-item\"><li><span><a href=\"#Exercise:\" data-toc-modified-id=\"Exercise:-5.1\"><span class=\"toc-item-num\">5.1&nbsp;&nbsp;</span>Exercise:</a></span></li></ul></li><li><span><a href=\"#Partial-Differentiation\" data-toc-modified-id=\"Partial-Differentiation-6\"><span class=\"toc-item-num\">6&nbsp;&nbsp;</span>Partial Differentiation</a></span></li></ul></div>"
   ]
  },
  {
   "cell_type": "markdown",
   "metadata": {},
   "source": [
    "![Calculus at Harvard](https://online-learning.harvard.edu/sites/default/files/styles/header/public/course/asset-v1_HarvardX%2BCalcAPL1x%2B2T2017%2Btype%40asset%2Bblock%40TITLE-Calculus-Applied-2120x1192-NO-SPOTLIGHT%202.png?itok=crWwjmVi)"
   ]
  },
  {
   "cell_type": "markdown",
   "metadata": {},
   "source": [
    "# Calculus for Data Scientists"
   ]
  },
  {
   "cell_type": "markdown",
   "metadata": {},
   "source": [
    "> NOTE: `sympy` is not a paackage that comes included in the `learn-env`. You can install it by running the command below though here in the notebook or in your terminal (with `learn-env` activated). You might have to restart the kernel after installation."
   ]
  },
  {
   "cell_type": "code",
   "execution_count": 1,
   "metadata": {},
   "outputs": [
    {
     "name": "stdout",
     "output_type": "stream",
     "text": [
      "Collecting package metadata (current_repodata.json): done\n",
      "Solving environment: done\n",
      "\n",
      "## Package Plan ##\n",
      "\n",
      "  environment location: /opt/anaconda3/envs/learn-env\n",
      "\n",
      "  added / updated specs:\n",
      "    - sympy\n",
      "\n",
      "\n",
      "The following packages will be downloaded:\n",
      "\n",
      "    package                    |            build\n",
      "    ---------------------------|-----------------\n",
      "    ca-certificates-2020.10.14 |                0         127 KB  anaconda\n",
      "    certifi-2020.6.20          |           py38_0         159 KB  anaconda\n",
      "    mpmath-1.1.0               |           py38_0         958 KB  anaconda\n",
      "    openssl-1.1.1h             |       haf1e3a3_0         3.4 MB  anaconda\n",
      "    sympy-1.6.2                |           py38_0        10.6 MB  anaconda\n",
      "    ------------------------------------------------------------\n",
      "                                           Total:        15.2 MB\n",
      "\n",
      "The following NEW packages will be INSTALLED:\n",
      "\n",
      "  mpmath             anaconda/osx-64::mpmath-1.1.0-py38_0\n",
      "  sympy              anaconda/osx-64::sympy-1.6.2-py38_0\n",
      "\n",
      "The following packages will be SUPERSEDED by a higher-priority channel:\n",
      "\n",
      "  ca-certificates    pkgs/main::ca-certificates-2021.1.19-~ --> anaconda::ca-certificates-2020.10.14-0\n",
      "  certifi            pkgs/main::certifi-2020.12.5-py38hecd~ --> anaconda::certifi-2020.6.20-py38_0\n",
      "  openssl              pkgs/main::openssl-1.1.1j-h9ed2024_0 --> anaconda::openssl-1.1.1h-haf1e3a3_0\n",
      "\n",
      "\n",
      "\n",
      "Downloading and Extracting Packages\n",
      "sympy-1.6.2          | 10.6 MB   | ##################################### | 100% \n",
      "mpmath-1.1.0         | 958 KB    | ##################################### | 100% \n",
      "ca-certificates-2020 | 127 KB    | ##################################### | 100% \n",
      "certifi-2020.6.20    | 159 KB    | ##################################### | 100% \n",
      "openssl-1.1.1h       | 3.4 MB    | ##################################### | 100% \n",
      "Preparing transaction: done\n",
      "Verifying transaction: done\n",
      "Executing transaction: done\n",
      "\n",
      "Note: you may need to restart the kernel to use updated packages.\n"
     ]
    }
   ],
   "source": [
    "# conda install -c anaconda sympy"
   ]
  },
  {
   "cell_type": "code",
   "execution_count": 1,
   "metadata": {},
   "outputs": [],
   "source": [
    "import numpy as np\n",
    "from matplotlib import pyplot as plt\n",
    "from sympy import *\n",
    "from sympy.abc import x, y\n",
    "from scipy import stats"
   ]
  },
  {
   "cell_type": "markdown",
   "metadata": {
    "heading_collapsed": true
   },
   "source": [
    "## Agenda"
   ]
  },
  {
   "cell_type": "markdown",
   "metadata": {
    "hidden": true
   },
   "source": [
    "SWBAT:\n",
    "\n",
    "- Perform simple derivatives and indefinite integrals;\n",
    "- Use the Chain Rule to construct derivatives of complex functions;\n",
    "- Construct partial derivatives for functions of multiple variables."
   ]
  },
  {
   "cell_type": "markdown",
   "metadata": {
    "heading_collapsed": true
   },
   "source": [
    "## What Has Calculus Done For You"
   ]
  },
  {
   "cell_type": "markdown",
   "metadata": {
    "hidden": true
   },
   "source": [
    "![](https://media2.giphy.com/media/3o6MbqEixpSlSscQdG/source.gif)"
   ]
  },
  {
   "cell_type": "markdown",
   "metadata": {
    "hidden": true
   },
   "source": [
    "We have already had occasion to use calculus in a few places. Calculus shows us:\n",
    "\n",
    "- that the mean of a group of numbers is the number $n$ that minimizes the sum of squared differences $\\Sigma(p-n)^2$ for each number $p$ in the group;\n",
    "- that the median of a group of numbers is the number $n$ that minimizes the sum of absolute differences $\\Sigma|p-n|$ for each number $p$ in the group;\n",
    "- how to find the coefficients for a linear regression optimization problem."
   ]
  },
  {
   "cell_type": "markdown",
   "metadata": {
    "hidden": true
   },
   "source": [
    "The two main tools of calculus are **differentiation** (derivative, slope) and **integration** (area underneath the curve). For functions of one dimension:\n",
    "\n",
    "- Differentiation gives us the *slope* of the function at any point.\n",
    "- Integration gives us the *area under the curve* of the function between any two points."
   ]
  },
  {
   "cell_type": "markdown",
   "metadata": {
    "hidden": true
   },
   "source": [
    "![calc](https://t3.ftcdn.net/jpg/04/02/03/54/240_F_402035410_ihv2bsAJAWRLG1BiFGtpiCUEMJXVxtbW.jpg)"
   ]
  },
  {
   "cell_type": "markdown",
   "metadata": {
    "hidden": true
   },
   "source": [
    "Surprisingly, these two operations turn out to be inverses of one another in the sense that the derivative of the integral of a given function takes us back to the initial function:\n",
    "\n",
    "$\\frac{d}{dx}[\\int^x_a f(t) dt] = f(x)$. This is known as the First Fundamental Theorem of Calculus."
   ]
  },
  {
   "cell_type": "markdown",
   "metadata": {
    "heading_collapsed": true
   },
   "source": [
    "## Differentiation"
   ]
  },
  {
   "cell_type": "markdown",
   "metadata": {
    "hidden": true
   },
   "source": [
    "To find the slope of a function *at a point*, we imagine calculating the slope of the function between two points, and then gradually bringing those two points together. Consider the slope of the function $y=x^2$ at the point $x=100$.\n",
    "\n",
    "We'll calculate the slope of the parabola between $x_1=100$ and $x_2=1000$, and then slowly move $x_2$ close to $x_1$:"
   ]
  },
  {
   "cell_type": "code",
   "execution_count": 2,
   "metadata": {
    "hidden": true
   },
   "outputs": [
    {
     "data": {
      "text/plain": [
       "215.44346900318845"
      ]
     },
     "execution_count": 2,
     "metadata": {},
     "output_type": "execute_result"
    }
   ],
   "source": [
    "10**(7/3)"
   ]
  },
  {
   "cell_type": "code",
   "execution_count": 3,
   "metadata": {
    "hidden": true
   },
   "outputs": [
    {
     "data": {
      "image/png": "[encoded data removed]",
      "text/plain": [
       "<Figure size 432x288 with 1 Axes>"
      ]
     },
     "metadata": {
      "needs_background": "light"
     },
     "output_type": "display_data"
    }
   ],
   "source": [
    "X = np.logspace(3, 2, 11)\n",
    "\n",
    "fig, ax = plt.subplots()\n",
    "ax.plot(X, X**2, lw=5, c='k', alpha=0.4)\n",
    "for x_ in X[:-1]:\n",
    "    ax.plot([100, x_], [10000, x_**2], 'r-.')"
   ]
  },
  {
   "cell_type": "code",
   "execution_count": 4,
   "metadata": {
    "hidden": true
   },
   "outputs": [
    {
     "data": {
      "image/png": "[encoded data removed]",
      "text/plain": [
       "<Figure size 432x288 with 1 Axes>"
      ]
     },
     "metadata": {
      "needs_background": "light"
     },
     "output_type": "display_data"
    }
   ],
   "source": [
    "# This will show how the slope approaches the value\n",
    "# of the derivative\n",
    "\n",
    "slopes = []\n",
    "for x_ in X[:-1]:\n",
    "    slopes.append((x_**2-10000) / (x_-100))\n",
    "    \n",
    "fig, ax = plt.subplots()\n",
    "ax.plot(X[:-1], slopes, label='approximation')\n",
    "ax.scatter(X[-1], 200, label='value of derivative at $x=100$', c='r')\n",
    "ax.set_xlabel('X')\n",
    "ax.set_ylabel('slope')\n",
    "ax.set_title('slope between x=100 and X')\n",
    "plt.legend();"
   ]
  },
  {
   "cell_type": "markdown",
   "metadata": {
    "heading_collapsed": true,
    "hidden": true
   },
   "source": [
    "### Common Derivatives"
   ]
  },
  {
   "cell_type": "markdown",
   "metadata": {
    "hidden": true
   },
   "source": [
    "Here is a list of rules for some common derivative patterns."
   ]
  },
  {
   "cell_type": "markdown",
   "metadata": {
    "hidden": true
   },
   "source": [
    "$\\large\\frac{d}{dx}[cf(x)] = cf'(x)$\n",
    "\n",
    "$\\rightarrow$ Example: $\\frac{d}{dx}[2x] = 2\\frac{d}{dx}[x] = (2)(1) = 2$\n",
    "\n",
    "$\\large\\frac{d}{dx}[x^n] = nx^{n - 1}$\n",
    "\n",
    "$\\rightarrow$ Example: $\\frac{d}{dx}[x^4] = 4x^3$\n",
    "\n",
    "$\\large\\frac{d}{dx}[sin(x)] = cos(x)$\n",
    "\n",
    "$\\large\\frac{d}{dx}[cos(x)] = -sin(x)$\n",
    "\n",
    "$\\large\\frac{d}{dx}[a^x] = a^xln(a)$\n",
    "\n",
    "$\\large\\frac{d}{dx}[log_bx)] = \\frac{1}{xln(b)}$\n",
    "\n",
    "$\\rightarrow$ Example: $\\frac{d}{dx}[ln(x)] = \\frac{1}{xln(e)} = \\frac{1}{x}$\n",
    "\n",
    "$\\large\\frac{d}{dx}[f(x) + g(x)] = f'(x) + g'(x)$\n",
    "\n",
    "$\\rightarrow$ Example: $\\frac{d}{dx}[2x + 4x^2] = 2 + 8x$\n",
    "\n",
    "$\\large\\frac{d}{dx}[f(x)g(x)] = f(x)g'(x) + g(x)f'(x)$\n",
    "\n",
    "$\\rightarrow$ Example: $\\frac{d}{dx}[(x+1)(x-1)] = (x+1)(1) + (x-1)(1) = 2x$\n",
    "\n",
    "$\\large\\frac{d}{dx}\\left[\\frac{f(x)}{g(x)}\\right] = \\frac{g(x)f'(x) - f(x)g'(x))}{(g(x))^2}$\n",
    "\n",
    "$\\rightarrow$ Example: $\\frac{d}{dx}\\left[\\frac{x+1}{x-1}\\right] = \\frac{(x-1)(1) - (x+1)(1)}{(x-1)^2} = -\\frac{2}{(x-1)^2}$"
   ]
  },
  {
   "cell_type": "markdown",
   "metadata": {
    "heading_collapsed": true,
    "hidden": true
   },
   "source": [
    "### `sympy`"
   ]
  },
  {
   "cell_type": "markdown",
   "metadata": {
    "hidden": true
   },
   "source": [
    "The `sympy` package can be helpful:"
   ]
  },
  {
   "cell_type": "code",
   "execution_count": null,
   "metadata": {
    "hidden": true,
    "scrolled": true
   },
   "outputs": [],
   "source": [
    "diff(sin(x), x)"
   ]
  },
  {
   "cell_type": "code",
   "execution_count": null,
   "metadata": {
    "hidden": true
   },
   "outputs": [],
   "source": [
    "diff(exp(2*x))"
   ]
  },
  {
   "cell_type": "markdown",
   "metadata": {
    "heading_collapsed": true
   },
   "source": [
    "## Integration"
   ]
  },
  {
   "cell_type": "markdown",
   "metadata": {
    "hidden": true
   },
   "source": [
    "Integration is how we calculate the area under a curve. If the curve is a probability density function, then the area under this curve will be equal to 1:"
   ]
  },
  {
   "cell_type": "code",
   "execution_count": null,
   "metadata": {
    "hidden": true,
    "scrolled": true
   },
   "outputs": [],
   "source": [
    "X = np.linspace(0, 5, 51)\n",
    "for pt in X:\n",
    "    print(stats.norm.cdf(pt))"
   ]
  },
  {
   "cell_type": "markdown",
   "metadata": {
    "hidden": true
   },
   "source": [
    "How do you calculate the area of a shape with a curvy side? Imagine approximating the shape with rectangles, and then imagine making those rectangles narrower and narrower.\n",
    "\n",
    "Again, let's work with the parabola $y=x^2$ between $x=100$ and $x=1000$:"
   ]
  },
  {
   "cell_type": "code",
   "execution_count": null,
   "metadata": {
    "hidden": true,
    "scrolled": false
   },
   "outputs": [],
   "source": [
    "# This will show how we imagine ever narrower rectangles\n",
    "# under the curve to approximate the area underneath it.\n",
    "\n",
    "spacing = np.arange(3, 13)\n",
    "\n",
    "X = [np.linspace(100, 1000, step) for step in spacing]\n",
    "X_curve = np.linspace(100, 1000, 10000)\n",
    "\n",
    "fig, ax = plt.subplots(10, figsize=(10, 30))\n",
    "\n",
    "for num in spacing:\n",
    "    ax[num-3].plot(X_curve, X_curve**2)\n",
    "    for j in range(1, len(X[num-3])-1):\n",
    "        ax[num-3].hlines(X[num-3][j]**2, X[num-3][j], X[num-3][j+1])\n",
    "        ax[num-3].vlines(X[num-3][j], 0, X[num-3][j]**2)\n",
    "    ax[num-3].set_xlabel(f'Area = {900/(num-1) * sum(X[num-3][1:-1]**2)}\\n\\\n",
    "    For a=100, b=1000, $\\int^b_ax^2=333000000$')\n",
    "plt.tight_layout()"
   ]
  },
  {
   "cell_type": "code",
   "execution_count": null,
   "metadata": {
    "hidden": true
   },
   "outputs": [],
   "source": [
    "# This will show the area of the rectangles as the number\n",
    "# of rectangles increases.\n",
    "\n",
    "spacing_longer = np.arange(3, 100)\n",
    "X_longer = [np.linspace(100, 1000, step) for step in spacing_longer]\n",
    "\n",
    "areas = [900 / (num-1) * sum(X_longer[num-3][1:-1]**2) for num in spacing_longer]\n",
    "\n",
    "fig, ax = plt.subplots()\n",
    "\n",
    "ax.hlines(333000000, 3, 99, label='333000000', color='r')\n",
    "ax.plot(spacing_longer, areas, label='approximation')\n",
    "ax.set_title('Area as a function of number of rectangles')\n",
    "ax.set_xlabel('Number of rectangles')\n",
    "ax.set_ylabel('Area')\n",
    "plt.legend();"
   ]
  },
  {
   "cell_type": "markdown",
   "metadata": {
    "heading_collapsed": true,
    "hidden": true
   },
   "source": [
    "### Common Integrals"
   ]
  },
  {
   "cell_type": "markdown",
   "metadata": {
    "hidden": true
   },
   "source": [
    "$\\large\\int cf(x)dx = c\\int f(x)dx$\n",
    "\n",
    "$\\large\\int x^ndx = \\frac{x^{n+1}}{n+1}$\n",
    "\n",
    "$\\large\\int sin(x)dx = -cos(x)$\n",
    "\n",
    "$\\large\\int cos(x)dx = sin(x)$\n",
    "\n",
    "$\\large\\int a^xdx = \\frac{a^x}{ln(a)}$\n",
    "\n",
    "$\\large\\int (f(x)dx+g(x))dx = \\int f(x)dx + \\int g(x)dx$"
   ]
  },
  {
   "cell_type": "markdown",
   "metadata": {
    "heading_collapsed": true,
    "hidden": true
   },
   "source": [
    "### `sympy`"
   ]
  },
  {
   "cell_type": "code",
   "execution_count": null,
   "metadata": {
    "hidden": true
   },
   "outputs": [],
   "source": [
    "integrate(cos(x), x)"
   ]
  },
  {
   "cell_type": "code",
   "execution_count": null,
   "metadata": {
    "hidden": true
   },
   "outputs": [],
   "source": [
    "integrate(exp(2*x), x)"
   ]
  },
  {
   "cell_type": "markdown",
   "metadata": {
    "heading_collapsed": true
   },
   "source": [
    "## The Chain Rule"
   ]
  },
  {
   "cell_type": "markdown",
   "metadata": {
    "hidden": true
   },
   "source": [
    "$\\large\\frac{d}{dx}[f(g(x))] = f'(g(x))g'(x)$\n",
    "\n",
    "That is: The derivative of a *composition* of functions is: the derivative of the first applied to the second, multiplied by the derivative of the second.\n",
    "\n",
    "So if we know e.g. that $\\frac{d}{dx}[e^x] = e^x$ and $\\frac{d}{dx}[x^2] = 2x$, then we can use the Chain Rule to calculate $\\frac{d}{dx}[e^{x^2}]$. We set $f(x) = e^x$ and $g(x) = x^2$, so the derivative must be:\n",
    "\n",
    "$\\large\\frac{d}{dx}[e^{x^2}] = (e^{x^2})(2x) = 2xe^{x^2}$."
   ]
  },
  {
   "cell_type": "markdown",
   "metadata": {
    "heading_collapsed": true,
    "hidden": true
   },
   "source": [
    "### Exercise:"
   ]
  },
  {
   "cell_type": "markdown",
   "metadata": {
    "hidden": true
   },
   "source": [
    "Calculate the derivatives for the following compositions:"
   ]
  },
  {
   "cell_type": "markdown",
   "metadata": {
    "hidden": true
   },
   "source": [
    "1. $\\frac{d}{dx}[sin(4x)]$\n",
    "\n",
    "<details>\n",
    "    <summary> Answer\n",
    "    </summary>\n",
    "    $f(x) = sin(x)$ <br/>\n",
    "    $g(x) = 4x$ <br/>\n",
    "    So the derivative will be: $cos(4x)*4 = 4cos(4x)$\n",
    "    </details>"
   ]
  },
  {
   "cell_type": "markdown",
   "metadata": {
    "hidden": true
   },
   "source": [
    "2. $\\frac{d}{dx}[e^{sin(x)}]$\n",
    "\n",
    "<details>\n",
    "    <summary> Answer\n",
    "    </summary>\n",
    "    $f(x) = e^x$ <br/>\n",
    "    $g(x) = sin(x)$ <br/>\n",
    "    So the derivative will be: $e^{sin(x)}*cos(x) = cos(x)e^{sin(x)}$"
   ]
  },
  {
   "cell_type": "markdown",
   "metadata": {
    "heading_collapsed": true
   },
   "source": [
    "## Partial Differentiation"
   ]
  },
  {
   "cell_type": "markdown",
   "metadata": {
    "hidden": true
   },
   "source": [
    "Partial differentiation is required for functions of multiple variables. If e.g. I have some function $h = h(a, b)$, then I can consider how $h$ changes with respect to $a$ (while keeping $b$ constant)––that's $\\frac{\\partial h}{\\partial a}$, and I can consider how $h$ changes with respect to $b$ (while keeping $a$ constant)––that's $\\frac{\\partial h}{\\partial b}$. And so the rule is simple enough: If I'm differentiating my function with respect to some variable, I'll **treat all other variables as constants**."
   ]
  },
  {
   "cell_type": "markdown",
   "metadata": {
    "hidden": true
   },
   "source": [
    "Consider the following function:\n",
    "\n",
    "$\\large\\xi(x, y, z) = x^2y^5z^3 - ze^{cos(xy)} + (yz)^3$;\n",
    "\n",
    "for some parameters $x$, $y$, and $z$."
   ]
  },
  {
   "cell_type": "markdown",
   "metadata": {
    "hidden": true
   },
   "source": [
    "What are the partial derivatives of this function?\n",
    "\n",
    "$\\large\\frac{\\partial\\xi}{\\partial x} = ?$\n",
    "\n",
    "<br/>\n",
    "<details>\n",
    "    <summary>\n",
    "        Check\n",
    "    </summary>\n",
    "    <br/>\n",
    "    $2xy^5z^3 + yze^{cos(xy)}sin(xy)$\n",
    "    </details>\n",
    "<br/>\n",
    "\n",
    "$\\large\\frac{\\partial\\xi}{\\partial y} = ?$\n",
    "\n",
    "<br/>\n",
    "<details>\n",
    "    <summary>\n",
    "        Check\n",
    "    </summary>\n",
    "    <br/>\n",
    "    $5x^2y^4z^3 + xze^{cos(xy)}sin(xy) + 3y^2z^3$\n",
    "    </details>\n",
    "<br/>\n",
    "\n",
    "$\\large\\frac{\\partial\\xi}{\\partial z} = ?$\n",
    "\n",
    "<br/>\n",
    "<details>\n",
    "    <summary>\n",
    "        Check\n",
    "    </summary>\n",
    "    <br/>\n",
    "    $3x^2y^5z^2 - e^{cos(xy)} + 3y^3z^2$\n",
    "    </details>"
   ]
  }
 ],
 "metadata": {
  "kernelspec": {
   "display_name": "Python 3",
   "language": "python",
   "name": "python3"
  },
  "language_info": {
   "codemirror_mode": {
    "name": "ipython",
    "version": 3
   },
   "file_extension": ".py",
   "mimetype": "text/x-python",
   "name": "python",
   "nbconvert_exporter": "python",
   "pygments_lexer": "ipython3",
   "version": "3.8.5"
  },
  "toc": {
   "base_numbering": 1,
   "nav_menu": {},
   "number_sections": true,
   "sideBar": false,
   "skip_h1_title": true,
   "title_cell": "Table of Contents",
   "title_sidebar": "TOC",
   "toc_cell": true,
   "toc_position": {},
   "toc_section_display": true,
   "toc_window_display": false
  }
 },
 "nbformat": 4,
 "nbformat_minor": 2
}
